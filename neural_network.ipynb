{
 "cells": [
  {
   "cell_type": "markdown",
   "source": [
    "# Data preparation"
   ],
   "metadata": {
    "collapsed": false,
    "pycharm": {
     "name": "#%% md\n"
    }
   }
  },
  {
   "cell_type": "code",
   "execution_count": 125,
   "metadata": {
    "collapsed": true
   },
   "outputs": [],
   "source": [
    "import numpy as np\n",
    "import pandas as pd\n",
    "import matplotlib.pyplot as plt\n",
    "\n",
    "import tensorflow as tf\n",
    "import tensorflow_hub as hub\n",
    "from tensorflow.keras.layers import Dense\n",
    "from tensorflow.keras.callbacks import EarlyStopping\n",
    "from tensorflow.keras import regularizers"
   ]
  },
  {
   "cell_type": "code",
   "execution_count": 127,
   "outputs": [
    {
     "name": "stdout",
     "output_type": "stream",
     "text": [
      "<class 'pandas.core.frame.DataFrame'>\n",
      "RangeIndex: 9856 entries, 0 to 9855\n",
      "Data columns (total 2 columns):\n",
      " #   Column       Non-Null Count  Dtype \n",
      "---  ------       --------------  ----- \n",
      " 0   description  9856 non-null   object\n",
      " 1   sector       9833 non-null   object\n",
      "dtypes: object(2)\n",
      "memory usage: 154.1+ KB\n"
     ]
    }
   ],
   "source": [
    "df = pd.read_json('data_complete.json')\n",
    "df = df[['description', 'sector']]\n",
    "\n",
    "# replace empty strings with nan values\n",
    "df = df.replace('', np.nan)\n",
    "df.info()"
   ],
   "metadata": {
    "collapsed": false,
    "pycharm": {
     "name": "#%%\n"
    }
   }
  },
  {
   "cell_type": "code",
   "execution_count": 128,
   "outputs": [
    {
     "name": "stdout",
     "output_type": "stream",
     "text": [
      "<class 'pandas.core.frame.DataFrame'>\n",
      "Int64Index: 9833 entries, 0 to 9855\n",
      "Data columns (total 2 columns):\n",
      " #   Column       Non-Null Count  Dtype \n",
      "---  ------       --------------  ----- \n",
      " 0   description  9833 non-null   object\n",
      " 1   sector       9833 non-null   object\n",
      "dtypes: object(2)\n",
      "memory usage: 230.5+ KB\n"
     ]
    }
   ],
   "source": [
    "# drop nan values\n",
    "df = df.dropna()\n",
    "df.info()"
   ],
   "metadata": {
    "collapsed": false,
    "pycharm": {
     "name": "#%%\n"
    }
   }
  },
  {
   "cell_type": "code",
   "execution_count": 129,
   "outputs": [
    {
     "data": {
      "text/plain": "Financial Services        2503\nHealthcare                1452\nIndustrials               1307\nTechnology                1139\nConsumer Cyclical         1023\nBasic Materials            594\nReal Estate                489\nConsumer Defensive         410\nCommunication Services     403\nEnergy                     338\nUtilities                  164\nIndustrial Goods             4\nServices                     3\nFinancial                    3\nConsumer Goods               1\nName: sector, dtype: int64"
     },
     "execution_count": 129,
     "metadata": {},
     "output_type": "execute_result"
    }
   ],
   "source": [
    "df.sector.value_counts()"
   ],
   "metadata": {
    "collapsed": false,
    "pycharm": {
     "name": "#%%\n"
    }
   }
  },
  {
   "cell_type": "code",
   "execution_count": 130,
   "outputs": [],
   "source": [
    "# consolidate data\n",
    "df = df.replace('Services', 'Financial Services')\n",
    "df = df.replace('Industrial Goods', 'Industrials')\n",
    "df = df.replace('Financial', 'Financial Services')\n",
    "df = df.replace('Consumer Goods', 'Consumer Cyclical')\n",
    "df = df.replace(to_replace=['Energy', 'Utilities'], value='Energy & Utility')"
   ],
   "metadata": {
    "collapsed": false,
    "pycharm": {
     "name": "#%%\n"
    }
   }
  },
  {
   "cell_type": "code",
   "execution_count": 131,
   "outputs": [
    {
     "data": {
      "text/plain": "Financial Services        2509\nHealthcare                1452\nIndustrials               1311\nTechnology                1139\nConsumer Cyclical         1024\nBasic Materials            594\nEnergy & Utility           502\nReal Estate                489\nConsumer Defensive         410\nCommunication Services     403\nName: sector, dtype: int64"
     },
     "execution_count": 131,
     "metadata": {},
     "output_type": "execute_result"
    }
   ],
   "source": [
    "df.sector.value_counts()"
   ],
   "metadata": {
    "collapsed": false,
    "pycharm": {
     "name": "#%%\n"
    }
   }
  },
  {
   "cell_type": "code",
   "execution_count": 132,
   "outputs": [
    {
     "data": {
      "text/plain": "                                            description              sector\n0     Adara Acquisition Corp. does not have signific...  Financial Services\n2     Ashford, Inc is an asset management firm. The ...  Financial Services\n5     Aberdeen Emerging Markets Equity Income Fund, ...  Financial Services\n7     Aberdeen Australia Equity Fund, Inc. is a clos...  Financial Services\n11    Allspring Multi-Sector Income Fund is a closed...  Financial Services\n...                                                 ...                 ...\n9840  NÜRNBERGER Beteiligungs-AG operates as an insu...  Financial Services\n9842  ÖKOWORLD AG, together with its subsidiaries, p...  Financial Services\n9846  Scherzer & Co. AG is a publicly owned investme...  Financial Services\n9847  The NAGA Group AG develops technologies for th...  Financial Services\n9853  BAVARIA Industries Group AG, an industrial hol...  Financial Services\n\n[2509 rows x 2 columns]",
      "text/html": "<div>\n<style scoped>\n    .dataframe tbody tr th:only-of-type {\n        vertical-align: middle;\n    }\n\n    .dataframe tbody tr th {\n        vertical-align: top;\n    }\n\n    .dataframe thead th {\n        text-align: right;\n    }\n</style>\n<table border=\"1\" class=\"dataframe\">\n  <thead>\n    <tr style=\"text-align: right;\">\n      <th></th>\n      <th>description</th>\n      <th>sector</th>\n    </tr>\n  </thead>\n  <tbody>\n    <tr>\n      <th>0</th>\n      <td>Adara Acquisition Corp. does not have signific...</td>\n      <td>Financial Services</td>\n    </tr>\n    <tr>\n      <th>2</th>\n      <td>Ashford, Inc is an asset management firm. The ...</td>\n      <td>Financial Services</td>\n    </tr>\n    <tr>\n      <th>5</th>\n      <td>Aberdeen Emerging Markets Equity Income Fund, ...</td>\n      <td>Financial Services</td>\n    </tr>\n    <tr>\n      <th>7</th>\n      <td>Aberdeen Australia Equity Fund, Inc. is a clos...</td>\n      <td>Financial Services</td>\n    </tr>\n    <tr>\n      <th>11</th>\n      <td>Allspring Multi-Sector Income Fund is a closed...</td>\n      <td>Financial Services</td>\n    </tr>\n    <tr>\n      <th>...</th>\n      <td>...</td>\n      <td>...</td>\n    </tr>\n    <tr>\n      <th>9840</th>\n      <td>NÜRNBERGER Beteiligungs-AG operates as an insu...</td>\n      <td>Financial Services</td>\n    </tr>\n    <tr>\n      <th>9842</th>\n      <td>ÖKOWORLD AG, together with its subsidiaries, p...</td>\n      <td>Financial Services</td>\n    </tr>\n    <tr>\n      <th>9846</th>\n      <td>Scherzer &amp; Co. AG is a publicly owned investme...</td>\n      <td>Financial Services</td>\n    </tr>\n    <tr>\n      <th>9847</th>\n      <td>The NAGA Group AG develops technologies for th...</td>\n      <td>Financial Services</td>\n    </tr>\n    <tr>\n      <th>9853</th>\n      <td>BAVARIA Industries Group AG, an industrial hol...</td>\n      <td>Financial Services</td>\n    </tr>\n  </tbody>\n</table>\n<p>2509 rows × 2 columns</p>\n</div>"
     },
     "execution_count": 132,
     "metadata": {},
     "output_type": "execute_result"
    }
   ],
   "source": [
    "df[df.sector == 'Financial Services']"
   ],
   "metadata": {
    "collapsed": false,
    "pycharm": {
     "name": "#%%\n"
    }
   }
  },
  {
   "cell_type": "code",
   "execution_count": 134,
   "outputs": [
    {
     "data": {
      "text/plain": "                                         description                  sector  \\\n0  Adara Acquisition Corp. does not have signific...      Financial Services   \n1  AIM ImmunoTech Inc., an immuno-pharma company,...              Healthcare   \n2  Ashford, Inc is an asset management firm. The ...      Financial Services   \n3  The Arena Group Holdings, Inc., together with ...  Communication Services   \n4  AMCON Distributing Company, together with its ...      Consumer Defensive   \n\n   label  \n0      1  \n1      0  \n2      1  \n3      0  \n4      0  ",
      "text/html": "<div>\n<style scoped>\n    .dataframe tbody tr th:only-of-type {\n        vertical-align: middle;\n    }\n\n    .dataframe tbody tr th {\n        vertical-align: top;\n    }\n\n    .dataframe thead th {\n        text-align: right;\n    }\n</style>\n<table border=\"1\" class=\"dataframe\">\n  <thead>\n    <tr style=\"text-align: right;\">\n      <th></th>\n      <th>description</th>\n      <th>sector</th>\n      <th>label</th>\n    </tr>\n  </thead>\n  <tbody>\n    <tr>\n      <th>0</th>\n      <td>Adara Acquisition Corp. does not have signific...</td>\n      <td>Financial Services</td>\n      <td>1</td>\n    </tr>\n    <tr>\n      <th>1</th>\n      <td>AIM ImmunoTech Inc., an immuno-pharma company,...</td>\n      <td>Healthcare</td>\n      <td>0</td>\n    </tr>\n    <tr>\n      <th>2</th>\n      <td>Ashford, Inc is an asset management firm. The ...</td>\n      <td>Financial Services</td>\n      <td>1</td>\n    </tr>\n    <tr>\n      <th>3</th>\n      <td>The Arena Group Holdings, Inc., together with ...</td>\n      <td>Communication Services</td>\n      <td>0</td>\n    </tr>\n    <tr>\n      <th>4</th>\n      <td>AMCON Distributing Company, together with its ...</td>\n      <td>Consumer Defensive</td>\n      <td>0</td>\n    </tr>\n  </tbody>\n</table>\n</div>"
     },
     "execution_count": 134,
     "metadata": {},
     "output_type": "execute_result"
    }
   ],
   "source": [
    "df.head()"
   ],
   "metadata": {
    "collapsed": false,
    "pycharm": {
     "name": "#%%\n"
    }
   }
  },
  {
   "cell_type": "code",
   "execution_count": 135,
   "outputs": [
    {
     "data": {
      "text/plain": "                                         description                  sector  \\\n0  Adara Acquisition Corp. does not have signific...      Financial Services   \n1  AIM ImmunoTech Inc., an immuno-pharma company,...              Healthcare   \n2  Ashford, Inc is an asset management firm. The ...      Financial Services   \n3  The Arena Group Holdings, Inc., together with ...  Communication Services   \n4  AMCON Distributing Company, together with its ...      Consumer Defensive   \n\n   label  code  \n0      1     5  \n1      0     6  \n2      1     5  \n3      0     1  \n4      0     3  ",
      "text/html": "<div>\n<style scoped>\n    .dataframe tbody tr th:only-of-type {\n        vertical-align: middle;\n    }\n\n    .dataframe tbody tr th {\n        vertical-align: top;\n    }\n\n    .dataframe thead th {\n        text-align: right;\n    }\n</style>\n<table border=\"1\" class=\"dataframe\">\n  <thead>\n    <tr style=\"text-align: right;\">\n      <th></th>\n      <th>description</th>\n      <th>sector</th>\n      <th>label</th>\n      <th>code</th>\n    </tr>\n  </thead>\n  <tbody>\n    <tr>\n      <th>0</th>\n      <td>Adara Acquisition Corp. does not have signific...</td>\n      <td>Financial Services</td>\n      <td>1</td>\n      <td>5</td>\n    </tr>\n    <tr>\n      <th>1</th>\n      <td>AIM ImmunoTech Inc., an immuno-pharma company,...</td>\n      <td>Healthcare</td>\n      <td>0</td>\n      <td>6</td>\n    </tr>\n    <tr>\n      <th>2</th>\n      <td>Ashford, Inc is an asset management firm. The ...</td>\n      <td>Financial Services</td>\n      <td>1</td>\n      <td>5</td>\n    </tr>\n    <tr>\n      <th>3</th>\n      <td>The Arena Group Holdings, Inc., together with ...</td>\n      <td>Communication Services</td>\n      <td>0</td>\n      <td>1</td>\n    </tr>\n    <tr>\n      <th>4</th>\n      <td>AMCON Distributing Company, together with its ...</td>\n      <td>Consumer Defensive</td>\n      <td>0</td>\n      <td>3</td>\n    </tr>\n  </tbody>\n</table>\n</div>"
     },
     "execution_count": 135,
     "metadata": {},
     "output_type": "execute_result"
    }
   ],
   "source": [
    "df_fs = df\n",
    "df_fs['label'] = (df_fs.sector == 'Financial Services').astype(int)\n",
    "df_fs.sector = pd.Categorical(df.sector)\n",
    "df_fs['code'] = df.sector.cat.codes\n",
    "df_fs.head()"
   ],
   "metadata": {
    "collapsed": false,
    "pycharm": {
     "name": "#%%\n"
    }
   }
  },
  {
   "cell_type": "markdown",
   "source": [
    "## Neural network"
   ],
   "metadata": {
    "collapsed": false,
    "pycharm": {
     "name": "#%% md\n"
    }
   }
  },
  {
   "cell_type": "code",
   "execution_count": 136,
   "outputs": [],
   "source": [
    "grouped_df_fs = df_fs.groupby('sector')\n",
    "arr_list = [np.split(g, [int(.8 * len(g)), int(.9 * len(g))]) for i, g in grouped_df_fs]\n",
    "\n",
    "train = pd.concat([t[0] for t in arr_list])\n",
    "val = pd.concat([v[2] for v in arr_list])\n",
    "test = pd.concat([t[1] for t in arr_list])"
   ],
   "metadata": {
    "collapsed": false,
    "pycharm": {
     "name": "#%%\n"
    }
   }
  },
  {
   "cell_type": "code",
   "execution_count": 137,
   "outputs": [
    {
     "name": "stdout",
     "output_type": "stream",
     "text": [
      "Financial Services        2007\n",
      "Healthcare                1161\n",
      "Industrials               1048\n",
      "Technology                 911\n",
      "Consumer Cyclical          819\n",
      "Basic Materials            475\n",
      "Energy & Utility           401\n",
      "Real Estate                391\n",
      "Consumer Defensive         328\n",
      "Communication Services     322\n",
      "Name: sector, dtype: int64 \n",
      "\n",
      "Financial Services        251\n",
      "Healthcare                146\n",
      "Industrials               132\n",
      "Technology                114\n",
      "Consumer Cyclical         103\n",
      "Basic Materials            60\n",
      "Energy & Utility           51\n",
      "Real Estate                49\n",
      "Communication Services     41\n",
      "Consumer Defensive         41\n",
      "Name: sector, dtype: int64 \n",
      "\n",
      "Financial Services        251\n",
      "Healthcare                145\n",
      "Industrials               131\n",
      "Technology                114\n",
      "Consumer Cyclical         102\n",
      "Basic Materials            59\n",
      "Energy & Utility           50\n",
      "Real Estate                49\n",
      "Consumer Defensive         41\n",
      "Communication Services     40\n",
      "Name: sector, dtype: int64 \n",
      "\n"
     ]
    }
   ],
   "source": [
    "for dataset in [train, val, test]:\n",
    "    print(dataset.sector.value_counts(), '\\n')"
   ],
   "metadata": {
    "collapsed": false,
    "pycharm": {
     "name": "#%%\n"
    }
   }
  },
  {
   "cell_type": "code",
   "execution_count": 138,
   "outputs": [],
   "source": [
    "def df_to_dataset(dataframe, shuffle=True, batch_size=64):\n",
    "    df = dataframe.copy()\n",
    "    label = df.pop('label')\n",
    "    df = dataframe[\"description\"]\n",
    "    ds = tf.data.Dataset.from_tensor_slices((df, label))\n",
    "    if shuffle:\n",
    "        ds = ds.shuffle(buffer_size=len(dataframe))\n",
    "    ds = ds.batch(batch_size)\n",
    "    # ds = ds.prefetch(tf.data.AUTOTUNE)\n",
    "    return ds"
   ],
   "metadata": {
    "collapsed": false,
    "pycharm": {
     "name": "#%%\n"
    }
   }
  },
  {
   "cell_type": "code",
   "execution_count": 139,
   "outputs": [],
   "source": [
    "train_data = df_to_dataset(train)\n",
    "valid_data = df_to_dataset(val)\n",
    "test_data = df_to_dataset(test)"
   ],
   "metadata": {
    "collapsed": false,
    "pycharm": {
     "name": "#%%\n"
    }
   }
  },
  {
   "cell_type": "code",
   "execution_count": 140,
   "outputs": [],
   "source": [
    "embedding = \"https://tfhub.dev/google/nnlm-en-dim50/2\"\n",
    "hub_layer = hub.KerasLayer(embedding, dtype=tf.string, trainable=True)"
   ],
   "metadata": {
    "collapsed": false,
    "pycharm": {
     "name": "#%%\n"
    }
   }
  },
  {
   "cell_type": "code",
   "execution_count": 141,
   "outputs": [
    {
     "data": {
      "text/plain": "<tf.Tensor: shape=(64, 50), dtype=float32, numpy=\narray([[ 0.44474393, -0.14037693,  0.20955482, ..., -0.33867264,\n         0.08122318,  0.04481157],\n       [ 0.7173351 ,  0.1412179 ,  0.35123813, ..., -0.34808332,\n        -0.21860662,  0.6960719 ],\n       [ 0.6881574 , -0.0247677 ,  0.76582056, ..., -0.38144028,\n         0.09016543,  0.71932334],\n       ...,\n       [ 0.33776015,  0.12157122,  0.21610978, ..., -0.0009753 ,\n        -0.29281253,  0.3601746 ],\n       [ 0.59067774, -0.47910532,  0.17950474, ..., -0.2811049 ,\n        -0.3612782 ,  0.54313076],\n       [ 0.8267665 , -0.09284584,  0.01283348, ..., -0.453855  ,\n        -0.41714674,  0.20929831]], dtype=float32)>"
     },
     "execution_count": 141,
     "metadata": {},
     "output_type": "execute_result"
    }
   ],
   "source": [
    "hub_layer(list(train_data)[0][0])"
   ],
   "metadata": {
    "collapsed": false,
    "pycharm": {
     "name": "#%%\n"
    }
   }
  },
  {
   "cell_type": "code",
   "execution_count": 142,
   "outputs": [],
   "source": [
    "model = tf.keras.Sequential([\n",
    "    hub_layer,\n",
    "    Dense(32, activation='relu', kernel_regularizer=regularizers.l2(0.01)),\n",
    "    Dense(16, activation='relu', kernel_regularizer=regularizers.l2(0.01)),\n",
    "    Dense(10, activation='softmax')\n",
    "])"
   ],
   "metadata": {
    "collapsed": false,
    "pycharm": {
     "name": "#%%\n"
    }
   }
  },
  {
   "cell_type": "code",
   "execution_count": 143,
   "outputs": [],
   "source": [
    "model.compile(optimizer=tf.keras.optimizers.Adam(learning_rate=0.001),\n",
    "              loss='sparse_categorical_crossentropy',\n",
    "              metrics=['accuracy'])\n",
    "\n",
    "es = EarlyStopping(patience=2, verbose=1, restore_best_weights=True)"
   ],
   "metadata": {
    "collapsed": false,
    "pycharm": {
     "name": "#%%\n"
    }
   }
  },
  {
   "cell_type": "code",
   "execution_count": 144,
   "outputs": [
    {
     "name": "stdout",
     "output_type": "stream",
     "text": [
      "123/123 [==============================] - 0s 2ms/step - loss: 3.3148 - accuracy: 0.0000e+00\n"
     ]
    },
    {
     "data": {
      "text/plain": "[3.3147873878479004, 0.0]"
     },
     "execution_count": 144,
     "metadata": {},
     "output_type": "execute_result"
    }
   ],
   "source": [
    "model.evaluate(train_data)"
   ],
   "metadata": {
    "collapsed": false,
    "pycharm": {
     "name": "#%%\n"
    }
   }
  },
  {
   "cell_type": "code",
   "execution_count": 145,
   "outputs": [
    {
     "name": "stdout",
     "output_type": "stream",
     "text": [
      "Epoch 1/10\n",
      "123/123 [==============================] - 51s 414ms/step - loss: 1.4530 - accuracy: 0.6083 - val_loss: 0.7293 - val_accuracy: 0.8229\n",
      "Epoch 2/10\n",
      "123/123 [==============================] - 52s 421ms/step - loss: 0.4177 - accuracy: 0.9705 - val_loss: 0.4406 - val_accuracy: 0.9150\n",
      "Epoch 3/10\n",
      "123/123 [==============================] - 51s 411ms/step - loss: 0.2424 - accuracy: 0.9875 - val_loss: 0.3737 - val_accuracy: 0.9089\n",
      "Epoch 4/10\n",
      "123/123 [==============================] - 51s 418ms/step - loss: 0.1619 - accuracy: 0.9914 - val_loss: 0.3240 - val_accuracy: 0.9150\n",
      "Epoch 5/10\n",
      "123/123 [==============================] - 51s 413ms/step - loss: 0.1170 - accuracy: 0.9947 - val_loss: 0.3105 - val_accuracy: 0.9140\n",
      "Epoch 6/10\n",
      "123/123 [==============================] - 51s 413ms/step - loss: 0.0905 - accuracy: 0.9972 - val_loss: 0.2709 - val_accuracy: 0.9231\n",
      "Epoch 7/10\n",
      "123/123 [==============================] - 51s 416ms/step - loss: 0.0736 - accuracy: 0.9987 - val_loss: 0.2816 - val_accuracy: 0.9200\n",
      "Epoch 8/10\n",
      "123/123 [==============================] - 51s 412ms/step - loss: 0.0622 - accuracy: 0.9994 - val_loss: 0.2677 - val_accuracy: 0.9231\n",
      "Epoch 9/10\n",
      "123/123 [==============================] - 51s 415ms/step - loss: 0.0540 - accuracy: 0.9997 - val_loss: 0.3019 - val_accuracy: 0.9099\n",
      "Epoch 10/10\n",
      "123/123 [==============================] - ETA: 0s - loss: 0.0475 - accuracy: 1.0000Restoring model weights from the end of the best epoch: 8.\n",
      "123/123 [==============================] - 50s 409ms/step - loss: 0.0475 - accuracy: 1.0000 - val_loss: 0.2872 - val_accuracy: 0.9160\n",
      "Epoch 00010: early stopping\n"
     ]
    }
   ],
   "source": [
    "history = model.fit(train_data,\n",
    "                    validation_data=valid_data,\n",
    "                    epochs=10,\n",
    "                    callbacks=[es])"
   ],
   "metadata": {
    "collapsed": false,
    "pycharm": {
     "name": "#%%\n"
    }
   }
  },
  {
   "cell_type": "code",
   "execution_count": 146,
   "outputs": [
    {
     "data": {
      "text/plain": "<Figure size 432x288 with 1 Axes>",
      "image/png": "[encoded data removed]"
     },
     "metadata": {
      "needs_background": "light"
     },
     "output_type": "display_data"
    }
   ],
   "source": [
    "plt.plot(history.history['accuracy'], label=\"Training acc\")\n",
    "plt.plot(history.history['val_accuracy'], label=\"Validation acc\")\n",
    "plt.title(\"Accuracy of model\")\n",
    "plt.ylabel(\"Accuracy\")\n",
    "plt.xlabel(\"Epoch\")\n",
    "plt.legend()\n",
    "plt.show()"
   ],
   "metadata": {
    "collapsed": false,
    "pycharm": {
     "name": "#%%\n"
    }
   }
  },
  {
   "cell_type": "code",
   "execution_count": 147,
   "outputs": [
    {
     "data": {
      "text/plain": "<Figure size 432x288 with 1 Axes>",
      "image/png": "[encoded data removed]"
     },
     "metadata": {
      "needs_background": "light"
     },
     "output_type": "display_data"
    }
   ],
   "source": [
    "plt.plot(history.history['loss'], label=\"Training acc\")\n",
    "plt.plot(history.history['val_loss'], label=\"Validation acc\")\n",
    "plt.title(\"Loss of model\")\n",
    "plt.ylabel(\"Loss\")\n",
    "plt.xlabel(\"Epoch\")\n",
    "plt.legend()\n",
    "plt.show()"
   ],
   "metadata": {
    "collapsed": false,
    "pycharm": {
     "name": "#%%\n"
    }
   }
  },
  {
   "cell_type": "code",
   "execution_count": 148,
   "outputs": [
    {
     "name": "stdout",
     "output_type": "stream",
     "text": [
      "16/16 [==============================] - 1s 51ms/step - loss: 0.0811 - accuracy: 0.9908\n"
     ]
    },
    {
     "data": {
      "text/plain": "[0.08112736791372299, 0.9908350110054016]"
     },
     "execution_count": 148,
     "metadata": {},
     "output_type": "execute_result"
    }
   ],
   "source": [
    "model.evaluate(test_data)"
   ],
   "metadata": {
    "collapsed": false,
    "pycharm": {
     "name": "#%%\n"
    }
   }
  },
  {
   "cell_type": "code",
   "execution_count": null,
   "outputs": [],
   "source": [],
   "metadata": {
    "collapsed": false,
    "pycharm": {
     "name": "#%%\n"
    }
   }
  }
 ],
 "metadata": {
  "kernelspec": {
   "display_name": "Python 3",
   "language": "python",
   "name": "python3"
  },
  "language_info": {
   "codemirror_mode": {
    "name": "ipython",
    "version": 2
   },
   "file_extension": ".py",
   "mimetype": "text/x-python",
   "name": "python",
   "nbconvert_exporter": "python",
   "pygments_lexer": "ipython2",
   "version": "2.7.6"
  }
 },
 "nbformat": 4,
 "nbformat_minor": 0
}