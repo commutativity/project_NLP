{
 "cells": [
  {
   "cell_type": "code",
   "execution_count": 1,
   "id": "d772e8ca",
   "metadata": {
    "ExecuteTime": {
     "end_time": "2022-08-27T09:50:00.505281Z",
     "start_time": "2022-08-27T09:49:58.526480Z"
    }
   },
   "outputs": [],
   "source": [
    "import json, os, re\n",
    "import numpy as np\n",
    "import pandas as pd\n",
    "import matplotlib.pyplot as plt\n",
    "\n",
    "from sklearn.feature_extraction.text import TfidfVectorizer\n",
    "from sklearn.feature_extraction.text import CountVectorizer\n",
    "\n",
    "from sklearn.neighbors import  NearestCentroid\n",
    "from sklearn.neighbors import KNeighborsClassifier\n",
    "from sklearn.ensemble import RandomForestClassifier\n",
    "\n",
    "from sklearn.model_selection import train_test_split\n",
    "\n",
    "from sklearn.metrics import confusion_matrix, ConfusionMatrixDisplay"
   ]
  },
  {
   "cell_type": "markdown",
   "id": "07de77c2",
   "metadata": {},
   "source": [
    "# Import data"
   ]
  },
  {
   "cell_type": "code",
   "execution_count": 2,
   "id": "b710d3eb",
   "metadata": {
    "ExecuteTime": {
     "end_time": "2022-08-27T09:50:00.616472Z",
     "start_time": "2022-08-27T09:50:00.507280Z"
    }
   },
   "outputs": [],
   "source": [
    "with open('Daten/Unternehmen_preprocessed.json', 'r', encoding='utf8') as data:\n",
    "    desc = json.load(data)"
   ]
  },
  {
   "cell_type": "code",
   "execution_count": 3,
   "id": "8d8f7346",
   "metadata": {
    "ExecuteTime": {
     "end_time": "2022-08-27T09:50:00.632320Z",
     "start_time": "2022-08-27T09:50:00.618282Z"
    },
    "scrolled": false
   },
   "outputs": [
    {
     "name": "stdout",
     "output_type": "stream",
     "text": [
      "significant operation company intend effect merger capital stock exchange asset acquisition stock purchase reorganization similar business combination business focus search business consumer product industry relate sector include consumer industry business health wellness commerce discretionary spending information technology sector related channel distribution company incorporate base Charlotte North Carolina\n"
     ]
    }
   ],
   "source": [
    "print(desc[0]['explicit_lemmatization'])"
   ]
  },
  {
   "cell_type": "markdown",
   "id": "ccf4ad1c",
   "metadata": {},
   "source": [
    "## Creating the dataset"
   ]
  },
  {
   "cell_type": "code",
   "execution_count": 4,
   "id": "8ac9b3aa",
   "metadata": {
    "ExecuteTime": {
     "end_time": "2022-08-27T09:50:02.133867Z",
     "start_time": "2022-08-27T09:50:02.055718Z"
    }
   },
   "outputs": [
    {
     "data": {
      "text/plain": [
       "9822"
      ]
     },
     "execution_count": 4,
     "metadata": {},
     "output_type": "execute_result"
    }
   ],
   "source": [
    "all_mixed = []\n",
    "for comp in desc:\n",
    "    #print(comp)\n",
    "    entry = {'txt': comp['explicit_lemmatization'], 'class': comp['sector']}\n",
    "    all_mixed.append(entry)\n",
    "len(all_mixed)"
   ]
  },
  {
   "cell_type": "markdown",
   "id": "b872e7f9",
   "metadata": {},
   "source": [
    "# Klassifizierung"
   ]
  },
  {
   "cell_type": "markdown",
   "id": "4bf2ef67",
   "metadata": {},
   "source": [
    "## Formulas"
   ]
  },
  {
   "cell_type": "code",
   "execution_count": 5,
   "id": "9ad59969",
   "metadata": {
    "ExecuteTime": {
     "end_time": "2022-08-27T09:50:03.461193Z",
     "start_time": "2022-08-27T09:50:03.450155Z"
    }
   },
   "outputs": [],
   "source": [
    "def classify(txt, v, vector):\n",
    "    dummy = np.zeros(len(v.get_feature_names_out()))\n",
    "    tmp_vectorizer = CountVectorizer(tokenizer = v.build_tokenizer())\n",
    "    tmp_vector=tmp_vectorizer.fit_transform([txt])\n",
    "    l = 0\n",
    "    for f in tmp_vectorizer.vocabulary_:\n",
    "        if f not in v.vocabulary_:\n",
    "            continue\n",
    "\n",
    "        index = v.vocabulary_[f]\n",
    "        dummy[index] = tmp_vector[0, tmp_vectorizer.vocabulary_[f]] * v.idf_[index]\n",
    "        l += dummy[index] ** 2\n",
    "    l = np.sqrt(l)\n",
    "    for i in range(vector.shape[1]):\n",
    "        dummy[i] /= l\n",
    "    #print(dummy)\n",
    "    return dummy"
   ]
  },
  {
   "cell_type": "code",
   "execution_count": 6,
   "id": "b5aa6eaa",
   "metadata": {
    "ExecuteTime": {
     "end_time": "2022-08-27T09:50:04.158730Z",
     "start_time": "2022-08-27T09:50:04.148733Z"
    }
   },
   "outputs": [],
   "source": [
    "def false_counter(dic, word):\n",
    "    if word in dic:\n",
    "        dic[word] += 1\n",
    "    else:\n",
    "        dic[word] = 1"
   ]
  },
  {
   "cell_type": "markdown",
   "id": "59d5cfc1",
   "metadata": {},
   "source": [
    "## Create class to automate process"
   ]
  },
  {
   "cell_type": "code",
   "execution_count": 11,
   "id": "14ea2623",
   "metadata": {
    "ExecuteTime": {
     "end_time": "2022-08-27T09:50:49.281949Z",
     "start_time": "2022-08-27T09:50:49.261916Z"
    }
   },
   "outputs": [],
   "source": [
    "class data_instance:\n",
    "    def __init__(self, dataset):\n",
    "        self.X_data = [entry['txt'] for entry in dataset]\n",
    "        self.y_data = [entry['class'] for entry in dataset]    \n",
    "        \n",
    "    def split_data(self, random_state, test_size):\n",
    "        self.X_train, self.X_test, self.y_train, self.y_test = \\\n",
    "        train_test_split(self.X_data, self.y_data, test_size=test_size, random_state=random_state)\n",
    "        #self.X_test = [self.X_test]\n",
    "        \n",
    "    def vectorize(self, df_value, max_df):\n",
    "        if max_df:\n",
    "            self.vectorizer = TfidfVectorizer(max_df = df_value)\n",
    "            self.vector = self.vectorizer.fit_transform(self.X_train)\n",
    "        else:\n",
    "            self.vectorizer = TfidfVectorizer(min_df = df_value)\n",
    "            self.vector = self.vectorizer.fit_transform(self.X_train)\n",
    "        \n",
    "    def neighbors(self, n_neighbors, init=False):\n",
    "        self.neigh = KNeighborsClassifier(n_neighbors = n_neighbors).fit(self.vector, self.y_train)\n",
    "        if init:\n",
    "            return self.neigh\n",
    "        else:\n",
    "            return self.evaluate(self.neigh)\n",
    "        \n",
    "    def randomForest(self, n_estimators, init=False):\n",
    "        self.forest = RandomForestClassifier(n_estimators = n_estimators).fit(self.vector, self.y_train)     \n",
    "        if init:\n",
    "            return self.forest\n",
    "        else:\n",
    "            return self.evaluate(self.forest)\n",
    "        \n",
    "    def centroid(self, init=False):\n",
    "        self.centr = NearestCentroid().fit(self.vector, self.y_train)\n",
    "        if init:\n",
    "            return self.centr\n",
    "        else:\n",
    "            return self.evaluate(self.centr)\n",
    "        \n",
    "    def evaluate(self, classifier):\n",
    "        n_correct = 0\n",
    "        for i in range(len(self.X_test)):\n",
    "            if self.y_test[i] == classifier.predict([classify(self.X_test[i], self.vectorizer, self.vector)])[0]:\n",
    "                n_correct += 1\n",
    "            #if i % 1500 == 0:\n",
    "            #    print(i)\n",
    "        score = n_correct / len(self.X_test)\n",
    "        #print(\"calculated score =\", score)\n",
    "        return score"
   ]
  },
  {
   "cell_type": "markdown",
   "id": "50e68f23",
   "metadata": {},
   "source": [
    "# Classification with the exact lemmatization dataset"
   ]
  },
  {
   "cell_type": "markdown",
   "id": "30e7de87",
   "metadata": {},
   "source": [
    "### Create test/train data"
   ]
  },
  {
   "cell_type": "code",
   "execution_count": 12,
   "id": "dbbd4f2f",
   "metadata": {
    "ExecuteTime": {
     "end_time": "2022-08-27T09:50:51.524596Z",
     "start_time": "2022-08-27T09:50:51.510595Z"
    }
   },
   "outputs": [],
   "source": [
    "test = data_instance(all_mixed)"
   ]
  },
  {
   "cell_type": "markdown",
   "id": "0c7abd90",
   "metadata": {},
   "source": [
    "Use random state to compare different results"
   ]
  },
  {
   "cell_type": "code",
   "execution_count": 13,
   "id": "a993f6fe",
   "metadata": {
    "ExecuteTime": {
     "end_time": "2022-08-27T09:50:52.070619Z",
     "start_time": "2022-08-27T09:50:52.050612Z"
    }
   },
   "outputs": [],
   "source": [
    "test.split_data(123, 0.33)"
   ]
  },
  {
   "cell_type": "code",
   "execution_count": 14,
   "id": "bffa5b83",
   "metadata": {
    "ExecuteTime": {
     "end_time": "2022-08-27T09:50:52.763591Z",
     "start_time": "2022-08-27T09:50:52.276270Z"
    }
   },
   "outputs": [],
   "source": [
    "test.vectorize(1.0, True)"
   ]
  },
  {
   "cell_type": "markdown",
   "id": "e6e9440c",
   "metadata": {},
   "source": [
    "### N_neighbors"
   ]
  },
  {
   "cell_type": "code",
   "execution_count": 15,
   "id": "45ae9fe0",
   "metadata": {
    "ExecuteTime": {
     "end_time": "2022-08-27T10:02:21.351973Z",
     "start_time": "2022-08-27T09:50:53.018832Z"
    }
   },
   "outputs": [
    {
     "name": "stdout",
     "output_type": "stream",
     "text": [
      "For 1 neighbors, accuracy is 0.824799506477483.\n",
      "For 2 neighbors, accuracy is 0.8013571869216533.\n",
      "For 3 neighbors, accuracy is 0.8340530536705737.\n",
      "For 4 neighbors, accuracy is 0.8349784083898828.\n",
      "For 5 neighbors, accuracy is 0.8550277606415793.\n",
      "For 6 neighbors, accuracy is 0.8519432449105491.\n"
     ]
    }
   ],
   "source": [
    "# Test first for different max_accuracy\n",
    "n_neighbors = {'neighbors': [], 'accuracy': []}\n",
    "for neighbors in range(1, 7):\n",
    "    n_neighbors['neighbors'].append(neighbors)\n",
    "    acc = test.neighbors(neighbors)\n",
    "    n_neighbors['accuracy'].append(acc)\n",
    "    print(f\"For {neighbors} neighbors, accuracy is {acc}.\")"
   ]
  },
  {
   "cell_type": "code",
   "execution_count": 16,
   "id": "bf90a7fc",
   "metadata": {
    "ExecuteTime": {
     "end_time": "2022-08-27T10:02:21.382027Z",
     "start_time": "2022-08-27T10:02:21.353939Z"
    }
   },
   "outputs": [
    {
     "name": "stdout",
     "output_type": "stream",
     "text": [
      "Übersicht Klassifizierung n_neighbors\n"
     ]
    },
    {
     "data": {
      "text/html": [
       "<div>\n",
       "<style scoped>\n",
       "    .dataframe tbody tr th:only-of-type {\n",
       "        vertical-align: middle;\n",
       "    }\n",
       "\n",
       "    .dataframe tbody tr th {\n",
       "        vertical-align: top;\n",
       "    }\n",
       "\n",
       "    .dataframe thead th {\n",
       "        text-align: right;\n",
       "    }\n",
       "</style>\n",
       "<table border=\"1\" class=\"dataframe\">\n",
       "  <thead>\n",
       "    <tr style=\"text-align: right;\">\n",
       "      <th></th>\n",
       "      <th>neighbors</th>\n",
       "      <th>accuracy</th>\n",
       "    </tr>\n",
       "  </thead>\n",
       "  <tbody>\n",
       "    <tr>\n",
       "      <th>0</th>\n",
       "      <td>1</td>\n",
       "      <td>0.824800</td>\n",
       "    </tr>\n",
       "    <tr>\n",
       "      <th>1</th>\n",
       "      <td>2</td>\n",
       "      <td>0.801357</td>\n",
       "    </tr>\n",
       "    <tr>\n",
       "      <th>2</th>\n",
       "      <td>3</td>\n",
       "      <td>0.834053</td>\n",
       "    </tr>\n",
       "    <tr>\n",
       "      <th>3</th>\n",
       "      <td>4</td>\n",
       "      <td>0.834978</td>\n",
       "    </tr>\n",
       "    <tr>\n",
       "      <th>4</th>\n",
       "      <td>5</td>\n",
       "      <td>0.855028</td>\n",
       "    </tr>\n",
       "    <tr>\n",
       "      <th>5</th>\n",
       "      <td>6</td>\n",
       "      <td>0.851943</td>\n",
       "    </tr>\n",
       "  </tbody>\n",
       "</table>\n",
       "</div>"
      ],
      "text/plain": [
       "   neighbors  accuracy\n",
       "0          1  0.824800\n",
       "1          2  0.801357\n",
       "2          3  0.834053\n",
       "3          4  0.834978\n",
       "4          5  0.855028\n",
       "5          6  0.851943"
      ]
     },
     "execution_count": 16,
     "metadata": {},
     "output_type": "execute_result"
    }
   ],
   "source": [
    "print('Übersicht Klassifizierung n_neighbors')\n",
    "pd.DataFrame(data=n_neighbors)"
   ]
  },
  {
   "cell_type": "markdown",
   "id": "b4e2707b",
   "metadata": {},
   "source": [
    "## Random Forest"
   ]
  },
  {
   "cell_type": "code",
   "execution_count": 17,
   "id": "81d7d922",
   "metadata": {
    "ExecuteTime": {
     "end_time": "2022-08-27T10:13:25.738281Z",
     "start_time": "2022-08-27T10:02:21.382992Z"
    },
    "scrolled": false
   },
   "outputs": [
    {
     "name": "stdout",
     "output_type": "stream",
     "text": [
      "For 1 estimators, accuracy is 0.5530536705737199.\n",
      "For 2 estimators, accuracy is 0.5743368291178285.\n",
      "For 3 estimators, accuracy is 0.6224552745219001.\n",
      "For 4 estimators, accuracy is 0.6804441702652684.\n",
      "For 5 estimators, accuracy is 0.703269586674892.\n",
      "For 6 estimators, accuracy is 0.7242442936458976.\n"
     ]
    }
   ],
   "source": [
    "randomForest = {'estimators': [], 'accuracy': []}\n",
    "for estimators in range(1, 7):\n",
    "    randomForest['estimators'].append(estimators)\n",
    "    acc = test.randomForest(estimators)\n",
    "    randomForest['accuracy'].append(acc)\n",
    "    print(f\"For {estimators} estimators, accuracy is {acc}.\")"
   ]
  },
  {
   "cell_type": "code",
   "execution_count": 18,
   "id": "37b588fb",
   "metadata": {
    "ExecuteTime": {
     "end_time": "2022-08-27T10:13:25.754308Z",
     "start_time": "2022-08-27T10:13:25.740317Z"
    }
   },
   "outputs": [
    {
     "name": "stdout",
     "output_type": "stream",
     "text": [
      "Übersicht Klassifizierung Random Forest\n"
     ]
    },
    {
     "data": {
      "text/html": [
       "<div>\n",
       "<style scoped>\n",
       "    .dataframe tbody tr th:only-of-type {\n",
       "        vertical-align: middle;\n",
       "    }\n",
       "\n",
       "    .dataframe tbody tr th {\n",
       "        vertical-align: top;\n",
       "    }\n",
       "\n",
       "    .dataframe thead th {\n",
       "        text-align: right;\n",
       "    }\n",
       "</style>\n",
       "<table border=\"1\" class=\"dataframe\">\n",
       "  <thead>\n",
       "    <tr style=\"text-align: right;\">\n",
       "      <th></th>\n",
       "      <th>estimators</th>\n",
       "      <th>accuracy</th>\n",
       "    </tr>\n",
       "  </thead>\n",
       "  <tbody>\n",
       "    <tr>\n",
       "      <th>1</th>\n",
       "      <td>1</td>\n",
       "      <td>0.553054</td>\n",
       "    </tr>\n",
       "    <tr>\n",
       "      <th>2</th>\n",
       "      <td>2</td>\n",
       "      <td>0.574337</td>\n",
       "    </tr>\n",
       "    <tr>\n",
       "      <th>3</th>\n",
       "      <td>3</td>\n",
       "      <td>0.622455</td>\n",
       "    </tr>\n",
       "    <tr>\n",
       "      <th>4</th>\n",
       "      <td>4</td>\n",
       "      <td>0.680444</td>\n",
       "    </tr>\n",
       "    <tr>\n",
       "      <th>5</th>\n",
       "      <td>5</td>\n",
       "      <td>0.703270</td>\n",
       "    </tr>\n",
       "    <tr>\n",
       "      <th>6</th>\n",
       "      <td>6</td>\n",
       "      <td>0.724244</td>\n",
       "    </tr>\n",
       "  </tbody>\n",
       "</table>\n",
       "</div>"
      ],
      "text/plain": [
       "   estimators  accuracy\n",
       "1           1  0.553054\n",
       "2           2  0.574337\n",
       "3           3  0.622455\n",
       "4           4  0.680444\n",
       "5           5  0.703270\n",
       "6           6  0.724244"
      ]
     },
     "execution_count": 18,
     "metadata": {},
     "output_type": "execute_result"
    }
   ],
   "source": [
    "print('Übersicht Klassifizierung Random Forest')\n",
    "pd.DataFrame(data=randomForest, index=[i for i in range(1, 7)])"
   ]
  },
  {
   "cell_type": "markdown",
   "id": "cc516bbe",
   "metadata": {},
   "source": [
    "## Centroid"
   ]
  },
  {
   "cell_type": "code",
   "execution_count": 19,
   "id": "7fbab601",
   "metadata": {
    "ExecuteTime": {
     "end_time": "2022-08-27T10:16:10.278166Z",
     "start_time": "2022-08-27T10:13:25.756310Z"
    }
   },
   "outputs": [
    {
     "name": "stdout",
     "output_type": "stream",
     "text": [
      "For nearest Centroid, accuracy is 0.7819247378161629.\n"
     ]
    }
   ],
   "source": [
    "acc = test.centroid()\n",
    "print(f\"For nearest Centroid, accuracy is {acc}.\")"
   ]
  },
  {
   "cell_type": "markdown",
   "id": "d908f7a0",
   "metadata": {},
   "source": [
    "## Visualization of the results"
   ]
  },
  {
   "cell_type": "markdown",
   "id": "2d0a62c7",
   "metadata": {},
   "source": [
    "### Confusion Matrix for the dataset with exact lemmatization"
   ]
  },
  {
   "cell_type": "markdown",
   "id": "25b5f27f",
   "metadata": {},
   "source": [
    "Confusion Matrix for the best possible results"
   ]
  },
  {
   "cell_type": "code",
   "execution_count": 20,
   "id": "91ff317d",
   "metadata": {
    "ExecuteTime": {
     "end_time": "2022-08-27T10:30:04.216890Z",
     "start_time": "2022-08-27T10:30:04.206920Z"
    }
   },
   "outputs": [],
   "source": [
    "gt = test.y_test"
   ]
  },
  {
   "cell_type": "markdown",
   "id": "fbd0a777",
   "metadata": {},
   "source": [
    "Create a predictor from the best result"
   ]
  },
  {
   "cell_type": "code",
   "execution_count": 21,
   "id": "5cbedc06",
   "metadata": {
    "ExecuteTime": {
     "end_time": "2022-08-27T10:30:04.809099Z",
     "start_time": "2022-08-27T10:30:04.791107Z"
    }
   },
   "outputs": [],
   "source": [
    "predictor = test.neighbors(5, init=True)"
   ]
  },
  {
   "cell_type": "code",
   "execution_count": 22,
   "id": "7e7b0a42",
   "metadata": {
    "ExecuteTime": {
     "end_time": "2022-08-27T10:32:02.957455Z",
     "start_time": "2022-08-27T10:30:05.060539Z"
    }
   },
   "outputs": [],
   "source": [
    "pred = [predictor.predict([classify(test.X_test[i], test.vectorizer, test.vector)])[0] for i in range(0, len(test.X_test))]"
   ]
  },
  {
   "cell_type": "code",
   "execution_count": 24,
   "id": "f7c9ae9e",
   "metadata": {
    "ExecuteTime": {
     "end_time": "2022-08-27T10:32:02.988460Z",
     "start_time": "2022-08-27T10:32:02.975269Z"
    }
   },
   "outputs": [],
   "source": [
    "secs = list({sec['sector'] for sec in desc})"
   ]
  },
  {
   "cell_type": "code",
   "execution_count": 25,
   "id": "aa233736",
   "metadata": {
    "ExecuteTime": {
     "end_time": "2022-08-27T10:32:03.019970Z",
     "start_time": "2022-08-27T10:32:02.992269Z"
    }
   },
   "outputs": [],
   "source": [
    "cm = confusion_matrix(pred, gt, labels=secs)"
   ]
  },
  {
   "cell_type": "code",
   "execution_count": 26,
   "id": "7a443e2a",
   "metadata": {
    "ExecuteTime": {
     "end_time": "2022-08-27T10:32:03.036017Z",
     "start_time": "2022-08-27T10:32:03.021658Z"
    }
   },
   "outputs": [],
   "source": [
    "disp = ConfusionMatrixDisplay(confusion_matrix=cm, display_labels=secs)"
   ]
  },
  {
   "cell_type": "code",
   "execution_count": 27,
   "id": "7f725e06",
   "metadata": {
    "ExecuteTime": {
     "end_time": "2022-08-27T10:32:03.753955Z",
     "start_time": "2022-08-27T10:32:03.037658Z"
    }
   },
   "outputs": [
    {
     "data": {
      "text/plain": [
       "<sklearn.metrics._plot.confusion_matrix.ConfusionMatrixDisplay at 0x18d453f6c20>"
      ]
     },
     "execution_count": 27,
     "metadata": {},
     "output_type": "execute_result"
    },
    {
     "data": {
      "image/png": "[encoded data removed]",
      "text/plain": [
       "<Figure size 1440x1440 with 2 Axes>"
      ]
     },
     "metadata": {
      "needs_background": "light"
     },
     "output_type": "display_data"
    }
   ],
   "source": [
    "fig, ax = plt.subplots(figsize=(20, 20))\n",
    "disp.plot(ax = ax)"
   ]
  },
  {
   "cell_type": "markdown",
   "id": "e1ee32ef",
   "metadata": {},
   "source": [
    "# Classification with the less preprocessed dataset"
   ]
  },
  {
   "cell_type": "markdown",
   "id": "6fda4ed8",
   "metadata": {},
   "source": [
    "## Creating dataset"
   ]
  },
  {
   "cell_type": "code",
   "execution_count": 28,
   "id": "a7d7afcc",
   "metadata": {
    "ExecuteTime": {
     "end_time": "2022-08-27T10:32:03.769921Z",
     "start_time": "2022-08-27T10:32:03.755924Z"
    }
   },
   "outputs": [
    {
     "data": {
      "text/plain": [
       "9822"
      ]
     },
     "execution_count": 28,
     "metadata": {},
     "output_type": "execute_result"
    }
   ],
   "source": [
    "all_mixed_rough = []\n",
    "for comp in desc:\n",
    "    #print(comp)\n",
    "    entry = {'txt': comp['rough_lemmatization'], 'class': comp['sector']}\n",
    "    all_mixed_rough.append(entry)\n",
    "len(all_mixed_rough)"
   ]
  },
  {
   "cell_type": "markdown",
   "id": "06d40763",
   "metadata": {},
   "source": [
    "### Create test_train data"
   ]
  },
  {
   "cell_type": "code",
   "execution_count": 29,
   "id": "7ca22c87",
   "metadata": {
    "ExecuteTime": {
     "end_time": "2022-08-27T10:32:03.784958Z",
     "start_time": "2022-08-27T10:32:03.771920Z"
    }
   },
   "outputs": [],
   "source": [
    "rough_classification = data_instance(all_mixed_rough)"
   ]
  },
  {
   "cell_type": "code",
   "execution_count": 30,
   "id": "c4038f05",
   "metadata": {
    "ExecuteTime": {
     "end_time": "2022-08-27T10:32:03.801085Z",
     "start_time": "2022-08-27T10:32:03.785923Z"
    }
   },
   "outputs": [],
   "source": [
    "rough_classification.split_data(123, 0.33)"
   ]
  },
  {
   "cell_type": "code",
   "execution_count": 31,
   "id": "d8de0071",
   "metadata": {
    "ExecuteTime": {
     "end_time": "2022-08-27T10:32:04.333113Z",
     "start_time": "2022-08-27T10:32:03.803923Z"
    }
   },
   "outputs": [],
   "source": [
    "rough_classification.vectorize(1.0, True)"
   ]
  },
  {
   "cell_type": "markdown",
   "id": "cc803a28",
   "metadata": {},
   "source": [
    "### N_neighbors"
   ]
  },
  {
   "cell_type": "code",
   "execution_count": 32,
   "id": "6cb95a9b",
   "metadata": {
    "ExecuteTime": {
     "end_time": "2022-08-27T10:44:27.497612Z",
     "start_time": "2022-08-27T10:32:04.334956Z"
    },
    "scrolled": false
   },
   "outputs": [
    {
     "name": "stdout",
     "output_type": "stream",
     "text": [
      "For 1 neighbors, accuracy is 0.8177051202961135.\n",
      "For 2 neighbors, accuracy is 0.7874768661320173.\n",
      "For 3 neighbors, accuracy is 0.8297347316471314.\n",
      "For 4 neighbors, accuracy is 0.8359037631091919.\n",
      "For 5 neighbors, accuracy is 0.8479333744602098.\n",
      "For 6 neighbors, accuracy is 0.8454657618753856.\n"
     ]
    }
   ],
   "source": [
    "# Test first for different max_accuracy\n",
    "n_neighbors = {'neighbors': [], 'accuracy': []}\n",
    "for neighbors in range(1, 7):\n",
    "    n_neighbors['neighbors'].append(neighbors)\n",
    "    acc = rough_classification.neighbors(neighbors)\n",
    "    n_neighbors['accuracy'].append(acc)\n",
    "    print(f\"For {neighbors} neighbors, accuracy is {acc}.\")"
   ]
  },
  {
   "cell_type": "code",
   "execution_count": 33,
   "id": "29afc864",
   "metadata": {
    "ExecuteTime": {
     "end_time": "2022-08-27T10:44:27.512613Z",
     "start_time": "2022-08-27T10:44:27.499614Z"
    }
   },
   "outputs": [
    {
     "name": "stdout",
     "output_type": "stream",
     "text": [
      "Übersicht Klassifizierung n_neighbors\n"
     ]
    },
    {
     "data": {
      "text/html": [
       "<div>\n",
       "<style scoped>\n",
       "    .dataframe tbody tr th:only-of-type {\n",
       "        vertical-align: middle;\n",
       "    }\n",
       "\n",
       "    .dataframe tbody tr th {\n",
       "        vertical-align: top;\n",
       "    }\n",
       "\n",
       "    .dataframe thead th {\n",
       "        text-align: right;\n",
       "    }\n",
       "</style>\n",
       "<table border=\"1\" class=\"dataframe\">\n",
       "  <thead>\n",
       "    <tr style=\"text-align: right;\">\n",
       "      <th></th>\n",
       "      <th>neighbors</th>\n",
       "      <th>accuracy</th>\n",
       "    </tr>\n",
       "  </thead>\n",
       "  <tbody>\n",
       "    <tr>\n",
       "      <th>0</th>\n",
       "      <td>1</td>\n",
       "      <td>0.817705</td>\n",
       "    </tr>\n",
       "    <tr>\n",
       "      <th>1</th>\n",
       "      <td>2</td>\n",
       "      <td>0.787477</td>\n",
       "    </tr>\n",
       "    <tr>\n",
       "      <th>2</th>\n",
       "      <td>3</td>\n",
       "      <td>0.829735</td>\n",
       "    </tr>\n",
       "    <tr>\n",
       "      <th>3</th>\n",
       "      <td>4</td>\n",
       "      <td>0.835904</td>\n",
       "    </tr>\n",
       "    <tr>\n",
       "      <th>4</th>\n",
       "      <td>5</td>\n",
       "      <td>0.847933</td>\n",
       "    </tr>\n",
       "    <tr>\n",
       "      <th>5</th>\n",
       "      <td>6</td>\n",
       "      <td>0.845466</td>\n",
       "    </tr>\n",
       "  </tbody>\n",
       "</table>\n",
       "</div>"
      ],
      "text/plain": [
       "   neighbors  accuracy\n",
       "0          1  0.817705\n",
       "1          2  0.787477\n",
       "2          3  0.829735\n",
       "3          4  0.835904\n",
       "4          5  0.847933\n",
       "5          6  0.845466"
      ]
     },
     "execution_count": 33,
     "metadata": {},
     "output_type": "execute_result"
    }
   ],
   "source": [
    "print('Übersicht Klassifizierung n_neighbors')\n",
    "pd.DataFrame(data=n_neighbors)"
   ]
  },
  {
   "cell_type": "markdown",
   "id": "36de490f",
   "metadata": {},
   "source": [
    "### Random Forest"
   ]
  },
  {
   "cell_type": "code",
   "execution_count": 34,
   "id": "d699b3ec",
   "metadata": {
    "ExecuteTime": {
     "end_time": "2022-08-27T10:56:16.912644Z",
     "start_time": "2022-08-27T10:44:27.514615Z"
    }
   },
   "outputs": [
    {
     "name": "stdout",
     "output_type": "stream",
     "text": [
      "For 1 neighbors, accuracy is 0.5814312152991981.\n",
      "For 2 neighbors, accuracy is 0.5857495373226403.\n",
      "For 3 neighbors, accuracy is 0.6394201110425664.\n",
      "For 4 neighbors, accuracy is 0.6819864281307835.\n",
      "For 5 neighbors, accuracy is 0.7045033929673041.\n",
      "For 6 neighbors, accuracy is 0.716841455891425.\n"
     ]
    }
   ],
   "source": [
    "randomForest = {'estimators': [], 'accuracy': []}\n",
    "for estimators in range(1, 7):\n",
    "    randomForest['estimators'].append(estimators)\n",
    "    acc = rough_classification.randomForest(estimators)\n",
    "    randomForest['accuracy'].append(acc)\n",
    "    print(f\"For {estimators} neighbors, accuracy is {acc}.\")"
   ]
  },
  {
   "cell_type": "code",
   "execution_count": 35,
   "id": "1e360d02",
   "metadata": {
    "ExecuteTime": {
     "end_time": "2022-08-27T10:56:16.928479Z",
     "start_time": "2022-08-27T10:56:16.914442Z"
    }
   },
   "outputs": [
    {
     "name": "stdout",
     "output_type": "stream",
     "text": [
      "Übersicht Klassifizierung Random Forest\n"
     ]
    },
    {
     "data": {
      "text/html": [
       "<div>\n",
       "<style scoped>\n",
       "    .dataframe tbody tr th:only-of-type {\n",
       "        vertical-align: middle;\n",
       "    }\n",
       "\n",
       "    .dataframe tbody tr th {\n",
       "        vertical-align: top;\n",
       "    }\n",
       "\n",
       "    .dataframe thead th {\n",
       "        text-align: right;\n",
       "    }\n",
       "</style>\n",
       "<table border=\"1\" class=\"dataframe\">\n",
       "  <thead>\n",
       "    <tr style=\"text-align: right;\">\n",
       "      <th></th>\n",
       "      <th>estimators</th>\n",
       "      <th>accuracy</th>\n",
       "    </tr>\n",
       "  </thead>\n",
       "  <tbody>\n",
       "    <tr>\n",
       "      <th>1</th>\n",
       "      <td>1</td>\n",
       "      <td>0.581431</td>\n",
       "    </tr>\n",
       "    <tr>\n",
       "      <th>2</th>\n",
       "      <td>2</td>\n",
       "      <td>0.585750</td>\n",
       "    </tr>\n",
       "    <tr>\n",
       "      <th>3</th>\n",
       "      <td>3</td>\n",
       "      <td>0.639420</td>\n",
       "    </tr>\n",
       "    <tr>\n",
       "      <th>4</th>\n",
       "      <td>4</td>\n",
       "      <td>0.681986</td>\n",
       "    </tr>\n",
       "    <tr>\n",
       "      <th>5</th>\n",
       "      <td>5</td>\n",
       "      <td>0.704503</td>\n",
       "    </tr>\n",
       "    <tr>\n",
       "      <th>6</th>\n",
       "      <td>6</td>\n",
       "      <td>0.716841</td>\n",
       "    </tr>\n",
       "  </tbody>\n",
       "</table>\n",
       "</div>"
      ],
      "text/plain": [
       "   estimators  accuracy\n",
       "1           1  0.581431\n",
       "2           2  0.585750\n",
       "3           3  0.639420\n",
       "4           4  0.681986\n",
       "5           5  0.704503\n",
       "6           6  0.716841"
      ]
     },
     "execution_count": 35,
     "metadata": {},
     "output_type": "execute_result"
    }
   ],
   "source": [
    "print('Übersicht Klassifizierung Random Forest')\n",
    "pd.DataFrame(data=randomForest, index=[i for i in range(1, 7)])"
   ]
  },
  {
   "cell_type": "markdown",
   "id": "27b516cd",
   "metadata": {},
   "source": [
    "### Centroid"
   ]
  },
  {
   "cell_type": "code",
   "execution_count": 36,
   "id": "673d5b80",
   "metadata": {
    "ExecuteTime": {
     "end_time": "2022-08-27T10:59:07.171711Z",
     "start_time": "2022-08-27T10:56:16.930443Z"
    }
   },
   "outputs": [
    {
     "name": "stdout",
     "output_type": "stream",
     "text": [
      "For nearest Centroid, accuracy is 0.7809993830968538.\n"
     ]
    }
   ],
   "source": [
    "acc = rough_classification.centroid()\n",
    "print(f\"For nearest Centroid, accuracy is {acc}.\")"
   ]
  },
  {
   "cell_type": "markdown",
   "id": "dcc2bc79",
   "metadata": {},
   "source": [
    "## Visualization of the results"
   ]
  },
  {
   "cell_type": "markdown",
   "id": "aeab2738",
   "metadata": {},
   "source": [
    "### Confustion matrix with the less preprocessed dataset"
   ]
  },
  {
   "cell_type": "markdown",
   "id": "6aacc9c1",
   "metadata": {},
   "source": [
    "Confusion Matrix for the best possible results"
   ]
  },
  {
   "cell_type": "code",
   "execution_count": 37,
   "id": "5555c2cd",
   "metadata": {
    "ExecuteTime": {
     "end_time": "2022-08-27T11:36:41.080185Z",
     "start_time": "2022-08-27T11:36:41.066228Z"
    }
   },
   "outputs": [],
   "source": [
    "gt = rough_classification.y_test"
   ]
  },
  {
   "cell_type": "markdown",
   "id": "d4279a66",
   "metadata": {},
   "source": [
    "Create a predictor from the best result"
   ]
  },
  {
   "cell_type": "code",
   "execution_count": 38,
   "id": "50ea14e5",
   "metadata": {
    "ExecuteTime": {
     "end_time": "2022-08-27T11:36:41.579909Z",
     "start_time": "2022-08-27T11:36:41.559888Z"
    }
   },
   "outputs": [],
   "source": [
    "predictor = rough_classification.neighbors(5, init=True)"
   ]
  },
  {
   "cell_type": "code",
   "execution_count": 39,
   "id": "bbbd004d",
   "metadata": {
    "ExecuteTime": {
     "end_time": "2022-08-27T11:38:44.116269Z",
     "start_time": "2022-08-27T11:36:41.785664Z"
    }
   },
   "outputs": [],
   "source": [
    "pred = [predictor.predict([classify(rough_classification.X_test[i], rough_classification.vectorizer, rough_classification.vector)])[0] for i in range(0, len(rough_classification.X_test))]"
   ]
  },
  {
   "cell_type": "code",
   "execution_count": 40,
   "id": "5c5b8fd0",
   "metadata": {
    "ExecuteTime": {
     "end_time": "2022-08-27T11:38:44.132240Z",
     "start_time": "2022-08-27T11:38:44.118073Z"
    }
   },
   "outputs": [],
   "source": [
    "secs = list({sec['sector'] for sec in desc})"
   ]
  },
  {
   "cell_type": "code",
   "execution_count": 42,
   "id": "9e477ec3",
   "metadata": {
    "ExecuteTime": {
     "end_time": "2022-08-27T11:38:44.195979Z",
     "start_time": "2022-08-27T11:38:44.150072Z"
    }
   },
   "outputs": [],
   "source": [
    "cm = confusion_matrix(pred, gt, labels=secs)"
   ]
  },
  {
   "cell_type": "code",
   "execution_count": 43,
   "id": "7119a07a",
   "metadata": {
    "ExecuteTime": {
     "end_time": "2022-08-27T11:38:44.211128Z",
     "start_time": "2022-08-27T11:38:44.197017Z"
    }
   },
   "outputs": [],
   "source": [
    "disp = ConfusionMatrixDisplay(confusion_matrix=cm, display_labels=secs)"
   ]
  },
  {
   "cell_type": "code",
   "execution_count": 44,
   "id": "11416291",
   "metadata": {
    "ExecuteTime": {
     "end_time": "2022-08-27T11:38:44.830117Z",
     "start_time": "2022-08-27T11:38:44.212128Z"
    }
   },
   "outputs": [
    {
     "data": {
      "text/plain": [
       "<sklearn.metrics._plot.confusion_matrix.ConfusionMatrixDisplay at 0x18d47fd2020>"
      ]
     },
     "execution_count": 44,
     "metadata": {},
     "output_type": "execute_result"
    },
    {
     "data": {
      "image/png": "[encoded data removed]",
      "text/plain": [
       "<Figure size 1440x1440 with 2 Axes>"
      ]
     },
     "metadata": {
      "needs_background": "light"
     },
     "output_type": "display_data"
    }
   ],
   "source": [
    "fig, ax = plt.subplots(figsize=(20, 20))\n",
    "disp.plot(ax = ax)"
   ]
  }
 ],
 "metadata": {
  "kernelspec": {
   "display_name": "NLP",
   "language": "python",
   "name": "nlp"
  },
  "language_info": {
   "codemirror_mode": {
    "name": "ipython",
    "version": 3
   },
   "file_extension": ".py",
   "mimetype": "text/x-python",
   "name": "python",
   "nbconvert_exporter": "python",
   "pygments_lexer": "ipython3",
   "version": "3.10.4"
  },
  "toc": {
   "base_numbering": 1,
   "nav_menu": {},
   "number_sections": true,
   "sideBar": true,
   "skip_h1_title": false,
   "title_cell": "Table of Contents",
   "title_sidebar": "Contents",
   "toc_cell": false,
   "toc_position": {},
   "toc_section_display": true,
   "toc_window_display": false
  }
 },
 "nbformat": 4,
 "nbformat_minor": 5
}
