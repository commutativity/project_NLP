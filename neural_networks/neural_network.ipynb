{
 "cells": [
  {
   "cell_type": "markdown",
   "source": [
    "## Neural network\n",
    "For classification of sectors"
   ],
   "metadata": {
    "collapsed": false,
    "pycharm": {
     "name": "#%% md\n"
    }
   }
  },
  {
   "cell_type": "code",
   "execution_count": 1,
   "metadata": {
    "collapsed": true
   },
   "outputs": [],
   "source": [
    "import numpy as np\n",
    "import pandas as pd\n",
    "import matplotlib.pyplot as plt\n",
    "\n",
    "import tensorflow as tf\n",
    "import tensorflow_hub as hub\n",
    "from tensorflow.keras.layers import Dense\n",
    "from tensorflow.keras.callbacks import EarlyStopping\n",
    "from tensorflow.keras import regularizers"
   ]
  },
  {
   "cell_type": "code",
   "execution_count": 4,
   "outputs": [
    {
     "data": {
      "text/plain": "                                         description                  sector  \\\n0  Adara Acquisition Corp. does not have signific...      Financial Services   \n1  AIM ImmunoTech Inc., an immuno-pharma company,...              Healthcare   \n2  Ashford, Inc is an asset management firm. The ...      Financial Services   \n3  The Arena Group Holdings, Inc., together with ...  Communication Services   \n4  AMCON Distributing Company, together with its ...      Consumer Defensive   \n\n   code  \n0     5  \n1     6  \n2     5  \n3     1  \n4     3  ",
      "text/html": "<div>\n<style scoped>\n    .dataframe tbody tr th:only-of-type {\n        vertical-align: middle;\n    }\n\n    .dataframe tbody tr th {\n        vertical-align: top;\n    }\n\n    .dataframe thead th {\n        text-align: right;\n    }\n</style>\n<table border=\"1\" class=\"dataframe\">\n  <thead>\n    <tr style=\"text-align: right;\">\n      <th></th>\n      <th>description</th>\n      <th>sector</th>\n      <th>code</th>\n    </tr>\n  </thead>\n  <tbody>\n    <tr>\n      <th>0</th>\n      <td>Adara Acquisition Corp. does not have signific...</td>\n      <td>Financial Services</td>\n      <td>5</td>\n    </tr>\n    <tr>\n      <th>1</th>\n      <td>AIM ImmunoTech Inc., an immuno-pharma company,...</td>\n      <td>Healthcare</td>\n      <td>6</td>\n    </tr>\n    <tr>\n      <th>2</th>\n      <td>Ashford, Inc is an asset management firm. The ...</td>\n      <td>Financial Services</td>\n      <td>5</td>\n    </tr>\n    <tr>\n      <th>3</th>\n      <td>The Arena Group Holdings, Inc., together with ...</td>\n      <td>Communication Services</td>\n      <td>1</td>\n    </tr>\n    <tr>\n      <th>4</th>\n      <td>AMCON Distributing Company, together with its ...</td>\n      <td>Consumer Defensive</td>\n      <td>3</td>\n    </tr>\n  </tbody>\n</table>\n</div>"
     },
     "execution_count": 4,
     "metadata": {},
     "output_type": "execute_result"
    }
   ],
   "source": [
    "df = pd.read_json('data_prep.json')\n",
    "df.sector = pd.Categorical(df.sector)\n",
    "df['code'] = df.sector.cat.codes\n",
    "df.head()"
   ],
   "metadata": {
    "collapsed": false,
    "pycharm": {
     "name": "#%%\n"
    }
   }
  },
  {
   "cell_type": "code",
   "execution_count": 5,
   "outputs": [],
   "source": [
    "grouped_df = df.groupby('sector')\n",
    "arr_list = [np.split(g, [int(.8 * len(g)), int(.9 * len(g))]) for i, g in grouped_df]\n",
    "\n",
    "train = pd.concat([t[0] for t in arr_list])\n",
    "val = pd.concat([v[2] for v in arr_list])\n",
    "test = pd.concat([t[1] for t in arr_list])"
   ],
   "metadata": {
    "collapsed": false,
    "pycharm": {
     "name": "#%%\n"
    }
   }
  },
  {
   "cell_type": "code",
   "execution_count": 6,
   "outputs": [
    {
     "name": "stdout",
     "output_type": "stream",
     "text": [
      "Financial Services        2007\n",
      "Healthcare                1161\n",
      "Industrials               1048\n",
      "Technology                 911\n",
      "Consumer Cyclical          819\n",
      "Basic Materials            475\n",
      "Energy & Utility           401\n",
      "Real Estate                391\n",
      "Consumer Defensive         328\n",
      "Communication Services     322\n",
      "Name: sector, dtype: int64 \n",
      "\n",
      "Financial Services        251\n",
      "Healthcare                146\n",
      "Industrials               132\n",
      "Technology                114\n",
      "Consumer Cyclical         103\n",
      "Basic Materials            60\n",
      "Energy & Utility           51\n",
      "Real Estate                49\n",
      "Communication Services     41\n",
      "Consumer Defensive         41\n",
      "Name: sector, dtype: int64 \n",
      "\n",
      "Financial Services        251\n",
      "Healthcare                145\n",
      "Industrials               131\n",
      "Technology                114\n",
      "Consumer Cyclical         102\n",
      "Basic Materials            59\n",
      "Energy & Utility           50\n",
      "Real Estate                49\n",
      "Consumer Defensive         41\n",
      "Communication Services     40\n",
      "Name: sector, dtype: int64 \n",
      "\n"
     ]
    }
   ],
   "source": [
    "for dataset in [train, val, test]:\n",
    "    print(dataset.sector.value_counts(), '\\n')"
   ],
   "metadata": {
    "collapsed": false,
    "pycharm": {
     "name": "#%%\n"
    }
   }
  },
  {
   "cell_type": "code",
   "execution_count": 11,
   "outputs": [],
   "source": [
    "def df_to_dataset(dataframe, shuffle=True, batch_size=64):\n",
    "    df = dataframe.copy()\n",
    "    code = df.pop('code')\n",
    "    df = dataframe[\"description\"]\n",
    "    ds = tf.data.Dataset.from_tensor_slices((df, code))\n",
    "    if shuffle:\n",
    "        ds = ds.shuffle(buffer_size=len(dataframe))\n",
    "    ds = ds.batch(batch_size)\n",
    "    # ds = ds.prefetch(tf.data.AUTOTUNE)\n",
    "    return ds"
   ],
   "metadata": {
    "collapsed": false,
    "pycharm": {
     "name": "#%%\n"
    }
   }
  },
  {
   "cell_type": "code",
   "execution_count": 12,
   "outputs": [],
   "source": [
    "train_data = df_to_dataset(train)\n",
    "valid_data = df_to_dataset(val)\n",
    "test_data = df_to_dataset(test)"
   ],
   "metadata": {
    "collapsed": false,
    "pycharm": {
     "name": "#%%\n"
    }
   }
  },
  {
   "cell_type": "code",
   "execution_count": 13,
   "outputs": [],
   "source": [
    "embedding = \"https://tfhub.dev/google/nnlm-en-dim50/2\"\n",
    "hub_layer = hub.KerasLayer(embedding, dtype=tf.string, trainable=True)"
   ],
   "metadata": {
    "collapsed": false,
    "pycharm": {
     "name": "#%%\n"
    }
   }
  },
  {
   "cell_type": "code",
   "execution_count": 14,
   "outputs": [
    {
     "data": {
      "text/plain": "<tf.Tensor: shape=(64, 50), dtype=float32, numpy=\narray([[ 0.35128075, -0.14287934,  0.63384384, ..., -0.31920752,\n        -0.05886671,  0.48105937],\n       [ 0.5612409 , -0.00326681,  0.47185227, ..., -0.11872558,\n        -0.50386167,  0.21904002],\n       [ 0.25039256, -0.13239855,  0.21539998, ...,  0.05218336,\n        -0.2984526 ,  0.2083318 ],\n       ...,\n       [ 0.6451863 ,  0.26165065,  0.29200828, ..., -0.2255368 ,\n        -0.23700038,  0.9567872 ],\n       [ 1.2960294 , -0.05297307,  0.27266848, ..., -0.34508452,\n        -0.73566324,  0.5798842 ],\n       [ 0.33030984, -0.18020801,  0.70723844, ..., -0.4334063 ,\n         0.00472728, -0.00405066]], dtype=float32)>"
     },
     "execution_count": 14,
     "metadata": {},
     "output_type": "execute_result"
    }
   ],
   "source": [
    "hub_layer(list(train_data)[0][0])"
   ],
   "metadata": {
    "collapsed": false,
    "pycharm": {
     "name": "#%%\n"
    }
   }
  },
  {
   "cell_type": "code",
   "execution_count": 15,
   "outputs": [],
   "source": [
    "model = tf.keras.Sequential([\n",
    "    hub_layer,\n",
    "    Dense(32, activation='relu', kernel_regularizer=regularizers.l2(0.01)),\n",
    "    Dense(16, activation='relu', kernel_regularizer=regularizers.l2(0.01)),\n",
    "    Dense(10, activation='softmax')\n",
    "])"
   ],
   "metadata": {
    "collapsed": false,
    "pycharm": {
     "name": "#%%\n"
    }
   }
  },
  {
   "cell_type": "code",
   "execution_count": 16,
   "outputs": [],
   "source": [
    "model.compile(optimizer=tf.keras.optimizers.Adam(learning_rate=0.001),\n",
    "              loss='sparse_categorical_crossentropy',\n",
    "              metrics=['accuracy'])\n",
    "\n",
    "es = EarlyStopping(patience=2, verbose=1, restore_best_weights=True)"
   ],
   "metadata": {
    "collapsed": false,
    "pycharm": {
     "name": "#%%\n"
    }
   }
  },
  {
   "cell_type": "code",
   "execution_count": 17,
   "outputs": [
    {
     "name": "stdout",
     "output_type": "stream",
     "text": [
      "123/123 [==============================] - 1s 2ms/step - loss: 2.9273 - accuracy: 0.0622\n"
     ]
    },
    {
     "data": {
      "text/plain": "[2.9273314476013184, 0.06219000369310379]"
     },
     "execution_count": 17,
     "metadata": {},
     "output_type": "execute_result"
    }
   ],
   "source": [
    "model.evaluate(train_data)"
   ],
   "metadata": {
    "collapsed": false,
    "pycharm": {
     "name": "#%%\n"
    }
   }
  },
  {
   "cell_type": "code",
   "execution_count": 18,
   "outputs": [
    {
     "name": "stdout",
     "output_type": "stream",
     "text": [
      "Epoch 1/10\n",
      "123/123 [==============================] - 53s 429ms/step - loss: 2.0960 - accuracy: 0.5439 - val_loss: 1.7170 - val_accuracy: 0.6073\n",
      "Epoch 2/10\n",
      "123/123 [==============================] - 51s 414ms/step - loss: 1.1244 - accuracy: 0.7917 - val_loss: 1.2585 - val_accuracy: 0.7034\n",
      "Epoch 3/10\n",
      "123/123 [==============================] - 50s 409ms/step - loss: 0.8003 - accuracy: 0.8716 - val_loss: 1.1557 - val_accuracy: 0.7419\n",
      "Epoch 4/10\n",
      "123/123 [==============================] - 51s 412ms/step - loss: 0.6403 - accuracy: 0.9135 - val_loss: 1.1054 - val_accuracy: 0.7227\n",
      "Epoch 5/10\n",
      "123/123 [==============================] - 50s 406ms/step - loss: 0.5350 - accuracy: 0.9442 - val_loss: 1.0201 - val_accuracy: 0.7591\n",
      "Epoch 6/10\n",
      "123/123 [==============================] - 50s 408ms/step - loss: 0.4598 - accuracy: 0.9643 - val_loss: 1.0089 - val_accuracy: 0.7480\n",
      "Epoch 7/10\n",
      "123/123 [==============================] - 50s 406ms/step - loss: 0.4044 - accuracy: 0.9798 - val_loss: 0.9761 - val_accuracy: 0.7692\n",
      "Epoch 8/10\n",
      "123/123 [==============================] - 50s 404ms/step - loss: 0.3604 - accuracy: 0.9883 - val_loss: 0.9845 - val_accuracy: 0.7571\n",
      "Epoch 9/10\n",
      "123/123 [==============================] - 50s 407ms/step - loss: 0.3267 - accuracy: 0.9933 - val_loss: 0.9456 - val_accuracy: 0.7642\n",
      "Epoch 10/10\n",
      "123/123 [==============================] - 50s 408ms/step - loss: 0.2995 - accuracy: 0.9948 - val_loss: 0.9621 - val_accuracy: 0.7581\n"
     ]
    }
   ],
   "source": [
    "history = model.fit(train_data,\n",
    "                    validation_data=valid_data,\n",
    "                    epochs=10,\n",
    "                    callbacks=[es])"
   ],
   "metadata": {
    "collapsed": false,
    "pycharm": {
     "name": "#%%\n"
    }
   }
  },
  {
   "cell_type": "code",
   "execution_count": 19,
   "outputs": [
    {
     "data": {
      "text/plain": "<Figure size 432x288 with 1 Axes>",
      "image/png": "[encoded data removed]"
     },
     "metadata": {
      "needs_background": "light"
     },
     "output_type": "display_data"
    }
   ],
   "source": [
    "plt.plot(history.history['accuracy'], label=\"Training acc\")\n",
    "plt.plot(history.history['val_accuracy'], label=\"Validation acc\")\n",
    "plt.title(\"Accuracy of model\")\n",
    "plt.ylabel(\"Accuracy\")\n",
    "plt.xlabel(\"Epoch\")\n",
    "plt.legend()\n",
    "plt.show()"
   ],
   "metadata": {
    "collapsed": false,
    "pycharm": {
     "name": "#%%\n"
    }
   }
  },
  {
   "cell_type": "code",
   "execution_count": 20,
   "outputs": [
    {
     "data": {
      "text/plain": "<Figure size 432x288 with 1 Axes>",
      "image/png": "[encoded data removed]"
     },
     "metadata": {
      "needs_background": "light"
     },
     "output_type": "display_data"
    }
   ],
   "source": [
    "plt.plot(history.history['loss'], label=\"Training acc\")\n",
    "plt.plot(history.history['val_loss'], label=\"Validation acc\")\n",
    "plt.title(\"Loss of model\")\n",
    "plt.ylabel(\"Loss\")\n",
    "plt.xlabel(\"Epoch\")\n",
    "plt.legend()\n",
    "plt.show()"
   ],
   "metadata": {
    "collapsed": false,
    "pycharm": {
     "name": "#%%\n"
    }
   }
  },
  {
   "cell_type": "code",
   "execution_count": 21,
   "outputs": [
    {
     "name": "stdout",
     "output_type": "stream",
     "text": [
      "16/16 [==============================] - 1s 59ms/step - loss: 0.8826 - accuracy: 0.7729\n"
     ]
    },
    {
     "data": {
      "text/plain": "[0.8826205134391785, 0.7729124426841736]"
     },
     "execution_count": 21,
     "metadata": {},
     "output_type": "execute_result"
    }
   ],
   "source": [
    "model.evaluate(test_data)"
   ],
   "metadata": {
    "collapsed": false,
    "pycharm": {
     "name": "#%%\n"
    }
   }
  },
  {
   "cell_type": "code",
   "execution_count": null,
   "outputs": [],
   "source": [],
   "metadata": {
    "collapsed": false,
    "pycharm": {
     "name": "#%%\n"
    }
   }
  }
 ],
 "metadata": {
  "kernelspec": {
   "display_name": "Python 3",
   "language": "python",
   "name": "python3"
  },
  "language_info": {
   "codemirror_mode": {
    "name": "ipython",
    "version": 2
   },
   "file_extension": ".py",
   "mimetype": "text/x-python",
   "name": "python",
   "nbconvert_exporter": "python",
   "pygments_lexer": "ipython2",
   "version": "2.7.6"
  }
 },
 "nbformat": 4,
 "nbformat_minor": 0
}