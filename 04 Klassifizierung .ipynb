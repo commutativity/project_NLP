{
 "cells": [
  {
   "cell_type": "code",
   "execution_count": 204,
   "id": "d772e8ca",
   "metadata": {
    "ExecuteTime": {
     "end_time": "2022-08-20T11:58:49.239623Z",
     "start_time": "2022-08-20T11:58:49.219409Z"
    }
   },
   "outputs": [],
   "source": [
    "import json, os, re\n",
    "import numpy as np\n",
    "import pandas as pd\n",
    "import matplotlib.pyplot as plt\n",
    "\n",
    "from sklearn.feature_extraction.text import TfidfVectorizer\n",
    "from sklearn.feature_extraction.text import CountVectorizer\n",
    "\n",
    "from sklearn.neighbors import  NearestCentroid\n",
    "from sklearn.neighbors import KNeighborsClassifier\n",
    "from sklearn.ensemble import RandomForestClassifier\n",
    "\n",
    "from sklearn.model_selection import train_test_split\n",
    "\n",
    "from sklearn.metrics import confusion_matrix, ConfusionMatrixDisplay"
   ]
  },
  {
   "cell_type": "markdown",
   "id": "07de77c2",
   "metadata": {},
   "source": [
    "# Import data"
   ]
  },
  {
   "cell_type": "code",
   "execution_count": 125,
   "id": "b710d3eb",
   "metadata": {
    "ExecuteTime": {
     "end_time": "2022-08-20T10:00:23.214263Z",
     "start_time": "2022-08-20T10:00:23.095236Z"
    }
   },
   "outputs": [],
   "source": [
    "with open('Daten/Unternehmen_preprocessed.json', 'r', encoding='utf8') as data:\n",
    "    desc = json.load(data)"
   ]
  },
  {
   "cell_type": "code",
   "execution_count": 126,
   "id": "8d8f7346",
   "metadata": {
    "ExecuteTime": {
     "end_time": "2022-08-20T10:00:26.329782Z",
     "start_time": "2022-08-20T10:00:26.312782Z"
    },
    "scrolled": false
   },
   "outputs": [
    {
     "name": "stdout",
     "output_type": "stream",
     "text": [
      "significant operation company intend effect merger capital stock exchange asset acquisition stock purchase reorganization similar business combination business focus search business consumer product industry relate sector include consumer industry business health wellness commerce discretionary spending information technology sector related channel distribution company incorporate base Charlotte North Carolina\n"
     ]
    }
   ],
   "source": [
    "print(desc[0]['explicit_lemmatization'])"
   ]
  },
  {
   "cell_type": "markdown",
   "id": "ccf4ad1c",
   "metadata": {},
   "source": [
    "## Creating the dataset"
   ]
  },
  {
   "cell_type": "code",
   "execution_count": 127,
   "id": "8ac9b3aa",
   "metadata": {
    "ExecuteTime": {
     "end_time": "2022-08-20T10:00:26.717325Z",
     "start_time": "2022-08-20T10:00:26.695197Z"
    }
   },
   "outputs": [
    {
     "data": {
      "text/plain": [
       "9822"
      ]
     },
     "execution_count": 127,
     "metadata": {},
     "output_type": "execute_result"
    }
   ],
   "source": [
    "all_mixed = []\n",
    "for comp in desc:\n",
    "    #print(comp)\n",
    "    entry = {'txt': comp['explicit_lemmatization'], 'class': comp['sector']}\n",
    "    all_mixed.append(entry)\n",
    "len(all_mixed)"
   ]
  },
  {
   "cell_type": "markdown",
   "id": "b872e7f9",
   "metadata": {},
   "source": [
    "# Klassifizierung"
   ]
  },
  {
   "cell_type": "markdown",
   "id": "4bf2ef67",
   "metadata": {},
   "source": [
    "## Formulas"
   ]
  },
  {
   "cell_type": "code",
   "execution_count": 128,
   "id": "9ad59969",
   "metadata": {
    "ExecuteTime": {
     "end_time": "2022-08-20T10:00:27.809658Z",
     "start_time": "2022-08-20T10:00:27.797657Z"
    }
   },
   "outputs": [],
   "source": [
    "def classify(txt, v, vector):\n",
    "    dummy = np.zeros(len(v.get_feature_names_out()))\n",
    "    tmp_vectorizer = CountVectorizer(tokenizer = v.build_tokenizer())\n",
    "    tmp_vector=tmp_vectorizer.fit_transform([txt])\n",
    "    l = 0\n",
    "    for f in tmp_vectorizer.vocabulary_:\n",
    "        if f not in v.vocabulary_:\n",
    "            continue\n",
    "\n",
    "        index = v.vocabulary_[f]\n",
    "        dummy[index] = tmp_vector[0, tmp_vectorizer.vocabulary_[f]] * v.idf_[index]\n",
    "        l += dummy[index] ** 2\n",
    "    l = np.sqrt(l)\n",
    "    for i in range(vector.shape[1]):\n",
    "        dummy[i] /= l\n",
    "    #print(dummy)\n",
    "    return dummy"
   ]
  },
  {
   "cell_type": "code",
   "execution_count": 129,
   "id": "b5aa6eaa",
   "metadata": {
    "ExecuteTime": {
     "end_time": "2022-08-20T10:00:27.982579Z",
     "start_time": "2022-08-20T10:00:27.977578Z"
    }
   },
   "outputs": [],
   "source": [
    "def false_counter(dic, word):\n",
    "    if word in dic:\n",
    "        dic[word] += 1\n",
    "    else:\n",
    "        dic[word] = 1"
   ]
  },
  {
   "cell_type": "markdown",
   "id": "59d5cfc1",
   "metadata": {},
   "source": [
    "## Create class to automate process"
   ]
  },
  {
   "cell_type": "code",
   "execution_count": 131,
   "id": "14ea2623",
   "metadata": {
    "ExecuteTime": {
     "end_time": "2022-08-20T10:00:30.351079Z",
     "start_time": "2022-08-20T10:00:30.341077Z"
    }
   },
   "outputs": [],
   "source": [
    "class data_instance:\n",
    "    def __init__(self, dataset):\n",
    "        self.X_data = [entry['txt'] for entry in dataset]\n",
    "        self.y_data = [entry['class'] for entry in dataset]    \n",
    "        \n",
    "    def split_data(self, random_state, test_size):\n",
    "        self.X_train, self.X_test, self.y_train, self.y_test = \\\n",
    "        train_test_split(self.X_data, self.y_data, test_size=test_size, random_state=random_state)\n",
    "        #self.X_test = [self.X_test]\n",
    "        \n",
    "    def vectorize(self, df_value, max_df):\n",
    "        if max_df:\n",
    "            self.vectorizer = TfidfVectorizer(max_df = df_value)\n",
    "            self.vector = self.vectorizer.fit_transform(self.X_train)\n",
    "        else:\n",
    "            self.vectorizer = TfidfVectorizer(min_df = df_value)\n",
    "            self.vector = self.vectorizer.fit_transform(self.X_train)\n",
    "        \n",
    "    def neighbors(self, n_neighbors, init=False):\n",
    "        self.neigh = KNeighborsClassifier(n_neighbors = n_neighbors).fit(self.vector, self.y_train)\n",
    "        if init:\n",
    "            return self.neigh\n",
    "        else:\n",
    "            return self.evaluate(self.neigh)\n",
    "        \n",
    "    def randomForest(self, n_estimators, init=False):\n",
    "        self.forest = RandomForestClassifier(n_estimators = n_estimators).fit(self.vector, self.y_train)     \n",
    "        if init:\n",
    "            return self.forest\n",
    "        else:\n",
    "            return self.evaluate(self.forest)\n",
    "        \n",
    "    def centroid(self, init=False):\n",
    "        self.centr = NearestCentroid().fit(self.vector, self.y_train)\n",
    "        if init:\n",
    "            return self.centr\n",
    "        else:\n",
    "            return self.evaluate(self.centr)\n",
    "        \n",
    "    def evaluate(self, classifier):\n",
    "        n_correct = 0\n",
    "        for i in range(len(self.X_test)):\n",
    "            if self.y_test[i] == classifier.predict([classify(self.X_test[i], self.vectorizer, self.vector)])[0]:\n",
    "                n_correct += 1\n",
    "            if i % 1500 == 0:\n",
    "                print(i)\n",
    "        score = n_correct / len(self.X_test)\n",
    "        #print(\"calculated score =\", score)\n",
    "        return score"
   ]
  },
  {
   "cell_type": "markdown",
   "id": "899c6b14",
   "metadata": {},
   "source": [
    "## Run automation "
   ]
  },
  {
   "cell_type": "markdown",
   "id": "502713dd",
   "metadata": {},
   "source": [
    "Since stop words are already filtered out, using max_df or min_df will not bring any further accuracy. Since the core of TfIdf is finding the most important words to classify something, this will not improve the accuary. Howerver, by using max_df or min_df the size of the vector can be reduced. Thus, the calculations do not take as much computational effort. \n",
    "At the end of this chapter, several max_df or min_df are used, to show that the accuracy is only slightly worse than using the whole corpus. \n",
    "\n",
    "ZUR ERKLÄRUNG DIE GRÖ?E DES KORPES DAZU NEHMEN"
   ]
  },
  {
   "cell_type": "markdown",
   "id": "30e7de87",
   "metadata": {},
   "source": [
    "### Create test/train data"
   ]
  },
  {
   "cell_type": "code",
   "execution_count": 132,
   "id": "dbbd4f2f",
   "metadata": {
    "ExecuteTime": {
     "end_time": "2022-08-20T10:00:31.703597Z",
     "start_time": "2022-08-20T10:00:31.690562Z"
    }
   },
   "outputs": [],
   "source": [
    "test = data_instance(all_mixed)"
   ]
  },
  {
   "cell_type": "markdown",
   "id": "0c7abd90",
   "metadata": {},
   "source": [
    "Use random state to compare different results"
   ]
  },
  {
   "cell_type": "code",
   "execution_count": 133,
   "id": "a993f6fe",
   "metadata": {
    "ExecuteTime": {
     "end_time": "2022-08-20T10:00:32.135277Z",
     "start_time": "2022-08-20T10:00:32.117269Z"
    }
   },
   "outputs": [],
   "source": [
    "test.split_data(123, 0.33)"
   ]
  },
  {
   "cell_type": "code",
   "execution_count": 134,
   "id": "bffa5b83",
   "metadata": {
    "ExecuteTime": {
     "end_time": "2022-08-20T10:00:33.493374Z",
     "start_time": "2022-08-20T10:00:32.996243Z"
    }
   },
   "outputs": [],
   "source": [
    "test.vectorize(1.0, True)"
   ]
  },
  {
   "cell_type": "markdown",
   "id": "e6e9440c",
   "metadata": {},
   "source": [
    "### N_neighbors"
   ]
  },
  {
   "cell_type": "code",
   "execution_count": 135,
   "id": "45ae9fe0",
   "metadata": {
    "ExecuteTime": {
     "end_time": "2022-08-20T10:14:44.616219Z",
     "start_time": "2022-08-20T10:00:34.391093Z"
    }
   },
   "outputs": [
    {
     "name": "stdout",
     "output_type": "stream",
     "text": [
      "0\n",
      "1500\n",
      "3000\n",
      "For 1 neighbors, accuracy is 0.824799506477483.\n",
      "0\n",
      "1500\n",
      "3000\n",
      "For 2 neighbors, accuracy is 0.8013571869216533.\n",
      "0\n",
      "1500\n",
      "3000\n",
      "For 3 neighbors, accuracy is 0.8340530536705737.\n",
      "0\n",
      "1500\n",
      "3000\n",
      "For 4 neighbors, accuracy is 0.8349784083898828.\n",
      "0\n",
      "1500\n",
      "3000\n",
      "For 5 neighbors, accuracy is 0.8550277606415793.\n",
      "0\n",
      "1500\n",
      "3000\n",
      "For 6 neighbors, accuracy is 0.8519432449105491.\n"
     ]
    }
   ],
   "source": [
    "# Test first for different max_accuracy\n",
    "n_neighbors = {'neighbors': [], 'accuracy': []}\n",
    "for neighbors in range(1, 7):\n",
    "    n_neighbors['neighbors'].append(neighbors)\n",
    "    acc = test.neighbors(neighbors)\n",
    "    n_neighbors['accuracy'].append(acc)\n",
    "    print(f\"For {neighbors} neighbors, accuracy is {acc}.\")"
   ]
  },
  {
   "cell_type": "code",
   "execution_count": 136,
   "id": "bf90a7fc",
   "metadata": {
    "ExecuteTime": {
     "end_time": "2022-08-20T10:14:44.646335Z",
     "start_time": "2022-08-20T10:14:44.619751Z"
    }
   },
   "outputs": [
    {
     "name": "stdout",
     "output_type": "stream",
     "text": [
      "Übersicht Klassifizierung n_neighbors\n"
     ]
    },
    {
     "data": {
      "text/html": [
       "<div>\n",
       "<style scoped>\n",
       "    .dataframe tbody tr th:only-of-type {\n",
       "        vertical-align: middle;\n",
       "    }\n",
       "\n",
       "    .dataframe tbody tr th {\n",
       "        vertical-align: top;\n",
       "    }\n",
       "\n",
       "    .dataframe thead th {\n",
       "        text-align: right;\n",
       "    }\n",
       "</style>\n",
       "<table border=\"1\" class=\"dataframe\">\n",
       "  <thead>\n",
       "    <tr style=\"text-align: right;\">\n",
       "      <th></th>\n",
       "      <th>neighbors</th>\n",
       "      <th>accuracy</th>\n",
       "    </tr>\n",
       "  </thead>\n",
       "  <tbody>\n",
       "    <tr>\n",
       "      <th>0</th>\n",
       "      <td>1</td>\n",
       "      <td>0.824800</td>\n",
       "    </tr>\n",
       "    <tr>\n",
       "      <th>1</th>\n",
       "      <td>2</td>\n",
       "      <td>0.801357</td>\n",
       "    </tr>\n",
       "    <tr>\n",
       "      <th>2</th>\n",
       "      <td>3</td>\n",
       "      <td>0.834053</td>\n",
       "    </tr>\n",
       "    <tr>\n",
       "      <th>3</th>\n",
       "      <td>4</td>\n",
       "      <td>0.834978</td>\n",
       "    </tr>\n",
       "    <tr>\n",
       "      <th>4</th>\n",
       "      <td>5</td>\n",
       "      <td>0.855028</td>\n",
       "    </tr>\n",
       "    <tr>\n",
       "      <th>5</th>\n",
       "      <td>6</td>\n",
       "      <td>0.851943</td>\n",
       "    </tr>\n",
       "  </tbody>\n",
       "</table>\n",
       "</div>"
      ],
      "text/plain": [
       "   neighbors  accuracy\n",
       "0          1  0.824800\n",
       "1          2  0.801357\n",
       "2          3  0.834053\n",
       "3          4  0.834978\n",
       "4          5  0.855028\n",
       "5          6  0.851943"
      ]
     },
     "execution_count": 136,
     "metadata": {},
     "output_type": "execute_result"
    }
   ],
   "source": [
    "print('Übersicht Klassifizierung n_neighbors')\n",
    "pd.DataFrame(data=n_neighbors)"
   ]
  },
  {
   "cell_type": "markdown",
   "id": "b4e2707b",
   "metadata": {},
   "source": [
    "## Random Forest"
   ]
  },
  {
   "cell_type": "code",
   "execution_count": 137,
   "id": "81d7d922",
   "metadata": {
    "ExecuteTime": {
     "end_time": "2022-08-20T10:28:25.611102Z",
     "start_time": "2022-08-20T10:14:44.648464Z"
    },
    "scrolled": false
   },
   "outputs": [
    {
     "name": "stdout",
     "output_type": "stream",
     "text": [
      "0\n",
      "1500\n",
      "3000\n",
      "For 1 neighbors, accuracy is 0.5866748920419494.\n",
      "0\n",
      "1500\n",
      "3000\n",
      "For 2 neighbors, accuracy is 0.5764959901295497.\n",
      "0\n",
      "1500\n",
      "3000\n",
      "For 3 neighbors, accuracy is 0.6428130783466995.\n",
      "0\n",
      "1500\n",
      "3000\n",
      "For 4 neighbors, accuracy is 0.6551511412708205.\n",
      "0\n",
      "1500\n",
      "3000\n",
      "For 5 neighbors, accuracy is 0.6832202344231956.\n",
      "0\n",
      "1500\n",
      "3000\n",
      "For 6 neighbors, accuracy is 0.7171499074645281.\n"
     ]
    }
   ],
   "source": [
    "randomForest = {'estimators': [], 'accuracy': []}\n",
    "for estimators in range(1, 7):\n",
    "    randomForest['estimators'].append(estimators)\n",
    "    acc = test.randomForest(estimators)\n",
    "    randomForest['accuracy'].append(acc)\n",
    "    print(f\"For {estimators} estimators, accuracy is {acc}.\")"
   ]
  },
  {
   "cell_type": "code",
   "execution_count": 138,
   "id": "37b588fb",
   "metadata": {
    "ExecuteTime": {
     "end_time": "2022-08-20T10:28:25.749910Z",
     "start_time": "2022-08-20T10:28:25.634560Z"
    }
   },
   "outputs": [
    {
     "name": "stdout",
     "output_type": "stream",
     "text": [
      "Übersicht Klassifizierung Random Forest\n"
     ]
    },
    {
     "data": {
      "text/html": [
       "<div>\n",
       "<style scoped>\n",
       "    .dataframe tbody tr th:only-of-type {\n",
       "        vertical-align: middle;\n",
       "    }\n",
       "\n",
       "    .dataframe tbody tr th {\n",
       "        vertical-align: top;\n",
       "    }\n",
       "\n",
       "    .dataframe thead th {\n",
       "        text-align: right;\n",
       "    }\n",
       "</style>\n",
       "<table border=\"1\" class=\"dataframe\">\n",
       "  <thead>\n",
       "    <tr style=\"text-align: right;\">\n",
       "      <th></th>\n",
       "      <th>estimators</th>\n",
       "      <th>accuracy</th>\n",
       "    </tr>\n",
       "  </thead>\n",
       "  <tbody>\n",
       "    <tr>\n",
       "      <th>1</th>\n",
       "      <td>1</td>\n",
       "      <td>0.586675</td>\n",
       "    </tr>\n",
       "    <tr>\n",
       "      <th>2</th>\n",
       "      <td>2</td>\n",
       "      <td>0.576496</td>\n",
       "    </tr>\n",
       "    <tr>\n",
       "      <th>3</th>\n",
       "      <td>3</td>\n",
       "      <td>0.642813</td>\n",
       "    </tr>\n",
       "    <tr>\n",
       "      <th>4</th>\n",
       "      <td>4</td>\n",
       "      <td>0.655151</td>\n",
       "    </tr>\n",
       "    <tr>\n",
       "      <th>5</th>\n",
       "      <td>5</td>\n",
       "      <td>0.683220</td>\n",
       "    </tr>\n",
       "    <tr>\n",
       "      <th>6</th>\n",
       "      <td>6</td>\n",
       "      <td>0.717150</td>\n",
       "    </tr>\n",
       "  </tbody>\n",
       "</table>\n",
       "</div>"
      ],
      "text/plain": [
       "   estimators  accuracy\n",
       "1           1  0.586675\n",
       "2           2  0.576496\n",
       "3           3  0.642813\n",
       "4           4  0.655151\n",
       "5           5  0.683220\n",
       "6           6  0.717150"
      ]
     },
     "execution_count": 138,
     "metadata": {},
     "output_type": "execute_result"
    }
   ],
   "source": [
    "print('Übersicht Klassifizierung Random Forest')\n",
    "pd.DataFrame(data=randomForest, index=[i for i in range(1, 7)])"
   ]
  },
  {
   "cell_type": "markdown",
   "id": "cc516bbe",
   "metadata": {},
   "source": [
    "## Centroid"
   ]
  },
  {
   "cell_type": "code",
   "execution_count": 139,
   "id": "7fbab601",
   "metadata": {
    "ExecuteTime": {
     "end_time": "2022-08-20T10:31:25.341638Z",
     "start_time": "2022-08-20T10:28:25.751541Z"
    }
   },
   "outputs": [
    {
     "name": "stdout",
     "output_type": "stream",
     "text": [
      "0\n",
      "1500\n",
      "3000\n",
      "For nearest Centroid, accuracy is 0.7819247378161629.\n"
     ]
    }
   ],
   "source": [
    "acc = test.centroid()\n",
    "print(f\"For nearest Centroid, accuracy is {acc}.\")"
   ]
  },
  {
   "cell_type": "markdown",
   "id": "d908f7a0",
   "metadata": {},
   "source": [
    "## Verdeutlichung der Ergebnisse"
   ]
  },
  {
   "cell_type": "markdown",
   "id": "2d0a62c7",
   "metadata": {},
   "source": [
    "### Confusion Matrix für die exakte Lemmatisierung"
   ]
  },
  {
   "cell_type": "markdown",
   "id": "25b5f27f",
   "metadata": {},
   "source": [
    "Confusion Matrix for the best possible results"
   ]
  },
  {
   "cell_type": "code",
   "execution_count": 167,
   "id": "91ff317d",
   "metadata": {
    "ExecuteTime": {
     "end_time": "2022-08-20T11:43:36.905357Z",
     "start_time": "2022-08-20T11:43:36.897353Z"
    }
   },
   "outputs": [],
   "source": [
    "gt = test.y_test"
   ]
  },
  {
   "cell_type": "markdown",
   "id": "fbd0a777",
   "metadata": {},
   "source": [
    "Create a predictor from the best result"
   ]
  },
  {
   "cell_type": "code",
   "execution_count": 160,
   "id": "5cbedc06",
   "metadata": {
    "ExecuteTime": {
     "end_time": "2022-08-20T11:39:12.417068Z",
     "start_time": "2022-08-20T11:39:12.002004Z"
    }
   },
   "outputs": [],
   "source": [
    "predictor = test.neighbors(5, init=True)"
   ]
  },
  {
   "cell_type": "code",
   "execution_count": 162,
   "id": "7e7b0a42",
   "metadata": {
    "ExecuteTime": {
     "end_time": "2022-08-20T11:42:30.312612Z",
     "start_time": "2022-08-20T11:40:27.557030Z"
    }
   },
   "outputs": [],
   "source": [
    "pred = [predictor.predict([classify(test.X_test[i], test.vectorizer, test.vector)])[0] for i in range(0, len(test.X_test))]"
   ]
  },
  {
   "cell_type": "code",
   "execution_count": 163,
   "id": "290fac77",
   "metadata": {
    "ExecuteTime": {
     "end_time": "2022-08-20T11:42:30.327422Z",
     "start_time": "2022-08-20T11:42:30.315420Z"
    }
   },
   "outputs": [
    {
     "data": {
      "text/plain": [
       "3242"
      ]
     },
     "execution_count": 163,
     "metadata": {},
     "output_type": "execute_result"
    }
   ],
   "source": [
    "len(test.X_test)"
   ]
  },
  {
   "cell_type": "code",
   "execution_count": 142,
   "id": "f7c9ae9e",
   "metadata": {
    "ExecuteTime": {
     "end_time": "2022-08-20T10:34:38.921544Z",
     "start_time": "2022-08-20T10:34:38.911551Z"
    }
   },
   "outputs": [],
   "source": [
    "secs = list({sec['sector'] for sec in desc})"
   ]
  },
  {
   "cell_type": "code",
   "execution_count": 164,
   "id": "aa233736",
   "metadata": {
    "ExecuteTime": {
     "end_time": "2022-08-20T11:42:30.372675Z",
     "start_time": "2022-08-20T11:42:30.329427Z"
    }
   },
   "outputs": [],
   "source": [
    "cm = confusion_matrix(pred, gt, labels=secs)"
   ]
  },
  {
   "cell_type": "code",
   "execution_count": 165,
   "id": "7a443e2a",
   "metadata": {
    "ExecuteTime": {
     "end_time": "2022-08-20T11:42:30.388642Z",
     "start_time": "2022-08-20T11:42:30.374642Z"
    }
   },
   "outputs": [],
   "source": [
    "disp = ConfusionMatrixDisplay(confusion_matrix=cm, display_labels=secs)"
   ]
  },
  {
   "cell_type": "code",
   "execution_count": 166,
   "id": "7f725e06",
   "metadata": {
    "ExecuteTime": {
     "end_time": "2022-08-20T11:42:31.215998Z",
     "start_time": "2022-08-20T11:42:30.390640Z"
    }
   },
   "outputs": [
    {
     "data": {
      "text/plain": [
       "<sklearn.metrics._plot.confusion_matrix.ConfusionMatrixDisplay at 0x29f958c1f30>"
      ]
     },
     "execution_count": 166,
     "metadata": {},
     "output_type": "execute_result"
    },
    {
     "data": {
      "image/png": "[encoded data removed]",
      "text/plain": [
       "<Figure size 1440x1440 with 2 Axes>"
      ]
     },
     "metadata": {
      "needs_background": "light"
     },
     "output_type": "display_data"
    }
   ],
   "source": [
    "fig, ax = plt.subplots(figsize=(20, 20))\n",
    "disp.plot(ax = ax)"
   ]
  },
  {
   "cell_type": "markdown",
   "id": "e1ee32ef",
   "metadata": {},
   "source": [
    "# Klassifizierung mit der groben Lemmatisierung"
   ]
  },
  {
   "cell_type": "markdown",
   "id": "6fda4ed8",
   "metadata": {},
   "source": [
    "## Creating dataset"
   ]
  },
  {
   "cell_type": "code",
   "execution_count": 145,
   "id": "a7d7afcc",
   "metadata": {
    "ExecuteTime": {
     "end_time": "2022-08-20T10:34:44.413392Z",
     "start_time": "2022-08-20T10:34:44.264393Z"
    }
   },
   "outputs": [
    {
     "data": {
      "text/plain": [
       "9822"
      ]
     },
     "execution_count": 145,
     "metadata": {},
     "output_type": "execute_result"
    }
   ],
   "source": [
    "all_mixed_rough = []\n",
    "for comp in desc:\n",
    "    #print(comp)\n",
    "    entry = {'txt': comp['rough_lemmatization'], 'class': comp['sector']}\n",
    "    all_mixed_rough.append(entry)\n",
    "len(all_mixed_rough)"
   ]
  },
  {
   "cell_type": "markdown",
   "id": "06d40763",
   "metadata": {},
   "source": [
    "### Create test_train data"
   ]
  },
  {
   "cell_type": "code",
   "execution_count": 146,
   "id": "7ca22c87",
   "metadata": {
    "ExecuteTime": {
     "end_time": "2022-08-20T10:34:45.889340Z",
     "start_time": "2022-08-20T10:34:45.836340Z"
    }
   },
   "outputs": [],
   "source": [
    "rough_classification = data_instance(all_mixed_rough)"
   ]
  },
  {
   "cell_type": "code",
   "execution_count": 147,
   "id": "c4038f05",
   "metadata": {
    "ExecuteTime": {
     "end_time": "2022-08-20T10:34:46.057342Z",
     "start_time": "2022-08-20T10:34:46.040340Z"
    }
   },
   "outputs": [],
   "source": [
    "rough_classification.split_data(123, 0.33)"
   ]
  },
  {
   "cell_type": "code",
   "execution_count": 148,
   "id": "d8de0071",
   "metadata": {
    "ExecuteTime": {
     "end_time": "2022-08-20T10:34:47.317259Z",
     "start_time": "2022-08-20T10:34:46.245340Z"
    }
   },
   "outputs": [],
   "source": [
    "rough_classification.vectorize(1.0, True)"
   ]
  },
  {
   "cell_type": "markdown",
   "id": "cc803a28",
   "metadata": {},
   "source": [
    "### N_neighbors"
   ]
  },
  {
   "cell_type": "code",
   "execution_count": 149,
   "id": "6cb95a9b",
   "metadata": {
    "ExecuteTime": {
     "end_time": "2022-08-20T10:48:36.925598Z",
     "start_time": "2022-08-20T10:34:48.789485Z"
    },
    "scrolled": false
   },
   "outputs": [
    {
     "name": "stdout",
     "output_type": "stream",
     "text": [
      "0\n",
      "1500\n",
      "3000\n",
      "For 1 neighbors, accuracy is 0.8177051202961135.\n",
      "0\n",
      "1500\n",
      "3000\n",
      "For 2 neighbors, accuracy is 0.7874768661320173.\n",
      "0\n",
      "1500\n",
      "3000\n",
      "For 3 neighbors, accuracy is 0.8297347316471314.\n",
      "0\n",
      "1500\n",
      "3000\n",
      "For 4 neighbors, accuracy is 0.8359037631091919.\n",
      "0\n",
      "1500\n",
      "3000\n",
      "For 5 neighbors, accuracy is 0.8479333744602098.\n",
      "0\n",
      "1500\n",
      "3000\n",
      "For 6 neighbors, accuracy is 0.8454657618753856.\n"
     ]
    }
   ],
   "source": [
    "# Test first for different max_accuracy\n",
    "n_neighbors = {'neighbors': [], 'accuracy': []}\n",
    "for neighbors in range(1, 7):\n",
    "    n_neighbors['neighbors'].append(neighbors)\n",
    "    acc = rough_classification.neighbors(neighbors)\n",
    "    n_neighbors['accuracy'].append(acc)\n",
    "    print(f\"For {neighbors} neighbors, accuracy is {acc}.\")"
   ]
  },
  {
   "cell_type": "code",
   "execution_count": 150,
   "id": "29afc864",
   "metadata": {
    "ExecuteTime": {
     "end_time": "2022-08-20T10:48:37.002258Z",
     "start_time": "2022-08-20T10:48:36.940407Z"
    }
   },
   "outputs": [
    {
     "name": "stdout",
     "output_type": "stream",
     "text": [
      "Übersicht Klassifizierung n_neighbors\n"
     ]
    },
    {
     "data": {
      "text/html": [
       "<div>\n",
       "<style scoped>\n",
       "    .dataframe tbody tr th:only-of-type {\n",
       "        vertical-align: middle;\n",
       "    }\n",
       "\n",
       "    .dataframe tbody tr th {\n",
       "        vertical-align: top;\n",
       "    }\n",
       "\n",
       "    .dataframe thead th {\n",
       "        text-align: right;\n",
       "    }\n",
       "</style>\n",
       "<table border=\"1\" class=\"dataframe\">\n",
       "  <thead>\n",
       "    <tr style=\"text-align: right;\">\n",
       "      <th></th>\n",
       "      <th>neighbors</th>\n",
       "      <th>accuracy</th>\n",
       "    </tr>\n",
       "  </thead>\n",
       "  <tbody>\n",
       "    <tr>\n",
       "      <th>0</th>\n",
       "      <td>1</td>\n",
       "      <td>0.817705</td>\n",
       "    </tr>\n",
       "    <tr>\n",
       "      <th>1</th>\n",
       "      <td>2</td>\n",
       "      <td>0.787477</td>\n",
       "    </tr>\n",
       "    <tr>\n",
       "      <th>2</th>\n",
       "      <td>3</td>\n",
       "      <td>0.829735</td>\n",
       "    </tr>\n",
       "    <tr>\n",
       "      <th>3</th>\n",
       "      <td>4</td>\n",
       "      <td>0.835904</td>\n",
       "    </tr>\n",
       "    <tr>\n",
       "      <th>4</th>\n",
       "      <td>5</td>\n",
       "      <td>0.847933</td>\n",
       "    </tr>\n",
       "    <tr>\n",
       "      <th>5</th>\n",
       "      <td>6</td>\n",
       "      <td>0.845466</td>\n",
       "    </tr>\n",
       "  </tbody>\n",
       "</table>\n",
       "</div>"
      ],
      "text/plain": [
       "   neighbors  accuracy\n",
       "0          1  0.817705\n",
       "1          2  0.787477\n",
       "2          3  0.829735\n",
       "3          4  0.835904\n",
       "4          5  0.847933\n",
       "5          6  0.845466"
      ]
     },
     "execution_count": 150,
     "metadata": {},
     "output_type": "execute_result"
    }
   ],
   "source": [
    "print('Übersicht Klassifizierung n_neighbors')\n",
    "pd.DataFrame(data=n_neighbors)"
   ]
  },
  {
   "cell_type": "markdown",
   "id": "36de490f",
   "metadata": {},
   "source": [
    "### Random Forest"
   ]
  },
  {
   "cell_type": "code",
   "execution_count": 151,
   "id": "d699b3ec",
   "metadata": {
    "ExecuteTime": {
     "end_time": "2022-08-20T11:00:55.311169Z",
     "start_time": "2022-08-20T10:48:37.004123Z"
    }
   },
   "outputs": [
    {
     "name": "stdout",
     "output_type": "stream",
     "text": [
      "0\n",
      "1500\n",
      "3000\n",
      "For 1 neighbors, accuracy is 0.5909932140653917.\n",
      "0\n",
      "1500\n",
      "3000\n",
      "For 2 neighbors, accuracy is 0.567242442936459.\n",
      "0\n",
      "1500\n",
      "3000\n",
      "For 3 neighbors, accuracy is 0.6560764959901295.\n",
      "0\n",
      "1500\n",
      "3000\n",
      "For 4 neighbors, accuracy is 0.675817396668723.\n",
      "0\n",
      "1500\n",
      "3000\n",
      "For 5 neighbors, accuracy is 0.7063541024059222.\n",
      "0\n",
      "1500\n",
      "3000\n",
      "For 6 neighbors, accuracy is 0.702961135101789.\n"
     ]
    }
   ],
   "source": [
    "randomForest = {'estimators': [], 'accuracy': []}\n",
    "for estimators in range(1, 7):\n",
    "    randomForest['estimators'].append(estimators)\n",
    "    acc = rough_classification.randomForest(estimators)\n",
    "    randomForest['accuracy'].append(acc)\n",
    "    print(f\"For {estimators} neighbors, accuracy is {acc}.\")"
   ]
  },
  {
   "cell_type": "code",
   "execution_count": 152,
   "id": "1e360d02",
   "metadata": {
    "ExecuteTime": {
     "end_time": "2022-08-20T11:00:55.327170Z",
     "start_time": "2022-08-20T11:00:55.313172Z"
    }
   },
   "outputs": [
    {
     "name": "stdout",
     "output_type": "stream",
     "text": [
      "Übersicht Klassifizierung Random Forest\n"
     ]
    },
    {
     "data": {
      "text/html": [
       "<div>\n",
       "<style scoped>\n",
       "    .dataframe tbody tr th:only-of-type {\n",
       "        vertical-align: middle;\n",
       "    }\n",
       "\n",
       "    .dataframe tbody tr th {\n",
       "        vertical-align: top;\n",
       "    }\n",
       "\n",
       "    .dataframe thead th {\n",
       "        text-align: right;\n",
       "    }\n",
       "</style>\n",
       "<table border=\"1\" class=\"dataframe\">\n",
       "  <thead>\n",
       "    <tr style=\"text-align: right;\">\n",
       "      <th></th>\n",
       "      <th>estimators</th>\n",
       "      <th>accuracy</th>\n",
       "    </tr>\n",
       "  </thead>\n",
       "  <tbody>\n",
       "    <tr>\n",
       "      <th>1</th>\n",
       "      <td>1</td>\n",
       "      <td>0.590993</td>\n",
       "    </tr>\n",
       "    <tr>\n",
       "      <th>2</th>\n",
       "      <td>2</td>\n",
       "      <td>0.567242</td>\n",
       "    </tr>\n",
       "    <tr>\n",
       "      <th>3</th>\n",
       "      <td>3</td>\n",
       "      <td>0.656076</td>\n",
       "    </tr>\n",
       "    <tr>\n",
       "      <th>4</th>\n",
       "      <td>4</td>\n",
       "      <td>0.675817</td>\n",
       "    </tr>\n",
       "    <tr>\n",
       "      <th>5</th>\n",
       "      <td>5</td>\n",
       "      <td>0.706354</td>\n",
       "    </tr>\n",
       "    <tr>\n",
       "      <th>6</th>\n",
       "      <td>6</td>\n",
       "      <td>0.702961</td>\n",
       "    </tr>\n",
       "  </tbody>\n",
       "</table>\n",
       "</div>"
      ],
      "text/plain": [
       "   estimators  accuracy\n",
       "1           1  0.590993\n",
       "2           2  0.567242\n",
       "3           3  0.656076\n",
       "4           4  0.675817\n",
       "5           5  0.706354\n",
       "6           6  0.702961"
      ]
     },
     "execution_count": 152,
     "metadata": {},
     "output_type": "execute_result"
    }
   ],
   "source": [
    "print('Übersicht Klassifizierung Random Forest')\n",
    "pd.DataFrame(data=randomForest, index=[i for i in range(1, 7)])"
   ]
  },
  {
   "cell_type": "markdown",
   "id": "27b516cd",
   "metadata": {},
   "source": [
    "### Centroid"
   ]
  },
  {
   "cell_type": "code",
   "execution_count": 153,
   "id": "673d5b80",
   "metadata": {
    "ExecuteTime": {
     "end_time": "2022-08-20T11:03:48.225622Z",
     "start_time": "2022-08-20T11:00:55.329173Z"
    }
   },
   "outputs": [
    {
     "name": "stdout",
     "output_type": "stream",
     "text": [
      "0\n",
      "1500\n",
      "3000\n",
      "For nearest Centroid, accuracy is 0.7809993830968538.\n"
     ]
    }
   ],
   "source": [
    "acc = rough_classification.centroid()\n",
    "print(f\"For nearest Centroid, accuracy is {acc}.\")"
   ]
  },
  {
   "cell_type": "markdown",
   "id": "dcc2bc79",
   "metadata": {},
   "source": [
    "## Verdeutlichung der Ergebnisse"
   ]
  },
  {
   "cell_type": "markdown",
   "id": "aeab2738",
   "metadata": {},
   "source": [
    "### Confusion Matrix für die exakte Lemmatisierung"
   ]
  },
  {
   "cell_type": "markdown",
   "id": "6aacc9c1",
   "metadata": {},
   "source": [
    "Confusion Matrix for the best possible results"
   ]
  },
  {
   "cell_type": "code",
   "execution_count": 211,
   "id": "5555c2cd",
   "metadata": {
    "ExecuteTime": {
     "end_time": "2022-08-20T12:01:36.143673Z",
     "start_time": "2022-08-20T12:01:36.124677Z"
    }
   },
   "outputs": [],
   "source": [
    "gt = rough_classification.y_test"
   ]
  },
  {
   "cell_type": "markdown",
   "id": "d4279a66",
   "metadata": {},
   "source": [
    "Create a predictor from the best result"
   ]
  },
  {
   "cell_type": "code",
   "execution_count": 212,
   "id": "50ea14e5",
   "metadata": {
    "ExecuteTime": {
     "end_time": "2022-08-20T12:01:36.684294Z",
     "start_time": "2022-08-20T12:01:36.640887Z"
    }
   },
   "outputs": [],
   "source": [
    "predictor = rough_classification.neighbors(5, init=True)"
   ]
  },
  {
   "cell_type": "code",
   "execution_count": 213,
   "id": "bbbd004d",
   "metadata": {
    "ExecuteTime": {
     "end_time": "2022-08-20T12:03:46.895687Z",
     "start_time": "2022-08-20T12:01:37.001252Z"
    }
   },
   "outputs": [],
   "source": [
    "pred = [predictor.predict([classify(rough_classification.X_test[i], rough_classification.vectorizer, rough_classification.vector)])[0] for i in range(0, len(rough_classification.X_test))]"
   ]
  },
  {
   "cell_type": "code",
   "execution_count": 229,
   "id": "5c5b8fd0",
   "metadata": {
    "ExecuteTime": {
     "end_time": "2022-08-20T12:06:19.543178Z",
     "start_time": "2022-08-20T12:06:19.522141Z"
    }
   },
   "outputs": [],
   "source": [
    "secs = list({sec['sector'] for sec in desc})"
   ]
  },
  {
   "cell_type": "code",
   "execution_count": 230,
   "id": "d9360297",
   "metadata": {
    "ExecuteTime": {
     "end_time": "2022-08-20T12:06:19.838961Z",
     "start_time": "2022-08-20T12:06:19.830956Z"
    }
   },
   "outputs": [
    {
     "data": {
      "text/plain": [
       "['Utilities',\n",
       " 'Healthcare',\n",
       " 'Industrials',\n",
       " 'Real Estate',\n",
       " 'Basic Materials',\n",
       " 'Consumer Defensive',\n",
       " 'Financial Services',\n",
       " 'Energy',\n",
       " 'Communication Services',\n",
       " 'Consumer Cyclical',\n",
       " 'Technology']"
      ]
     },
     "execution_count": 230,
     "metadata": {},
     "output_type": "execute_result"
    }
   ],
   "source": [
    "secs"
   ]
  },
  {
   "cell_type": "code",
   "execution_count": 231,
   "id": "9e477ec3",
   "metadata": {
    "ExecuteTime": {
     "end_time": "2022-08-20T12:06:20.246465Z",
     "start_time": "2022-08-20T12:06:20.216387Z"
    }
   },
   "outputs": [],
   "source": [
    "cm = confusion_matrix(pred, gt, labels=secs)"
   ]
  },
  {
   "cell_type": "code",
   "execution_count": 232,
   "id": "7119a07a",
   "metadata": {
    "ExecuteTime": {
     "end_time": "2022-08-20T12:06:20.543466Z",
     "start_time": "2022-08-20T12:06:20.528468Z"
    }
   },
   "outputs": [],
   "source": [
    "disp = ConfusionMatrixDisplay(confusion_matrix=cm, display_labels=secs)"
   ]
  },
  {
   "cell_type": "code",
   "execution_count": 233,
   "id": "11416291",
   "metadata": {
    "ExecuteTime": {
     "end_time": "2022-08-20T12:06:21.509918Z",
     "start_time": "2022-08-20T12:06:20.865358Z"
    }
   },
   "outputs": [
    {
     "data": {
      "text/plain": [
       "<sklearn.metrics._plot.confusion_matrix.ConfusionMatrixDisplay at 0x29f9727bd90>"
      ]
     },
     "execution_count": 233,
     "metadata": {},
     "output_type": "execute_result"
    },
    {
     "data": {
      "image/png": "[encoded data removed]",
      "text/plain": [
       "<Figure size 1440x1440 with 2 Axes>"
      ]
     },
     "metadata": {
      "needs_background": "light"
     },
     "output_type": "display_data"
    }
   ],
   "source": [
    "fig, ax = plt.subplots(figsize=(20, 20))\n",
    "disp.plot(ax = ax)"
   ]
  },
  {
   "cell_type": "code",
   "execution_count": null,
   "id": "4e60fb71",
   "metadata": {},
   "outputs": [],
   "source": []
  }
 ],
 "metadata": {
  "kernelspec": {
   "display_name": "NLP",
   "language": "python",
   "name": "nlp"
  },
  "language_info": {
   "codemirror_mode": {
    "name": "ipython",
    "version": 3
   },
   "file_extension": ".py",
   "mimetype": "text/x-python",
   "name": "python",
   "nbconvert_exporter": "python",
   "pygments_lexer": "ipython3",
   "version": "3.10.4"
  },
  "toc": {
   "base_numbering": 1,
   "nav_menu": {},
   "number_sections": true,
   "sideBar": true,
   "skip_h1_title": false,
   "title_cell": "Table of Contents",
   "title_sidebar": "Contents",
   "toc_cell": false,
   "toc_position": {},
   "toc_section_display": true,
   "toc_window_display": false
  }
 },
 "nbformat": 4,
 "nbformat_minor": 5
}
