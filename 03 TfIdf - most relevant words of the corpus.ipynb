{
 "cells": [
  {
   "cell_type": "code",
   "execution_count": 1,
   "id": "6e2d91bd",
   "metadata": {
    "ExecuteTime": {
     "end_time": "2022-08-27T08:22:54.371587Z",
     "start_time": "2022-08-27T08:22:53.262703Z"
    }
   },
   "outputs": [],
   "source": [
    "import os, json\n",
    "from collections import OrderedDict\n",
    "\n",
    "import numpy as np\n",
    "import pandas as pd\n",
    "\n",
    "from sklearn.feature_extraction.text import TfidfVectorizer"
   ]
  },
  {
   "cell_type": "code",
   "execution_count": 2,
   "id": "94b5eb51",
   "metadata": {
    "ExecuteTime": {
     "end_time": "2022-08-27T08:22:54.758831Z",
     "start_time": "2022-08-27T08:22:54.373588Z"
    }
   },
   "outputs": [],
   "source": [
    "with open('Daten/Unternehmen_prepocessed.json', 'r', encoding='utf-8') as files:\n",
    "    data = json.load(files)"
   ]
  },
  {
   "cell_type": "markdown",
   "id": "1139607f",
   "metadata": {},
   "source": [
    "# Vectorize Text"
   ]
  },
  {
   "cell_type": "markdown",
   "id": "735af444",
   "metadata": {},
   "source": [
    "## Create data"
   ]
  },
  {
   "cell_type": "code",
   "execution_count": 9,
   "id": "ae6767df",
   "metadata": {
    "ExecuteTime": {
     "end_time": "2022-08-27T08:24:27.627070Z",
     "start_time": "2022-08-27T08:24:27.607645Z"
    }
   },
   "outputs": [],
   "source": [
    "docs = [corp['explicit_lemmatization'] for corp in data]"
   ]
  },
  {
   "cell_type": "markdown",
   "id": "0494c37d",
   "metadata": {},
   "source": [
    "## Get the words with the highest TfIdf Value"
   ]
  },
  {
   "cell_type": "markdown",
   "id": "8984ca59",
   "metadata": {
    "ExecuteTime": {
     "end_time": "2022-08-15T12:11:49.224526Z",
     "start_time": "2022-08-15T12:11:49.209526Z"
    }
   },
   "source": [
    "Function to split lemmatized description into earlier defined tokens"
   ]
  },
  {
   "cell_type": "code",
   "execution_count": 10,
   "id": "46f26b0b",
   "metadata": {
    "ExecuteTime": {
     "end_time": "2022-08-27T08:24:28.265473Z",
     "start_time": "2022-08-27T08:24:28.259488Z"
    }
   },
   "outputs": [],
   "source": [
    "def splitter(txt):\n",
    "    return txt.split(' ')"
   ]
  },
  {
   "cell_type": "markdown",
   "id": "8c9bdcf2",
   "metadata": {},
   "source": [
    "### Create TfIdf Vector"
   ]
  },
  {
   "cell_type": "code",
   "execution_count": 11,
   "id": "36b41ba0",
   "metadata": {
    "ExecuteTime": {
     "end_time": "2022-08-27T08:24:29.099031Z",
     "start_time": "2022-08-27T08:24:28.618093Z"
    }
   },
   "outputs": [],
   "source": [
    "tf_vectorizer = TfidfVectorizer(\n",
    "    tokenizer=splitter\n",
    "    )\n",
    "tf_vector = tf_vectorizer.fit_transform(docs)"
   ]
  },
  {
   "cell_type": "markdown",
   "id": "a0b8eecf",
   "metadata": {},
   "source": [
    "## Create TfIdf list for all sectors"
   ]
  },
  {
   "cell_type": "markdown",
   "id": "56d36a5f",
   "metadata": {},
   "source": [
    "Create a dictionary for the tf_idf values for each word. Each entry will be indexed by the word. That way it can easily be searched through to built a thesaurus. "
   ]
  },
  {
   "cell_type": "code",
   "execution_count": 12,
   "id": "252be88f",
   "metadata": {
    "ExecuteTime": {
     "end_time": "2022-08-27T08:36:54.852730Z",
     "start_time": "2022-08-27T08:24:35.210090Z"
    },
    "scrolled": true
   },
   "outputs": [
    {
     "name": "stdout",
     "output_type": "stream",
     "text": [
      "0 words done.\n",
      "10000 words done.\n",
      "20000 words done.\n",
      "30000 words done.\n",
      "40000 words done.\n"
     ]
    }
   ],
   "source": [
    "idf_dict = {}\n",
    "\n",
    "for word_id in range(0, tf_vector.shape[1]):\n",
    "    idf_dict[tf_vectorizer.get_feature_names_out()[word_id]] = {\"value\" : tf_vector[max_values[0, word_id], word_id],\n",
    "                     \"sector\": data[max_values[0, word_id]][\"sector\"], \"nr\": max_values[0, word_id]}\n",
    "    if word_id % 10000 == 0:\n",
    "        print(f'{word_id} words done.')"
   ]
  },
  {
   "cell_type": "code",
   "execution_count": 13,
   "id": "31a12524",
   "metadata": {
    "ExecuteTime": {
     "end_time": "2022-08-27T09:47:11.595605Z",
     "start_time": "2022-08-27T09:47:11.503409Z"
    }
   },
   "outputs": [],
   "source": [
    "my_list = OrderedDict(sorted(idf_dict.items(), key=lambda x: x[1]['value'], reverse=True))"
   ]
  },
  {
   "cell_type": "code",
   "execution_count": 1,
   "id": "4c645d58",
   "metadata": {
    "ExecuteTime": {
     "end_time": "2022-08-29T06:43:27.837708Z",
     "start_time": "2022-08-29T06:43:27.820671Z"
    },
    "scrolled": true
   },
   "outputs": [],
   "source": [
    "#my_list"
   ]
  },
  {
   "cell_type": "code",
   "execution_count": 15,
   "id": "4725b209",
   "metadata": {
    "ExecuteTime": {
     "end_time": "2022-08-27T09:47:16.291048Z",
     "start_time": "2022-08-27T09:47:16.251246Z"
    }
   },
   "outputs": [],
   "source": [
    "for entry in my_list.items():\n",
    "    entry[1]['nr'] = int(entry[1]['nr'])"
   ]
  },
  {
   "cell_type": "markdown",
   "id": "c86c76a1",
   "metadata": {},
   "source": [
    "## Safe list as Json File"
   ]
  },
  {
   "cell_type": "code",
   "execution_count": 16,
   "id": "2bfdcfa8",
   "metadata": {
    "ExecuteTime": {
     "end_time": "2022-08-27T09:47:20.417410Z",
     "start_time": "2022-08-27T09:47:19.853215Z"
    }
   },
   "outputs": [],
   "source": [
    "with open('Daten/Tf_idf_dict.json', 'w') as file:\n",
    "    json.dump(my_list, file)"
   ]
  },
  {
   "cell_type": "markdown",
   "id": "3b810b22",
   "metadata": {},
   "source": [
    "# Create Thesaurus Search function for a single word"
   ]
  },
  {
   "cell_type": "code",
   "execution_count": 17,
   "id": "d49c6bec",
   "metadata": {
    "ExecuteTime": {
     "end_time": "2022-08-27T09:47:25.657067Z",
     "start_time": "2022-08-27T09:47:25.499044Z"
    }
   },
   "outputs": [],
   "source": [
    "with open('Daten/Tf_idf_dict.json', 'r') as file:\n",
    "    data = json.load(file, object_pairs_hook=OrderedDict)"
   ]
  },
  {
   "cell_type": "code",
   "execution_count": 20,
   "id": "edf90bfa",
   "metadata": {
    "ExecuteTime": {
     "end_time": "2022-08-27T09:47:39.119135Z",
     "start_time": "2022-08-27T09:47:39.110125Z"
    }
   },
   "outputs": [],
   "source": [
    "def search_thesaurus(search_word, data=data):\n",
    "    # Check if word exists in 'database'\n",
    "    if search_word in data:\n",
    "        print(f\"{search_word} has a TfIdf Value of {data[search_word]['value']} and belongs to the {data[search_word]['sector']} sector.\")\n",
    "    else:\n",
    "        print(f\"{search_word} can not be found in the database.\")"
   ]
  },
  {
   "cell_type": "markdown",
   "id": "8c4cd648",
   "metadata": {},
   "source": [
    "## Enter thesaurus search query"
   ]
  },
  {
   "cell_type": "markdown",
   "id": "51c99888",
   "metadata": {},
   "source": [
    "Returns TfIdf Value for a single search term and gives the sector the term belongs to."
   ]
  },
  {
   "cell_type": "code",
   "execution_count": 21,
   "id": "676055bf",
   "metadata": {
    "ExecuteTime": {
     "end_time": "2022-08-27T09:47:43.343242Z",
     "start_time": "2022-08-27T09:47:41.202312Z"
    }
   },
   "outputs": [
    {
     "name": "stdout",
     "output_type": "stream",
     "text": [
      "Please enter your search term:\n",
      "rtl\n",
      "rtl has a TfIdf Value of 0.9593074983770934 and belongs to the Communication Services sector.\n"
     ]
    }
   ],
   "source": [
    "search_thesaurus(input(\"Please enter your search term:\\n\"))"
   ]
  },
  {
   "cell_type": "markdown",
   "id": "8ef77104",
   "metadata": {},
   "source": [
    "# Search for the most important words in each category"
   ]
  },
  {
   "cell_type": "code",
   "execution_count": 22,
   "id": "e4e3f590",
   "metadata": {
    "ExecuteTime": {
     "end_time": "2022-08-27T09:48:55.222293Z",
     "start_time": "2022-08-27T09:48:55.071250Z"
    }
   },
   "outputs": [],
   "source": [
    "double_sort = OrderedDict(sorted(idf_dict.items(), key=lambda x: (x[1]['sector'], -x[1]['value'])))"
   ]
  },
  {
   "cell_type": "code",
   "execution_count": 24,
   "id": "27816d4a",
   "metadata": {
    "ExecuteTime": {
     "end_time": "2022-08-27T09:49:04.438597Z",
     "start_time": "2022-08-27T09:49:04.363889Z"
    }
   },
   "outputs": [],
   "source": [
    "prev_sector = \"Nothing\"\n",
    "counter = 0\n",
    "\n",
    "pd_df = pd.DataFrame()\n",
    "data = {'Word': [], 'Value': []}\n",
    "\n",
    "sector_list = []\n",
    "\n",
    "for i, word in enumerate(double_sort.items()):\n",
    "    sector = word[1]['sector']\n",
    "    if sector != prev_sector and prev_sector != \"Nothing\":\n",
    "        counter = 0\n",
    "        df = pd.DataFrame(data)\n",
    "        pd_df = pd.concat([pd_df, df], axis = 1)\n",
    "        data = {'Word': [], 'Value': []}\n",
    "    if i == len(double_sort.items())-1:\n",
    "        df = pd.DataFrame(data)\n",
    "        pd_df = pd.concat([pd_df, df], axis = 1)\n",
    "    if counter < 10:\n",
    "        #print(counter)\n",
    "        data['Word'].append(word[0])\n",
    "        data['Value'].append(word[1]['value'])\n",
    "        #print(word[0], word[1])\n",
    "        counter += 1\n",
    "    prev_sector = sector\n",
    "    sector_list.append(sector)"
   ]
  },
  {
   "cell_type": "code",
   "execution_count": 25,
   "id": "a7064156",
   "metadata": {
    "ExecuteTime": {
     "end_time": "2022-08-27T09:49:06.441396Z",
     "start_time": "2022-08-27T09:49:06.433397Z"
    }
   },
   "outputs": [],
   "source": [
    "sector_list = list(dict.fromkeys(sector_list))"
   ]
  },
  {
   "cell_type": "code",
   "execution_count": 26,
   "id": "09e659e8",
   "metadata": {
    "ExecuteTime": {
     "end_time": "2022-08-27T09:49:06.724095Z",
     "start_time": "2022-08-27T09:49:06.706153Z"
    }
   },
   "outputs": [],
   "source": [
    "pd_df.columns = pd.MultiIndex.from_product([sector_list, ['Word', 'Value']])"
   ]
  },
  {
   "cell_type": "markdown",
   "id": "a81fe201",
   "metadata": {},
   "source": [
    "# Show highest TfIdf Values for each sector"
   ]
  },
  {
   "cell_type": "code",
   "execution_count": 27,
   "id": "be55efde",
   "metadata": {
    "ExecuteTime": {
     "end_time": "2022-08-27T09:49:07.487778Z",
     "start_time": "2022-08-27T09:49:07.448779Z"
    }
   },
   "outputs": [
    {
     "data": {
      "text/html": [
       "<div>\n",
       "<style scoped>\n",
       "    .dataframe tbody tr th:only-of-type {\n",
       "        vertical-align: middle;\n",
       "    }\n",
       "\n",
       "    .dataframe tbody tr th {\n",
       "        vertical-align: top;\n",
       "    }\n",
       "\n",
       "    .dataframe thead tr th {\n",
       "        text-align: left;\n",
       "    }\n",
       "</style>\n",
       "<table border=\"1\" class=\"dataframe\">\n",
       "  <thead>\n",
       "    <tr>\n",
       "      <th></th>\n",
       "      <th colspan=\"2\" halign=\"left\">Basic Materials</th>\n",
       "      <th colspan=\"2\" halign=\"left\">Communication Services</th>\n",
       "      <th colspan=\"2\" halign=\"left\">Consumer Cyclical</th>\n",
       "      <th colspan=\"2\" halign=\"left\">Consumer Defensive</th>\n",
       "      <th colspan=\"2\" halign=\"left\">Energy</th>\n",
       "      <th colspan=\"2\" halign=\"left\">Financial Services</th>\n",
       "      <th colspan=\"2\" halign=\"left\">Healthcare</th>\n",
       "      <th colspan=\"2\" halign=\"left\">Industrials</th>\n",
       "      <th colspan=\"2\" halign=\"left\">Real Estate</th>\n",
       "      <th colspan=\"2\" halign=\"left\">Technology</th>\n",
       "      <th colspan=\"2\" halign=\"left\">Utilities</th>\n",
       "    </tr>\n",
       "    <tr>\n",
       "      <th></th>\n",
       "      <th>Word</th>\n",
       "      <th>Value</th>\n",
       "      <th>Word</th>\n",
       "      <th>Value</th>\n",
       "      <th>Word</th>\n",
       "      <th>Value</th>\n",
       "      <th>Word</th>\n",
       "      <th>Value</th>\n",
       "      <th>Word</th>\n",
       "      <th>Value</th>\n",
       "      <th>Word</th>\n",
       "      <th>Value</th>\n",
       "      <th>Word</th>\n",
       "      <th>Value</th>\n",
       "      <th>Word</th>\n",
       "      <th>Value</th>\n",
       "      <th>Word</th>\n",
       "      <th>Value</th>\n",
       "      <th>Word</th>\n",
       "      <th>Value</th>\n",
       "      <th>Word</th>\n",
       "      <th>Value</th>\n",
       "    </tr>\n",
       "  </thead>\n",
       "  <tbody>\n",
       "    <tr>\n",
       "      <th>0</th>\n",
       "      <td>film</td>\n",
       "      <td>0.919199</td>\n",
       "      <td>rtl</td>\n",
       "      <td>0.959307</td>\n",
       "      <td>rakuten</td>\n",
       "      <td>0.957792</td>\n",
       "      <td>sugar</td>\n",
       "      <td>0.847620</td>\n",
       "      <td>egdon</td>\n",
       "      <td>0.779634</td>\n",
       "      <td>ofs</td>\n",
       "      <td>0.918089</td>\n",
       "      <td>nextgen</td>\n",
       "      <td>0.927108</td>\n",
       "      <td>trex</td>\n",
       "      <td>0.920542</td>\n",
       "      <td>aroundtown</td>\n",
       "      <td>0.832764</td>\n",
       "      <td>sapiens</td>\n",
       "      <td>0.962095</td>\n",
       "      <td>hydrogen</td>\n",
       "      <td>0.712654</td>\n",
       "    </tr>\n",
       "    <tr>\n",
       "      <th>1</th>\n",
       "      <td>itaconix</td>\n",
       "      <td>0.843219</td>\n",
       "      <td>itmedia</td>\n",
       "      <td>0.931728</td>\n",
       "      <td>mercari</td>\n",
       "      <td>0.928450</td>\n",
       "      <td>weis</td>\n",
       "      <td>0.838955</td>\n",
       "      <td>coal</td>\n",
       "      <td>0.719983</td>\n",
       "      <td>qatar</td>\n",
       "      <td>0.862350</td>\n",
       "      <td>veeva</td>\n",
       "      <td>0.919316</td>\n",
       "      <td>imi</td>\n",
       "      <td>0.912601</td>\n",
       "      <td>onsen</td>\n",
       "      <td>0.825289</td>\n",
       "      <td>netapp</td>\n",
       "      <td>0.954238</td>\n",
       "      <td>contourglobal</td>\n",
       "      <td>0.702817</td>\n",
       "    </tr>\n",
       "    <tr>\n",
       "      <th>2</th>\n",
       "      <td>paper</td>\n",
       "      <td>0.820751</td>\n",
       "      <td>lifull</td>\n",
       "      <td>0.915377</td>\n",
       "      <td>meliá</td>\n",
       "      <td>0.896822</td>\n",
       "      <td>chegg</td>\n",
       "      <td>0.819145</td>\n",
       "      <td>drilling</td>\n",
       "      <td>0.714626</td>\n",
       "      <td>naga</td>\n",
       "      <td>0.861745</td>\n",
       "      <td>cue</td>\n",
       "      <td>0.896290</td>\n",
       "      <td>arlo</td>\n",
       "      <td>0.891280</td>\n",
       "      <td>ichigo</td>\n",
       "      <td>0.814646</td>\n",
       "      <td>orbis</td>\n",
       "      <td>0.953279</td>\n",
       "      <td>excelerate</td>\n",
       "      <td>0.692075</td>\n",
       "    </tr>\n",
       "    <tr>\n",
       "      <th>3</th>\n",
       "      <td>pile</td>\n",
       "      <td>0.812007</td>\n",
       "      <td>ooma</td>\n",
       "      <td>0.907455</td>\n",
       "      <td>nordstrom</td>\n",
       "      <td>0.883046</td>\n",
       "      <td>coffee</td>\n",
       "      <td>0.806315</td>\n",
       "      <td>vista</td>\n",
       "      <td>0.708043</td>\n",
       "      <td>invesco</td>\n",
       "      <td>0.849809</td>\n",
       "      <td>graphene</td>\n",
       "      <td>0.883411</td>\n",
       "      <td>consulting</td>\n",
       "      <td>0.881872</td>\n",
       "      <td>katitas</td>\n",
       "      <td>0.801124</td>\n",
       "      <td>blackbaud</td>\n",
       "      <td>0.946865</td>\n",
       "      <td>ameren</td>\n",
       "      <td>0.669005</td>\n",
       "    </tr>\n",
       "    <tr>\n",
       "      <th>4</th>\n",
       "      <td>lithium</td>\n",
       "      <td>0.800193</td>\n",
       "      <td>imax</td>\n",
       "      <td>0.866856</td>\n",
       "      <td>hilton</td>\n",
       "      <td>0.878707</td>\n",
       "      <td>tea</td>\n",
       "      <td>0.780439</td>\n",
       "      <td>energean</td>\n",
       "      <td>0.694511</td>\n",
       "      <td>svf</td>\n",
       "      <td>0.839870</td>\n",
       "      <td>nexus</td>\n",
       "      <td>0.882708</td>\n",
       "      <td>container</td>\n",
       "      <td>0.868026</td>\n",
       "      <td>helical</td>\n",
       "      <td>0.791609</td>\n",
       "      <td>ccc</td>\n",
       "      <td>0.943483</td>\n",
       "      <td>clearway</td>\n",
       "      <td>0.662890</td>\n",
       "    </tr>\n",
       "    <tr>\n",
       "      <th>5</th>\n",
       "      <td>titanium</td>\n",
       "      <td>0.787481</td>\n",
       "      <td>iij</td>\n",
       "      <td>0.845762</td>\n",
       "      <td>pool</td>\n",
       "      <td>0.874220</td>\n",
       "      <td>lubrajel</td>\n",
       "      <td>0.758586</td>\n",
       "      <td>silverbow</td>\n",
       "      <td>0.668714</td>\n",
       "      <td>maebashi</td>\n",
       "      <td>0.828109</td>\n",
       "      <td>htg</td>\n",
       "      <td>0.792459</td>\n",
       "      <td>tape</td>\n",
       "      <td>0.823940</td>\n",
       "      <td>purplebricks</td>\n",
       "      <td>0.784104</td>\n",
       "      <td>btob</td>\n",
       "      <td>0.903760</td>\n",
       "      <td>saibu</td>\n",
       "      <td>0.656893</td>\n",
       "    </tr>\n",
       "    <tr>\n",
       "      <th>6</th>\n",
       "      <td>uranium</td>\n",
       "      <td>0.774399</td>\n",
       "      <td>marchex</td>\n",
       "      <td>0.840480</td>\n",
       "      <td>curves</td>\n",
       "      <td>0.872383</td>\n",
       "      <td>monster</td>\n",
       "      <td>0.753741</td>\n",
       "      <td>silica</td>\n",
       "      <td>0.664157</td>\n",
       "      <td>fund</td>\n",
       "      <td>0.820280</td>\n",
       "      <td>igm</td>\n",
       "      <td>0.783704</td>\n",
       "      <td>byrna</td>\n",
       "      <td>0.822741</td>\n",
       "      <td>stag</td>\n",
       "      <td>0.770515</td>\n",
       "      <td>hennge</td>\n",
       "      <td>0.900128</td>\n",
       "      <td>dominion</td>\n",
       "      <td>0.632377</td>\n",
       "    </tr>\n",
       "    <tr>\n",
       "      <th>7</th>\n",
       "      <td>wacker</td>\n",
       "      <td>0.770644</td>\n",
       "      <td>doordash</td>\n",
       "      <td>0.838935</td>\n",
       "      <td>denny</td>\n",
       "      <td>0.870067</td>\n",
       "      <td>tobacco</td>\n",
       "      <td>0.750917</td>\n",
       "      <td>laredo</td>\n",
       "      <td>0.660742</td>\n",
       "      <td>tetragon</td>\n",
       "      <td>0.816771</td>\n",
       "      <td>trxade</td>\n",
       "      <td>0.783503</td>\n",
       "      <td>diamond</td>\n",
       "      <td>0.813099</td>\n",
       "      <td>aimco</td>\n",
       "      <td>0.754892</td>\n",
       "      <td>zendesk</td>\n",
       "      <td>0.900030</td>\n",
       "      <td>pne</td>\n",
       "      <td>0.626896</td>\n",
       "    </tr>\n",
       "    <tr>\n",
       "      <th>8</th>\n",
       "      <td>brenntag</td>\n",
       "      <td>0.705959</td>\n",
       "      <td>litalico</td>\n",
       "      <td>0.833379</td>\n",
       "      <td>4sight</td>\n",
       "      <td>0.865943</td>\n",
       "      <td>lawson</td>\n",
       "      <td>0.724174</td>\n",
       "      <td>compression</td>\n",
       "      <td>0.646183</td>\n",
       "      <td>pawn</td>\n",
       "      <td>0.815639</td>\n",
       "      <td>impella</td>\n",
       "      <td>0.777785</td>\n",
       "      <td>jac</td>\n",
       "      <td>0.805602</td>\n",
       "      <td>patrizia</td>\n",
       "      <td>0.752548</td>\n",
       "      <td>fabasoft</td>\n",
       "      <td>0.891860</td>\n",
       "      <td>renewable</td>\n",
       "      <td>0.625533</td>\n",
       "    </tr>\n",
       "    <tr>\n",
       "      <th>9</th>\n",
       "      <td>pole</td>\n",
       "      <td>0.703941</td>\n",
       "      <td>google</td>\n",
       "      <td>0.807665</td>\n",
       "      <td>skechers</td>\n",
       "      <td>0.847803</td>\n",
       "      <td>reed</td>\n",
       "      <td>0.716093</td>\n",
       "      <td>pdc</td>\n",
       "      <td>0.643953</td>\n",
       "      <td>burtech</td>\n",
       "      <td>0.806700</td>\n",
       "      <td>aro</td>\n",
       "      <td>0.777510</td>\n",
       "      <td>ceiling</td>\n",
       "      <td>0.797292</td>\n",
       "      <td>bmo</td>\n",
       "      <td>0.741360</td>\n",
       "      <td>zoom</td>\n",
       "      <td>0.891435</td>\n",
       "      <td>gas</td>\n",
       "      <td>0.623550</td>\n",
       "    </tr>\n",
       "  </tbody>\n",
       "</table>\n",
       "</div>"
      ],
      "text/plain": [
       "  Basic Materials           Communication Services            \\\n",
       "             Word     Value                   Word     Value   \n",
       "0            film  0.919199                    rtl  0.959307   \n",
       "1        itaconix  0.843219                itmedia  0.931728   \n",
       "2           paper  0.820751                 lifull  0.915377   \n",
       "3            pile  0.812007                   ooma  0.907455   \n",
       "4         lithium  0.800193                   imax  0.866856   \n",
       "5        titanium  0.787481                    iij  0.845762   \n",
       "6         uranium  0.774399                marchex  0.840480   \n",
       "7          wacker  0.770644               doordash  0.838935   \n",
       "8        brenntag  0.705959               litalico  0.833379   \n",
       "9            pole  0.703941                 google  0.807665   \n",
       "\n",
       "  Consumer Cyclical           Consumer Defensive                 Energy  \\\n",
       "               Word     Value               Word     Value         Word   \n",
       "0           rakuten  0.957792              sugar  0.847620        egdon   \n",
       "1           mercari  0.928450               weis  0.838955         coal   \n",
       "2             meliá  0.896822              chegg  0.819145     drilling   \n",
       "3         nordstrom  0.883046             coffee  0.806315        vista   \n",
       "4            hilton  0.878707                tea  0.780439     energean   \n",
       "5              pool  0.874220           lubrajel  0.758586    silverbow   \n",
       "6            curves  0.872383            monster  0.753741       silica   \n",
       "7             denny  0.870067            tobacco  0.750917       laredo   \n",
       "8            4sight  0.865943             lawson  0.724174  compression   \n",
       "9          skechers  0.847803               reed  0.716093          pdc   \n",
       "\n",
       "            Financial Services           Healthcare           Industrials  \\\n",
       "      Value               Word     Value       Word     Value        Word   \n",
       "0  0.779634                ofs  0.918089    nextgen  0.927108        trex   \n",
       "1  0.719983              qatar  0.862350      veeva  0.919316         imi   \n",
       "2  0.714626               naga  0.861745        cue  0.896290        arlo   \n",
       "3  0.708043            invesco  0.849809   graphene  0.883411  consulting   \n",
       "4  0.694511                svf  0.839870      nexus  0.882708   container   \n",
       "5  0.668714           maebashi  0.828109        htg  0.792459        tape   \n",
       "6  0.664157               fund  0.820280        igm  0.783704       byrna   \n",
       "7  0.660742           tetragon  0.816771     trxade  0.783503     diamond   \n",
       "8  0.646183               pawn  0.815639    impella  0.777785         jac   \n",
       "9  0.643953            burtech  0.806700        aro  0.777510     ceiling   \n",
       "\n",
       "              Real Estate           Technology                Utilities  \\\n",
       "      Value          Word     Value       Word     Value           Word   \n",
       "0  0.920542    aroundtown  0.832764    sapiens  0.962095       hydrogen   \n",
       "1  0.912601         onsen  0.825289     netapp  0.954238  contourglobal   \n",
       "2  0.891280        ichigo  0.814646      orbis  0.953279     excelerate   \n",
       "3  0.881872       katitas  0.801124  blackbaud  0.946865         ameren   \n",
       "4  0.868026       helical  0.791609        ccc  0.943483       clearway   \n",
       "5  0.823940  purplebricks  0.784104       btob  0.903760          saibu   \n",
       "6  0.822741          stag  0.770515     hennge  0.900128       dominion   \n",
       "7  0.813099         aimco  0.754892    zendesk  0.900030            pne   \n",
       "8  0.805602      patrizia  0.752548   fabasoft  0.891860      renewable   \n",
       "9  0.797292           bmo  0.741360       zoom  0.891435            gas   \n",
       "\n",
       "             \n",
       "      Value  \n",
       "0  0.712654  \n",
       "1  0.702817  \n",
       "2  0.692075  \n",
       "3  0.669005  \n",
       "4  0.662890  \n",
       "5  0.656893  \n",
       "6  0.632377  \n",
       "7  0.626896  \n",
       "8  0.625533  \n",
       "9  0.623550  "
      ]
     },
     "execution_count": 27,
     "metadata": {},
     "output_type": "execute_result"
    }
   ],
   "source": [
    "pd.set_option('display.max_columns', None)\n",
    "pd_df"
   ]
  }
 ],
 "metadata": {
  "kernelspec": {
   "display_name": "NLP",
   "language": "python",
   "name": "nlp"
  },
  "language_info": {
   "codemirror_mode": {
    "name": "ipython",
    "version": 3
   },
   "file_extension": ".py",
   "mimetype": "text/x-python",
   "name": "python",
   "nbconvert_exporter": "python",
   "pygments_lexer": "ipython3",
   "version": "3.10.4"
  },
  "toc": {
   "base_numbering": 1,
   "nav_menu": {},
   "number_sections": true,
   "sideBar": true,
   "skip_h1_title": false,
   "title_cell": "Table of Contents",
   "title_sidebar": "Contents",
   "toc_cell": false,
   "toc_position": {},
   "toc_section_display": true,
   "toc_window_display": false
  }
 },
 "nbformat": 4,
 "nbformat_minor": 5
}
