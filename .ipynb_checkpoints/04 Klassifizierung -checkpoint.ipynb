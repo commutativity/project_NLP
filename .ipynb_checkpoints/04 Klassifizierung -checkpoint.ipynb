{
 "cells": [
  {
   "cell_type": "code",
   "execution_count": 12,
   "id": "d772e8ca",
   "metadata": {
    "ExecuteTime": {
     "end_time": "2022-08-11T07:20:02.847973Z",
     "start_time": "2022-08-11T07:20:02.071036Z"
    }
   },
   "outputs": [],
   "source": [
    "import json, os\n",
    "import numpy as np\n",
    "import pandas as pd\n",
    "import matplotlib.pyplot as plt\n",
    "\n",
    "from sklearn.feature_extraction.text import TfidfVectorizer\n",
    "from sklearn.feature_extraction.text import CountVectorizer\n",
    "\n",
    "from sklearn.neighbors import  NearestCentroid\n",
    "from sklearn.neighbors import KNeighborsClassifier\n",
    "from sklearn.ensemble import RandomForestClassifier\n",
    "\n",
    "from sklearn.model_selection import train_test_split\n",
    "\n",
    "from sklearn.metrics import confusion_matrix, ConfusionMatrixDisplay"
   ]
  },
  {
   "cell_type": "markdown",
   "id": "07de77c2",
   "metadata": {},
   "source": [
    "# Import data"
   ]
  },
  {
   "cell_type": "code",
   "execution_count": 2,
   "id": "b710d3eb",
   "metadata": {
    "ExecuteTime": {
     "end_time": "2022-08-11T07:03:42.460806Z",
     "start_time": "2022-08-11T07:03:42.214852Z"
    }
   },
   "outputs": [],
   "source": [
    "with open('Daten/Unternehmen_lemma.json', 'r', encoding='utf8') as data:\n",
    "    desc = json.load(data)"
   ]
  },
  {
   "cell_type": "code",
   "execution_count": 3,
   "id": "8d8f7346",
   "metadata": {
    "ExecuteTime": {
     "end_time": "2022-08-11T07:03:42.476608Z",
     "start_time": "2022-08-11T07:03:42.462607Z"
    },
    "scrolled": false
   },
   "outputs": [
    {
     "name": "stdout",
     "output_type": "stream",
     "text": [
      "Adara Acquisition Corp. significant operation company intend effect merger capital stock exchange asset acquisition stock purchase reorganization similar business combination business focus search business consumer product industry related sector include consumer industry business health wellness e - commerce discretionary spending information technology sector related channel distribution company incorporate base Charlotte North Carolina\n"
     ]
    }
   ],
   "source": [
    "print(desc[0]['clean_description'])"
   ]
  },
  {
   "cell_type": "markdown",
   "id": "ccf4ad1c",
   "metadata": {},
   "source": [
    "## Creating the dataset"
   ]
  },
  {
   "cell_type": "code",
   "execution_count": 4,
   "id": "8ac9b3aa",
   "metadata": {
    "ExecuteTime": {
     "end_time": "2022-08-11T07:03:42.491737Z",
     "start_time": "2022-08-11T07:03:42.479608Z"
    }
   },
   "outputs": [],
   "source": [
    "all_mixed = []\n",
    "for comp in desc:\n",
    "    #print(comp)\n",
    "    entry = {'txt': comp['clean_description'], 'class': comp['sector']}\n",
    "    all_mixed.append(entry)"
   ]
  },
  {
   "cell_type": "markdown",
   "id": "b872e7f9",
   "metadata": {},
   "source": [
    "# Klassifizierung"
   ]
  },
  {
   "cell_type": "markdown",
   "id": "4bf2ef67",
   "metadata": {},
   "source": [
    "## Formulas"
   ]
  },
  {
   "cell_type": "code",
   "execution_count": 5,
   "id": "9ad59969",
   "metadata": {
    "ExecuteTime": {
     "end_time": "2022-08-11T07:03:42.506787Z",
     "start_time": "2022-08-11T07:03:42.493608Z"
    }
   },
   "outputs": [],
   "source": [
    "def classify(txt, v, vector):\n",
    "    dummy = np.zeros(len(v.get_feature_names_out()))\n",
    "    tmp_vectorizer = CountVectorizer(tokenizer = v.build_tokenizer())\n",
    "    tmp_vector=tmp_vectorizer.fit_transform([txt])\n",
    "    l = 0\n",
    "    for f in tmp_vectorizer.vocabulary_:\n",
    "        if f not in v.vocabulary_:\n",
    "            continue\n",
    "\n",
    "        index = v.vocabulary_[f]\n",
    "        dummy[index] = tmp_vector[0, tmp_vectorizer.vocabulary_[f]] * v.idf_[index]\n",
    "        l += dummy[index] ** 2\n",
    "    l = np.sqrt(l)\n",
    "    for i in range(vector.shape[1]):\n",
    "        dummy[i] /= l\n",
    "    #print(dummy)\n",
    "    return dummy"
   ]
  },
  {
   "cell_type": "code",
   "execution_count": 6,
   "id": "b5aa6eaa",
   "metadata": {
    "ExecuteTime": {
     "end_time": "2022-08-11T07:03:42.523234Z",
     "start_time": "2022-08-11T07:03:42.508587Z"
    }
   },
   "outputs": [],
   "source": [
    "def false_counter(dic, word):\n",
    "    if word in dic:\n",
    "        dic[word] += 1\n",
    "    else:\n",
    "        dic[word] = 1"
   ]
  },
  {
   "cell_type": "markdown",
   "id": "59d5cfc1",
   "metadata": {},
   "source": [
    "## Create class to automate process"
   ]
  },
  {
   "cell_type": "code",
   "execution_count": 7,
   "id": "14ea2623",
   "metadata": {
    "ExecuteTime": {
     "end_time": "2022-08-11T07:03:42.584948Z",
     "start_time": "2022-08-11T07:03:42.568945Z"
    }
   },
   "outputs": [],
   "source": [
    "class data_instance:\n",
    "    def __init__(self, dataset):\n",
    "        self.X_data = [entry['txt'] for entry in dataset]\n",
    "        self.y_data = [entry['class'] for entry in dataset]    \n",
    "        \n",
    "    def split_data(self, random_state, test_size):\n",
    "        self.X_train, self.X_test, self.y_train, self.y_test = \\\n",
    "        train_test_split(self.X_data, self.y_data, test_size=test_size, random_state=random_state)\n",
    "        #self.X_test = [self.X_test]\n",
    "        \n",
    "    def vectorize(self, df_value, max_df):\n",
    "        if max_df:\n",
    "            self.vectorizer = TfidfVectorizer(max_df = df_value)\n",
    "            self.vector = self.vectorizer.fit_transform(self.X_train)\n",
    "        else:\n",
    "            self.vectorizer = TfidfVectorizer(min_df = df_value)\n",
    "            self.vector = self.vectorizer.fit_transform(self.X_train)\n",
    "        \n",
    "    def neighbors(self, n_neighbors):\n",
    "        self.neigh = KNeighborsClassifier(n_neighbors = n_neighbors).fit(self.vector, self.y_train)\n",
    "        return self.evaluate(self.neigh)\n",
    "        \n",
    "    def randomForest(self, n_estimators):\n",
    "        self.forest = RandomForestClassifier(n_estimators = n_estimators).fit(self.vector, self.y_train)     \n",
    "        return self.evaluate(self.forest)\n",
    "        \n",
    "    def centroid(self):\n",
    "        self.centr = NearestCentroid().fit(self.vector, self.y_train)\n",
    "        return self.evaluate(self.centr)\n",
    "        \n",
    "    def evaluate(self, classifier):\n",
    "        n_correct = 0\n",
    "        for i in range(len(self.X_test)):\n",
    "            if self.y_test[i] == classifier.predict([classify(self.X_test[i], self.vectorizer, self.vector)])[0]:\n",
    "                n_correct += 1\n",
    "            if i % 1500 == 0:\n",
    "                print(i)\n",
    "        score = n_correct / len(self.X_test)\n",
    "        #print(\"calculated score =\", score)\n",
    "        return score"
   ]
  },
  {
   "cell_type": "markdown",
   "id": "899c6b14",
   "metadata": {},
   "source": [
    "## Run automation "
   ]
  },
  {
   "cell_type": "markdown",
   "id": "502713dd",
   "metadata": {},
   "source": [
    "Since stop words are already filtered out, using max_df or min_df will not bring any further accuracy. Since the core of TfIdf is finding the most important words to classify something, this will not improve the accuary. Howerver, by using max_df or min_df the size of the vector can be reduced. Thus, the calculations do not take as much computational effort. \n",
    "At the end of this chapter, several max_df or min_df are used, to show that the accuracy is only slightly worse than using the whole corpus. \n",
    "\n",
    "ZUR ERKLÄRUNG DIE GRÖ?E DES KORPES DAZU NEHMEN"
   ]
  },
  {
   "cell_type": "markdown",
   "id": "30e7de87",
   "metadata": {},
   "source": [
    "### Create test/train data"
   ]
  },
  {
   "cell_type": "code",
   "execution_count": 8,
   "id": "dbbd4f2f",
   "metadata": {
    "ExecuteTime": {
     "end_time": "2022-08-11T07:03:44.635695Z",
     "start_time": "2022-08-11T07:03:44.618660Z"
    }
   },
   "outputs": [],
   "source": [
    "test = data_instance(all_mixed)"
   ]
  },
  {
   "cell_type": "markdown",
   "id": "0c7abd90",
   "metadata": {},
   "source": [
    "Use random state to compare different results"
   ]
  },
  {
   "cell_type": "code",
   "execution_count": 9,
   "id": "a993f6fe",
   "metadata": {
    "ExecuteTime": {
     "end_time": "2022-08-11T07:03:48.010142Z",
     "start_time": "2022-08-11T07:03:47.993140Z"
    }
   },
   "outputs": [],
   "source": [
    "test.split_data(123, 0.33)"
   ]
  },
  {
   "cell_type": "code",
   "execution_count": null,
   "id": "bffa5b83",
   "metadata": {},
   "outputs": [],
   "source": [
    "test.vectorize(1.0, True)"
   ]
  },
  {
   "cell_type": "markdown",
   "id": "e6e9440c",
   "metadata": {},
   "source": [
    "### N_neighbors"
   ]
  },
  {
   "cell_type": "code",
   "execution_count": 11,
   "id": "45ae9fe0",
   "metadata": {
    "ExecuteTime": {
     "end_time": "2022-08-11T07:18:55.903767Z",
     "start_time": "2022-08-11T07:06:44.170139Z"
    }
   },
   "outputs": [
    {
     "name": "stdout",
     "output_type": "stream",
     "text": [
      "0\n",
      "1500\n",
      "3000\n",
      "For 1 neighbors, accuracy is 0.8170882171499074.\n",
      "0\n",
      "1500\n",
      "3000\n",
      "For 2 neighbors, accuracy is 0.7927205428747687.\n",
      "0\n",
      "1500\n",
      "3000\n",
      "For 3 neighbors, accuracy is 0.8300431832202344.\n",
      "0\n",
      "1500\n",
      "3000\n",
      "For 4 neighbors, accuracy is 0.8355953115360888.\n",
      "0\n",
      "1500\n",
      "3000\n",
      "For 5 neighbors, accuracy is 0.8479333744602098.\n",
      "0\n",
      "1500\n",
      "3000\n",
      "For 6 neighbors, accuracy is 0.8460826650215916.\n"
     ]
    }
   ],
   "source": [
    "# Test first for different max_accuracy\n",
    "n_neighbors = {'neighbors': [], 'accuracy': []}\n",
    "for neighbors in range(1, 7):\n",
    "    n_neighbors['neighbors'].append(neighbors)\n",
    "    acc = test.neighbors(neighbors)\n",
    "    n_neighbors['accuracy'].append(acc)\n",
    "    print(f\"For {neighbors} neighbors, accuracy is {acc}.\")"
   ]
  },
  {
   "cell_type": "code",
   "execution_count": 16,
   "id": "bf90a7fc",
   "metadata": {
    "ExecuteTime": {
     "end_time": "2022-08-11T07:21:01.621778Z",
     "start_time": "2022-08-11T07:21:01.606776Z"
    }
   },
   "outputs": [
    {
     "name": "stdout",
     "output_type": "stream",
     "text": [
      "Übersicht Klassifizierung n_neighbors\n"
     ]
    },
    {
     "data": {
      "text/html": [
       "<div>\n",
       "<style scoped>\n",
       "    .dataframe tbody tr th:only-of-type {\n",
       "        vertical-align: middle;\n",
       "    }\n",
       "\n",
       "    .dataframe tbody tr th {\n",
       "        vertical-align: top;\n",
       "    }\n",
       "\n",
       "    .dataframe thead th {\n",
       "        text-align: right;\n",
       "    }\n",
       "</style>\n",
       "<table border=\"1\" class=\"dataframe\">\n",
       "  <thead>\n",
       "    <tr style=\"text-align: right;\">\n",
       "      <th></th>\n",
       "      <th>neighbors</th>\n",
       "      <th>accuracy</th>\n",
       "    </tr>\n",
       "  </thead>\n",
       "  <tbody>\n",
       "    <tr>\n",
       "      <th>0</th>\n",
       "      <td>1</td>\n",
       "      <td>0.817088</td>\n",
       "    </tr>\n",
       "    <tr>\n",
       "      <th>1</th>\n",
       "      <td>2</td>\n",
       "      <td>0.792721</td>\n",
       "    </tr>\n",
       "    <tr>\n",
       "      <th>2</th>\n",
       "      <td>3</td>\n",
       "      <td>0.830043</td>\n",
       "    </tr>\n",
       "    <tr>\n",
       "      <th>3</th>\n",
       "      <td>4</td>\n",
       "      <td>0.835595</td>\n",
       "    </tr>\n",
       "    <tr>\n",
       "      <th>4</th>\n",
       "      <td>5</td>\n",
       "      <td>0.847933</td>\n",
       "    </tr>\n",
       "    <tr>\n",
       "      <th>5</th>\n",
       "      <td>6</td>\n",
       "      <td>0.846083</td>\n",
       "    </tr>\n",
       "  </tbody>\n",
       "</table>\n",
       "</div>"
      ],
      "text/plain": [
       "   neighbors  accuracy\n",
       "0          1  0.817088\n",
       "1          2  0.792721\n",
       "2          3  0.830043\n",
       "3          4  0.835595\n",
       "4          5  0.847933\n",
       "5          6  0.846083"
      ]
     },
     "execution_count": 16,
     "metadata": {},
     "output_type": "execute_result"
    }
   ],
   "source": [
    "print('Übersicht Klassifizierung n_neighbors')\n",
    "pd.DataFrame(data=n_neighbors)"
   ]
  },
  {
   "cell_type": "markdown",
   "id": "b4e2707b",
   "metadata": {},
   "source": [
    "## Random Forest"
   ]
  },
  {
   "cell_type": "code",
   "execution_count": 19,
   "id": "81d7d922",
   "metadata": {
    "ExecuteTime": {
     "end_time": "2022-08-11T07:37:33.056390Z",
     "start_time": "2022-08-11T07:25:40.404834Z"
    }
   },
   "outputs": [
    {
     "name": "stdout",
     "output_type": "stream",
     "text": [
      "0\n",
      "1500\n",
      "3000\n",
      "For 1 neighbors, accuracy is 0.5743368291178285.\n",
      "0\n",
      "1500\n",
      "3000\n",
      "For 2 neighbors, accuracy is 0.5721776681061074.\n",
      "0\n",
      "1500\n",
      "3000\n",
      "For 3 neighbors, accuracy is 0.6394201110425664.\n",
      "0\n",
      "1500\n",
      "3000\n",
      "For 4 neighbors, accuracy is 0.6733497840838988.\n",
      "0\n",
      "1500\n",
      "3000\n",
      "For 5 neighbors, accuracy is 0.7011104256631708.\n",
      "0\n",
      "1500\n",
      "3000\n",
      "For 6 neighbors, accuracy is 0.7156076495990129.\n"
     ]
    }
   ],
   "source": [
    "randomForest = {'estimators': [], 'accuracy': []}\n",
    "for estimators in range(1, 7):\n",
    "    randomForest['estimators'].append(estimators)\n",
    "    acc = test.randomForest(estimators)\n",
    "    randomForest['accuracy'].append(acc)\n",
    "    print(f\"For {estimators} neighbors, accuracy is {acc}.\")"
   ]
  },
  {
   "cell_type": "code",
   "execution_count": 20,
   "id": "37b588fb",
   "metadata": {
    "ExecuteTime": {
     "end_time": "2022-08-11T07:45:21.051878Z",
     "start_time": "2022-08-11T07:45:21.035845Z"
    }
   },
   "outputs": [
    {
     "name": "stdout",
     "output_type": "stream",
     "text": [
      "Übersicht Klassifizierung Random Forest\n"
     ]
    },
    {
     "data": {
      "text/html": [
       "<div>\n",
       "<style scoped>\n",
       "    .dataframe tbody tr th:only-of-type {\n",
       "        vertical-align: middle;\n",
       "    }\n",
       "\n",
       "    .dataframe tbody tr th {\n",
       "        vertical-align: top;\n",
       "    }\n",
       "\n",
       "    .dataframe thead th {\n",
       "        text-align: right;\n",
       "    }\n",
       "</style>\n",
       "<table border=\"1\" class=\"dataframe\">\n",
       "  <thead>\n",
       "    <tr style=\"text-align: right;\">\n",
       "      <th></th>\n",
       "      <th>estimators</th>\n",
       "      <th>accuracy</th>\n",
       "    </tr>\n",
       "  </thead>\n",
       "  <tbody>\n",
       "    <tr>\n",
       "      <th>0</th>\n",
       "      <td>1</td>\n",
       "      <td>0.574337</td>\n",
       "    </tr>\n",
       "    <tr>\n",
       "      <th>1</th>\n",
       "      <td>2</td>\n",
       "      <td>0.572178</td>\n",
       "    </tr>\n",
       "    <tr>\n",
       "      <th>2</th>\n",
       "      <td>3</td>\n",
       "      <td>0.639420</td>\n",
       "    </tr>\n",
       "    <tr>\n",
       "      <th>3</th>\n",
       "      <td>4</td>\n",
       "      <td>0.673350</td>\n",
       "    </tr>\n",
       "    <tr>\n",
       "      <th>4</th>\n",
       "      <td>5</td>\n",
       "      <td>0.701110</td>\n",
       "    </tr>\n",
       "    <tr>\n",
       "      <th>5</th>\n",
       "      <td>6</td>\n",
       "      <td>0.715608</td>\n",
       "    </tr>\n",
       "  </tbody>\n",
       "</table>\n",
       "</div>"
      ],
      "text/plain": [
       "   estimators  accuracy\n",
       "0           1  0.574337\n",
       "1           2  0.572178\n",
       "2           3  0.639420\n",
       "3           4  0.673350\n",
       "4           5  0.701110\n",
       "5           6  0.715608"
      ]
     },
     "execution_count": 20,
     "metadata": {},
     "output_type": "execute_result"
    }
   ],
   "source": [
    "print('Übersicht Klassifizierung Random Forest')\n",
    "pd.DataFrame(data=randomForest)"
   ]
  },
  {
   "cell_type": "markdown",
   "id": "cc516bbe",
   "metadata": {},
   "source": [
    "## Centroid"
   ]
  },
  {
   "cell_type": "code",
   "execution_count": 23,
   "id": "7fbab601",
   "metadata": {
    "ExecuteTime": {
     "end_time": "2022-08-11T07:50:35.356137Z",
     "start_time": "2022-08-11T07:47:29.872510Z"
    }
   },
   "outputs": [
    {
     "name": "stdout",
     "output_type": "stream",
     "text": [
      "0\n",
      "1500\n",
      "3000\n",
      "For nearest Centroid, accuracy is 0.7822331893892659.\n"
     ]
    }
   ],
   "source": [
    "acc = test.centroid()\n",
    "print(f\"For nearest Centroid, accuracy is {acc}.\")"
   ]
  },
  {
   "cell_type": "markdown",
   "id": "d908f7a0",
   "metadata": {},
   "source": [
    "## Erstellen einer Visualisierung"
   ]
  },
  {
   "cell_type": "markdown",
   "id": "2d0a62c7",
   "metadata": {},
   "source": [
    "### Confusion Matrix"
   ]
  },
  {
   "cell_type": "code",
   "execution_count": 64,
   "id": "f7c9ae9e",
   "metadata": {
    "ExecuteTime": {
     "end_time": "2022-08-08T13:14:48.676174Z",
     "start_time": "2022-08-08T13:14:48.666271Z"
    }
   },
   "outputs": [],
   "source": [
    "secs = list({sec['sector'] for sec in desc})"
   ]
  },
  {
   "cell_type": "code",
   "execution_count": 65,
   "id": "aa233736",
   "metadata": {
    "ExecuteTime": {
     "end_time": "2022-08-08T13:14:48.962241Z",
     "start_time": "2022-08-08T13:14:48.938390Z"
    }
   },
   "outputs": [],
   "source": [
    "cm = confusion_matrix(pred_vector, y_test, labels=secs)"
   ]
  },
  {
   "cell_type": "code",
   "execution_count": 66,
   "id": "7a443e2a",
   "metadata": {
    "ExecuteTime": {
     "end_time": "2022-08-08T13:14:49.148938Z",
     "start_time": "2022-08-08T13:14:49.140940Z"
    }
   },
   "outputs": [],
   "source": [
    "disp = ConfusionMatrixDisplay(confusion_matrix=cm, display_labels=secs)"
   ]
  },
  {
   "cell_type": "code",
   "execution_count": 69,
   "id": "7f725e06",
   "metadata": {
    "ExecuteTime": {
     "end_time": "2022-08-08T13:15:03.098636Z",
     "start_time": "2022-08-08T13:15:02.416112Z"
    }
   },
   "outputs": [
    {
     "data": {
      "text/plain": [
       "<sklearn.metrics._plot.confusion_matrix.ConfusionMatrixDisplay at 0x26992daba60>"
      ]
     },
     "execution_count": 69,
     "metadata": {},
     "output_type": "execute_result"
    },
    {
     "data": {
      "image/png": "[encoded data removed]",
      "text/plain": [
       "<Figure size 1440x1440 with 2 Axes>"
      ]
     },
     "metadata": {
      "needs_background": "light"
     },
     "output_type": "display_data"
    }
   ],
   "source": [
    "fig, ax = plt.subplots(figsize=(20, 20))\n",
    "disp.plot(ax = ax)"
   ]
  },
  {
   "cell_type": "code",
   "execution_count": null,
   "id": "9adf0e78",
   "metadata": {},
   "outputs": [],
   "source": []
  },
  {
   "cell_type": "markdown",
   "id": "59c674ab",
   "metadata": {},
   "source": [
    "## Nur zur Erinnerung"
   ]
  },
  {
   "cell_type": "code",
   "execution_count": 6,
   "id": "81cec131",
   "metadata": {
    "ExecuteTime": {
     "end_time": "2022-08-08T15:18:04.908609Z",
     "start_time": "2022-08-08T15:18:04.895764Z"
    }
   },
   "outputs": [],
   "source": [
    "# Creates a list of all company descriptions in the form {'txt': lemmatizedText, 'class': SectorCompany}\n",
    "all_mixed = []\n",
    "for comp in desc:\n",
    "    #print(comp)\n",
    "    entry = {'txt': comp['clean_description'], 'class': comp['sector']}\n",
    "    all_mixed.append(entry)"
   ]
  },
  {
   "cell_type": "code",
   "execution_count": 7,
   "id": "0ae63c68",
   "metadata": {
    "ExecuteTime": {
     "end_time": "2022-08-08T10:14:50.105883Z",
     "start_time": "2022-08-08T10:14:50.091869Z"
    }
   },
   "outputs": [],
   "source": [
    "#all_mixed = [{'txt': comp['clean_description'], 'class': comp['sector']} for comp in desc]"
   ]
  },
  {
   "cell_type": "code",
   "execution_count": 12,
   "id": "a541c257",
   "metadata": {
    "ExecuteTime": {
     "end_time": "2022-08-08T10:17:03.553235Z",
     "start_time": "2022-08-08T10:17:03.537575Z"
    }
   },
   "outputs": [],
   "source": [
    "X, y = [e[\"txt\"] for e in all_mixed], [e[\"class\"] for e in all_mixed]"
   ]
  },
  {
   "cell_type": "code",
   "execution_count": 16,
   "id": "8be2ae0d",
   "metadata": {
    "ExecuteTime": {
     "end_time": "2022-08-08T10:17:12.058697Z",
     "start_time": "2022-08-08T10:17:12.043069Z"
    }
   },
   "outputs": [],
   "source": [
    "X_train, X_test, y_train, y_test = train_test_split(X, y, test_size=0.33, random_state=123)"
   ]
  },
  {
   "cell_type": "code",
   "execution_count": 17,
   "id": "816d0ba4",
   "metadata": {
    "ExecuteTime": {
     "end_time": "2022-08-08T10:17:12.243582Z",
     "start_time": "2022-08-08T10:17:12.221432Z"
    }
   },
   "outputs": [
    {
     "name": "stdout",
     "output_type": "stream",
     "text": [
      "6580 3242 6580 3242\n"
     ]
    }
   ],
   "source": [
    "print(len(X_train), len(X_test), len(y_train), len(y_test))"
   ]
  },
  {
   "cell_type": "code",
   "execution_count": 18,
   "id": "8ae9a2e8",
   "metadata": {
    "ExecuteTime": {
     "end_time": "2022-08-08T10:17:14.980172Z",
     "start_time": "2022-08-08T10:17:14.452633Z"
    }
   },
   "outputs": [
    {
     "data": {
      "text/plain": [
       "(6580, 33163)"
      ]
     },
     "execution_count": 18,
     "metadata": {},
     "output_type": "execute_result"
    }
   ],
   "source": [
    "vectorizer = TfidfVectorizer(max_df = .8)\n",
    "vector=vectorizer.fit_transform(X_train)\n",
    "vector.shape"
   ]
  },
  {
   "cell_type": "code",
   "execution_count": 24,
   "id": "2f1500c3",
   "metadata": {
    "ExecuteTime": {
     "end_time": "2022-08-08T10:20:33.639407Z",
     "start_time": "2022-08-08T10:18:33.048397Z"
    }
   },
   "outputs": [
    {
     "name": "stdout",
     "output_type": "stream",
     "text": [
      "0\n",
      "500\n",
      "1000\n",
      "1500\n",
      "2000\n",
      "2500\n",
      "3000\n"
     ]
    }
   ],
   "source": [
    "neigh = KNeighborsClassifier(n_neighbors=5).fit(vector, y_train)\n",
    "score = 0\n",
    "pred_vector = []\n",
    "\n",
    "for i in range(len(X_test)):\n",
    "    pred = neigh.predict([classify(X_test[i], vectorizer)])\n",
    "    pred_vector.append(pred)\n",
    "    if pred == y_test[i]:\n",
    "        score += 1\n",
    "    else:\n",
    "        pass\n",
    "    if (i % 500) == 0:\n",
    "        print(i)\n",
    "score = score / len(X_test)"
   ]
  },
  {
   "cell_type": "code",
   "execution_count": 25,
   "id": "521e59ef",
   "metadata": {
    "ExecuteTime": {
     "end_time": "2022-08-08T10:20:41.765729Z",
     "start_time": "2022-08-08T10:20:41.750716Z"
    }
   },
   "outputs": [
    {
     "data": {
      "text/plain": [
       "0.8491671807526219"
      ]
     },
     "execution_count": 25,
     "metadata": {},
     "output_type": "execute_result"
    }
   ],
   "source": [
    "score"
   ]
  }
 ],
 "metadata": {
  "kernelspec": {
   "display_name": "NLP",
   "language": "python",
   "name": "nlp"
  },
  "language_info": {
   "codemirror_mode": {
    "name": "ipython",
    "version": 3
   },
   "file_extension": ".py",
   "mimetype": "text/x-python",
   "name": "python",
   "nbconvert_exporter": "python",
   "pygments_lexer": "ipython3",
   "version": "3.10.4"
  },
  "toc": {
   "base_numbering": 1,
   "nav_menu": {},
   "number_sections": true,
   "sideBar": true,
   "skip_h1_title": false,
   "title_cell": "Table of Contents",
   "title_sidebar": "Contents",
   "toc_cell": false,
   "toc_position": {},
   "toc_section_display": true,
   "toc_window_display": false
  }
 },
 "nbformat": 4,
 "nbformat_minor": 5
}
