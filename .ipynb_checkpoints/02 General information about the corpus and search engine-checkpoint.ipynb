{
 "cells": [
  {
   "cell_type": "code",
   "execution_count": 2,
   "id": "ecaa1d80",
   "metadata": {
    "ExecuteTime": {
     "end_time": "2022-08-27T05:46:14.691100Z",
     "start_time": "2022-08-27T05:46:09.840259Z"
    }
   },
   "outputs": [],
   "source": [
    "import json, re\n",
    "import spacy\n",
    "\n",
    "from sklearn.feature_extraction.text import CountVectorizer"
   ]
  },
  {
   "cell_type": "markdown",
   "id": "ba9aa729",
   "metadata": {},
   "source": [
    "# Read data"
   ]
  },
  {
   "cell_type": "code",
   "execution_count": 4,
   "id": "51edb932",
   "metadata": {
    "ExecuteTime": {
     "end_time": "2022-08-27T05:46:21.854104Z",
     "start_time": "2022-08-27T05:46:21.741948Z"
    }
   },
   "outputs": [],
   "source": [
    "with open('Daten/Unternehmen_preprocessed.json', 'r', encoding='utf-8') as data:\n",
    "    desc = json.load(data)"
   ]
  },
  {
   "cell_type": "markdown",
   "id": "ac17ed98",
   "metadata": {},
   "source": [
    "# Create general Information"
   ]
  },
  {
   "cell_type": "markdown",
   "id": "1c201e09",
   "metadata": {},
   "source": [
    "## Functions"
   ]
  },
  {
   "cell_type": "code",
   "execution_count": 9,
   "id": "67e59faa",
   "metadata": {
    "ExecuteTime": {
     "end_time": "2022-08-27T05:46:56.438888Z",
     "start_time": "2022-08-27T05:46:55.852735Z"
    }
   },
   "outputs": [],
   "source": [
    "nlp = spacy.load(\"en_core_web_sm\")"
   ]
  },
  {
   "cell_type": "code",
   "execution_count": 10,
   "id": "baff6a55",
   "metadata": {
    "ExecuteTime": {
     "end_time": "2022-08-27T05:46:56.454715Z",
     "start_time": "2022-08-27T05:46:56.440769Z"
    }
   },
   "outputs": [],
   "source": [
    "def my_tokenizer(txt):\n",
    "    doc = nlp(txt)\n",
    "    tokens = []\n",
    "    for token in doc:\n",
    "        if token.pos_ == 'PUNCT' or token.pos_ == 'SPACE':\n",
    "                continue\n",
    "        tokens.append(token.text)    \n",
    "    #s = re.findall(\"[A-Za-zßäöüÄÖÜ]+\",txt)\n",
    "    #for i in range(len(s)):\n",
    "    #    s[i] = s[i].upper().replace(\"Ä\",\"AE\").replace(\"Ö\",\"OE\").replace(\"Ü\",\"UE\")\n",
    "    return ' '.join(tokens)"
   ]
  },
  {
   "cell_type": "markdown",
   "id": "2e0ef0a8",
   "metadata": {},
   "source": [
    "## Metadata"
   ]
  },
  {
   "cell_type": "code",
   "execution_count": 11,
   "id": "4c4cb6c3",
   "metadata": {
    "ExecuteTime": {
     "end_time": "2022-08-27T05:47:04.686534Z",
     "start_time": "2022-08-27T05:47:04.675493Z"
    }
   },
   "outputs": [],
   "source": [
    "corpus = [item['description'] for item in desc]"
   ]
  },
  {
   "cell_type": "code",
   "execution_count": 12,
   "id": "42ecaf99",
   "metadata": {
    "ExecuteTime": {
     "end_time": "2022-08-27T05:47:04.969735Z",
     "start_time": "2022-08-27T05:47:04.963737Z"
    }
   },
   "outputs": [],
   "source": [
    "docs = []\n",
    "length_desc = []"
   ]
  },
  {
   "cell_type": "code",
   "execution_count": 13,
   "id": "682ed0bb",
   "metadata": {
    "ExecuteTime": {
     "end_time": "2022-08-27T05:47:05.297202Z",
     "start_time": "2022-08-27T05:47:05.256766Z"
    }
   },
   "outputs": [],
   "source": [
    "for item in corpus:\n",
    "    txt = my_tokenizer(item)\n",
    "    docs.append(txt)\n",
    "    length_desc.append(len(txt.split(' ')))\n",
    "    break"
   ]
  },
  {
   "cell_type": "code",
   "execution_count": 14,
   "id": "38975ba9",
   "metadata": {
    "ExecuteTime": {
     "end_time": "2022-08-27T05:47:05.561924Z",
     "start_time": "2022-08-27T05:47:05.549879Z"
    }
   },
   "outputs": [],
   "source": [
    "n_descriptions = len(corpus)"
   ]
  },
  {
   "cell_type": "code",
   "execution_count": 15,
   "id": "84f50a91",
   "metadata": {
    "ExecuteTime": {
     "end_time": "2022-08-27T05:47:05.984092Z",
     "start_time": "2022-08-27T05:47:05.977090Z"
    }
   },
   "outputs": [],
   "source": [
    "max_id = 0\n",
    "min_id = 0\n",
    "max_value = 0\n",
    "min_value = 1000\n",
    "sum_value = 0\n",
    "\n",
    "for i, val in enumerate(length_desc):\n",
    "    if val > max_value:\n",
    "        max_value = val\n",
    "        max_id = i\n",
    "        #print(i, max_value)\n",
    "    if val < min_value:\n",
    "        min_value = val\n",
    "        min_id = i\n",
    "    sum_value += val"
   ]
  },
  {
   "cell_type": "markdown",
   "id": "42fb1d56",
   "metadata": {},
   "source": [
    "## Other information"
   ]
  },
  {
   "cell_type": "code",
   "execution_count": 20,
   "id": "5360b1b9",
   "metadata": {
    "ExecuteTime": {
     "end_time": "2022-08-27T05:47:25.339858Z",
     "start_time": "2022-08-27T05:47:25.327883Z"
    }
   },
   "outputs": [],
   "source": [
    "def splitter(txt):\n",
    "    return txt.split(' ')"
   ]
  },
  {
   "cell_type": "code",
   "execution_count": 21,
   "id": "e57225a6",
   "metadata": {
    "ExecuteTime": {
     "end_time": "2022-08-27T05:47:25.874784Z",
     "start_time": "2022-08-27T05:47:25.866802Z"
    }
   },
   "outputs": [
    {
     "data": {
      "text/plain": [
       "9822"
      ]
     },
     "execution_count": 21,
     "metadata": {},
     "output_type": "execute_result"
    }
   ],
   "source": [
    "len(corpus)"
   ]
  },
  {
   "cell_type": "markdown",
   "id": "8dbee3c4",
   "metadata": {},
   "source": [
    "### Words without filter (lemmatization etc.)"
   ]
  },
  {
   "cell_type": "code",
   "execution_count": 22,
   "id": "e65d9f7e",
   "metadata": {
    "ExecuteTime": {
     "end_time": "2022-08-27T05:47:39.201429Z",
     "start_time": "2022-08-27T05:47:39.195424Z"
    }
   },
   "outputs": [],
   "source": [
    "cv=CountVectorizer(\n",
    "\n",
    ")\n",
    "word_count_vector=cv.fit_transform(docs)"
   ]
  },
  {
   "cell_type": "code",
   "execution_count": 23,
   "id": "d0e246f8",
   "metadata": {
    "ExecuteTime": {
     "end_time": "2022-08-27T05:47:39.687140Z",
     "start_time": "2022-08-27T05:47:39.682166Z"
    }
   },
   "outputs": [],
   "source": [
    "n_ungefiltert = len(cv.get_feature_names_out())"
   ]
  },
  {
   "cell_type": "markdown",
   "id": "82db790f",
   "metadata": {},
   "source": [
    "#### Word with rough filter"
   ]
  },
  {
   "cell_type": "code",
   "execution_count": 24,
   "id": "e8918cf0",
   "metadata": {
    "ExecuteTime": {
     "end_time": "2022-08-27T05:47:53.990747Z",
     "start_time": "2022-08-27T05:47:53.970747Z"
    }
   },
   "outputs": [],
   "source": [
    "docs = [ber['rough_lemmatization'] for ber in desc]"
   ]
  },
  {
   "cell_type": "code",
   "execution_count": 25,
   "id": "1aac0cea",
   "metadata": {
    "ExecuteTime": {
     "end_time": "2022-08-27T05:47:54.680786Z",
     "start_time": "2022-08-27T05:47:54.195470Z"
    }
   },
   "outputs": [],
   "source": [
    "cv=CountVectorizer(\n",
    "    tokenizer=splitter\n",
    ")\n",
    "word_count_vector=cv.fit_transform(docs)"
   ]
  },
  {
   "cell_type": "code",
   "execution_count": 26,
   "id": "b406a2ca",
   "metadata": {
    "ExecuteTime": {
     "end_time": "2022-08-27T05:47:54.712613Z",
     "start_time": "2022-08-27T05:47:54.682613Z"
    }
   },
   "outputs": [],
   "source": [
    "n_erster_Filter = len(cv.get_feature_names_out())"
   ]
  },
  {
   "cell_type": "markdown",
   "id": "4cefd81b",
   "metadata": {},
   "source": [
    "### Words with full filter"
   ]
  },
  {
   "cell_type": "code",
   "execution_count": 27,
   "id": "8666fd3a",
   "metadata": {
    "ExecuteTime": {
     "end_time": "2022-08-27T05:48:03.407331Z",
     "start_time": "2022-08-27T05:48:03.398330Z"
    }
   },
   "outputs": [],
   "source": [
    "docs = [ber['explicit_lemmatization'] for ber in desc]"
   ]
  },
  {
   "cell_type": "code",
   "execution_count": 28,
   "id": "583721e7",
   "metadata": {
    "ExecuteTime": {
     "end_time": "2022-08-27T05:48:04.161321Z",
     "start_time": "2022-08-27T05:48:03.712182Z"
    }
   },
   "outputs": [],
   "source": [
    "cv=CountVectorizer(\n",
    "    tokenizer=splitter\n",
    "    )\n",
    "word_count_vector=cv.fit_transform(docs)"
   ]
  },
  {
   "cell_type": "code",
   "execution_count": 29,
   "id": "eae6f8f3",
   "metadata": {
    "ExecuteTime": {
     "end_time": "2022-08-27T05:48:04.192145Z",
     "start_time": "2022-08-27T05:48:04.163165Z"
    }
   },
   "outputs": [],
   "source": [
    "n_gefiltert = len(cv.get_feature_names_out())"
   ]
  },
  {
   "cell_type": "markdown",
   "id": "6656cdfe",
   "metadata": {},
   "source": [
    "# Final description and information"
   ]
  },
  {
   "cell_type": "code",
   "execution_count": 30,
   "id": "5d9f9835",
   "metadata": {
    "ExecuteTime": {
     "end_time": "2022-08-27T05:48:25.895701Z",
     "start_time": "2022-08-27T05:48:25.875665Z"
    },
    "scrolled": true
   },
   "outputs": [
    {
     "name": "stdout",
     "output_type": "stream",
     "text": [
      "Der Korpus besteht aus 9822 unterschiedlichen Unternehmensbeschreibungen.\n",
      "Die längste Beschreibung des Unternehmen Adara Acquisition Corp. umfasst dabei 83 Wörter.\n",
      "Die kürzeste Beschreibung des Unternehmen Adara Acquisition Corp. umfasst 83 Wörter.\n",
      "Die Beschreibungen enthalten im Durchschnitt 0.0 Wörter.\n",
      "Dadurch ergibt sich eine Gesamtanzahl von 83 Begriffen (Hierin enthalten sind auch Zahlen (2019) oder Bezeichnungen (Inc.).\n",
      "\n",
      "Ungefiltert enthält der Korpus damit 60 unterschiedliche Wörter.\n",
      "Nach der ersten, groben Lemmatisierung enthält der Korpus noch 43275.\n",
      "Nach der endgültigen Vorverarbeitung wird die Klassifizierung mit 41168 unterschiedlichen Wörtern durchgeführt.\n"
     ]
    }
   ],
   "source": [
    "print(f\"Der Korpus besteht aus {n_descriptions} unterschiedlichen Unternehmensbeschreibungen.\\n\\\n",
    "Die längste Beschreibung des Unternehmen {desc[max_id]['name']} umfasst dabei {max_value} Wörter.\\n\\\n",
    "Die kürzeste Beschreibung des Unternehmen {desc[min_id]['name']} umfasst {min_value} Wörter.\\n\\\n",
    "Die Beschreibungen enthalten im Durchschnitt {round(sum_value/n_descriptions, 1)} Wörter.\\n\\\n",
    "Dadurch ergibt sich eine Gesamtanzahl von {sum_value} Begriffen (Hierin enthalten sind auch Zahlen (2019) oder Bezeichnungen (Inc.).\\n\\n\\\n",
    "Ungefiltert enthält der Korpus damit {n_ungefiltert} unterschiedliche Wörter.\\n\\\n",
    "Nach der ersten, groben Lemmatisierung enthält der Korpus noch {n_erster_Filter}.\\n\\\n",
    "Nach der endgültigen Vorverarbeitung wird die Klassifizierung mit {n_gefiltert} unterschiedlichen Wörtern durchgeführt.\")"
   ]
  },
  {
   "cell_type": "markdown",
   "id": "c9afb0a5",
   "metadata": {},
   "source": [
    "# Search engine"
   ]
  },
  {
   "cell_type": "markdown",
   "id": "158a2e9a",
   "metadata": {},
   "source": [
    "The search engine only searches the data set of reports that have already been fully processed. Accordingly, search terms must be entered in a normalized form. "
   ]
  },
  {
   "cell_type": "code",
   "execution_count": 31,
   "id": "0399683e",
   "metadata": {
    "ExecuteTime": {
     "end_time": "2022-08-27T05:49:21.968094Z",
     "start_time": "2022-08-27T05:49:21.948057Z"
    }
   },
   "outputs": [],
   "source": [
    "docs = [ber['search_engine'] for ber in desc]"
   ]
  },
  {
   "cell_type": "code",
   "execution_count": 32,
   "id": "2ac9db57",
   "metadata": {
    "ExecuteTime": {
     "end_time": "2022-08-27T05:49:22.812706Z",
     "start_time": "2022-08-27T05:49:22.352669Z"
    }
   },
   "outputs": [],
   "source": [
    "cv=CountVectorizer(\n",
    "    tokenizer=splitter\n",
    "    )\n",
    "word_count_vector = cv.fit_transform(docs)"
   ]
  },
  {
   "cell_type": "code",
   "execution_count": 34,
   "id": "03b8ae62",
   "metadata": {
    "ExecuteTime": {
     "end_time": "2022-08-27T08:13:31.797312Z",
     "start_time": "2022-08-27T05:49:34.637730Z"
    },
    "scrolled": true
   },
   "outputs": [],
   "source": [
    "index = {}\n",
    "for token in cv.vocabulary_:\n",
    "    index[token] = set()\n",
    "for i in range(len(docs)):\n",
    "    #print(i)\n",
    "    for token, column in cv.vocabulary_.items():\n",
    "        #print(token, column)\n",
    "        if word_count_vector[i, column]:\n",
    "            #print(i, token)\n",
    "            index[token].add(i)\n",
    "    #if i % 10 == 0:\n",
    "    #    print(i)\n",
    "#print(index) "
   ]
  },
  {
   "cell_type": "markdown",
   "id": "ca276db5",
   "metadata": {},
   "source": [
    "## Saving the search engine database"
   ]
  },
  {
   "cell_type": "code",
   "execution_count": 49,
   "id": "65c3ba9a",
   "metadata": {
    "ExecuteTime": {
     "end_time": "2022-08-27T08:18:48.532558Z",
     "start_time": "2022-08-27T08:18:48.504560Z"
    }
   },
   "outputs": [],
   "source": [
    "for key in index.keys():\n",
    "    index_test[key] = list(index_test[key])    "
   ]
  },
  {
   "cell_type": "code",
   "execution_count": 51,
   "id": "4b3accac",
   "metadata": {
    "ExecuteTime": {
     "end_time": "2022-08-27T08:19:02.114530Z",
     "start_time": "2022-08-27T08:19:01.420583Z"
    }
   },
   "outputs": [],
   "source": [
    "with open('Daten/Unternehmen_search_engine.json', 'w') as wf:\n",
    "    json.dump(index, wf)"
   ]
  },
  {
   "cell_type": "markdown",
   "id": "51b834aa",
   "metadata": {},
   "source": [
    "## Prepare search engine"
   ]
  },
  {
   "cell_type": "code",
   "execution_count": 52,
   "id": "5632c0b7",
   "metadata": {
    "ExecuteTime": {
     "end_time": "2022-08-27T08:19:20.158842Z",
     "start_time": "2022-08-27T08:19:19.848222Z"
    }
   },
   "outputs": [],
   "source": [
    "with open('Daten/Unternehmen_search_engine.json', 'r') as rf:\n",
    "    db = json.load(rf)"
   ]
  },
  {
   "cell_type": "code",
   "execution_count": 57,
   "id": "7ed5b593",
   "metadata": {
    "ExecuteTime": {
     "end_time": "2022-08-27T08:21:21.968716Z",
     "start_time": "2022-08-27T08:21:21.957722Z"
    }
   },
   "outputs": [],
   "source": [
    "def search(w): # Achtung, geht nur ordentlich wenn genau ein echtes Wort übergeben wird!!\n",
    "    if len(w) > 1:\n",
    "        s_type = input(\"Type 'union' if you search for document which contain either word.\\n\\\n",
    "Or type 'intersection' if you search for documents which contain all words: \").lower()\n",
    "        if s_type == 'union':\n",
    "            result_list = set()\n",
    "            for sw in w:\n",
    "                if sw in db.keys():\n",
    "                    search_result = set(db[sw])\n",
    "                else: \n",
    "                    search_result = set()\n",
    "                result_list = result_list.union(search_result)\n",
    "            result_list = sorted(result_list)   \n",
    "            print(f\"\\n{len(result_list)} documents contain: {', '.join(w)}\")\n",
    "            for i in result_list:\n",
    "                print(f\"{i}: Firma: {desc[i]['name']}, Sektor: {desc[i]['sector']}\")\n",
    "        else:\n",
    "            result_list = []\n",
    "            print(w)\n",
    "            for sw in w:\n",
    "                if sw in db.keys():\n",
    "                    search_result = set(db[sw])\n",
    "                else: \n",
    "                    search_result = set()\n",
    "                result_list.append(list(search_result))\n",
    "            result_list = sorted(set.intersection(*map(set, result_list)))\n",
    "            print(f\"\\n{len(result_list)} documents contain all words: {', '.join(w)}\")\n",
    "            for i in result_list:\n",
    "                print(f\"{i}: Corporate: {desc[i]['name']}, Sector: {desc[i]['sector']}\")\n",
    "    else:\n",
    "        sw = w[0].lower()\n",
    "        if sw in db:\n",
    "            print(f\"\\n{len(db[sw])} documents contain: '{w[0]}'\")\n",
    "            for i in db[sw]:\n",
    "                print(f\"{i}: Corporate: {desc[i]['name']}, Sector: {desc[i]['sector']}\")\n",
    "        else:\n",
    "            print(\"Search word can not be found.\")"
   ]
  },
  {
   "cell_type": "markdown",
   "id": "39ee89e3",
   "metadata": {},
   "source": [
    "# Entry of the search query:"
   ]
  },
  {
   "cell_type": "code",
   "execution_count": 58,
   "id": "fc6ef914",
   "metadata": {
    "ExecuteTime": {
     "end_time": "2022-08-27T08:21:24.307649Z",
     "start_time": "2022-08-27T08:21:22.720640Z"
    }
   },
   "outputs": [
    {
     "name": "stdout",
     "output_type": "stream",
     "text": [
      "Please enter searchword(s) seperated with a space: \n",
      "rtl\n",
      "\n",
      "3 documents contain: 'rtl'\n",
      "3697: Corporate: Necessity Retail REIT Inc, Sector: Real Estate\n",
      "9652: Corporate: RTL GROUP, Sector: Communication Services\n",
      "1902: Corporate: Cadence Design Systems Inc, Sector: Technology\n"
     ]
    }
   ],
   "source": [
    "search(input('Please enter searchword(s) seperated with a space: \\n').split(' '))"
   ]
  },
  {
   "cell_type": "code",
   "execution_count": 59,
   "id": "11a72274",
   "metadata": {
    "ExecuteTime": {
     "end_time": "2022-08-27T08:21:35.171730Z",
     "start_time": "2022-08-27T08:21:27.041107Z"
    }
   },
   "outputs": [
    {
     "name": "stdout",
     "output_type": "stream",
     "text": [
      "Please enter searchword(s) seperated with a space: \n",
      "pharma medicine\n",
      "Type 'union' if you search for document which contain either word.\n",
      "Or type 'intersection' if you search for documents which contain all words: intersection\n",
      "['pharma', 'medicine']\n",
      "\n",
      "22 documents contain all words: pharma, medicine\n",
      "292: Corporate: ALLIANCE PHARMA PLC, Sector: Healthcare\n",
      "1249: Corporate: LABORATORIO REIG JOFRE SA, Sector: Healthcare\n",
      "1295: Corporate: AVEO Pharmaceuticals Inc, Sector: Healthcare\n",
      "1711: Corporate: Bellicum Pharmaceuticals Inc, Sector: Healthcare\n",
      "1853: Corporate: BridgeBio Pharma Inc, Sector: Healthcare\n",
      "2016: Corporate: Compugen Ltd, Sector: Healthcare\n",
      "2233: Corporate: CryoPort Inc, Sector: Industrials\n",
      "2423: Corporate: Evoke Pharma Inc, Sector: Healthcare\n",
      "2426: Corporate: Exelixis Inc, Sector: Healthcare\n",
      "2578: Corporate: Frequency Therapeutics Inc, Sector: Healthcare\n",
      "2902: Corporate: Horizon Therapeutics Public Limited Company, Sector: Healthcare\n",
      "2938: Corporate: Healthcare Triangle Inc, Sector: Healthcare\n",
      "3168: Corporate: Jazz Pharmaceuticals PLC, Sector: Healthcare\n",
      "3394: Corporate: LogicBio Therapeutics Inc, Sector: Healthcare\n",
      "3674: Corporate: Nuvectis Pharma Inc, Sector: Healthcare\n",
      "3698: Corporate: Nektar Therapeutics, Sector: Healthcare\n",
      "4216: Corporate: Regeneron Pharmaceuticals Inc, Sector: Healthcare\n",
      "4282: Corporate: Sangamo Therapeutics Inc, Sector: Healthcare\n",
      "6803: Corporate: Pfizer Inc, Sector: Healthcare\n",
      "7621: Corporate: Sumitomo Dainippon Pharma Co., Ltd, Sector: Healthcare\n",
      "8493: Corporate: Kaneka Corporation, Sector: Basic Materials\n",
      "8550: Corporate: AnGes, Inc, Sector: Healthcare\n"
     ]
    }
   ],
   "source": [
    "search(input('Please enter searchword(s) seperated with a space: \\n').split(' '))"
   ]
  },
  {
   "cell_type": "code",
   "execution_count": 61,
   "id": "e8a752be",
   "metadata": {
    "ExecuteTime": {
     "end_time": "2022-08-27T08:22:30.424591Z",
     "start_time": "2022-08-27T08:22:06.643497Z"
    },
    "scrolled": false
   },
   "outputs": [
    {
     "name": "stdout",
     "output_type": "stream",
     "text": [
      "Please enter searchword(s) seperated with a space: \n",
      "biogas coal\n",
      "Type 'union' if you search for document which contain either word.\n",
      "Or type 'intersection' if you search for documents which contain all words: union\n",
      "\n",
      "150 documents contain: biogas, coal\n",
      "84: Firma: First Trust Energy Income and Growth Fund, Sektor: Financial Services\n",
      "303: Firma: CERES POWER HOLDINGS PLC, Sektor: Industrials\n",
      "481: Firma: ANGLO AMERICAN PLC, Sektor: Basic Materials\n",
      "487: Firma: ANGLO-EASTERN PLANTATIONS, Sektor: Consumer Defensive\n",
      "505: Firma: ANGLO PACIFIC GROUP PLC, Sektor: Basic Materials\n",
      "544: Firma: BHP BILLITON PLC, Sektor: Basic Materials\n",
      "649: Firma: EVRAZ PLC, Sektor: Basic Materials\n",
      "688: Firma: GLENCORE PLC, Sektor: Basic Materials\n",
      "689: Firma: CONTOURGLOBAL PLC, Sektor: Utilities\n",
      "903: Firma: R.E.A. HOLDINGS PLC, Sektor: Consumer Defensive\n",
      "925: Firma: SOUTH32 LTD, Sektor: Basic Materials\n",
      "972: Firma: SSE PLC, Sektor: Utilities\n",
      "990: Firma: TP ICAP PLC, Sektor: Financial Services\n",
      "1062: Firma: MIQUEL Y COSTAS, Sektor: Energy\n",
      "1071: Firma: AMERICAN ELECTRIC POWER, Sektor: Consumer Defensive\n",
      "1098: Firma: BENETEAU, Sektor: Basic Materials\n",
      "1115: Firma: GL EVENTS, Sektor: Utilities\n",
      "1129: Firma: COLAS SA, Sektor: Consumer Defensive\n",
      "1230: Firma: ARCELORMITTAL, Sektor: Basic Materials\n",
      "1320: Firma: Advanced Emissions Solutions Inc, Sektor: Industrials\n",
      "1325: Firma: Aemetis Inc, Sektor: Energy\n",
      "1370: Firma: Alta Mesa Resources Inc, Sektor: Basic Materials\n",
      "1379: Firma: American Electric Power Company Inc, Sektor: Utilities\n",
      "1392: Firma: Andersons Inc, Sektor: Consumer Defensive\n",
      "1591: Firma: American Resources Corporation, Sektor: Basic Materials\n",
      "1895: Firma: CSX Corporation, Sektor: Industrials\n",
      "1957: Firma: Chart Industries Inc, Sektor: Industrials\n",
      "2116: Firma: Castor Maritime Inc, Sektor: Industrials\n",
      "2441: Firma: Eagle Bulk Shipping Inc, Sektor: Industrials\n",
      "2490: Firma: EuroDry Ltd, Sektor: Industrials\n",
      "2541: Firma: First Community Bancshares Inc, Sektor: Financial Services\n",
      "2577: Firma: FreightCar America Inc, Sektor: Industrials\n",
      "2582: Firma: FuelCell Energy Inc, Sektor: Industrials\n",
      "2616: Firma: Ferroglobe PLC, Sektor: Basic Materials\n",
      "2759: Firma: Grindrod Shipping Holdings Ltd, Sektor: Industrials\n",
      "2813: Firma: Globus Maritime Limited, Sektor: Industrials\n",
      "2821: Firma: Golden Ocean Group Limited, Sektor: Industrials\n",
      "2923: Firma: Hallador Energy Company, Sektor: Energy\n",
      "3019: Firma: Infrastructure and Energy Alternatives Inc, Sektor: Industrials\n",
      "3478: Firma: Mitsui & Company, Ltd. - Ads Each Representing 20 Shares of Common Stock (MM), Sektor: Industrials\n",
      "3486: Firma: Montauk Renewables Inc, Sektor: Utilities\n",
      "3503: Firma: MGE Energy Inc, Sektor: Utilities\n",
      "3712: Firma: New Oriental Energy & Chemical Corp. (MM), Sektor: Basic Materials\n",
      "3760: Firma: OceanPal Inc, Sektor: Industrials\n",
      "3795: Firma: Otter Tail Corporation, Sektor: Utilities\n",
      "3992: Firma: Pangaea Logistics Solutions Ltd, Sektor: Industrials\n",
      "4076: Firma: Prospect Capital Corporation, Sektor: Financial Services\n",
      "4127: Firma: Ramaco Resources Inc, Sektor: Basic Materials\n",
      "4298: Firma: Seanergy Maritime Holdings Corporation, Sektor: Industrials\n",
      "4393: Firma: Stronghold Digital Mining Inc, Sektor: Financial Services\n",
      "4509: Firma: Smart Power Corporation, Sektor: Utilities\n",
      "4550: Firma: Star Bulk Carriers Corporation, Sektor: Industrials\n",
      "4596: Firma: TD Holdings Inc, Sektor: Technology\n",
      "4998: Firma: Xcel Energy Inc, Sektor: Utilities\n",
      "5056: Firma: AES Corporation The, Sektor: Utilities\n",
      "5097: Firma: Allete Inc, Sektor: Utilities\n",
      "5101: Firma: Alpha Metallurgical Resources Inc, Sektor: Basic Materials\n",
      "5105: Firma: Aluminum Corporation of China Ltd, Sektor: Basic Materials\n",
      "5108: Firma: Ameren Corp, Sektor: Utilities\n",
      "5111: Firma: American Electric Power Company Inc, Sektor: Utilities\n",
      "5134: Firma: Arcelor Mittal New, Sektor: Basic Materials\n",
      "5135: Firma: Arch Resources Inc, Sektor: Energy\n",
      "5176: Firma: AES Corp, Sektor: Utilities\n",
      "5394: Firma: BHP Group Limited, Sektor: Basic Materials\n",
      "5428: Firma: Black Hills Corp, Sektor: Utilities\n",
      "5461: Firma: Bloom Energy Corporation, Sektor: Industrials\n",
      "5505: Firma: CMS Energy Corporation, Sektor: Utilities\n",
      "5510: Firma: CONSOL Energy Inc, Sektor: Energy\n",
      "5524: Firma: Canadian National Railway Co, Sektor: Industrials\n",
      "5525: Firma: Canadian Pacific Railway Inc, Sektor: Industrials\n",
      "5548: Firma: Charah Solutions Inc, Sektor: Industrials\n",
      "5636: Firma: Cabot Corp, Sektor: Basic Materials\n",
      "5666: Firma: Chart Industries Inc, Sektor: Industrials\n",
      "5735: Firma: DTE Energy Company, Sektor: Utilities\n",
      "5753: Firma: Diana Shipping Inc, Sektor: Industrials\n",
      "5817: Firma: Duke Energy Corp New, Sektor: Utilities\n",
      "5860: Firma: Enviva Inc, Sektor: Basic Materials\n",
      "5872: Firma: Evergy Inc, Sektor: Utilities\n",
      "5916: Firma: Energy Transfer LP, Sektor: Energy\n",
      "5923: Firma: Entergy Corp, Sektor: Utilities\n",
      "5973: Firma: FirstEnergy Corp, Sektor: Utilities\n",
      "6010: Firma: Fiduciary Claymore Energy Infrastructure Fund, Sektor: Financial Services\n",
      "6108: Firma: Genco Shipping and Trading Limited, Sektor: Industrials\n",
      "6227: Firma: Huaneng Power International Inc, Sektor: Utilities\n",
      "6233: Firma: IDACORP Inc, Sektor: Utilities\n",
      "6385: Firma: Korea Electric Power Corporation, Sektor: Utilities\n",
      "6514: Firma: Montrose Environmental Group Inc, Sektor: Industrials\n",
      "6616: Firma: NextEra Energy Inc, Sektor: Utilities\n",
      "6619: Firma: Nisource Inc, Sektor: Utilities\n",
      "6623: Firma: Norfolk Southern Corp, Sektor: Industrials\n",
      "6652: Firma: NACCO Industries Inc, Sektor: Energy\n",
      "6655: Firma: NRG Energy Inc, Sektor: Utilities\n",
      "6663: Firma: Navios Maritime Holdings Inc, Sektor: Industrials\n",
      "6676: Firma: NiSource Inc, Sektor: Utilities\n",
      "6745: Firma: OGE Energy Corp, Sektor: Utilities\n",
      "6783: Firma: PNM Resources Inc, Sektor: Utilities\n",
      "6794: Firma: Peabody Energy Corporation, Sektor: Energy\n",
      "6851: Firma: PPL Corporation, Sektor: Utilities\n",
      "6882: Firma: Pinnacle West Capital Corp, Sektor: Utilities\n",
      "6901: Firma: Progressive Corporation, Sektor: Financial Services\n",
      "7055: Firma: Southern Copper Corp, Sektor: Basic Materials\n",
      "7094: Firma: Safe Bulkers Inc, Sektor: Industrials\n",
      "7097: Firma: Salient Midstream and MLP Fund, Sektor: Financial Services\n",
      "7162: Firma: SunCoke Energy Inc, Sektor: Basic Materials\n",
      "7186: Firma: Teck Resources Ltd, Sektor: Basic Materials\n",
      "7213: Firma: Tortoise Energy Infrastructure Corporation, Sektor: Financial Services\n",
      "7283: Firma: TransAlta Corporation, Sektor: Utilities\n",
      "7305: Firma: UGI Corp, Sektor: Utilities\n",
      "7315: Firma: Union Pacific Corp, Sektor: Industrials\n",
      "7328: Firma: UGI Corporation, Sektor: Utilities\n",
      "7403: Firma: Vistra Corp, Sektor: Utilities\n",
      "7420: Firma: Warrior Met Coal Inc, Sektor: Basic Materials\n",
      "7423: Firma: Waste Management, Sektor: Industrials\n",
      "7453: Firma: WEC Energy Group Inc, Sektor: Utilities\n",
      "7525: Firma: Mitsubishi Corporation, Sektor: Industrials\n",
      "7528: Firma: ITOCHU Corporation, Sektor: Industrials\n",
      "7530: Firma: Mitsui & Co., Ltd, Sektor: Industrials\n",
      "7547: Firma: Marubeni Corporation, Sektor: Industrials\n",
      "7555: Firma: Nippon Yusen Kabushiki Kaisha, Sektor: Industrials\n",
      "7565: Firma: Mitsui O.S.K. Lines, Ltd, Sektor: Industrials\n",
      "7585: Firma: Kawasaki Kisen Kaisha, Ltd, Sektor: Industrials\n",
      "7632: Firma: Electric Power Development Co., Ltd, Sektor: Utilities\n",
      "7654: Firma: The Chugoku Electric Power Co., Inc, Sektor: Utilities\n",
      "7745: Firma: Mitani Corporation, Sektor: Industrials\n",
      "7776: Firma: Itochu Enex Co.,Ltd, Sektor: Energy\n",
      "7804: Firma: Hokkaido Electric Power Company, Incorporated, Sektor: Utilities\n",
      "7813: Firma: NS United Kaiun Kaisha, Ltd, Sektor: Industrials\n",
      "7848: Firma: Iino Kaiun Kaisha, Ltd, Sektor: Industrials\n",
      "7959: Firma: Sinanen Holdings Co Ltd, Sektor: Energy\n",
      "8098: Firma: Nittetsu Mining Co., Ltd, Sektor: Basic Materials\n",
      "8099: Firma: Mitsui Matsushima Holdings Co., Ltd, Sektor: Energy\n",
      "8254: Firma: Sojitz Corporation, Sektor: Industrials\n",
      "8361: Firma: Nippon Coke & Engineering Company, Limited, Sektor: Basic Materials\n",
      "8663: Firma: Idemitsu Kosan Co.,Ltd, Sektor: Energy\n",
      "8685: Firma: Taiheiyo Cement Corporation, Sektor: Basic Materials\n",
      "8703: Firma: Nippon Steel & Sumitomo Metal Corporation, Sektor: Basic Materials\n",
      "8723: Firma: Kurimoto, Ltd, Sektor: Basic Materials\n",
      "8730: Firma: Mitsubishi Materials Corporation, Sektor: Basic Materials\n",
      "8817: Firma: Shinko Plantech Co., Ltd, Sektor: Industrials\n",
      "9161: Firma: Inui Global Logistics Co Ltd, Sektor: Industrials\n",
      "9218: Firma: Anglo Pacific Group PLC, Sektor: Basic Materials\n",
      "9259: Firma: Canadian National Railway Company, Sektor: Industrials\n",
      "9261: Firma: Canadian Pacific Railway Limited, Sektor: Industrials\n",
      "9377: Firma: SouthGobi Resources Ltd., Sektor: Energy\n",
      "9396: Firma: TransAlta Corporation, Sektor: Utilities\n",
      "9622: Firma: MVV ENERGIE AG NA O.N., Sektor: Utilities\n",
      "9653: Firma: RWE AG   INH O.N., Sektor: Utilities\n",
      "9699: Firma: UNIPER SE  NA O.N., Sektor: Utilities\n",
      "9738: Firma: ENBW ENERGIE BADEN-WUERTTEMBERG ON, Sektor: Utilities\n",
      "9775: Firma: 2G ENERGY AG, Sektor: Industrials\n"
     ]
    }
   ],
   "source": [
    "search(input('Please enter searchword(s) seperated with a space: \\n').split(' '))"
   ]
  }
 ],
 "metadata": {
  "kernelspec": {
   "display_name": "NLP",
   "language": "python",
   "name": "nlp"
  },
  "language_info": {
   "codemirror_mode": {
    "name": "ipython",
    "version": 3
   },
   "file_extension": ".py",
   "mimetype": "text/x-python",
   "name": "python",
   "nbconvert_exporter": "python",
   "pygments_lexer": "ipython3",
   "version": "3.10.4"
  },
  "toc": {
   "base_numbering": 1,
   "nav_menu": {},
   "number_sections": true,
   "sideBar": true,
   "skip_h1_title": false,
   "title_cell": "Table of Contents",
   "title_sidebar": "Contents",
   "toc_cell": false,
   "toc_position": {},
   "toc_section_display": true,
   "toc_window_display": false
  }
 },
 "nbformat": 4,
 "nbformat_minor": 5
}
