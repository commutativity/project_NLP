{
 "cells": [
  {
   "cell_type": "markdown",
   "source": [
    "## Neural network for sector classification\n",
    "The neural network maps the company sectors to the descriptions."
   ],
   "metadata": {
    "collapsed": false,
    "pycharm": {
     "name": "#%% md\n"
    }
   }
  },
  {
   "cell_type": "code",
   "execution_count": 1,
   "metadata": {
    "collapsed": true
   },
   "outputs": [],
   "source": [
    "import numpy as np\n",
    "import pandas as pd\n",
    "import matplotlib.pyplot as plt\n",
    "\n",
    "import tensorflow as tf\n",
    "import tensorflow_hub as hub\n",
    "from tensorflow.keras.layers import Dense\n",
    "from tensorflow.keras.callbacks import EarlyStopping\n",
    "from tensorflow.keras import regularizers"
   ]
  },
  {
   "cell_type": "code",
   "execution_count": 2,
   "outputs": [],
   "source": [
    "def df_to_dataset(dataframe, column, shuffle=True, batch_size=64):\n",
    "    \"\"\"Convert the Pandas' dataset into a tensorflow dataset and shuffle and batch the entries.\"\"\"\n",
    "    df = dataframe.copy()\n",
    "    code = df.pop('code')\n",
    "    df = dataframe[f'{column}']\n",
    "    ds = tf.data.Dataset.from_tensor_slices((df, code))\n",
    "    if shuffle:\n",
    "        ds = ds.shuffle(buffer_size=len(dataframe))\n",
    "    ds = ds.batch(batch_size)\n",
    "    return ds"
   ],
   "metadata": {
    "collapsed": false,
    "pycharm": {
     "name": "#%%\n"
    }
   }
  },
  {
   "cell_type": "markdown",
   "source": [
    "### Dataset with normal sentences"
   ],
   "metadata": {
    "collapsed": false,
    "pycharm": {
     "name": "#%% md\n"
    }
   }
  },
  {
   "cell_type": "code",
   "execution_count": 3,
   "outputs": [
    {
     "data": {
      "text/plain": "                                         description                  sector  \\\n0  Adara Acquisition Corp. does not have signific...      Financial Services   \n1  AIM ImmunoTech Inc., an immuno-pharma company,...              Healthcare   \n2  Ashford, Inc is an asset management firm. The ...      Financial Services   \n3  The Arena Group Holdings, Inc., together with ...  Communication Services   \n4  AMCON Distributing Company, together with its ...      Consumer Defensive   \n\n   code  \n0     5  \n1     6  \n2     5  \n3     1  \n4     3  ",
      "text/html": "<div>\n<style scoped>\n    .dataframe tbody tr th:only-of-type {\n        vertical-align: middle;\n    }\n\n    .dataframe tbody tr th {\n        vertical-align: top;\n    }\n\n    .dataframe thead th {\n        text-align: right;\n    }\n</style>\n<table border=\"1\" class=\"dataframe\">\n  <thead>\n    <tr style=\"text-align: right;\">\n      <th></th>\n      <th>description</th>\n      <th>sector</th>\n      <th>code</th>\n    </tr>\n  </thead>\n  <tbody>\n    <tr>\n      <th>0</th>\n      <td>Adara Acquisition Corp. does not have signific...</td>\n      <td>Financial Services</td>\n      <td>5</td>\n    </tr>\n    <tr>\n      <th>1</th>\n      <td>AIM ImmunoTech Inc., an immuno-pharma company,...</td>\n      <td>Healthcare</td>\n      <td>6</td>\n    </tr>\n    <tr>\n      <th>2</th>\n      <td>Ashford, Inc is an asset management firm. The ...</td>\n      <td>Financial Services</td>\n      <td>5</td>\n    </tr>\n    <tr>\n      <th>3</th>\n      <td>The Arena Group Holdings, Inc., together with ...</td>\n      <td>Communication Services</td>\n      <td>1</td>\n    </tr>\n    <tr>\n      <th>4</th>\n      <td>AMCON Distributing Company, together with its ...</td>\n      <td>Consumer Defensive</td>\n      <td>3</td>\n    </tr>\n  </tbody>\n</table>\n</div>"
     },
     "execution_count": 3,
     "metadata": {},
     "output_type": "execute_result"
    }
   ],
   "source": [
    "column = 'description'\n",
    "\n",
    "df = pd.read_json('..\\\\data_prep.json')\n",
    "df.sector = pd.Categorical(df.sector)\n",
    "df['code'] = df.sector.cat.codes\n",
    "df.head()"
   ],
   "metadata": {
    "collapsed": false,
    "pycharm": {
     "name": "#%%\n"
    }
   }
  },
  {
   "cell_type": "code",
   "execution_count": 4,
   "outputs": [],
   "source": [
    "# stratify the sectors evenly onto train, val and test dataset\n",
    "grouped_df = df.groupby('sector')\n",
    "arr_list = [np.split(g, [int(.8 * len(g)), int(.9 * len(g))]) for i, g in grouped_df]\n",
    "train = pd.concat([t[0] for t in arr_list])\n",
    "val = pd.concat([v[2] for v in arr_list])\n",
    "test = pd.concat([t[1] for t in arr_list])"
   ],
   "metadata": {
    "collapsed": false,
    "pycharm": {
     "name": "#%%\n"
    }
   }
  },
  {
   "cell_type": "code",
   "execution_count": 6,
   "outputs": [],
   "source": [
    "train_data = df_to_dataset(train, column)\n",
    "valid_data = df_to_dataset(val, column)\n",
    "test_data = df_to_dataset(test, column)"
   ],
   "metadata": {
    "collapsed": false,
    "pycharm": {
     "name": "#%%\n"
    }
   }
  },
  {
   "cell_type": "code",
   "execution_count": 7,
   "outputs": [],
   "source": [
    "# import a token based text embedding on English Google News with pre-built out-of-vocabulary handling\n",
    "embedding = \"https://tfhub.dev/google/nnlm-en-dim50/2\""
   ],
   "metadata": {
    "collapsed": false,
    "pycharm": {
     "name": "#%%\n"
    }
   }
  },
  {
   "cell_type": "code",
   "execution_count": 8,
   "outputs": [],
   "source": [
    "# built a neural network for classification with kernel regularization to decrease overfitting\n",
    "model = tf.keras.Sequential([\n",
    "    hub.KerasLayer(embedding, dtype=tf.string, trainable=True),\n",
    "    Dense(32, activation='relu', kernel_regularizer=regularizers.l2(0.01)),\n",
    "    Dense(16, activation='relu', kernel_regularizer=regularizers.l2(0.01)),\n",
    "    Dense(10, activation='softmax')\n",
    "])"
   ],
   "metadata": {
    "collapsed": false,
    "pycharm": {
     "name": "#%%\n"
    }
   }
  },
  {
   "cell_type": "code",
   "execution_count": 9,
   "outputs": [],
   "source": [
    "model.compile(optimizer=tf.keras.optimizers.Adam(learning_rate=0.001),\n",
    "              loss='sparse_categorical_crossentropy',\n",
    "              metrics=['accuracy'])\n",
    "\n",
    "# set early stopping\n",
    "es = EarlyStopping(patience=1, verbose=1, restore_best_weights=True)"
   ],
   "metadata": {
    "collapsed": false,
    "pycharm": {
     "name": "#%%\n"
    }
   }
  },
  {
   "cell_type": "code",
   "execution_count": 10,
   "outputs": [
    {
     "name": "stdout",
     "output_type": "stream",
     "text": [
      "Epoch 1/20\n",
      "123/123 [==============================] - 49s 395ms/step - loss: 2.0370 - accuracy: 0.4778 - val_loss: 1.8456 - val_accuracy: 0.4949\n",
      "Epoch 2/20\n",
      "123/123 [==============================] - 48s 393ms/step - loss: 1.2909 - accuracy: 0.6944 - val_loss: 1.4491 - val_accuracy: 0.6781\n",
      "Epoch 3/20\n",
      "123/123 [==============================] - 49s 396ms/step - loss: 0.8633 - accuracy: 0.8705 - val_loss: 1.2163 - val_accuracy: 0.7520\n",
      "Epoch 4/20\n",
      "123/123 [==============================] - 48s 393ms/step - loss: 0.6432 - accuracy: 0.9210 - val_loss: 1.1525 - val_accuracy: 0.7611\n",
      "Epoch 5/20\n",
      "123/123 [==============================] - 48s 393ms/step - loss: 0.5217 - accuracy: 0.9538 - val_loss: 1.1255 - val_accuracy: 0.7611\n",
      "Epoch 6/20\n",
      "123/123 [==============================] - 48s 393ms/step - loss: 0.4423 - accuracy: 0.9749 - val_loss: 1.0901 - val_accuracy: 0.7672\n",
      "Epoch 7/20\n",
      "123/123 [==============================] - ETA: 0s - loss: 0.3855 - accuracy: 0.9860Restoring model weights from the end of the best epoch: 6.\n",
      "123/123 [==============================] - 48s 394ms/step - loss: 0.3855 - accuracy: 0.9860 - val_loss: 1.0987 - val_accuracy: 0.7621\n",
      "Epoch 00007: early stopping\n"
     ]
    }
   ],
   "source": [
    "# train the model and use early stopping\n",
    "history = model.fit(train_data,\n",
    "                    validation_data=valid_data,\n",
    "                    epochs=20,\n",
    "                    callbacks=[es])"
   ],
   "metadata": {
    "collapsed": false,
    "pycharm": {
     "name": "#%%\n"
    }
   }
  },
  {
   "cell_type": "code",
   "execution_count": 11,
   "outputs": [
    {
     "data": {
      "text/plain": "<Figure size 432x288 with 1 Axes>",
      "image/png": "[encoded data removed]"
     },
     "metadata": {
      "needs_background": "light"
     },
     "output_type": "display_data"
    }
   ],
   "source": [
    "plt.plot(history.history['accuracy'], label=\"Training acc\")\n",
    "plt.plot(history.history['val_accuracy'], label=\"Validation acc\")\n",
    "plt.title(\"Accuracy of model\")\n",
    "plt.ylabel(\"Accuracy\")\n",
    "plt.xlabel(\"Epoch\")\n",
    "plt.legend()\n",
    "plt.show()"
   ],
   "metadata": {
    "collapsed": false,
    "pycharm": {
     "name": "#%%\n"
    }
   }
  },
  {
   "cell_type": "code",
   "execution_count": 12,
   "outputs": [
    {
     "data": {
      "text/plain": "<Figure size 432x288 with 1 Axes>",
      "image/png": "[encoded data removed]"
     },
     "metadata": {
      "needs_background": "light"
     },
     "output_type": "display_data"
    }
   ],
   "source": [
    "plt.plot(history.history['loss'], label=\"Training acc\")\n",
    "plt.plot(history.history['val_loss'], label=\"Validation acc\")\n",
    "plt.title(\"Loss of model\")\n",
    "plt.ylabel(\"Loss\")\n",
    "plt.xlabel(\"Epoch\")\n",
    "plt.legend()\n",
    "plt.show()"
   ],
   "metadata": {
    "collapsed": false,
    "pycharm": {
     "name": "#%%\n"
    }
   }
  },
  {
   "cell_type": "code",
   "execution_count": 13,
   "outputs": [
    {
     "name": "stdout",
     "output_type": "stream",
     "text": [
      "16/16 [==============================] - 1s 46ms/step - loss: 0.8980 - accuracy: 0.7862\n"
     ]
    },
    {
     "data": {
      "text/plain": "[0.8979877829551697, 0.7861506938934326]"
     },
     "execution_count": 13,
     "metadata": {},
     "output_type": "execute_result"
    }
   ],
   "source": [
    "model.evaluate(test_data)"
   ],
   "metadata": {
    "collapsed": false,
    "pycharm": {
     "name": "#%%\n"
    }
   }
  },
  {
   "cell_type": "markdown",
   "source": [
    "## Dataset without stopwords and lemmatization"
   ],
   "metadata": {
    "collapsed": false,
    "pycharm": {
     "name": "#%% md\n"
    }
   }
  },
  {
   "cell_type": "code",
   "execution_count": 3,
   "outputs": [
    {
     "data": {
      "text/plain": "                             name ticker                  sector  \\\n0         Adara Acquisition Corp.   ADRA      Financial Services   \n1             AIM ImmunoTech Inc.    AIM              Healthcare   \n2                    Ashford Inc.   AINC      Financial Services   \n3  The Arena Group Holdings, Inc.   AREN  Communication Services   \n4      AMCON Distributing Company    DIT      Consumer Defensive   \n\n                                         description  \\\n0  Adara Acquisition Corp. does not have signific...   \n1  AIM ImmunoTech Inc., an immuno-pharma company,...   \n2  Ashford, Inc is an asset management firm. The ...   \n3  The Arena Group Holdings, Inc., together with ...   \n4  AMCON Distributing Company, together with its ...   \n\n                                 rough_lemmatization  \\\n0  Adara Acquisition Corp. significant operation ...   \n1  AIM ImmunoTech Inc. immuno pharma company focu...   \n2  Ashford Inc asset management firm firm provide...   \n3  Arena Group Holdings Inc. subsidiary operate d...   \n4  AMCON distribute Company subsidiary engage who...   \n\n                              explicit_lemmatization  \\\n0  significant operation company intend effect me...   \n1  immuno pharma company focus research developme...   \n2  Ashford Inc asset management firm firm provide...   \n3  subsidiary operate digital medium platform Uni...   \n4  subsidiary engage wholesale distribution consu...   \n\n                                       search_engine  code  \n0  SIGNIFICANT OPERATION COMPANY INTEND EFFECT ME...     5  \n1  IMMUNO PHARMA COMPANY FOCUS RESEARCH DEVELOPME...     6  \n2  ASHFORD INC ASSET MANAGEMENT FIRM FIRM PROVIDE...     5  \n3  SUBSIDIARY OPERATE DIGITAL MEDIUM PLATFORM UNI...     1  \n4  SUBSIDIARY ENGAGE WHOLESALE DISTRIBUTION CONSU...     3  ",
      "text/html": "<div>\n<style scoped>\n    .dataframe tbody tr th:only-of-type {\n        vertical-align: middle;\n    }\n\n    .dataframe tbody tr th {\n        vertical-align: top;\n    }\n\n    .dataframe thead th {\n        text-align: right;\n    }\n</style>\n<table border=\"1\" class=\"dataframe\">\n  <thead>\n    <tr style=\"text-align: right;\">\n      <th></th>\n      <th>name</th>\n      <th>ticker</th>\n      <th>sector</th>\n      <th>description</th>\n      <th>rough_lemmatization</th>\n      <th>explicit_lemmatization</th>\n      <th>search_engine</th>\n      <th>code</th>\n    </tr>\n  </thead>\n  <tbody>\n    <tr>\n      <th>0</th>\n      <td>Adara Acquisition Corp.</td>\n      <td>ADRA</td>\n      <td>Financial Services</td>\n      <td>Adara Acquisition Corp. does not have signific...</td>\n      <td>Adara Acquisition Corp. significant operation ...</td>\n      <td>significant operation company intend effect me...</td>\n      <td>SIGNIFICANT OPERATION COMPANY INTEND EFFECT ME...</td>\n      <td>5</td>\n    </tr>\n    <tr>\n      <th>1</th>\n      <td>AIM ImmunoTech Inc.</td>\n      <td>AIM</td>\n      <td>Healthcare</td>\n      <td>AIM ImmunoTech Inc., an immuno-pharma company,...</td>\n      <td>AIM ImmunoTech Inc. immuno pharma company focu...</td>\n      <td>immuno pharma company focus research developme...</td>\n      <td>IMMUNO PHARMA COMPANY FOCUS RESEARCH DEVELOPME...</td>\n      <td>6</td>\n    </tr>\n    <tr>\n      <th>2</th>\n      <td>Ashford Inc.</td>\n      <td>AINC</td>\n      <td>Financial Services</td>\n      <td>Ashford, Inc is an asset management firm. The ...</td>\n      <td>Ashford Inc asset management firm firm provide...</td>\n      <td>Ashford Inc asset management firm firm provide...</td>\n      <td>ASHFORD INC ASSET MANAGEMENT FIRM FIRM PROVIDE...</td>\n      <td>5</td>\n    </tr>\n    <tr>\n      <th>3</th>\n      <td>The Arena Group Holdings, Inc.</td>\n      <td>AREN</td>\n      <td>Communication Services</td>\n      <td>The Arena Group Holdings, Inc., together with ...</td>\n      <td>Arena Group Holdings Inc. subsidiary operate d...</td>\n      <td>subsidiary operate digital medium platform Uni...</td>\n      <td>SUBSIDIARY OPERATE DIGITAL MEDIUM PLATFORM UNI...</td>\n      <td>1</td>\n    </tr>\n    <tr>\n      <th>4</th>\n      <td>AMCON Distributing Company</td>\n      <td>DIT</td>\n      <td>Consumer Defensive</td>\n      <td>AMCON Distributing Company, together with its ...</td>\n      <td>AMCON distribute Company subsidiary engage who...</td>\n      <td>subsidiary engage wholesale distribution consu...</td>\n      <td>SUBSIDIARY ENGAGE WHOLESALE DISTRIBUTION CONSU...</td>\n      <td>3</td>\n    </tr>\n  </tbody>\n</table>\n</div>"
     },
     "execution_count": 3,
     "metadata": {},
     "output_type": "execute_result"
    }
   ],
   "source": [
    "column = 'explicit_lemmatization'\n",
    "\n",
    "df = pd.read_json('..\\\\Unternehmen_preprocessed.json')\n",
    "df.sector = pd.Categorical(df.sector)\n",
    "df['code'] = df.sector.cat.codes\n",
    "df.head()"
   ],
   "metadata": {
    "collapsed": false,
    "pycharm": {
     "name": "#%%\n"
    }
   }
  },
  {
   "cell_type": "code",
   "execution_count": 4,
   "outputs": [],
   "source": [
    "# stratify the sectors evenly onto train, val and test dataset\n",
    "grouped_df = df.groupby('sector')\n",
    "arr_list = [np.split(g, [int(.8 * len(g)), int(.9 * len(g))]) for i, g in grouped_df]\n",
    "train = pd.concat([t[0] for t in arr_list])\n",
    "val = pd.concat([v[2] for v in arr_list])\n",
    "test = pd.concat([t[1] for t in arr_list])"
   ],
   "metadata": {
    "collapsed": false,
    "pycharm": {
     "name": "#%%\n"
    }
   }
  },
  {
   "cell_type": "code",
   "execution_count": 5,
   "outputs": [],
   "source": [
    "train_data = df_to_dataset(train, column)\n",
    "valid_data = df_to_dataset(val, column)\n",
    "test_data = df_to_dataset(test, column)"
   ],
   "metadata": {
    "collapsed": false,
    "pycharm": {
     "name": "#%%\n"
    }
   }
  },
  {
   "cell_type": "code",
   "execution_count": 6,
   "outputs": [],
   "source": [
    "# import a token based text embedding on English Google News with pre-built out-of-vocabulary handling\n",
    "embedding = \"https://tfhub.dev/google/nnlm-en-dim50/2\""
   ],
   "metadata": {
    "collapsed": false,
    "pycharm": {
     "name": "#%%\n"
    }
   }
  },
  {
   "cell_type": "code",
   "execution_count": 7,
   "outputs": [],
   "source": [
    "# built a neural network for classification with kernel regularization to decrease overfitting\n",
    "model_lemma = tf.keras.Sequential([\n",
    "    hub.KerasLayer(embedding, dtype=tf.string, trainable=True),\n",
    "    Dense(32, activation='relu', kernel_regularizer=regularizers.l2(0.01)),\n",
    "    Dense(16, activation='relu', kernel_regularizer=regularizers.l2(0.01)),\n",
    "    Dense(11, activation='softmax')\n",
    "])"
   ],
   "metadata": {
    "collapsed": false,
    "pycharm": {
     "name": "#%%\n"
    }
   }
  },
  {
   "cell_type": "code",
   "execution_count": 8,
   "outputs": [],
   "source": [
    "model_lemma.compile(optimizer=tf.keras.optimizers.Adam(learning_rate=0.001),\n",
    "              loss='sparse_categorical_crossentropy',\n",
    "              metrics=['accuracy'])\n",
    "\n",
    "# set early stopping\n",
    "es = EarlyStopping(patience=1, verbose=1, restore_best_weights=True)"
   ],
   "metadata": {
    "collapsed": false,
    "pycharm": {
     "name": "#%%\n"
    }
   }
  },
  {
   "cell_type": "code",
   "execution_count": 10,
   "outputs": [
    {
     "name": "stdout",
     "output_type": "stream",
     "text": [
      "Epoch 1/20\n",
      "123/123 [==============================] - 49s 396ms/step - loss: 2.1702 - accuracy: 0.4907 - val_loss: 1.6584 - val_accuracy: 0.6555\n",
      "Epoch 2/20\n",
      "123/123 [==============================] - 50s 404ms/step - loss: 1.1503 - accuracy: 0.7946 - val_loss: 1.2430 - val_accuracy: 0.7710\n",
      "Epoch 3/20\n",
      "123/123 [==============================] - 49s 398ms/step - loss: 0.8192 - accuracy: 0.8794 - val_loss: 1.1049 - val_accuracy: 0.7680\n",
      "Epoch 4/20\n",
      "123/123 [==============================] - 48s 394ms/step - loss: 0.6502 - accuracy: 0.9212 - val_loss: 1.0082 - val_accuracy: 0.7974\n",
      "Epoch 5/20\n",
      "123/123 [==============================] - 48s 394ms/step - loss: 0.5448 - accuracy: 0.9453 - val_loss: 0.9543 - val_accuracy: 0.8156\n",
      "Epoch 6/20\n",
      "123/123 [==============================] - 48s 394ms/step - loss: 0.4717 - accuracy: 0.9643 - val_loss: 0.9366 - val_accuracy: 0.8014\n",
      "Epoch 7/20\n",
      "123/123 [==============================] - 48s 394ms/step - loss: 0.4163 - accuracy: 0.9739 - val_loss: 0.9063 - val_accuracy: 0.8095\n",
      "Epoch 8/20\n",
      "123/123 [==============================] - 49s 395ms/step - loss: 0.3710 - accuracy: 0.9840 - val_loss: 0.8864 - val_accuracy: 0.8085\n",
      "Epoch 9/20\n",
      "123/123 [==============================] - ETA: 0s - loss: 0.3367 - accuracy: 0.9889Restoring model weights from the end of the best epoch: 8.\n",
      "123/123 [==============================] - 48s 392ms/step - loss: 0.3367 - accuracy: 0.9889 - val_loss: 0.8894 - val_accuracy: 0.8034\n",
      "Epoch 00009: early stopping\n"
     ]
    }
   ],
   "source": [
    "# train the model and use early stopping\n",
    "history_lemma = model_lemma.fit(train_data,\n",
    "                    validation_data=valid_data,\n",
    "                    epochs=20,\n",
    "                    callbacks=[es])"
   ],
   "metadata": {
    "collapsed": false,
    "pycharm": {
     "name": "#%%\n"
    }
   }
  },
  {
   "cell_type": "code",
   "execution_count": 11,
   "outputs": [
    {
     "name": "stdout",
     "output_type": "stream",
     "text": [
      "16/16 [==============================] - 1s 47ms/step - loss: 0.7903 - accuracy: 0.8308\n"
     ]
    },
    {
     "data": {
      "text/plain": "[0.7902708649635315, 0.8307849168777466]"
     },
     "execution_count": 11,
     "metadata": {},
     "output_type": "execute_result"
    }
   ],
   "source": [
    "model_lemma.evaluate(test_data)"
   ],
   "metadata": {
    "collapsed": false,
    "pycharm": {
     "name": "#%%\n"
    }
   }
  },
  {
   "cell_type": "code",
   "execution_count": null,
   "outputs": [],
   "source": [],
   "metadata": {
    "collapsed": false,
    "pycharm": {
     "name": "#%%\n"
    }
   }
  }
 ],
 "metadata": {
  "kernelspec": {
   "display_name": "Python 3",
   "language": "python",
   "name": "python3"
  },
  "language_info": {
   "codemirror_mode": {
    "name": "ipython",
    "version": 2
   },
   "file_extension": ".py",
   "mimetype": "text/x-python",
   "name": "python",
   "nbconvert_exporter": "python",
   "pygments_lexer": "ipython2",
   "version": "2.7.6"
  }
 },
 "nbformat": 4,
 "nbformat_minor": 0
}