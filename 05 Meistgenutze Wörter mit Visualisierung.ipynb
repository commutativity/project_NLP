{
 "cells": [
  {
   "cell_type": "code",
   "execution_count": 1,
   "id": "2aac4a79",
   "metadata": {
    "ExecuteTime": {
     "end_time": "2022-08-19T07:29:57.029203Z",
     "start_time": "2022-08-19T07:29:57.015208Z"
    }
   },
   "outputs": [],
   "source": [
    "import json"
   ]
  },
  {
   "cell_type": "code",
   "execution_count": 3,
   "id": "a8d34136",
   "metadata": {
    "ExecuteTime": {
     "end_time": "2022-08-19T07:30:50.690095Z",
     "start_time": "2022-08-19T07:30:50.183268Z"
    }
   },
   "outputs": [],
   "source": [
    "with open('Daten/Unternehmen_preprocessed.json', 'r') as rf:\n",
    "    desc = json.load(rf)"
   ]
  },
  {
   "cell_type": "code",
   "execution_count": 5,
   "id": "519e1f76",
   "metadata": {
    "ExecuteTime": {
     "end_time": "2022-08-19T07:31:01.130671Z",
     "start_time": "2022-08-19T07:31:01.117671Z"
    }
   },
   "outputs": [
    {
     "data": {
      "text/plain": [
       "{'name': 'Adara Acquisition Corp.',\n",
       " 'ticker': 'ADRA',\n",
       " 'sector': 'Financial Services',\n",
       " 'description': 'Adara Acquisition Corp. does not have significant operations. The company intends to effect a merger, capital stock exchange, asset acquisition, stock purchase, reorganization, or similar business combination with one or more businesses. It focuses on searching for businesses in the consumer products industry and related sectors, including those consumer industry businesses in the health and wellness, e-commerce, discretionary spending, and information technology sectors and related channels of distribution. The company was incorporated in 2020 and is based in Charlotte, North Carolina.',\n",
       " 'rough_lemmatization': 'Adara Acquisition Corp. significant operation company intend effect merger capital stock exchange asset acquisition stock purchase reorganization similar business combination business focus search business consumer product industry relate sector include consumer industry business health wellness e - commerce discretionary spending information technology sector related channel distribution company incorporate base Charlotte North Carolina',\n",
       " 'explicit_lemmatization': 'significant operation company intend effect merger capital stock exchange asset acquisition stock purchase reorganization similar business combination business focus search business consumer product industry relate sector include consumer industry business health wellness commerce discretionary spending information technology sector related channel distribution company incorporate base Charlotte North Carolina',\n",
       " 'search_engine': 'SIGNIFICANT OPERATION COMPANY INTEND EFFECT MERGER CAPITAL STOCK EXCHANGE ASSET ACQUISITION STOCK PURCHASE REORGANIZATION SIMILAR BUSINESS COMBINATION BUSINESS FOCUS SEARCH BUSINESS CONSUMER PRODUCT INDUSTRY RELATE SECTOR INCLUDE CONSUMER INDUSTRY BUSINESS HEALTH WELLNESS COMMERCE DISCRETIONARY SPENDING INFORMATION TECHNOLOGY SECTOR RELATED CHANNEL DISTRIBUTION COMPANY INCORPORATE BASE CHARLOTTE NORTH CAROLINA'}"
      ]
     },
     "execution_count": 5,
     "metadata": {},
     "output_type": "execute_result"
    }
   ],
   "source": [
    "desc[0]"
   ]
  },
  {
   "cell_type": "code",
   "execution_count": null,
   "id": "c9df9a80",
   "metadata": {},
   "outputs": [],
   "source": []
  }
 ],
 "metadata": {
  "kernelspec": {
   "display_name": "NLP",
   "language": "python",
   "name": "nlp"
  },
  "language_info": {
   "codemirror_mode": {
    "name": "ipython",
    "version": 3
   },
   "file_extension": ".py",
   "mimetype": "text/x-python",
   "name": "python",
   "nbconvert_exporter": "python",
   "pygments_lexer": "ipython3",
   "version": "3.10.4"
  },
  "toc": {
   "base_numbering": 1,
   "nav_menu": {},
   "number_sections": true,
   "sideBar": true,
   "skip_h1_title": false,
   "title_cell": "Table of Contents",
   "title_sidebar": "Contents",
   "toc_cell": false,
   "toc_position": {},
   "toc_section_display": true,
   "toc_window_display": false
  }
 },
 "nbformat": 4,
 "nbformat_minor": 5
}
