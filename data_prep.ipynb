{
 "cells": [
  {
   "cell_type": "markdown",
   "source": [
    "# Data preparation"
   ],
   "metadata": {
    "collapsed": false,
    "pycharm": {
     "name": "#%% md\n"
    }
   }
  },
  {
   "cell_type": "code",
   "execution_count": 9,
   "metadata": {
    "collapsed": true
   },
   "outputs": [],
   "source": [
    "import numpy as np\n",
    "import pandas as pd\n",
    "import matplotlib.pyplot as plt\n",
    "import json"
   ]
  },
  {
   "cell_type": "code",
   "execution_count": 4,
   "outputs": [
    {
     "name": "stdout",
     "output_type": "stream",
     "text": [
      "<class 'pandas.core.frame.DataFrame'>\n",
      "RangeIndex: 9856 entries, 0 to 9855\n",
      "Data columns (total 2 columns):\n",
      " #   Column       Non-Null Count  Dtype \n",
      "---  ------       --------------  ----- \n",
      " 0   description  9856 non-null   object\n",
      " 1   sector       9833 non-null   object\n",
      "dtypes: object(2)\n",
      "memory usage: 154.1+ KB\n"
     ]
    }
   ],
   "source": [
    "df = pd.read_json('data_complete.json')\n",
    "df = df[['description', 'sector']]\n",
    "\n",
    "# replace empty strings with nan values\n",
    "df = df.replace('', np.nan)\n",
    "df.info()"
   ],
   "metadata": {
    "collapsed": false,
    "pycharm": {
     "name": "#%%\n"
    }
   }
  },
  {
   "cell_type": "code",
   "execution_count": 5,
   "outputs": [
    {
     "name": "stdout",
     "output_type": "stream",
     "text": [
      "<class 'pandas.core.frame.DataFrame'>\n",
      "Int64Index: 9833 entries, 0 to 9855\n",
      "Data columns (total 2 columns):\n",
      " #   Column       Non-Null Count  Dtype \n",
      "---  ------       --------------  ----- \n",
      " 0   description  9833 non-null   object\n",
      " 1   sector       9833 non-null   object\n",
      "dtypes: object(2)\n",
      "memory usage: 230.5+ KB\n"
     ]
    }
   ],
   "source": [
    "# drop nan values\n",
    "df = df.dropna()\n",
    "df.info()"
   ],
   "metadata": {
    "collapsed": false,
    "pycharm": {
     "name": "#%%\n"
    }
   }
  },
  {
   "cell_type": "code",
   "execution_count": 6,
   "outputs": [
    {
     "data": {
      "text/plain": "Financial Services        2503\nHealthcare                1452\nIndustrials               1307\nTechnology                1139\nConsumer Cyclical         1023\nBasic Materials            594\nReal Estate                489\nConsumer Defensive         410\nCommunication Services     403\nEnergy                     338\nUtilities                  164\nIndustrial Goods             4\nServices                     3\nFinancial                    3\nConsumer Goods               1\nName: sector, dtype: int64"
     },
     "execution_count": 6,
     "metadata": {},
     "output_type": "execute_result"
    }
   ],
   "source": [
    "df.sector.value_counts()"
   ],
   "metadata": {
    "collapsed": false,
    "pycharm": {
     "name": "#%%\n"
    }
   }
  },
  {
   "cell_type": "code",
   "execution_count": 7,
   "outputs": [],
   "source": [
    "# consolidate data\n",
    "df = df.replace('Services', 'Financial Services')\n",
    "df = df.replace('Industrial Goods', 'Industrials')\n",
    "df = df.replace('Financial', 'Financial Services')\n",
    "df = df.replace('Consumer Goods', 'Consumer Cyclical')\n",
    "df = df.replace(to_replace=['Energy', 'Utilities'], value='Energy & Utility')"
   ],
   "metadata": {
    "collapsed": false,
    "pycharm": {
     "name": "#%%\n"
    }
   }
  },
  {
   "cell_type": "code",
   "execution_count": 8,
   "outputs": [
    {
     "data": {
      "text/plain": "Financial Services        2509\nHealthcare                1452\nIndustrials               1311\nTechnology                1139\nConsumer Cyclical         1024\nBasic Materials            594\nEnergy & Utility           502\nReal Estate                489\nConsumer Defensive         410\nCommunication Services     403\nName: sector, dtype: int64"
     },
     "execution_count": 8,
     "metadata": {},
     "output_type": "execute_result"
    }
   ],
   "source": [
    "df.sector.value_counts()"
   ],
   "metadata": {
    "collapsed": false,
    "pycharm": {
     "name": "#%%\n"
    }
   }
  },
  {
   "cell_type": "code",
   "execution_count": 12,
   "outputs": [
    {
     "data": {
      "text/plain": "                                            description  \\\n0     Adara Acquisition Corp. does not have signific...   \n1     AIM ImmunoTech Inc., an immuno-pharma company,...   \n2     Ashford, Inc is an asset management firm. The ...   \n3     The Arena Group Holdings, Inc., together with ...   \n4     AMCON Distributing Company, together with its ...   \n...                                                 ...   \n9851  asknet Solutions AG provides e-commerce soluti...   \n9852  audius SE, through its subsidiaries, provides ...   \n9853  BAVARIA Industries Group AG, an industrial hol...   \n9854  CeoTronics AG provides systems for mobile digi...   \n9855  Clean Logistics SE operates in the transport i...   \n\n                      sector  \n0         Financial Services  \n1                 Healthcare  \n2         Financial Services  \n3     Communication Services  \n4         Consumer Defensive  \n...                      ...  \n9851              Technology  \n9852              Technology  \n9853      Financial Services  \n9854              Technology  \n9855       Consumer Cyclical  \n\n[9833 rows x 2 columns]",
      "text/html": "<div>\n<style scoped>\n    .dataframe tbody tr th:only-of-type {\n        vertical-align: middle;\n    }\n\n    .dataframe tbody tr th {\n        vertical-align: top;\n    }\n\n    .dataframe thead th {\n        text-align: right;\n    }\n</style>\n<table border=\"1\" class=\"dataframe\">\n  <thead>\n    <tr style=\"text-align: right;\">\n      <th></th>\n      <th>description</th>\n      <th>sector</th>\n    </tr>\n  </thead>\n  <tbody>\n    <tr>\n      <th>0</th>\n      <td>Adara Acquisition Corp. does not have signific...</td>\n      <td>Financial Services</td>\n    </tr>\n    <tr>\n      <th>1</th>\n      <td>AIM ImmunoTech Inc., an immuno-pharma company,...</td>\n      <td>Healthcare</td>\n    </tr>\n    <tr>\n      <th>2</th>\n      <td>Ashford, Inc is an asset management firm. The ...</td>\n      <td>Financial Services</td>\n    </tr>\n    <tr>\n      <th>3</th>\n      <td>The Arena Group Holdings, Inc., together with ...</td>\n      <td>Communication Services</td>\n    </tr>\n    <tr>\n      <th>4</th>\n      <td>AMCON Distributing Company, together with its ...</td>\n      <td>Consumer Defensive</td>\n    </tr>\n    <tr>\n      <th>...</th>\n      <td>...</td>\n      <td>...</td>\n    </tr>\n    <tr>\n      <th>9851</th>\n      <td>asknet Solutions AG provides e-commerce soluti...</td>\n      <td>Technology</td>\n    </tr>\n    <tr>\n      <th>9852</th>\n      <td>audius SE, through its subsidiaries, provides ...</td>\n      <td>Technology</td>\n    </tr>\n    <tr>\n      <th>9853</th>\n      <td>BAVARIA Industries Group AG, an industrial hol...</td>\n      <td>Financial Services</td>\n    </tr>\n    <tr>\n      <th>9854</th>\n      <td>CeoTronics AG provides systems for mobile digi...</td>\n      <td>Technology</td>\n    </tr>\n    <tr>\n      <th>9855</th>\n      <td>Clean Logistics SE operates in the transport i...</td>\n      <td>Consumer Cyclical</td>\n    </tr>\n  </tbody>\n</table>\n<p>9833 rows × 2 columns</p>\n</div>"
     },
     "execution_count": 12,
     "metadata": {},
     "output_type": "execute_result"
    }
   ],
   "source": [
    "df"
   ],
   "metadata": {
    "collapsed": false,
    "pycharm": {
     "name": "#%%\n"
    }
   }
  },
  {
   "cell_type": "code",
   "execution_count": 66,
   "outputs": [
    {
     "data": {
      "text/plain": "                                            description              sector\n0     Adara Acquisition Corp. does not have signific...  Financial Services\n2     Ashford, Inc is an asset management firm. The ...  Financial Services\n5     Aberdeen Emerging Markets Equity Income Fund, ...  Financial Services\n7     Aberdeen Australia Equity Fund, Inc. is a clos...  Financial Services\n11    Allspring Multi-Sector Income Fund is a closed...  Financial Services\n...                                                 ...                 ...\n9840  NÜRNBERGER Beteiligungs-AG operates as an insu...  Financial Services\n9842  ÖKOWORLD AG, together with its subsidiaries, p...  Financial Services\n9846  Scherzer & Co. AG is a publicly owned investme...  Financial Services\n9847  The NAGA Group AG develops technologies for th...  Financial Services\n9853  BAVARIA Industries Group AG, an industrial hol...  Financial Services\n\n[2509 rows x 2 columns]",
      "text/html": "<div>\n<style scoped>\n    .dataframe tbody tr th:only-of-type {\n        vertical-align: middle;\n    }\n\n    .dataframe tbody tr th {\n        vertical-align: top;\n    }\n\n    .dataframe thead th {\n        text-align: right;\n    }\n</style>\n<table border=\"1\" class=\"dataframe\">\n  <thead>\n    <tr style=\"text-align: right;\">\n      <th></th>\n      <th>description</th>\n      <th>sector</th>\n    </tr>\n  </thead>\n  <tbody>\n    <tr>\n      <th>0</th>\n      <td>Adara Acquisition Corp. does not have signific...</td>\n      <td>Financial Services</td>\n    </tr>\n    <tr>\n      <th>2</th>\n      <td>Ashford, Inc is an asset management firm. The ...</td>\n      <td>Financial Services</td>\n    </tr>\n    <tr>\n      <th>5</th>\n      <td>Aberdeen Emerging Markets Equity Income Fund, ...</td>\n      <td>Financial Services</td>\n    </tr>\n    <tr>\n      <th>7</th>\n      <td>Aberdeen Australia Equity Fund, Inc. is a clos...</td>\n      <td>Financial Services</td>\n    </tr>\n    <tr>\n      <th>11</th>\n      <td>Allspring Multi-Sector Income Fund is a closed...</td>\n      <td>Financial Services</td>\n    </tr>\n    <tr>\n      <th>...</th>\n      <td>...</td>\n      <td>...</td>\n    </tr>\n    <tr>\n      <th>9840</th>\n      <td>NÜRNBERGER Beteiligungs-AG operates as an insu...</td>\n      <td>Financial Services</td>\n    </tr>\n    <tr>\n      <th>9842</th>\n      <td>ÖKOWORLD AG, together with its subsidiaries, p...</td>\n      <td>Financial Services</td>\n    </tr>\n    <tr>\n      <th>9846</th>\n      <td>Scherzer &amp; Co. AG is a publicly owned investme...</td>\n      <td>Financial Services</td>\n    </tr>\n    <tr>\n      <th>9847</th>\n      <td>The NAGA Group AG develops technologies for th...</td>\n      <td>Financial Services</td>\n    </tr>\n    <tr>\n      <th>9853</th>\n      <td>BAVARIA Industries Group AG, an industrial hol...</td>\n      <td>Financial Services</td>\n    </tr>\n  </tbody>\n</table>\n<p>2509 rows × 2 columns</p>\n</div>"
     },
     "execution_count": 66,
     "metadata": {},
     "output_type": "execute_result"
    }
   ],
   "source": [
    "# search through the descriptions\n",
    "df[df.sector == 'Financial Services']"
   ],
   "metadata": {
    "collapsed": false,
    "pycharm": {
     "name": "#%%\n"
    }
   }
  },
  {
   "cell_type": "code",
   "execution_count": 11,
   "outputs": [],
   "source": [
    "data_dict = df.to_dict('records')\n",
    "\n",
    "with open(f'data_prep.json', 'w') as file:\n",
    "    json.dump(data_dict, file)"
   ],
   "metadata": {
    "collapsed": false,
    "pycharm": {
     "name": "#%%\n"
    }
   }
  }
 ],
 "metadata": {
  "kernelspec": {
   "display_name": "Python 3",
   "language": "python",
   "name": "python3"
  },
  "language_info": {
   "codemirror_mode": {
    "name": "ipython",
    "version": 2
   },
   "file_extension": ".py",
   "mimetype": "text/x-python",
   "name": "python",
   "nbconvert_exporter": "python",
   "pygments_lexer": "ipython2",
   "version": "2.7.6"
  }
 },
 "nbformat": 4,
 "nbformat_minor": 0
}