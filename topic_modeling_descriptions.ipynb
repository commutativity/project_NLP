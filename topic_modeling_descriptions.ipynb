{
 "cells": [
  {
   "cell_type": "markdown",
   "source": [
    "## Topic modeling\n",
    "https://www.machinelearningplus.com/nlp/topic-modeling-gensim-python/"
   ],
   "metadata": {
    "collapsed": false,
    "pycharm": {
     "name": "#%% md\n"
    }
   }
  },
  {
   "cell_type": "code",
   "execution_count": 2,
   "metadata": {
    "collapsed": true
   },
   "outputs": [],
   "source": [
    "import re\n",
    "import numpy as np\n",
    "import pandas as pd\n",
    "from pprint import pprint\n",
    "\n",
    "# Gensim\n",
    "import gensim\n",
    "import gensim.corpora as corpora\n",
    "from gensim.utils import simple_preprocess\n",
    "from gensim.models import CoherenceModel\n",
    "\n",
    "# spacy for lemmatization\n",
    "import spacy\n",
    "nlp = spacy.load(\"en_core_web_md\")\n",
    "\n",
    "# Plotting tools\n",
    "import pyLDAvis\n",
    "import pyLDAvis.gensim_models  # don't skip this\n",
    "import matplotlib.pyplot as plt\n",
    "%matplotlib inline\n",
    "\n",
    "# Enable logging for gensim - optional\n",
    "import logging\n",
    "logging.basicConfig(format='%(asctime)s : %(levelname)s : %(message)s', level=logging.ERROR)\n",
    "\n",
    "import warnings\n",
    "warnings.filterwarnings(\"ignore\",category=DeprecationWarning)"
   ]
  },
  {
   "cell_type": "code",
   "execution_count": 3,
   "outputs": [],
   "source": [
    "# NLTK Stop words\n",
    "from nltk.corpus import stopwords\n",
    "stop_words = stopwords.words('english')\n",
    "stop_words.extend(['from', 'subject', 're', 'edu', 'use'])"
   ],
   "metadata": {
    "collapsed": false,
    "pycharm": {
     "name": "#%%\n"
    }
   }
  },
  {
   "cell_type": "code",
   "execution_count": 4,
   "outputs": [
    {
     "name": "stdout",
     "output_type": "stream",
     "text": [
      "['Financial Services' 'Healthcare' 'Communication Services'\n",
      " 'Consumer Defensive' 'Basic Materials' 'Industrials' 'Consumer Cyclical'\n",
      " 'Energy & Utility' 'Real Estate' 'Technology']\n"
     ]
    },
    {
     "data": {
      "text/plain": "                                         description                  sector\n0  Adara Acquisition Corp. does not have signific...      Financial Services\n1  AIM ImmunoTech Inc., an immuno-pharma company,...              Healthcare\n2  Ashford, Inc is an asset management firm. The ...      Financial Services\n3  The Arena Group Holdings, Inc., together with ...  Communication Services\n4  AMCON Distributing Company, together with its ...      Consumer Defensive",
      "text/html": "<div>\n<style scoped>\n    .dataframe tbody tr th:only-of-type {\n        vertical-align: middle;\n    }\n\n    .dataframe tbody tr th {\n        vertical-align: top;\n    }\n\n    .dataframe thead th {\n        text-align: right;\n    }\n</style>\n<table border=\"1\" class=\"dataframe\">\n  <thead>\n    <tr style=\"text-align: right;\">\n      <th></th>\n      <th>description</th>\n      <th>sector</th>\n    </tr>\n  </thead>\n  <tbody>\n    <tr>\n      <th>0</th>\n      <td>Adara Acquisition Corp. does not have signific...</td>\n      <td>Financial Services</td>\n    </tr>\n    <tr>\n      <th>1</th>\n      <td>AIM ImmunoTech Inc., an immuno-pharma company,...</td>\n      <td>Healthcare</td>\n    </tr>\n    <tr>\n      <th>2</th>\n      <td>Ashford, Inc is an asset management firm. The ...</td>\n      <td>Financial Services</td>\n    </tr>\n    <tr>\n      <th>3</th>\n      <td>The Arena Group Holdings, Inc., together with ...</td>\n      <td>Communication Services</td>\n    </tr>\n    <tr>\n      <th>4</th>\n      <td>AMCON Distributing Company, together with its ...</td>\n      <td>Consumer Defensive</td>\n    </tr>\n  </tbody>\n</table>\n</div>"
     },
     "execution_count": 4,
     "metadata": {},
     "output_type": "execute_result"
    }
   ],
   "source": [
    "# Import Dataset\n",
    "df = pd.read_json('data_prep.json')\n",
    "print(df.sector.unique())\n",
    "df.head()"
   ],
   "metadata": {
    "collapsed": false,
    "pycharm": {
     "name": "#%%\n"
    }
   }
  },
  {
   "cell_type": "code",
   "execution_count": 5,
   "outputs": [
    {
     "name": "stdout",
     "output_type": "stream",
     "text": [
      "['Adara Acquisition Corp. does not have significant operations. The company '\n",
      " 'intends to effect a merger, capital stock exchange, asset acquisition, stock '\n",
      " 'purchase, reorganization, or similar business combination with one or more '\n",
      " 'businesses. It focuses on searching for businesses in the consumer products '\n",
      " 'industry and related sectors, including those consumer industry businesses '\n",
      " 'in the health and wellness, e-commerce, discretionary spending, and '\n",
      " 'information technology sectors and related channels of distribution. The '\n",
      " 'company was incorporated in 2020 and is based in Charlotte, North Carolina.']\n"
     ]
    }
   ],
   "source": [
    "# Convert to list\n",
    "data = df.description.values.tolist()\n",
    "\n",
    "# Remove Emails\n",
    "# data = [re.sub('\\S*@\\S*\\s?', '', sent) for sent in data]\n",
    "\n",
    "# Remove new line characters\n",
    "# data = [re.sub('\\s+', ' ', sent) for sent in data]\n",
    "\n",
    "# Remove distracting single quotes\n",
    "# data = [re.sub(\"\\'\", \"\", sent) for sent in data]\n",
    "\n",
    "pprint(data[:1])"
   ],
   "metadata": {
    "collapsed": false,
    "pycharm": {
     "name": "#%%\n"
    }
   }
  },
  {
   "cell_type": "code",
   "execution_count": 6,
   "outputs": [
    {
     "name": "stdout",
     "output_type": "stream",
     "text": [
      "[['adara', 'acquisition', 'corp', 'does', 'not', 'have', 'significant', 'operations', 'the', 'company', 'intends', 'to', 'effect', 'merger', 'capital', 'stock', 'exchange', 'asset', 'acquisition', 'stock', 'purchase', 'reorganization', 'or', 'similar', 'business', 'combination', 'with', 'one', 'or', 'more', 'businesses', 'it', 'focuses', 'on', 'searching', 'for', 'businesses', 'in', 'the', 'consumer', 'products', 'industry', 'and', 'related', 'sectors', 'including', 'those', 'consumer', 'industry', 'businesses', 'in', 'the', 'health', 'and', 'wellness', 'commerce', 'discretionary', 'spending', 'and', 'information', 'technology', 'sectors', 'and', 'related', 'channels', 'of', 'distribution', 'the', 'company', 'was', 'incorporated', 'in', 'and', 'is', 'based', 'in', 'charlotte', 'north', 'carolina']]\n"
     ]
    }
   ],
   "source": [
    "def sent_to_words(sentences):\n",
    "    for sentence in sentences:\n",
    "        yield(gensim.utils.simple_preprocess(str(sentence), deacc=True))  # deacc=True removes punctuations\n",
    "\n",
    "data_words = list(sent_to_words(data))\n",
    "\n",
    "print(data_words[:1])"
   ],
   "metadata": {
    "collapsed": false,
    "pycharm": {
     "name": "#%%\n"
    }
   }
  },
  {
   "cell_type": "code",
   "execution_count": 7,
   "outputs": [
    {
     "name": "stdout",
     "output_type": "stream",
     "text": [
      "['adara', 'acquisition_corp_does', 'not_have_significant_operations', 'the', 'company', 'intends', 'to', 'effect_merger_capital', 'stock_exchange_asset', 'acquisition_stock_purchase', 'reorganization_or_similar', 'business', 'combination', 'with', 'one', 'or_more_businesses', 'it', 'focuses_on', 'searching', 'for', 'businesses', 'in', 'the', 'consumer', 'products', 'industry', 'and', 'related', 'sectors', 'including', 'those', 'consumer', 'industry', 'businesses', 'in', 'the', 'health', 'and', 'wellness', 'commerce', 'discretionary', 'spending', 'and', 'information', 'technology', 'sectors', 'and', 'related', 'channels', 'of', 'distribution', 'the', 'company', 'was', 'incorporated', 'in', 'and', 'is', 'based', 'in', 'charlotte_north_carolina']\n"
     ]
    }
   ],
   "source": [
    "# Build the bigram and trigram models\n",
    "bigram = gensim.models.Phrases(data_words, min_count=5, threshold=100)  # higher threshold fewer phrases.\n",
    "trigram = gensim.models.Phrases(bigram[data_words], threshold=100)\n",
    "\n",
    "# Faster way to get a sentence clubbed as a trigram/bigram\n",
    "bigram_mod = gensim.models.phrases.Phraser(bigram)\n",
    "trigram_mod = gensim.models.phrases.Phraser(trigram)\n",
    "\n",
    "# See trigram example\n",
    "print(trigram_mod[bigram_mod[data_words[0]]])"
   ],
   "metadata": {
    "collapsed": false,
    "pycharm": {
     "name": "#%%\n"
    }
   }
  },
  {
   "cell_type": "code",
   "execution_count": 8,
   "outputs": [],
   "source": [
    "# Define functions for stopwords, bigrams, trigrams and lemmatization\n",
    "def remove_stopwords(texts):\n",
    "    return [[word for word in simple_preprocess(str(doc)) if word not in stop_words] for doc in texts]\n",
    "\n",
    "def make_bigrams(texts):\n",
    "    return [bigram_mod[doc] for doc in texts]\n",
    "\n",
    "def make_trigrams(texts):\n",
    "    return [trigram_mod[bigram_mod[doc]] for doc in texts]\n",
    "\n",
    "def lemmatization(texts, allowed_postags=['NOUN', 'ADJ', 'VERB', 'ADV']):\n",
    "    \"\"\"https://spacy.io/api/annotation\"\"\"\n",
    "    texts_out = []\n",
    "    for sent in texts:\n",
    "        doc = nlp(\" \".join(sent))\n",
    "        texts_out.append([token.lemma_ for token in doc if token.pos_ in allowed_postags])\n",
    "    return texts_out"
   ],
   "metadata": {
    "collapsed": false,
    "pycharm": {
     "name": "#%%\n"
    }
   }
  },
  {
   "cell_type": "code",
   "execution_count": 9,
   "outputs": [
    {
     "name": "stdout",
     "output_type": "stream",
     "text": [
      "[['significant_operation', 'company', 'intend', 'capital', 'asset', 'acquisition', 'stock_purchase', 'reorganization', 'similar', 'business', 'combination', 'business', 'focus', 'search', 'business', 'consumer', 'product', 'industry', 'relate', 'sector', 'include', 'consumer', 'industry', 'business', 'health', 'commerce', 'discretionary', 'spending', 'information', 'technology', 'sector', 'relate', 'channel', 'distribution', 'company', 'incorporate', 'base']]\n"
     ]
    }
   ],
   "source": [
    "# Remove Stop Words\n",
    "data_words_nostops = remove_stopwords(data_words)\n",
    "\n",
    "# Form Bigrams\n",
    "data_words_bigrams = make_bigrams(data_words_nostops)\n",
    "\n",
    "# Initialize spacy 'en' model, keeping only tagger component (for efficiency)\n",
    "# python3 -m spacy download en\n",
    "nlp = spacy.load(\"en_core_web_sm\", disable=['parser', 'ner'])\n",
    "\n",
    "# Do lemmatization keeping only noun, adj, vb, adv\n",
    "data_lemmatized = lemmatization(data_words_bigrams, allowed_postags=['NOUN', 'ADJ', 'VERB', 'ADV'])\n",
    "\n",
    "print(data_lemmatized[:1])"
   ],
   "metadata": {
    "collapsed": false,
    "pycharm": {
     "name": "#%%\n"
    }
   }
  },
  {
   "cell_type": "code",
   "execution_count": 10,
   "outputs": [
    {
     "name": "stdout",
     "output_type": "stream",
     "text": [
      "[[(0, 1), (1, 1), (2, 1), (3, 4), (4, 1), (5, 1), (6, 1), (7, 1), (8, 2), (9, 2), (10, 1), (11, 1), (12, 1), (13, 1), (14, 1), (15, 1), (16, 2), (17, 1), (18, 1), (19, 1), (20, 2), (21, 1), (22, 1), (23, 2), (24, 1), (25, 1), (26, 1), (27, 1), (28, 1)]]\n"
     ]
    }
   ],
   "source": [
    "# Create Dictionary\n",
    "id2word = corpora.Dictionary(data_lemmatized)\n",
    "\n",
    "# Create Corpus\n",
    "texts = data_lemmatized\n",
    "\n",
    "# Term Document Frequency\n",
    "corpus = [id2word.doc2bow(text) for text in texts]\n",
    "\n",
    "# View\n",
    "print(corpus[:1])"
   ],
   "metadata": {
    "collapsed": false,
    "pycharm": {
     "name": "#%%\n"
    }
   }
  },
  {
   "cell_type": "code",
   "execution_count": 11,
   "outputs": [
    {
     "data": {
      "text/plain": "[[('acquisition', 1),\n  ('asset', 1),\n  ('base', 1),\n  ('business', 4),\n  ('capital', 1),\n  ('channel', 1),\n  ('combination', 1),\n  ('commerce', 1),\n  ('company', 2),\n  ('consumer', 2),\n  ('discretionary', 1),\n  ('distribution', 1),\n  ('focus', 1),\n  ('health', 1),\n  ('include', 1),\n  ('incorporate', 1),\n  ('industry', 2),\n  ('information', 1),\n  ('intend', 1),\n  ('product', 1),\n  ('relate', 2),\n  ('reorganization', 1),\n  ('search', 1),\n  ('sector', 2),\n  ('significant_operation', 1),\n  ('similar', 1),\n  ('spending', 1),\n  ('stock_purchase', 1),\n  ('technology', 1)]]"
     },
     "execution_count": 11,
     "metadata": {},
     "output_type": "execute_result"
    }
   ],
   "source": [
    "# Human-readable format of corpus (term-frequency)\n",
    "[[(id2word[id], freq) for id, freq in cp] for cp in corpus[:1]]"
   ],
   "metadata": {
    "collapsed": false,
    "pycharm": {
     "name": "#%%\n"
    }
   }
  },
  {
   "cell_type": "code",
   "execution_count": 12,
   "outputs": [],
   "source": [
    "# Build LDA model\n",
    "lda_model = gensim.models.ldamodel.LdaModel(corpus=corpus,\n",
    "                                           id2word=id2word,\n",
    "                                           num_topics=10,\n",
    "                                           random_state=100,\n",
    "                                           update_every=1,\n",
    "                                           chunksize=100,\n",
    "                                           passes=10,\n",
    "                                           alpha='auto',\n",
    "                                           per_word_topics=True)"
   ],
   "metadata": {
    "collapsed": false,
    "pycharm": {
     "name": "#%%\n"
    }
   }
  },
  {
   "cell_type": "code",
   "execution_count": 13,
   "outputs": [
    {
     "name": "stdout",
     "output_type": "stream",
     "text": [
      "[(0,\n",
      "  '0.076*\"service\" + 0.055*\"solution\" + 0.032*\"provide\" + 0.026*\"management\" + '\n",
      "  '0.022*\"technology\" + 0.021*\"software\" + 0.021*\"system\" + 0.019*\"company\" + '\n",
      "  '0.016*\"offer\" + 0.013*\"communication\"'),\n",
      " (1,\n",
      "  '0.035*\"product\" + 0.030*\"system\" + 0.022*\"equipment\" + 0.019*\"company\" + '\n",
      "  '0.018*\"manufacture\" + 0.017*\"segment\" + 0.016*\"material\" + 0.016*\"offer\" + '\n",
      "  '0.014*\"sell\" + 0.013*\"industrial\"'),\n",
      " (2,\n",
      "  '0.058*\"invest\" + 0.042*\"fund\" + 0.038*\"good\" + 0.033*\"portfolio\" + '\n",
      "  '0.027*\"market\" + 0.025*\"firm\" + 0.024*\"company\" + 0.024*\"manage\" + '\n",
      "  '0.021*\"investment\" + 0.018*\"stock\"'),\n",
      " (3,\n",
      "  '0.062*\"international\" + 0.044*\"derivative\" + 0.030*\"eye\" + 0.026*\"canadian\" '\n",
      "  '+ 0.026*\"combine\" + 0.018*\"double\" + 0.018*\"foreign_exchange\" + '\n",
      "  '0.016*\"option\" + 0.015*\"mountain\" + 0.014*\"authority\"'),\n",
      " (4,\n",
      "  '0.054*\"company\" + 0.031*\"business\" + 0.024*\"engage\" + 0.019*\"production\" + '\n",
      "  '0.018*\"incorporate\" + 0.017*\"project\" + 0.017*\"base\" + 0.016*\"film\" + '\n",
      "  '0.016*\"operate\" + 0.015*\"development\"'),\n",
      " (5,\n",
      "  '0.056*\"investment\" + 0.051*\"real_estate\" + 0.048*\"management\" + '\n",
      "  '0.036*\"financial\" + 0.032*\"service\" + 0.032*\"property\" + 0.021*\"loan\" + '\n",
      "  '0.020*\"security\" + 0.020*\"commercial\" + 0.019*\"private\"'),\n",
      " (6,\n",
      "  '0.038*\"company\" + 0.037*\"treatment\" + 0.027*\"develop\" + '\n",
      "  '0.025*\"pharmaceutical\" + 0.017*\"agent\" + 0.017*\"general\" + 0.016*\"product\" '\n",
      "  '+ 0.015*\"laser\" + 0.014*\"research\" + 0.014*\"drug\"'),\n",
      " (7,\n",
      "  '0.047*\"company\" + 0.033*\"operate\" + 0.033*\"product\" + 0.030*\"service\" + '\n",
      "  '0.023*\"found\" + 0.023*\"provide\" + 0.022*\"offer\" + 0.019*\"segment\" + '\n",
      "  '0.019*\"also\" + 0.017*\"business\"'),\n",
      " (8,\n",
      "  '0.090*\"electric\" + 0.021*\"intermediate\" + 0.020*\"protein\" + 0.020*\"powder\" '\n",
      "  '+ 0.016*\"link\" + 0.016*\"produce\" + 0.016*\"western\" + 0.016*\"seed\" + '\n",
      "  '0.013*\"export\" + 0.013*\"rice\"'),\n",
      " (9,\n",
      "  '0.086*\"medical\" + 0.062*\"care\" + 0.038*\"device\" + 0.030*\"functional\" + '\n",
      "  '0.029*\"hospital\" + 0.022*\"healthcare\" + 0.022*\"internet\" + 0.022*\"wireless\" '\n",
      "  '+ 0.021*\"mold\" + 0.019*\"smart\"')]\n"
     ]
    }
   ],
   "source": [
    "# Print the Keyword in the 10 topics\n",
    "pprint(lda_model.print_topics())\n",
    "doc_lda = lda_model[corpus]"
   ],
   "metadata": {
    "collapsed": false,
    "pycharm": {
     "name": "#%%\n"
    }
   }
  },
  {
   "cell_type": "code",
   "execution_count": 14,
   "outputs": [
    {
     "name": "stdout",
     "output_type": "stream",
     "text": [
      "\n",
      "Perplexity:  -7.7375897555076065\n",
      "\n",
      "Coherence Score:  0.4715459446652397\n"
     ]
    }
   ],
   "source": [
    "# Compute Perplexity\n",
    "print('\\nPerplexity: ', lda_model.log_perplexity(corpus))  # a measure of how good the model is. lower the better.\n",
    "\n",
    "# Compute Coherence Score\n",
    "coherence_model_lda = CoherenceModel(model=lda_model, texts=data_lemmatized, dictionary=id2word, coherence='c_v')\n",
    "coherence_lda = coherence_model_lda.get_coherence()\n",
    "print('\\nCoherence Score: ', coherence_lda)"
   ],
   "metadata": {
    "collapsed": false,
    "pycharm": {
     "name": "#%%\n"
    }
   }
  },
  {
   "cell_type": "code",
   "execution_count": 15,
   "outputs": [
    {
     "name": "stderr",
     "output_type": "stream",
     "text": [
      "C:\\Users\\esse\\anaconda3\\envs\\topic_modeling\\lib\\site-packages\\pyLDAvis\\_prepare.py:246: FutureWarning: In a future version of pandas all arguments of DataFrame.drop except for the argument 'labels' will be keyword-only.\n",
      "  default_term_info = default_term_info.sort_values(\n"
     ]
    },
    {
     "data": {
      "text/plain": "PreparedData(topic_coordinates=              x         y  topics  cluster       Freq\ntopic                                                \n7      0.265718 -0.028368       1        1  28.323374\n1      0.234474 -0.151520       2        1  23.809565\n0      0.215865  0.057733       3        1  16.574647\n4      0.134701  0.041675       4        1   8.361079\n6      0.047888 -0.125510       5        1   8.246196\n5     -0.039626  0.308502       6        1   6.734935\n2     -0.138786  0.194923       7        1   4.098844\n9     -0.221708 -0.141309       8        1   2.155795\n8     -0.250430 -0.091287       9        1   1.245251\n3     -0.248098 -0.064839      10        1   0.450314, topic_info=              Term          Freq         Total Category  logprob  loglift\n81         service  16202.000000  16202.000000  Default  30.0000  30.0000\n264       solution   6305.000000   6305.000000  Default  29.0000  29.0000\n78      management   6062.000000   6062.000000  Default  28.0000  28.0000\n77      investment   3227.000000   3227.000000  Default  27.0000  27.0000\n8          company  20901.000000  20901.000000  Default  26.0000  26.0000\n...            ...           ...           ...      ...      ...      ...\n646     purchasing     15.221398     16.285344  Topic10  -5.3264   5.3354\n703       clearing     14.644972     15.708924  Topic10  -5.3650   5.3328\n3107  fixed_income     12.043224     13.107130  Topic10  -5.5606   5.3183\n6969          swap     11.429485     12.493402  Topic10  -5.6129   5.3140\n717         option     50.235166    110.811662  Topic10  -4.1324   4.6119\n\n[514 rows x 6 columns], token_table=      Topic      Freq         Term\nterm                              \n723       3  0.998672       access\n0         4  0.747091  acquisition\n0         6  0.251358  acquisition\n1079      1  0.875931     activity\n1079      2  0.123040     activity\n...     ...       ...          ...\n6793     10  0.972474         wide\n735       8  0.998069     wireless\n2030      5  0.997599        woman\n946       6  0.994575         year\n482       4  0.992679         zinc\n\n[675 rows x 3 columns], R=30, lambda_step=0.01, plot_opts={'xlab': 'PC1', 'ylab': 'PC2'}, topic_order=[8, 2, 1, 5, 7, 6, 3, 10, 9, 4])",
      "text/html": "\n<link rel=\"stylesheet\" type=\"text/css\" href=\"https://cdn.jsdelivr.net/gh/bmabey/pyLDAvis@3.3.1/pyLDAvis/js/ldavis.v1.0.0.css\">\n\n\n<div id=\"ldavis_el176802160338390816787672747\"></div>\n<script type=\"text/javascript\">\n\nvar ldavis_el176802160338390816787672747_data = {\"mdsDat\": {\"x\": [0.26571829182726664, 0.23447354921146993, 0.2158653407083362, 0.13470127384237734, 0.04788823479742594, -0.03962576714167184, -0.13878590323604106, -0.22170782500732772, -0.2504296514636791, -0.2480975435381563], \"y\": [-0.02836833290126404, -0.1515199564454956, 0.0577330032535513, 0.04167532999868169, -0.1255100880916301, 0.30850236420914906, 0.19492343782990718, -0.14130937028911397, -0.09128689376828353, -0.06483949379550162], \"topics\": [1, 2, 3, 4, 5, 6, 7, 8, 9, 10], \"cluster\": [1, 1, 1, 1, 1, 1, 1, 1, 1, 1], \"Freq\": [28.323374400361175, 23.809564735402635, 16.574647312342552, 8.361078575151025, 8.246196077050746, 6.734935264987526, 4.098844061830497, 2.1557951003411553, 1.2452509587596468, 0.450313513773042]}, \"tinfo\": {\"Term\": [\"service\", \"solution\", \"management\", \"investment\", \"company\", \"product\", \"operate\", \"real_estate\", \"medical\", \"system\", \"business\", \"treatment\", \"provide\", \"invest\", \"device\", \"financial\", \"equipment\", \"property\", \"market\", \"software\", \"fund\", \"care\", \"engage\", \"develop\", \"material\", \"pharmaceutical\", \"manufacture\", \"technology\", \"good\", \"electric\", \"insurance\", \"store\", \"retail\", \"home\", \"online\", \"cloud\", \"banking\", \"restaurant\", \"planning\", \"packaging\", \"life\", \"plan\", \"game\", \"housing\", \"coating\", \"advertising\", \"wholesale\", \"shop\", \"brokerage\", \"rental\", \"hotel\", \"leasing\", \"rail\", \"container\", \"channel\", \"personal\", \"advisory\", \"body\", \"aluminum\", \"consult\", \"trade\", \"car\", \"sport\", \"brand\", \"operate\", \"mobile\", \"food\", \"consumer\", \"found\", \"tokyo_japan\", \"activity\", \"sale\", \"company\", \"product\", \"segment\", \"offer\", \"also\", \"provide\", \"business\", \"well\", \"service\", \"subsidiary\", \"various\", \"engage\", \"headquartered\", \"sell\", \"include\", \"addition\", \"involve\", \"change\", \"base\", \"material\", \"power\", \"component\", \"automotive\", \"supply\", \"part\", \"water\", \"sensor\", \"semiconductor\", \"paper\", \"plastic\", \"module\", \"optical\", \"electrical\", \"glass\", \"engine\", \"light\", \"instrument\", \"precision\", \"pump\", \"test\", \"repair\", \"environmental\", \"testing\", \"transmission\", \"waste\", \"truck\", \"manufacturer\", \"other\", \"ceramic\", \"equipment\", \"air\", \"industrial\", \"manufacture\", \"machinery\", \"machine\", \"electronic\", \"vehicle\", \"chemical\", \"information\", \"system\", \"construction\", \"control\", \"product\", \"sell\", \"segment\", \"use\", \"plant\", \"offer\", \"building\", \"well\", \"company\", \"include\", \"found\", \"also\", \"internationally\", \"provide\", \"industry\", \"solution\", \"software\", \"steel\", \"infrastructure\", \"datum\", \"logistic\", \"battery\", \"video\", \"germany\", \"training\", \"data\", \"access\", \"enable\", \"integration\", \"division\", \"analytic\", \"terminal\", \"resin\", \"web\", \"traffic\", \"road\", \"mobility\", \"procurement\", \"civil_engineere\", \"self\", \"fleet\", \"pipe\", \"polymer\", \"connect\", \"bus\", \"support\", \"communication\", \"enterprise\", \"technology\", \"platform\", \"digital\", \"network\", \"consulting\", \"service\", \"integrate\", \"customer\", \"management\", \"automation\", \"provide\", \"application\", \"medium\", \"system\", \"sector\", \"development\", \"offer\", \"industry\", \"base\", \"company\", \"security\", \"include\", \"process\", \"operation\", \"business\", \"also\", \"film\", \"exploration\", \"hold\", \"locate\", \"natural_ga\", \"gold\", \"copper\", \"payment\", \"provision\", \"explore\", \"electricity\", \"mineral\", \"mine\", \"construct\", \"carbon\", \"silver\", \"music\", \"engineer\", \"total\", \"petroleum\", \"right\", \"book\", \"fruit\", \"capacity\", \"crude_oil\", \"generate\", \"belt\", \"precious_metal\", \"zinc\", \"mineral_propertie\", \"mining\", \"fuel\", \"project\", \"acquisition\", \"production\", \"own\", \"oil\", \"approximately\", \"incorporate\", \"engage\", \"business\", \"energy\", \"company\", \"gas\", \"development\", \"base\", \"property\", \"operate\", \"area\", \"asset\", \"change\", \"produce\", \"agent\", \"general\", \"laser\", \"drug\", \"therapy\", \"disease\", \"peripheral\", \"treat\", \"clinical_trial\", \"clinical\", \"cancer\", \"medicine\", \"aviation\", \"drink\", \"specific\", \"therapeutic\", \"synthetic\", \"candidate\", \"phase\", \"blood\", \"head\", \"biosimilar\", \"reagent\", \"damage\", \"study\", \"man\", \"woman\", \"age\", \"oncology\", \"biotechnology\", \"treatment\", \"pharmaceutical\", \"patient\", \"analysis\", \"diagnostic\", \"research\", \"cell\", \"develop\", \"company\", \"development\", \"product\", \"also\", \"include\", \"health\", \"base\", \"incorporate\", \"found\", \"real_estate\", \"loan\", \"credit\", \"transaction\", \"land\", \"bank\", \"implementation\", \"cash\", \"trust\", \"mortgage\", \"bond\", \"tax\", \"cannabis\", \"compact\", \"saving\", \"debt\", \"list\", \"prefer\", \"reit\", \"revenue\", \"publicly_owne\", \"currency\", \"basic\", \"close\", \"servicing\", \"renovation\", \"year\", \"day\", \"stake\", \"implement\", \"german\", \"investment\", \"financial\", \"financing\", \"finance\", \"corporate\", \"residential\", \"private\", \"investor\", \"property\", \"deposit\", \"security\", \"management\", \"asset\", \"commercial\", \"internet\", \"small\", \"lease\", \"service\", \"equity\", \"business\", \"fund\", \"office\", \"good\", \"firm\", \"stock\", \"house\", \"global\", \"gmbh\", \"seek\", \"raw_material\", \"growth\", \"quality\", \"value\", \"index\", \"physical\", \"launch\", \"domicile\", \"closed_ende\", \"opportunity\", \"position\", \"turn\", \"formerly_known\", \"top\", \"price\", \"benchmark\", \"aim\", \"section\", \"receive\", \"valuation\", \"style\", \"llc\", \"shareholder\", \"invest\", \"domestic\", \"fund\", \"portfolio\", \"form\", \"income\", \"equity\", \"manage\", \"market\", \"create\", \"analysis\", \"investment\", \"performance\", \"primarily\", \"company\", \"public\", \"sector\", \"asset\", \"high\", \"hospital\", \"wireless\", \"mold\", \"license\", \"drilling\", \"charge\", \"dental\", \"operational\", \"drill\", \"ear\", \"surgical\", \"injection_molde\", \"internal\", \"claim\", \"rehabilitation\", \"pad\", \"nursing_care\", \"pen\", \"oxygen\", \"pain\", \"require\", \"surgery\", \"foam\", \"stand\", \"visualization\", \"plug\", \"sealing\", \"ultrasonic\", \"continuous\", \"quartz\", \"care\", \"medical\", \"functional\", \"cosmetic\", \"healthcare\", \"smart\", \"monitor\", \"device\", \"internet\", \"diagnostic\", \"electric\", \"intermediate\", \"protein\", \"powder\", \"link\", \"western\", \"seed\", \"export\", \"rice\", \"catalyst\", \"dairy\", \"nutrition\", \"fertilizer\", \"mix\", \"paste\", \"soil\", \"crop\", \"biological\", \"lithium\", \"sweet\", \"corn\", \"start\", \"bean\", \"vending_machine\", \"egg\", \"noodle\", \"stabilizer\", \"starch\", \"cheese\", \"spectrum\", \"non\", \"produce\", \"chemical\", \"grade\", \"international\", \"derivative\", \"eye\", \"canadian\", \"combine\", \"double\", \"foreign_exchange\", \"mountain\", \"authority\", \"sharing\", \"evaluate\", \"future\", \"trader\", \"garage\", \"centre\", \"modern\", \"establish\", \"great\", \"clear\", \"wide\", \"difference\", \"american\", \"forward\", \"ski\", \"pursue\", \"early_stage\", \"purchasing\", \"clearing\", \"fixed_income\", \"swap\", \"option\"], \"Freq\": [16202.0, 6305.0, 6062.0, 3227.0, 20901.0, 13192.0, 7923.0, 2399.0, 1796.0, 7501.0, 6395.0, 2414.0, 9547.0, 1812.0, 1783.0, 2062.0, 3734.0, 2624.0, 2392.0, 2449.0, 1582.0, 1131.0, 4076.0, 4028.0, 2628.0, 1627.0, 3103.0, 2811.0, 1079.0, 778.0, 1972.5396648165615, 1700.3552071274282, 1504.0711160569451, 1391.4031307813618, 1214.6342908789497, 896.359430882908, 832.0041084435494, 712.636512939697, 702.6237317922868, 673.5492482338412, 661.2243404467434, 643.5241554578846, 637.250996603371, 635.2584448561763, 615.2362754655229, 582.5713656974189, 570.2536105191058, 530.9360868304525, 529.6963930078961, 515.802908944318, 509.95601806333457, 497.4622903688971, 494.9102762345866, 483.4320355873411, 482.9560661527691, 475.7027247944236, 469.0979783326637, 462.8104225604683, 454.46121900621625, 445.37456314624654, 633.7397992910194, 880.0024232937011, 605.0068986520961, 1458.6493909712872, 6523.2188260300045, 1257.5787374220854, 1567.999299371704, 995.4342499637552, 4539.617376627676, 1592.7803378070635, 897.0115103837734, 1804.2505177286646, 9221.853370815443, 6425.26476572564, 3687.9357078167127, 4398.720153581754, 3679.5506495184245, 4478.110076286177, 3294.5235178391604, 2623.5376545535946, 5948.47663254815, 1509.877292087924, 1554.8843492642989, 1979.2524798610482, 1707.4837904825497, 1823.874341830082, 2005.840927516216, 1448.6361054732574, 1055.3765961832232, 1297.709824509934, 1355.5019864886074, 2627.8590007173257, 1626.6485680426983, 1489.2815187957287, 1276.959061933058, 1167.714040783228, 1140.6349882383693, 1050.2439278796373, 688.8291564813596, 674.6171692162973, 580.1388086934248, 564.1389239064238, 522.4131567774273, 518.7298265601994, 493.5250080205427, 488.1142543627335, 483.1847495129724, 457.33094271207, 441.2895470355713, 415.5966190208929, 408.04672481793966, 398.7395362929188, 395.09093338436077, 389.5973892059936, 380.67678770201405, 370.1147908961336, 366.2859605787631, 354.5461260085753, 335.88299197133347, 331.12014736872914, 324.92824125274996, 3695.011235068802, 339.3888313379237, 2088.552453637266, 2926.761147633375, 807.0569491117332, 1347.6511431707506, 1652.4252501547571, 1321.5348195004253, 899.4491658146791, 1074.322325114216, 5005.412810880111, 1501.4026985290457, 959.691140787078, 5866.637423763637, 2333.4068828243417, 2799.888452099372, 967.2373348550342, 723.5657925748138, 2594.2577664649316, 743.0235691457356, 1592.3756051160567, 3207.8715037609045, 1443.1207929851648, 1570.1145137680282, 1525.3088082278261, 1005.268324474156, 1412.8731144183907, 931.4791531578234, 6304.017863034865, 2448.7249598428457, 1095.531565585785, 1052.9849926174543, 907.4780935247826, 828.0587684401371, 592.7037082243221, 554.0396016677055, 595.4857221314746, 485.71742273477804, 479.4220852831704, 459.57739618411426, 447.7293536606047, 447.3881420133499, 442.89046432068096, 426.7055968076, 381.1188138417234, 324.4886543349724, 309.0719624498622, 278.1346348311348, 274.10084077213634, 265.69118241030424, 255.77090385879762, 255.32945106078844, 248.04882037095715, 240.57940575802414, 239.84702287499618, 234.36609111098184, 230.91716231005208, 230.79843450167726, 1451.772302031939, 1466.960553564393, 644.4871705284969, 2502.2404260987064, 1276.390105628131, 1266.6681092243962, 1350.1690951273938, 724.4355520934892, 8773.108948412462, 354.37355719535105, 1405.7759953283844, 3041.0591495639046, 467.637417919747, 3655.2710240994006, 1208.8770466475994, 728.5752755055868, 2407.781708663723, 687.3177779780605, 1166.175711645663, 1887.5786469551133, 903.2862103704294, 1112.652088722289, 2137.216675933989, 723.0577192311924, 913.387384488956, 671.4293409343411, 695.0910821181467, 794.7110382466846, 757.9081544270946, 934.8846069392803, 863.9372361320675, 833.3135623420816, 771.4880551333649, 733.2472811797865, 625.3221112124553, 622.1101553837684, 604.7354271755377, 547.5327065629452, 431.00909722136237, 386.9341030306075, 356.90545343761767, 336.38000158911746, 302.2908620480176, 286.87421037249743, 286.3027370172004, 268.7507007479022, 267.70988889446966, 250.00956353226647, 242.50136570908222, 236.1191688184419, 212.87071180583962, 206.89187045167805, 191.83317803501677, 191.4979033800013, 187.698042746694, 181.42584452874797, 179.80315093078477, 176.27718387944395, 173.16722755825353, 709.147461239764, 554.8260503280085, 998.1223525519496, 535.0988908033066, 1129.7109209996804, 599.1278905571977, 631.6911250457308, 613.195106073296, 1028.3596842583393, 1383.5886696761143, 1822.340092571069, 733.2608161462801, 3116.3272840588893, 706.0466004160573, 898.3734934238647, 964.4533113008812, 776.2664397043008, 920.5151285514447, 451.1547849799823, 483.2130298686355, 528.7609532531008, 461.46905205664046, 959.4224197861563, 947.1571505293225, 854.8665845907319, 775.5421100931596, 720.4697674907146, 670.7220182128186, 545.9290547409636, 505.32611388609195, 470.2622579911117, 464.7970730619183, 450.71425818013523, 389.02850358192876, 348.47340552149745, 304.4316570242747, 299.23622856551947, 292.3051372109156, 281.30351042263965, 278.40576420446706, 269.4596155099197, 263.372394159038, 249.38355619490557, 234.42675597897136, 224.7662492203391, 215.1036733676392, 214.58828205889284, 214.58284901834116, 212.56880620194045, 200.30009290465873, 196.82129167633022, 189.81893004284325, 2145.1096468573483, 1451.0377819508003, 447.84491862116164, 764.5809841526325, 444.9431677047937, 781.1335231094702, 495.15316594638387, 1536.5140602321512, 2202.2582919841375, 659.0657834575323, 899.9866114260441, 647.2948541459315, 580.522652275859, 368.48592362514546, 329.61127702144296, 315.1576003887834, 318.24607703300603, 2398.9897631269355, 975.4351553154283, 530.1559493560018, 489.8384299727013, 489.73917310749096, 462.28400898266204, 439.20090044128455, 436.2266396925093, 376.0305780988455, 324.9869937906389, 322.4745870976679, 306.6683674151361, 275.69608249841303, 269.7015304115701, 268.71247238233525, 250.76374790960674, 248.69784447430547, 198.47583313784673, 187.84732427949405, 158.5179236449349, 150.74469594725988, 150.60026979464106, 147.15609800155207, 144.67057701042737, 141.39037965195655, 137.81301133840677, 132.74505654037802, 111.55571098561914, 109.61434744171706, 106.11956598602849, 124.2247966428623, 2622.9791896971547, 1691.5356713560236, 619.9134179651206, 608.6579685556853, 716.5594264064164, 786.9303197192485, 868.2819616533086, 306.65561142520903, 1476.1899652217255, 614.7369718373787, 951.3384143847342, 2246.821487801258, 858.0493463900261, 941.63670996375, 548.6299371472832, 495.459700364567, 476.6330367081906, 1480.376546531126, 380.5261378309242, 483.05119668616754, 370.842269990727, 332.3822844021411, 1078.1764528355848, 699.1124063528625, 526.5626022971453, 480.1787566391263, 475.57708880696725, 472.9897189241328, 426.49564875055853, 410.871343576316, 377.2784517962291, 358.95535788138636, 342.0054390173006, 275.14448999743024, 273.5275098901142, 245.06514067297186, 208.64772245846288, 193.79387417371012, 165.96530255624455, 163.47333407508665, 162.34952440740184, 140.86288338646736, 137.56120396850298, 137.38096445847765, 127.23417807072126, 116.32489707487801, 112.27144558778282, 110.06241677627962, 103.18652895363059, 99.4206219889348, 95.8018778902695, 88.11387054068958, 1656.340212220986, 212.99194319192569, 1210.6472641394141, 946.4925272618732, 394.05529720355224, 209.6639617043935, 510.5793840181946, 683.7798126282869, 756.5220477245883, 193.03315780846995, 379.59762550047344, 603.3453767142, 259.20947006190556, 392.6667284087495, 691.9616937523554, 239.92294009730296, 242.25352640489157, 234.4960879614777, 216.70710388314652, 429.4177833400766, 323.59764149287946, 313.66604779408385, 264.89820538243873, 206.57929866076935, 145.16714587207, 140.2901438664717, 137.03967467010452, 116.69376215170982, 110.10850983717874, 107.20954873100423, 102.0630143811986, 101.04225755711504, 99.25339252990804, 95.71971789555872, 92.47543265074054, 92.08733734382118, 90.51321457091223, 86.3048470918275, 85.38340341288018, 81.48713703702914, 79.48375310366133, 76.7311967014279, 75.96545459263305, 68.79425541976107, 66.02801196449425, 62.31325782790199, 61.03521092938191, 59.262112884736084, 57.29716228004159, 931.8671131627677, 1293.0346194305166, 450.65397549264856, 269.0271865580039, 329.09890154197944, 278.81779174518573, 229.76920072506778, 570.1409015297883, 326.54109075613445, 103.89287775084217, 777.7798876134133, 184.3573567267303, 172.4610671500258, 171.1134349899152, 140.99795397048206, 135.27819353284048, 134.63530819594737, 109.42625259537907, 108.33667765741728, 105.54611342754171, 98.51473143952943, 89.04154628368393, 87.32247105409735, 86.0710177011918, 82.22707459854085, 69.81696054913881, 62.67774428227365, 60.88903053253057, 60.60104644561465, 57.1436328098475, 52.13290886053352, 49.806035658201445, 47.37180794219328, 47.48428667048866, 46.63082473738794, 46.45623859271956, 46.12616015109086, 44.240033912259534, 42.25264093636511, 39.266614729170755, 70.66540309026391, 140.41009245823412, 86.92785411709059, 51.16856472863328, 194.50727278999145, 137.22515643414764, 94.39279519798967, 81.10612684069247, 80.70697767119323, 55.3418830579424, 55.10924237841368, 47.69979827525219, 44.855810872586794, 38.72723764402795, 36.32233240627623, 33.352361432973645, 30.28934760091389, 29.39625104257122, 28.718713930669434, 26.823306477127726, 26.754969881250922, 24.721775369270805, 24.58387459145882, 23.61542436871325, 23.621827644210153, 23.03787428706038, 21.664392104143896, 21.60025437744539, 15.9269027172043, 15.579879301084128, 15.221397929105539, 14.644971919722275, 12.043223549097863, 11.42948519268488, 50.235165877431285], \"Total\": [16202.0, 6305.0, 6062.0, 3227.0, 20901.0, 13192.0, 7923.0, 2399.0, 1796.0, 7501.0, 6395.0, 2414.0, 9547.0, 1812.0, 1783.0, 2062.0, 3734.0, 2624.0, 2392.0, 2449.0, 1582.0, 1131.0, 4076.0, 4028.0, 2628.0, 1627.0, 3103.0, 2811.0, 1079.0, 778.0, 1973.5582011790425, 1701.3736543499483, 1505.0896707586808, 1392.4216817602942, 1215.6527915192667, 897.3780384869701, 833.022621405487, 713.654957443463, 703.6423197596182, 674.5679347165494, 662.2428692633715, 644.5426509454853, 638.2695002851198, 636.2770558131575, 616.2550653111266, 583.5898559951584, 571.272122777513, 531.9545768639638, 530.7150392973507, 516.8214385387336, 510.97453265129394, 498.48083101605465, 495.9290490723335, 484.45065714642215, 483.97461084338346, 476.72138796084766, 470.1166097924016, 463.82933385651245, 455.4800253278808, 446.39329336741264, 636.1768391990905, 895.3632332057086, 614.5343784972159, 1574.6308057243796, 7923.957204981836, 1352.434853703658, 1882.9795183714439, 1120.6183116793218, 6888.332893601699, 2053.431114689341, 1024.0536460348962, 2528.8759528660066, 20901.213623255135, 13192.649221951731, 6754.168313651443, 9085.556215490207, 7180.790756552661, 9547.104885789744, 6395.293019358059, 4830.354088574898, 16202.73747577242, 2259.555216414781, 2625.2295962590315, 4076.5972161685836, 3218.3753473941915, 4158.226659556079, 5411.655303676745, 2865.0356138300103, 1440.8818203160777, 2868.6243764337096, 3762.849423415339, 2628.9147232358346, 1627.7042715478406, 1490.3372181321154, 1278.0148940386307, 1168.7698344185485, 1141.6908346517228, 1051.299641919705, 689.8848639825679, 675.6728368689754, 581.1945370754514, 565.1946539234149, 523.4688853744466, 519.7855261563653, 494.5806642136471, 489.1700092703044, 484.2404526901474, 458.38682979380195, 442.3460918203133, 416.6522760749713, 409.1023993205946, 399.79558085043675, 396.1466335306953, 390.65324672979034, 381.7327243686566, 371.1705253756922, 367.3416540213013, 355.601817552473, 336.93899770537666, 332.1760867856749, 325.98401898892484, 3734.906857956914, 340.58213746914896, 2182.968381640168, 3103.391856107995, 824.3716365242128, 1464.6370937568543, 1852.6403328959436, 1486.6669730330434, 987.3504630059492, 1205.228198994086, 7501.514943790832, 1885.8160629326512, 1159.3795841737988, 13192.649221951731, 4158.226659556079, 6754.168313651443, 1375.06489415208, 917.8379028520884, 9085.556215490207, 979.6491746912604, 4830.354088574898, 20901.213623255135, 5411.655303676745, 6888.332893601699, 7180.790756552661, 2555.530800948925, 9547.104885789744, 2066.457327939379, 6305.052027457802, 2449.759091404763, 1096.5657698072232, 1054.01916843302, 908.5121562755689, 829.0930049238704, 593.737987330435, 555.0736937384088, 596.5981391891291, 486.75154718121104, 480.4561629529534, 460.6115427365607, 448.7634866942984, 448.42220210829817, 443.9249866115246, 427.73968393992556, 382.1529972742088, 325.5230578642322, 310.10604292911444, 279.168753464535, 275.134963689423, 266.7254323548408, 256.80512017848093, 256.36382134348014, 249.08317803833086, 241.61360772670147, 240.88115950304137, 235.40041027242262, 231.95128539932838, 231.83258413654525, 1480.400737152201, 1521.1664800620233, 665.4555274327797, 2811.2460426971, 1491.7131653708784, 1509.4946591864446, 1712.9904848781384, 855.0636637226875, 16202.73747577242, 375.0366630585209, 2157.68508818354, 6062.015323174867, 540.4689954025256, 9547.104885789744, 2063.2750168318476, 1033.8636184671618, 7501.514943790832, 1070.5669843612045, 3167.2614254378805, 9085.556215490207, 2066.457327939379, 3762.849423415339, 20901.213623255135, 1675.2818050314347, 5411.655303676745, 1316.9632308300156, 1704.985848049785, 6395.293019358059, 7180.790756552661, 935.9054846817969, 864.9578170965415, 834.3348294654529, 772.5086571775844, 734.2678534296897, 626.3427525050679, 623.1308023014184, 605.7566034768788, 548.5537376228415, 432.0297041036112, 387.9547885414709, 357.9261925623018, 337.4005777138897, 303.31164485017547, 287.89494284133895, 287.3234123623131, 269.77148402919005, 268.73075168818144, 251.03037644593866, 243.52199956140174, 237.1399631332201, 213.89160924144107, 207.91292863993596, 192.8538421657463, 192.51846848288463, 188.71885389556184, 182.44674689440257, 180.82388394176255, 177.29794139459958, 174.1878132242556, 725.7749469703195, 683.9111650671864, 1437.4339038672902, 716.1105933449984, 1880.6152628953691, 841.3555200610516, 1092.3064374339197, 1083.9508346018144, 2494.525345443788, 4076.5972161685836, 6395.293019358059, 1518.4333639050033, 20901.213623255135, 1476.2275952791294, 3167.2614254378805, 3762.849423415339, 2624.1659104622577, 7923.957204981836, 1057.9008669250568, 1576.4685857754241, 2868.6243764337096, 1427.3290021413197, 960.3663634343973, 948.1012297642029, 855.8106623031404, 776.4859294248733, 721.4135732401562, 671.6658173226888, 546.8733589749999, 506.269928475455, 471.206014921539, 465.7408931342229, 451.6580408380341, 389.9723690251452, 349.41762885185227, 305.3756344808819, 300.1804058112055, 293.2489405262848, 282.24755165512363, 279.3495323437902, 270.403870612007, 264.31619490918615, 250.3276662155406, 235.370597058691, 225.71007313654925, 216.04798004727726, 215.53226863336164, 215.52692515607575, 213.51265859123802, 201.24413007699758, 197.76507836500443, 190.76283601063835, 2414.4182321693256, 1627.5134872317835, 528.5534103385013, 1144.9605162603937, 568.7682055871952, 1275.469577042805, 696.2156685657969, 4028.4313152486143, 20901.213623255135, 3167.2614254378805, 13192.649221951731, 7180.790756552661, 5411.655303676745, 1065.2335271948366, 3762.849423415339, 2494.525345443788, 6888.332893601699, 2399.9702190910402, 976.415483806804, 531.1362998023515, 490.81885859238025, 490.71975874896526, 463.26444527667803, 440.1817419598571, 437.20714366787826, 377.010964347935, 325.96731452714306, 323.45509367926246, 307.6487768441737, 276.6773943512944, 270.68314889469207, 269.69289250686165, 251.7440864694311, 249.67825306374047, 199.45639486457458, 188.82766988952287, 159.49842064047792, 151.72552204046994, 151.58068363064555, 148.1374614793539, 145.6511279853686, 142.37095709340363, 138.79356059971457, 133.7255261996042, 112.53627326170208, 110.59668020897088, 107.10063399770816, 125.39012605164696, 3227.142815475548, 2062.6962003719837, 703.7837332122143, 727.1091525405457, 896.4672414753005, 1050.505400489598, 1183.4579825523717, 351.2526623402928, 2624.1659104622577, 879.9117674805275, 1675.2818050314347, 6062.015323174867, 1576.4685857754241, 1925.1995659941995, 876.0520080372719, 826.3898816862686, 859.0814216206849, 16202.73747577242, 891.923752447511, 6395.293019358059, 1582.307766864415, 768.6366578403153, 1079.1434696017293, 700.0791661145632, 527.529330166129, 481.14577549416254, 476.54387533753976, 473.9589682286508, 427.4622997066669, 411.83888161340514, 378.2452227840695, 359.92234866704405, 342.97220374866987, 276.1111377576073, 274.4944277771188, 246.03177672397032, 209.61433007170766, 194.76048931993486, 166.93203530869718, 164.44032625952264, 163.31669765956707, 141.83010010428308, 138.52811520074044, 138.34775827079866, 128.20078599342506, 117.29188989519521, 113.23833334509531, 111.02947756244149, 104.15358672593571, 100.38757158518032, 96.76856746294905, 89.08057275535748, 1812.5276239479379, 232.19114059039026, 1582.307766864415, 1349.2611194037684, 513.3658665069604, 246.53140072084892, 891.923752447511, 1699.6626785137667, 2392.9769643010472, 271.5800887873498, 1144.9605162603937, 3227.142815475548, 527.8014064834288, 1662.1438406403051, 20901.213623255135, 939.340532351467, 1070.5669843612045, 1576.4685857754241, 849.1824041485902, 430.44705183719884, 324.6268823988072, 314.695322099064, 265.92761948446196, 207.60854477015565, 146.1965378747479, 141.31947779684407, 138.06936069153232, 117.72302734183005, 111.14362421593131, 108.2386700448612, 103.09225070214757, 102.07169898068226, 100.28278743344404, 96.74892808278092, 93.50464073464448, 93.12022815812672, 91.54260271504934, 87.33411874363661, 86.41284532480354, 82.5167553926862, 80.51289010205227, 77.76044511884783, 76.99514180444079, 69.82367462906957, 67.05721297949195, 63.34275765920321, 62.06452557398759, 60.291429956399924, 58.32668762966116, 1131.648157021862, 1796.9819285315295, 634.0405575240696, 385.6639728392528, 516.6980833323241, 520.1857302257785, 421.8713906096695, 1783.0579280517732, 876.0520080372719, 568.7682055871952, 778.8265333586185, 185.40401430753786, 173.50784531397218, 172.1600507443782, 142.04506857116718, 136.3249481339911, 135.68186648972411, 110.47307221711452, 109.38319694994026, 106.59266036295892, 99.56126627005499, 90.0881560161813, 88.36903143956413, 87.11754929561113, 83.27381092093866, 70.86360079689288, 63.72445671187102, 61.93613928514873, 61.647571638819116, 58.19015586451954, 53.17938503651339, 50.85319800312726, 48.41839276869099, 48.53628421738548, 47.677318281193294, 47.502780069145174, 47.17279924396689, 45.28660371900992, 43.29917710378287, 40.313397949865845, 162.6916942723435, 1427.3290021413197, 987.3504630059492, 207.10934659650007, 195.57118852590457, 138.2890730293942, 95.45705477941172, 82.17039203246522, 81.77108382807835, 56.405915396547776, 56.173167076159814, 48.76369249463344, 45.91982510328816, 39.79115295733146, 37.38656044296886, 34.41621112465915, 31.353257959763766, 30.460222499118945, 29.783586880411317, 27.88728249421851, 27.819003875639694, 25.785684007456133, 25.64775435108184, 24.679317635351612, 24.686247801620183, 24.101801050912016, 22.728261409609722, 22.66420662395619, 16.990956394563977, 16.64487918075228, 16.285344446523467, 15.70892351595733, 13.107130300915342, 12.493401613404673, 110.81166162258893], \"Category\": [\"Default\", \"Default\", \"Default\", \"Default\", \"Default\", \"Default\", \"Default\", \"Default\", \"Default\", \"Default\", \"Default\", \"Default\", \"Default\", \"Default\", \"Default\", \"Default\", \"Default\", \"Default\", \"Default\", \"Default\", \"Default\", \"Default\", \"Default\", \"Default\", \"Default\", \"Default\", \"Default\", \"Default\", \"Default\", \"Default\", \"Topic1\", \"Topic1\", \"Topic1\", \"Topic1\", \"Topic1\", \"Topic1\", \"Topic1\", \"Topic1\", \"Topic1\", \"Topic1\", \"Topic1\", \"Topic1\", \"Topic1\", \"Topic1\", \"Topic1\", \"Topic1\", \"Topic1\", \"Topic1\", \"Topic1\", \"Topic1\", \"Topic1\", \"Topic1\", \"Topic1\", \"Topic1\", \"Topic1\", \"Topic1\", \"Topic1\", \"Topic1\", \"Topic1\", \"Topic1\", \"Topic1\", \"Topic1\", \"Topic1\", \"Topic1\", \"Topic1\", \"Topic1\", \"Topic1\", \"Topic1\", \"Topic1\", \"Topic1\", \"Topic1\", \"Topic1\", \"Topic1\", \"Topic1\", \"Topic1\", \"Topic1\", \"Topic1\", \"Topic1\", \"Topic1\", \"Topic1\", \"Topic1\", \"Topic1\", \"Topic1\", \"Topic1\", \"Topic1\", \"Topic1\", \"Topic1\", \"Topic1\", \"Topic1\", \"Topic1\", \"Topic1\", \"Topic2\", \"Topic2\", \"Topic2\", \"Topic2\", \"Topic2\", \"Topic2\", \"Topic2\", \"Topic2\", \"Topic2\", \"Topic2\", \"Topic2\", \"Topic2\", \"Topic2\", \"Topic2\", \"Topic2\", \"Topic2\", \"Topic2\", \"Topic2\", \"Topic2\", \"Topic2\", \"Topic2\", \"Topic2\", \"Topic2\", \"Topic2\", \"Topic2\", \"Topic2\", \"Topic2\", \"Topic2\", \"Topic2\", \"Topic2\", \"Topic2\", \"Topic2\", \"Topic2\", \"Topic2\", \"Topic2\", \"Topic2\", \"Topic2\", \"Topic2\", \"Topic2\", \"Topic2\", \"Topic2\", \"Topic2\", \"Topic2\", \"Topic2\", \"Topic2\", \"Topic2\", \"Topic2\", \"Topic2\", \"Topic2\", \"Topic2\", \"Topic2\", \"Topic2\", \"Topic2\", \"Topic2\", \"Topic2\", \"Topic2\", \"Topic2\", \"Topic2\", \"Topic3\", \"Topic3\", \"Topic3\", \"Topic3\", \"Topic3\", \"Topic3\", \"Topic3\", \"Topic3\", \"Topic3\", \"Topic3\", \"Topic3\", \"Topic3\", \"Topic3\", \"Topic3\", \"Topic3\", \"Topic3\", \"Topic3\", \"Topic3\", \"Topic3\", \"Topic3\", \"Topic3\", \"Topic3\", \"Topic3\", \"Topic3\", \"Topic3\", \"Topic3\", \"Topic3\", \"Topic3\", \"Topic3\", \"Topic3\", \"Topic3\", \"Topic3\", \"Topic3\", \"Topic3\", \"Topic3\", \"Topic3\", \"Topic3\", \"Topic3\", \"Topic3\", \"Topic3\", \"Topic3\", \"Topic3\", \"Topic3\", \"Topic3\", \"Topic3\", \"Topic3\", \"Topic3\", \"Topic3\", \"Topic3\", \"Topic3\", \"Topic3\", \"Topic3\", \"Topic3\", \"Topic3\", \"Topic3\", \"Topic3\", \"Topic3\", \"Topic3\", \"Topic3\", \"Topic4\", \"Topic4\", \"Topic4\", \"Topic4\", \"Topic4\", \"Topic4\", \"Topic4\", \"Topic4\", \"Topic4\", \"Topic4\", \"Topic4\", \"Topic4\", \"Topic4\", \"Topic4\", \"Topic4\", \"Topic4\", \"Topic4\", \"Topic4\", \"Topic4\", \"Topic4\", \"Topic4\", \"Topic4\", \"Topic4\", \"Topic4\", \"Topic4\", \"Topic4\", \"Topic4\", \"Topic4\", \"Topic4\", \"Topic4\", \"Topic4\", \"Topic4\", \"Topic4\", \"Topic4\", \"Topic4\", \"Topic4\", \"Topic4\", \"Topic4\", \"Topic4\", \"Topic4\", \"Topic4\", \"Topic4\", \"Topic4\", \"Topic4\", \"Topic4\", \"Topic4\", \"Topic4\", \"Topic4\", \"Topic4\", \"Topic4\", \"Topic4\", \"Topic4\", \"Topic5\", \"Topic5\", \"Topic5\", \"Topic5\", \"Topic5\", \"Topic5\", \"Topic5\", \"Topic5\", \"Topic5\", \"Topic5\", \"Topic5\", \"Topic5\", \"Topic5\", \"Topic5\", \"Topic5\", \"Topic5\", \"Topic5\", \"Topic5\", \"Topic5\", \"Topic5\", \"Topic5\", \"Topic5\", \"Topic5\", \"Topic5\", \"Topic5\", \"Topic5\", \"Topic5\", \"Topic5\", \"Topic5\", \"Topic5\", \"Topic5\", \"Topic5\", \"Topic5\", \"Topic5\", \"Topic5\", \"Topic5\", \"Topic5\", \"Topic5\", \"Topic5\", \"Topic5\", \"Topic5\", \"Topic5\", \"Topic5\", \"Topic5\", \"Topic5\", \"Topic5\", \"Topic5\", \"Topic6\", \"Topic6\", \"Topic6\", \"Topic6\", \"Topic6\", \"Topic6\", \"Topic6\", \"Topic6\", \"Topic6\", \"Topic6\", \"Topic6\", \"Topic6\", \"Topic6\", \"Topic6\", \"Topic6\", \"Topic6\", \"Topic6\", \"Topic6\", \"Topic6\", \"Topic6\", \"Topic6\", \"Topic6\", \"Topic6\", \"Topic6\", \"Topic6\", \"Topic6\", \"Topic6\", \"Topic6\", \"Topic6\", \"Topic6\", \"Topic6\", \"Topic6\", \"Topic6\", \"Topic6\", \"Topic6\", \"Topic6\", \"Topic6\", \"Topic6\", \"Topic6\", \"Topic6\", \"Topic6\", \"Topic6\", \"Topic6\", \"Topic6\", \"Topic6\", \"Topic6\", \"Topic6\", \"Topic6\", \"Topic6\", \"Topic6\", \"Topic6\", \"Topic6\", \"Topic6\", \"Topic7\", \"Topic7\", \"Topic7\", \"Topic7\", \"Topic7\", \"Topic7\", \"Topic7\", \"Topic7\", \"Topic7\", \"Topic7\", \"Topic7\", \"Topic7\", \"Topic7\", \"Topic7\", \"Topic7\", \"Topic7\", \"Topic7\", \"Topic7\", \"Topic7\", \"Topic7\", \"Topic7\", \"Topic7\", \"Topic7\", \"Topic7\", \"Topic7\", \"Topic7\", \"Topic7\", \"Topic7\", \"Topic7\", \"Topic7\", \"Topic7\", \"Topic7\", \"Topic7\", \"Topic7\", \"Topic7\", \"Topic7\", \"Topic7\", \"Topic7\", \"Topic7\", \"Topic7\", \"Topic7\", \"Topic7\", \"Topic7\", \"Topic7\", \"Topic7\", \"Topic7\", \"Topic7\", \"Topic7\", \"Topic7\", \"Topic8\", \"Topic8\", \"Topic8\", \"Topic8\", \"Topic8\", \"Topic8\", \"Topic8\", \"Topic8\", \"Topic8\", \"Topic8\", \"Topic8\", \"Topic8\", \"Topic8\", \"Topic8\", \"Topic8\", \"Topic8\", \"Topic8\", \"Topic8\", \"Topic8\", \"Topic8\", \"Topic8\", \"Topic8\", \"Topic8\", \"Topic8\", \"Topic8\", \"Topic8\", \"Topic8\", \"Topic8\", \"Topic8\", \"Topic8\", \"Topic8\", \"Topic8\", \"Topic8\", \"Topic8\", \"Topic8\", \"Topic8\", \"Topic8\", \"Topic8\", \"Topic8\", \"Topic8\", \"Topic9\", \"Topic9\", \"Topic9\", \"Topic9\", \"Topic9\", \"Topic9\", \"Topic9\", \"Topic9\", \"Topic9\", \"Topic9\", \"Topic9\", \"Topic9\", \"Topic9\", \"Topic9\", \"Topic9\", \"Topic9\", \"Topic9\", \"Topic9\", \"Topic9\", \"Topic9\", \"Topic9\", \"Topic9\", \"Topic9\", \"Topic9\", \"Topic9\", \"Topic9\", \"Topic9\", \"Topic9\", \"Topic9\", \"Topic9\", \"Topic9\", \"Topic9\", \"Topic9\", \"Topic9\", \"Topic10\", \"Topic10\", \"Topic10\", \"Topic10\", \"Topic10\", \"Topic10\", \"Topic10\", \"Topic10\", \"Topic10\", \"Topic10\", \"Topic10\", \"Topic10\", \"Topic10\", \"Topic10\", \"Topic10\", \"Topic10\", \"Topic10\", \"Topic10\", \"Topic10\", \"Topic10\", \"Topic10\", \"Topic10\", \"Topic10\", \"Topic10\", \"Topic10\", \"Topic10\", \"Topic10\", \"Topic10\", \"Topic10\", \"Topic10\", \"Topic10\"], \"logprob\": [30.0, 29.0, 28.0, 27.0, 26.0, 25.0, 24.0, 23.0, 22.0, 21.0, 20.0, 19.0, 18.0, 17.0, 16.0, 15.0, 14.0, 13.0, 12.0, 11.0, 10.0, 9.0, 8.0, 7.0, 6.0, 5.0, 4.0, 3.0, 2.0, 1.0, -4.6035, -4.752, -4.8746, -4.9525, -5.0884, -5.3922, -5.4667, -5.6216, -5.6358, -5.678, -5.6965, -5.7236, -5.7334, -5.7365, -5.7686, -5.8231, -5.8445, -5.9159, -5.9183, -5.9449, -5.9563, -5.9811, -5.9862, -6.0097, -6.0106, -6.0258, -6.0398, -6.0533, -6.0715, -6.0917, -5.7389, -5.4107, -5.7853, -4.9053, -3.4075, -5.0536, -4.833, -5.2874, -3.77, -4.8173, -5.3915, -4.6927, -3.0612, -3.4226, -3.9778, -3.8015, -3.98, -3.7836, -4.0906, -4.3183, -3.4997, -4.8708, -4.8414, -4.6001, -4.7478, -4.6819, -4.5868, -4.9122, -5.2289, -5.0222, -4.9786, -4.1431, -4.6227, -4.7109, -4.8647, -4.9542, -4.9776, -5.0602, -5.482, -5.5028, -5.6537, -5.6817, -5.7585, -5.7656, -5.8154, -5.8264, -5.8366, -5.8916, -5.9273, -5.9873, -6.0056, -6.0287, -6.0379, -6.0519, -6.075, -6.1032, -6.1136, -6.1461, -6.2002, -6.2145, -6.2334, -3.8022, -6.1898, -4.3727, -4.0353, -5.3236, -4.8109, -4.607, -4.8304, -5.2152, -5.0375, -3.4987, -4.7028, -5.1504, -3.3399, -4.2619, -4.0796, -5.1425, -5.4328, -4.1559, -5.4062, -4.644, -3.9436, -4.7424, -4.6581, -4.687, -5.104, -4.7636, -5.1802, -2.9058, -3.8514, -4.6558, -4.6954, -4.8441, -4.9357, -5.2701, -5.3375, -5.2654, -5.4691, -5.4822, -5.5245, -5.5506, -5.5513, -5.5614, -5.5987, -5.7117, -5.8725, -5.9212, -6.0267, -6.0413, -6.0724, -6.1105, -6.1122, -6.1411, -6.1717, -6.1748, -6.1979, -6.2127, -6.2132, -4.3742, -4.3638, -5.1863, -3.8298, -4.503, -4.5106, -4.4468, -5.0694, -2.5753, -5.7844, -4.4064, -3.6348, -5.5071, -3.4508, -4.5573, -5.0637, -3.8683, -5.122, -4.5933, -4.1117, -4.8487, -4.6403, -3.9875, -5.0713, -4.8376, -5.1454, -5.1107, -4.9768, -5.0242, -4.1301, -4.209, -4.2451, -4.3222, -4.373, -4.5322, -4.5374, -4.5657, -4.6651, -4.9043, -5.0122, -5.093, -5.1522, -5.2591, -5.3114, -5.3134, -5.3767, -5.3806, -5.449, -5.4795, -5.5061, -5.6098, -5.6383, -5.7138, -5.7156, -5.7356, -5.7696, -5.7786, -5.7984, -5.8162, -4.4064, -4.6518, -4.0646, -4.688, -3.9408, -4.575, -4.5221, -4.5518, -4.0348, -3.738, -3.4626, -4.373, -2.9261, -4.4108, -4.1699, -4.0989, -4.316, -4.1455, -4.8587, -4.79, -4.6999, -4.8361, -4.0903, -4.1032, -4.2057, -4.3031, -4.3767, -4.4483, -4.6542, -4.7314, -4.8033, -4.815, -4.8458, -4.993, -5.1031, -5.2382, -5.2554, -5.2788, -5.3172, -5.3276, -5.3602, -5.3831, -5.4376, -5.4995, -5.5416, -5.5855, -5.5879, -5.5879, -5.5974, -5.6568, -5.6743, -5.7106, -3.2857, -3.6766, -4.8522, -4.3173, -4.8587, -4.2959, -4.7518, -3.6194, -3.2594, -4.4658, -4.1543, -4.4838, -4.5927, -5.0472, -5.1587, -5.2036, -5.1938, -2.9714, -3.8713, -4.481, -4.5601, -4.5603, -4.618, -4.6692, -4.676, -4.8245, -4.9704, -4.9782, -5.0284, -5.1349, -5.1569, -5.1606, -5.2297, -5.238, -5.4635, -5.5186, -5.6883, -5.7386, -5.7396, -5.7627, -5.7797, -5.8027, -5.8283, -5.8658, -6.0397, -6.0572, -6.0896, -5.9321, -2.8821, -3.3208, -4.3246, -4.3429, -4.1797, -4.0861, -3.9877, -5.0285, -3.457, -4.333, -3.8963, -3.0369, -3.9995, -3.9066, -4.4468, -4.5487, -4.5874, -3.4541, -4.8126, -4.5741, -4.8384, -4.9479, -3.2746, -3.7078, -3.9912, -4.0834, -4.0931, -4.0985, -4.202, -4.2393, -4.3246, -4.3744, -4.4228, -4.6403, -4.6462, -4.7561, -4.9169, -4.9908, -5.1458, -5.1609, -5.1678, -5.3098, -5.3335, -5.3348, -5.4116, -5.5012, -5.5367, -5.5565, -5.6211, -5.6582, -5.6953, -5.779, -2.8452, -4.8963, -3.1587, -3.4048, -4.2811, -4.9121, -4.022, -3.73, -3.6289, -4.9947, -4.3185, -3.8551, -4.7, -4.2846, -3.7181, -4.7773, -4.7676, -4.8002, -4.879, -3.5526, -3.8355, -3.8667, -4.0357, -4.2844, -4.6372, -4.6713, -4.6948, -4.8555, -4.9136, -4.9403, -4.9895, -4.9995, -5.0174, -5.0536, -5.0881, -5.0923, -5.1096, -5.1572, -5.1679, -5.2146, -5.2395, -5.2747, -5.2848, -5.3839, -5.425, -5.4829, -5.5036, -5.5331, -5.5668, -2.7779, -2.4503, -3.5043, -4.0202, -3.8187, -3.9845, -4.178, -3.2692, -3.8265, -4.9717, -2.4098, -3.8493, -3.9161, -3.9239, -4.1175, -4.1589, -4.1637, -4.371, -4.381, -4.4071, -4.476, -4.5771, -4.5966, -4.6111, -4.6567, -4.8203, -4.9282, -4.9572, -4.9619, -5.0207, -5.1124, -5.1581, -5.2082, -5.2058, -5.224, -5.2277, -5.2348, -5.2766, -5.3226, -5.3959, -4.8083, -4.1217, -4.6011, -5.1311, -2.7786, -3.1275, -3.5016, -3.6533, -3.6583, -4.0355, -4.0398, -4.1841, -4.2456, -4.3925, -4.4566, -4.5419, -4.6383, -4.6682, -4.6915, -4.7598, -4.7624, -4.8414, -4.847, -4.8872, -4.8869, -4.9119, -4.9734, -4.9764, -5.2811, -5.3031, -5.3264, -5.365, -5.5606, -5.6129, -4.1324], \"loglift\": [30.0, 29.0, 28.0, 27.0, 26.0, 25.0, 24.0, 23.0, 22.0, 21.0, 20.0, 19.0, 18.0, 17.0, 16.0, 15.0, 14.0, 13.0, 12.0, 11.0, 10.0, 9.0, 8.0, 7.0, 6.0, 5.0, 4.0, 3.0, 2.0, 1.0, 1.261, 1.2609, 1.2608, 1.2608, 1.2606, 1.2603, 1.2603, 1.2601, 1.26, 1.26, 1.2599, 1.2599, 1.2599, 1.2599, 1.2598, 1.2597, 1.2597, 1.2596, 1.2596, 1.2595, 1.2595, 1.2594, 1.2594, 1.2594, 1.2594, 1.2593, 1.2593, 1.2593, 1.2592, 1.2592, 1.2576, 1.2442, 1.2459, 1.185, 1.067, 1.1888, 1.0784, 1.143, 0.8445, 1.0075, 1.129, 0.9239, 0.4433, 0.5421, 0.6564, 0.5361, 0.5929, 0.5044, 0.5982, 0.6511, 0.2594, 0.8583, 0.7377, 0.5389, 0.6276, 0.4374, 0.269, 0.5795, 0.9501, 0.4683, 0.2405, 1.4347, 1.4344, 1.4344, 1.4343, 1.4342, 1.4342, 1.4341, 1.4336, 1.4335, 1.4333, 1.4332, 1.4331, 1.433, 1.4329, 1.4329, 1.4329, 1.4328, 1.4327, 1.4325, 1.4325, 1.4324, 1.4324, 1.4324, 1.4323, 1.4322, 1.4322, 1.4321, 1.4319, 1.4319, 1.4318, 1.4243, 1.4316, 1.3909, 1.3765, 1.4139, 1.3518, 1.3207, 1.3173, 1.3418, 1.3201, 1.0305, 1.2071, 1.2461, 0.6247, 0.8573, 0.5545, 1.0833, 1.1973, 0.1817, 1.1586, 0.3254, -0.4391, 0.1133, -0.0436, -0.1141, 0.5021, -0.4755, 0.6383, 1.7971, 1.7969, 1.7964, 1.7963, 1.7962, 1.796, 1.7956, 1.7954, 1.7954, 1.7952, 1.7951, 1.795, 1.795, 1.795, 1.795, 1.7949, 1.7946, 1.7941, 1.794, 1.7936, 1.7935, 1.7934, 1.7933, 1.7933, 1.7931, 1.793, 1.793, 1.7929, 1.7928, 1.7928, 1.7778, 1.761, 1.7653, 1.6809, 1.6414, 1.6219, 1.5593, 1.6315, 1.1838, 1.7406, 1.3688, 1.1075, 1.6526, 0.8372, 1.2627, 1.4473, 0.6609, 1.3541, 0.7982, 0.2259, 0.9697, 0.5789, -0.483, 0.957, 0.0181, 1.1236, 0.9, -0.288, -0.4513, 2.4805, 2.4804, 2.4804, 2.4803, 2.4802, 2.48, 2.4799, 2.4799, 2.4797, 2.4792, 2.4789, 2.4787, 2.4786, 2.4782, 2.478, 2.478, 2.4778, 2.4778, 2.4775, 2.4774, 2.4773, 2.4768, 2.4767, 2.4763, 2.4763, 2.4762, 2.476, 2.4759, 2.4758, 2.4757, 2.4584, 2.2724, 2.1168, 2.1902, 1.9719, 2.142, 1.9339, 1.9119, 1.5954, 1.401, 1.2261, 1.7536, 0.5784, 1.744, 1.2215, 1.1202, 1.2636, 0.3289, 1.6294, 1.2991, 0.7905, 1.3524, 2.4944, 2.4944, 2.4943, 2.4942, 2.4941, 2.494, 2.4937, 2.4936, 2.4934, 2.4934, 2.4933, 2.493, 2.4927, 2.4923, 2.4923, 2.4922, 2.4921, 2.492, 2.4919, 2.4918, 2.4916, 2.4914, 2.4912, 2.491, 2.491, 2.491, 2.491, 2.4907, 2.4906, 2.4905, 2.3772, 2.3806, 2.3297, 2.0916, 2.2499, 2.0051, 2.1546, 1.5316, 0.2451, 0.9256, -0.1896, 0.0891, 0.263, 1.4339, 0.0604, 0.4266, -0.5793, 2.6975, 2.6969, 2.696, 2.6959, 2.6959, 2.6957, 2.6956, 2.6956, 2.6953, 2.6949, 2.6948, 2.6947, 2.6943, 2.6942, 2.6942, 2.694, 2.6939, 2.6929, 2.6927, 2.6917, 2.6914, 2.6914, 2.6912, 2.6911, 2.691, 2.6908, 2.6905, 2.6891, 2.6889, 2.6887, 2.6885, 2.4906, 2.4995, 2.571, 2.52, 2.4739, 2.409, 2.3882, 2.5621, 2.1226, 2.3392, 2.132, 1.7053, 2.0896, 1.9827, 2.2299, 2.1863, 2.1087, 0.305, 1.846, 0.1147, 1.247, 1.8595, 3.1936, 3.1931, 3.1926, 3.1925, 3.1924, 3.1924, 3.1922, 3.1921, 3.1919, 3.1918, 3.1916, 3.191, 3.1909, 3.1905, 3.1898, 3.1895, 3.1887, 3.1886, 3.1885, 3.1876, 3.1875, 3.1875, 3.1869, 3.1862, 3.1859, 3.1857, 3.1851, 3.1848, 3.1844, 3.1836, 3.1044, 3.1082, 2.9267, 2.8399, 2.93, 3.0325, 2.6366, 2.2839, 2.0429, 2.8531, 2.0905, 1.5176, 2.4834, 1.7516, -0.2136, 1.8296, 1.7085, 1.289, 1.8287, 3.8346, 3.8338, 3.8337, 3.8331, 3.832, 3.8299, 3.8297, 3.8295, 3.8282, 3.8277, 3.8275, 3.827, 3.8269, 3.8267, 3.8263, 3.8259, 3.8259, 3.8257, 3.8252, 3.825, 3.8245, 3.8241, 3.8237, 3.8235, 3.8222, 3.8215, 3.8206, 3.8203, 3.8198, 3.8192, 3.6428, 3.5079, 3.4956, 3.4769, 3.3859, 3.2134, 3.2294, 2.6968, 2.8501, 2.1369, 4.3845, 4.3802, 4.3798, 4.3797, 4.3784, 4.3781, 4.3781, 4.3763, 4.3762, 4.376, 4.3753, 4.3741, 4.3739, 4.3737, 4.3732, 4.371, 4.3693, 4.3688, 4.3687, 4.3677, 4.366, 4.365, 4.364, 4.3639, 4.3636, 4.3636, 4.3634, 4.3625, 4.3614, 4.3595, 3.5519, 2.0668, 1.9559, 2.9877, 5.3975, 5.3953, 5.3918, 5.3899, 5.3899, 5.3839, 5.3839, 5.3809, 5.3795, 5.3759, 5.3741, 5.3716, 5.3685, 5.3674, 5.3666, 5.3641, 5.364, 5.3608, 5.3606, 5.3589, 5.3589, 5.3578, 5.355, 5.3549, 5.3383, 5.3369, 5.3354, 5.3328, 5.3183, 5.314, 4.6119]}, \"token.table\": {\"Topic\": [3, 4, 6, 1, 2, 1, 2, 3, 5, 1, 1, 5, 5, 7, 2, 1, 2, 3, 4, 5, 6, 7, 1, 10, 5, 7, 3, 2, 3, 1, 4, 1, 3, 4, 5, 4, 6, 7, 10, 2, 3, 2, 5, 6, 1, 1, 3, 4, 5, 6, 3, 9, 4, 7, 9, 5, 5, 5, 1, 6, 4, 1, 2, 1, 1, 2, 3, 1, 3, 4, 6, 10, 5, 5, 6, 4, 1, 5, 4, 1, 8, 6, 9, 2, 5, 10, 2, 1, 2, 3, 4, 5, 1, 8, 9, 2, 9, 3, 8, 10, 10, 5, 5, 6, 7, 1, 1, 10, 1, 2, 6, 2, 3, 6, 1, 2, 3, 4, 5, 6, 7, 2, 3, 4, 1, 2, 1, 1, 3, 1, 2, 4, 6, 1, 8, 2, 3, 4, 9, 1, 6, 2, 8, 3, 7, 6, 9, 4, 6, 1, 3, 9, 5, 3, 3, 6, 6, 8, 4, 6, 10, 1, 2, 3, 4, 5, 1, 3, 4, 5, 6, 2, 3, 8, 2, 5, 8, 10, 1, 3, 5, 3, 7, 9, 7, 10, 8, 8, 5, 5, 8, 10, 9, 9, 2, 4, 1, 2, 3, 3, 2, 3, 4, 1, 2, 4, 5, 2, 4, 3, 6, 2, 2, 6, 6, 7, 10, 10, 4, 4, 9, 10, 9, 4, 1, 6, 1, 6, 1, 6, 7, 10, 3, 8, 1, 2, 10, 2, 5, 7, 7, 10, 1, 2, 3, 4, 5, 4, 3, 4, 1, 8, 6, 7, 10, 1, 10, 2, 4, 5, 4, 6, 3, 2, 7, 7, 4, 7, 6, 9, 10, 7, 5, 1, 2, 3, 4, 5, 1, 5, 1, 8, 1, 2, 3, 5, 7, 4, 1, 8, 1, 7, 1, 6, 6, 1, 2, 3, 4, 5, 6, 6, 7, 1, 2, 3, 4, 5, 7, 2, 6, 1, 2, 3, 4, 6, 2, 4, 3, 8, 2, 1, 2, 3, 3, 9, 8, 10, 1, 2, 3, 5, 6, 8, 6, 7, 6, 7, 6, 7, 1, 4, 6, 5, 7, 2, 4, 6, 1, 8, 1, 2, 9, 6, 9, 7, 6, 4, 3, 1, 2, 1, 2, 5, 1, 3, 6, 7, 1, 3, 6, 7, 2, 5, 2, 1, 2, 3, 5, 7, 2, 2, 5, 8, 5, 1, 3, 4, 4, 4, 3, 4, 9, 1, 2, 3, 10, 2, 8, 1, 8, 6, 10, 4, 4, 1, 3, 4, 6, 9, 9, 8, 9, 1, 2, 3, 5, 1, 2, 6, 2, 4, 5, 1, 1, 2, 4, 1, 2, 3, 4, 8, 7, 2, 6, 10, 2, 1, 4, 8, 1, 8, 8, 2, 2, 9, 5, 8, 4, 8, 2, 3, 7, 5, 1, 4, 2, 5, 5, 7, 3, 1, 1, 2, 4, 2, 1, 3, 5, 8, 3, 1, 3, 4, 6, 7, 7, 9, 2, 4, 2, 6, 7, 1, 2, 4, 5, 6, 7, 1, 3, 6, 2, 3, 3, 1, 2, 4, 9, 1, 2, 5, 2, 3, 4, 3, 4, 1, 4, 6, 9, 1, 2, 3, 4, 3, 6, 7, 6, 2, 10, 10, 7, 8, 1, 7, 5, 6, 7, 8, 6, 6, 1, 2, 8, 1, 2, 3, 5, 7, 1, 2, 6, 3, 1, 1, 6, 9, 4, 3, 1, 2, 3, 6, 8, 7, 3, 4, 7, 3, 6, 9, 7, 1, 2, 3, 3, 1, 2, 2, 2, 1, 3, 6, 6, 7, 10, 1, 4, 10, 2, 5, 6, 7, 1, 8, 3, 9, 3, 5, 9, 1, 4, 9, 6, 8, 9, 9, 3, 7, 1, 5, 7, 1, 2, 4, 2, 1, 3, 8, 8, 10, 9, 5, 2, 3, 5, 6, 2, 3, 4, 5, 8, 3, 2, 2, 5, 5, 1, 2, 7, 4, 1, 6, 10, 3, 3, 6, 2, 5, 2, 5, 2, 6, 7, 8, 2, 3, 5, 7, 7, 1, 2, 3, 5, 1, 2, 9, 3, 8, 2, 2, 3, 1, 2, 3, 4, 5, 9, 1, 10, 8, 5, 6, 4], \"Freq\": [0.9986723243344545, 0.7470913082028026, 0.2513578233205691, 0.8759306736255039, 0.12304042907114102, 0.5057528754635483, 0.2705027456758109, 0.14903828697235, 0.074693661386611, 0.9989892627688799, 0.9976248237795837, 0.9938178068770425, 0.9985772477187654, 0.9889856843780966, 0.9953546081984636, 0.5124783780451899, 0.21237215394535724, 0.10555940504300379, 0.055843431955467704, 0.09010149744435812, 0.015318647169829046, 0.008216365300181034, 0.9967506251743632, 0.9542855304222038, 0.6681453108082718, 0.3318891739962657, 0.9982707147180914, 0.4134204083514659, 0.5859616338768139, 0.4335990019073631, 0.5655238046153481, 0.20795899396458772, 0.2353717704417379, 0.42631593762740483, 0.1295017371506751, 0.30638098618528753, 0.544254422664548, 0.14843302436305855, 0.9799688892277097, 0.13321763248671922, 0.865914611163675, 0.9992058824639958, 0.9959428811405124, 0.9972705756084457, 0.9987723965961913, 0.36036520397598865, 0.2957864837944509, 0.25618883232511286, 0.0876994965428291, 0.9923215811315058, 0.9987570488225739, 0.9707054966597699, 0.9920703058890936, 0.9906335520167041, 0.9848854110709288, 0.9941768552409745, 0.9960011288016508, 0.9950203773566036, 0.9982119848919063, 0.9955014043442292, 0.9958314903300642, 0.9265664019121068, 0.07303299261130382, 0.9986526869517446, 0.24090256603786367, 0.7584347735853081, 0.9964086837074858, 0.5152226786210248, 0.12431017587366151, 0.28489703200227834, 0.07552429553079057, 0.985756523687963, 0.9985430551910177, 0.9951690187827866, 0.9975516816150353, 0.9955725944779857, 0.9828413400998129, 0.016752977388064992, 0.9968914256273264, 0.1758497097929313, 0.8235775353116179, 0.9972389662763717, 0.9944399514850192, 0.28726730671258754, 0.7109865841136542, 0.9736906476860018, 0.9969813888669239, 0.4524816879697861, 0.17778556306979268, 0.09272737211091148, 0.18440894679200065, 0.09272737211091148, 0.9979862355967701, 0.9918155525969226, 0.9699953396188362, 0.9105176263988678, 0.08811460900634205, 0.9946801333498112, 0.9872082989885437, 0.9747442079249906, 0.9548712860408801, 0.9984092160573725, 0.9974405782537817, 0.9955295369533012, 0.9960952587324547, 0.9984643723961715, 0.9979633996022524, 0.9905702139193907, 0.1947850013182113, 0.31581141547059327, 0.4892999233113468, 0.03484168281031213, 0.9643914845797714, 0.9974762045680285, 0.4412183984254104, 0.15348391044770296, 0.10224286677890936, 0.14908225216803067, 0.10535273404172128, 0.015453648090588546, 0.03310812532101323, 0.9991027412347715, 0.9958987707367492, 0.9956755869006501, 0.20309509900153938, 0.7959418892984611, 0.9968787762089744, 0.1520354629899948, 0.8467205784981249, 0.8879026780393457, 0.027663299516803734, 0.018739654511383177, 0.06425024403902803, 0.9970055626408538, 0.9785802068829048, 0.8280290709829246, 0.17164352617250206, 0.9981852890320267, 0.977822514575834, 0.19967266144094994, 0.7998061354925202, 0.30077997471739354, 0.6974983896463695, 0.2872080952189204, 0.7106559279134824, 0.9978606248475687, 0.9886314179947169, 0.9921126087546265, 0.9961691449283835, 0.3480582055800524, 0.6516242836824949, 0.994362604142332, 0.9951493180031217, 0.9969692074631666, 0.9983355684729988, 0.9952346630454433, 0.997044274287168, 0.9906631568598003, 0.30003008228417893, 0.6989337144120078, 0.990678417309803, 0.19908493833920676, 0.16085665840873564, 0.15589194672945367, 0.10276953176113666, 0.38153809255281895, 0.08682579776690857, 0.3681413825316924, 0.28352569598066873, 0.20806618446688274, 0.05304266918123869, 0.4368899000668815, 0.2428412409871113, 0.31967553663430354, 0.03340552410165831, 0.7823925381704184, 0.18285128981960339, 0.9722012106847949, 0.16031855331666298, 0.8393537481496363, 0.9990087074471904, 0.9979163447892739, 0.9173476621821439, 0.07752233764919526, 0.9970692362898209, 0.9750750362499423, 0.9938582335320802, 0.9970687874584865, 0.99549527098578, 0.9993741941657163, 0.9897103929802625, 0.9612566018804148, 0.98579370011546, 0.9989387452491454, 0.9988259463912317, 0.9975389180139766, 0.07610759492620821, 0.8917003320432337, 0.03184644043011549, 0.9982986880240136, 0.4511228587854285, 0.06519877813103274, 0.48273438757623227, 0.4854538957518045, 0.11136739195114666, 0.33949883361318717, 0.06353337998975107, 0.9974383538523968, 0.9972807291923577, 0.9677581347688978, 0.030054600458661422, 0.9983278092905697, 0.9893151664888522, 0.010442027467676654, 0.42716655874956255, 0.57291892787671, 0.9705595542061493, 0.9629128642340881, 0.998892642996445, 0.9976165895681927, 0.9866657802887977, 0.9847360178587242, 0.9845077917313102, 0.9990325041399829, 0.1622865007099742, 0.8375633807828329, 0.17937687572860936, 0.8202856046832622, 0.11793395624700057, 0.880952444254703, 0.9984585084561899, 0.9155322122007115, 0.9974603759594718, 0.9902206691630228, 0.8327228122779242, 0.16675699174443126, 0.9791151694443501, 0.1655739221198251, 0.06428164035240269, 0.7674838272377776, 0.9941472218966726, 0.9679578918736914, 0.6590854521878621, 0.2279216211310448, 0.021340432042206106, 0.04543915121911912, 0.046165016254568314, 0.9956090819079512, 0.18715881029289158, 0.8115089040043346, 0.28704788335735265, 0.7113109637042091, 0.23446766031819036, 0.765337834623527, 0.9588504638256232, 0.9980110278110537, 0.9520613318185321, 0.5209223851790924, 0.4782460389290497, 0.9988384892565989, 0.9961908739867631, 0.9889135923583459, 0.9973212467754237, 0.997608174564811, 0.9988587087869831, 0.9979766851290212, 0.9978562017366729, 0.9989403914920124, 0.7483969340214187, 0.24624673312962808, 0.9695302243202489, 0.9967078955421987, 0.9946962865287233, 0.5303918330663636, 0.22495822328063694, 0.06711460805057677, 0.10533264874604409, 0.07208606049876763, 0.6533778577480861, 0.34546415467140185, 0.3619134771973354, 0.6367354759247238, 0.0906754539705777, 0.5899792524579146, 0.017664049474787863, 0.045926528634448446, 0.2555399157352644, 0.9984001273609684, 0.9989789861943998, 0.9966382582224164, 0.9980927960416395, 0.9976186520748608, 0.9979929249349948, 0.9897233661779098, 0.9973153317204945, 0.3706814065997698, 0.2666466947774017, 0.16870993231584736, 0.03196803755820547, 0.10736086601917559, 0.05469675790305676, 0.1460260230329171, 0.8518184676920164, 0.23010389573647835, 0.0954089323785398, 0.13549671909221198, 0.41210244741655006, 0.1262765281480674, 0.995975759012725, 0.9569538512648703, 0.043060632847725135, 0.02613167921248463, 0.45052950642265166, 0.43697974683099294, 0.08178247753536856, 0.003387439897914674, 0.8911175501007923, 0.10786339060810335, 0.999033064612539, 0.9894051134327906, 0.9969569261598448, 0.9997171600114407, 0.05332811954141985, 0.9439077158831313, 0.9968284306584029, 0.9924272712606483, 0.9895005276547314, 0.9970793830614323, 0.4492217427290339, 0.39326467895703754, 0.12952299376594967, 0.02778287781686534, 0.6266751231242457, 0.37326551049476925, 0.08551593804809904, 0.9136412477913033, 0.8127932818534025, 0.18685259205398463, 0.8740147276167237, 0.12526595444669655, 0.7321905135624315, 0.26719748599197735, 0.9985332590829433, 0.9990527550790748, 0.9958063273870192, 0.1594726606257473, 0.2840243006765134, 0.5552442271422005, 0.9970293120137914, 0.9965117595296785, 0.9981232425125937, 0.9969745426708141, 0.9926426972672862, 0.9972834916320593, 0.9894955856069545, 0.9920576744794396, 0.998550326341318, 0.9980470676107419, 0.9986816859901373, 0.07920050672925075, 0.9203645092330174, 0.019408722099489725, 0.978927420893013, 0.9975551771283603, 0.2741720494842445, 0.2447544476082526, 0.07825082099013846, 0.4024327936635692, 0.09501790564566419, 0.501648352549418, 0.37066880900313787, 0.032662405065697064, 0.9431615908378357, 0.05671214212075814, 0.9972131521973668, 0.40535283643372744, 0.23067501619733766, 0.012954575184995413, 0.03468483033401998, 0.31634236822714606, 0.9996520529069468, 0.1975534613695873, 0.08236031628929273, 0.7195397902841588, 0.9975065694331731, 0.2940426518255085, 0.7051220170420911, 0.9958489172621472, 0.9974123364493908, 0.9931808477167897, 0.022045401355875568, 0.9768868475822361, 0.9871719383218758, 0.930174194013821, 0.06950427204872749, 0.9972802280291153, 0.9681832572104342, 0.9971939394766589, 0.9977904911505322, 0.4527446142388926, 0.5451898496070434, 0.9970324799940562, 0.9843389116868563, 0.9971402313629761, 0.9982733093601093, 0.21132633438168372, 0.7880954458985442, 0.27659678756968786, 0.28274338284901424, 0.43640826483217415, 0.9683643764226488, 0.9879700879144704, 0.9879212089102384, 0.48417509018325455, 0.2855081118289071, 0.20780235741440886, 0.0224532208223196, 0.30313412406672635, 0.2641039793371049, 0.43193360167447703, 0.42112724436619303, 0.5785922139987695, 0.9961313778381421, 0.9994630115409426, 0.8231998017226738, 0.060449594515584966, 0.11622980490366129, 0.36539892733573504, 0.018768484229122827, 0.4076280168512614, 0.20762635678467128, 0.9922549022739271, 0.9944166779793128, 0.9984887494613903, 0.5414592572788297, 0.45121604773235807, 0.9964594477674314, 0.2864425254885262, 0.7119463600316481, 0.9847239685608689, 0.9991580763221601, 0.983908384409342, 0.9836500543467465, 0.9979446863326309, 0.9993949021654943, 0.984703343021637, 0.8475964609008719, 0.1513565108751557, 0.9987509777482637, 0.994072675465233, 0.24441011034715796, 0.2614619785109132, 0.49071487271251096, 0.9984029959392485, 0.9984867724019403, 0.9978564582980515, 0.10814042487559111, 0.891544070991379, 0.9948082451304059, 0.9981987693479875, 0.996341932657335, 0.9991580837285332, 0.9990871501875589, 0.7888103092607565, 0.21027678133608563, 0.9978862964907366, 0.10390737549163012, 0.8553923298536776, 0.04022220986772779, 0.9842341646406438, 0.9940509437906163, 0.023716684294690593, 0.025940123447317835, 0.07115005288407178, 0.17787513221017945, 0.7011244794617906, 0.9912410398818506, 0.9932617890192155, 0.9995673221726138, 0.9954437216820987, 0.9984344833511627, 0.9926981791405414, 0.990258184970655, 0.37060571109339085, 0.08603346864668002, 0.2725395894891332, 0.018048979436366436, 0.016244081492729795, 0.23644163061640033, 0.15716654308153177, 0.10815762104535519, 0.7334438677138149, 0.48976310416312, 0.5095054928580675, 0.9968648593224256, 0.22349437272095438, 0.35450831535047933, 0.32298089600112845, 0.09808530464242513, 0.4870136309930236, 0.4447173498888824, 0.06821980823248579, 0.3291475998376171, 0.06965805424673317, 0.6008671854870877, 0.30470966269934174, 0.6942927930911942, 0.14137825604732698, 0.29571300995343863, 0.5624644364578292, 0.9913096418709848, 0.46904271541681886, 0.14800298277891136, 0.3828385718732633, 0.9989905499044796, 0.5195134066858388, 0.2246256737924426, 0.2554983967307404, 0.9952181938100274, 0.9973053217912548, 0.9210735486286962, 0.941677421120272, 0.9974373676142648, 0.9772541921446866, 0.9981266492171181, 0.9979630830141176, 0.9968540476431476, 0.999595737029017, 0.9907278897006201, 0.9922590554994044, 0.9956167976334871, 0.9942824393560792, 0.9984105950769843, 0.9971055325638494, 0.9816188192874505, 0.126228020564223, 0.028224899008149243, 0.16778134410399828, 0.6123235034823489, 0.06429004774078438, 0.07139420698365333, 0.1780095560792423, 0.7491632119484689, 0.9953211982148821, 0.9990822491504728, 0.9992760094100364, 0.9968750747595088, 0.9873545755791606, 0.9951928678820798, 0.9958748838235472, 0.7133604153084315, 0.14986895643120596, 0.13642424793869673, 0.9974308091680836, 0.9788017176892185, 0.9890643626719454, 0.6417160346205943, 0.13077182656023756, 0.22604844305412494, 0.4315691830643584, 0.5676656889269777, 0.9949745201229543, 0.9965791142103751, 0.5460331796212213, 0.4145588131614479, 0.039235030531351314, 0.9956513400589253, 0.43864852720527875, 0.5610564769571904, 0.9990041972501169, 0.998717374407289, 0.3670984615342875, 0.5414517153732858, 0.09134258962184692, 0.9903705283620156, 0.9878697147769238, 0.9801173653304335, 0.9982055293713398, 0.9953939974768075, 0.9706935859270661, 0.2674282501487605, 0.09680660638869157, 0.5989908770300291, 0.03509239481590069, 0.4613736710844255, 0.5363468926356446, 0.999690136304657, 0.9878131962364133, 0.9998331453169267, 0.9960676786747104, 0.9674203114433767, 0.9844851991510527, 0.01464523436753632, 0.9751382308711118, 0.9946048994613268, 0.9870752649957014, 0.9715897503157244, 0.9832223333707588, 0.9994840530109538, 0.9989965862827717, 0.9991926204179569, 0.9975304457344757, 0.9861778548552402, 0.6682731136776137, 0.16197878119603087, 0.16950238578710333, 0.9993413293226108, 0.01891379766120807, 0.9808155072883613, 0.9812093429991814, 0.9885561228316293, 0.8804647717558088, 0.9795471270554679, 0.9955799380798598, 0.6671985642237169, 0.32100182670343863, 0.011730963766570847, 0.9978911769101481, 0.011738566990863564, 0.8899968063982011, 0.03877284248497359, 0.044108554753547934, 0.015295708503246462, 0.9969828909299866, 0.9980100309044327, 0.9980805303766701, 0.995741022886414, 0.998040550812196, 0.7757747453052504, 0.22401530624005975, 0.9961876677526785, 0.9958954113023029, 0.996578248271611, 0.0031437799630019275, 0.9568383623322199, 0.9958134517204001, 0.9984559942632678, 0.9983316480651769, 0.9968463945931391, 0.9974915980507095, 0.1109998244832691, 0.8884127743157172, 0.998307608333908, 0.9973184749422779, 0.991937764610501, 0.9828480832787716, 0.7032395373574648, 0.08290517813728127, 0.21308085258090714, 0.988924176668335, 0.9971653570229781, 0.592329144169289, 0.2837847025119744, 0.04571028765293548, 0.07808840807376477, 0.11031387861224443, 0.889237484910897, 0.9683477167204492, 0.9980656735303425, 0.9882035049938971, 0.9963476670652126, 0.9987637759323005, 0.9964333396451508, 0.5432313970949819, 0.32958246348140674, 0.0836377608332213, 0.017390029480174728, 0.02608504422026209, 0.9902809562583599, 0.9977731754678874, 0.9724742132100714, 0.998068914089385, 0.9975989311611754, 0.9945745122848031, 0.9926793205584331], \"Term\": [\"access\", \"acquisition\", \"acquisition\", \"activity\", \"activity\", \"addition\", \"addition\", \"addition\", \"addition\", \"advertising\", \"advisory\", \"age\", \"agent\", \"aim\", \"air\", \"also\", \"also\", \"also\", \"also\", \"also\", \"also\", \"also\", \"aluminum\", \"american\", \"analysis\", \"analysis\", \"analytic\", \"application\", \"application\", \"approximately\", \"approximately\", \"area\", \"area\", \"area\", \"area\", \"asset\", \"asset\", \"asset\", \"authority\", \"automation\", \"automation\", \"automotive\", \"aviation\", \"bank\", \"banking\", \"base\", \"base\", \"base\", \"base\", \"basic\", \"battery\", \"bean\", \"belt\", \"benchmark\", \"biological\", \"biosimilar\", \"biotechnology\", \"blood\", \"body\", \"bond\", \"book\", \"brand\", \"brand\", \"brokerage\", \"building\", \"building\", \"bus\", \"business\", \"business\", \"business\", \"business\", \"canadian\", \"cancer\", \"candidate\", \"cannabis\", \"capacity\", \"car\", \"car\", \"carbon\", \"care\", \"care\", \"cash\", \"catalyst\", \"cell\", \"cell\", \"centre\", \"ceramic\", \"change\", \"change\", \"change\", \"change\", \"change\", \"channel\", \"charge\", \"cheese\", \"chemical\", \"chemical\", \"civil_engineere\", \"claim\", \"clear\", \"clearing\", \"clinical\", \"clinical_trial\", \"close\", \"closed_ende\", \"cloud\", \"coating\", \"combine\", \"commercial\", \"commercial\", \"commercial\", \"communication\", \"communication\", \"compact\", \"company\", \"company\", \"company\", \"company\", \"company\", \"company\", \"company\", \"component\", \"connect\", \"construct\", \"construction\", \"construction\", \"consult\", \"consulting\", \"consulting\", \"consumer\", \"consumer\", \"consumer\", \"consumer\", \"container\", \"continuous\", \"control\", \"control\", \"copper\", \"corn\", \"corporate\", \"corporate\", \"cosmetic\", \"cosmetic\", \"create\", \"create\", \"credit\", \"crop\", \"crude_oil\", \"currency\", \"customer\", \"customer\", \"dairy\", \"damage\", \"data\", \"datum\", \"day\", \"debt\", \"dental\", \"deposit\", \"deposit\", \"derivative\", \"develop\", \"develop\", \"develop\", \"develop\", \"develop\", \"development\", \"development\", \"development\", \"development\", \"development\", \"device\", \"device\", \"device\", \"diagnostic\", \"diagnostic\", \"diagnostic\", \"difference\", \"digital\", \"digital\", \"disease\", \"division\", \"domestic\", \"domestic\", \"domicile\", \"double\", \"drill\", \"drilling\", \"drink\", \"drug\", \"ear\", \"early_stage\", \"egg\", \"electric\", \"electrical\", \"electricity\", \"electronic\", \"electronic\", \"electronic\", \"enable\", \"energy\", \"energy\", \"energy\", \"engage\", \"engage\", \"engage\", \"engage\", \"engine\", \"engineer\", \"enterprise\", \"enterprise\", \"environmental\", \"equipment\", \"equipment\", \"equity\", \"equity\", \"establish\", \"evaluate\", \"exploration\", \"explore\", \"export\", \"eye\", \"fertilizer\", \"film\", \"finance\", \"finance\", \"financial\", \"financial\", \"financing\", \"financing\", \"firm\", \"fixed_income\", \"fleet\", \"foam\", \"food\", \"food\", \"foreign_exchange\", \"form\", \"form\", \"form\", \"formerly_known\", \"forward\", \"found\", \"found\", \"found\", \"found\", \"found\", \"fruit\", \"fuel\", \"fuel\", \"functional\", \"functional\", \"fund\", \"fund\", \"future\", \"game\", \"garage\", \"gas\", \"gas\", \"general\", \"generate\", \"german\", \"germany\", \"glass\", \"global\", \"gmbh\", \"gold\", \"good\", \"grade\", \"grade\", \"great\", \"growth\", \"head\", \"headquartered\", \"headquartered\", \"headquartered\", \"headquartered\", \"headquartered\", \"health\", \"health\", \"healthcare\", \"healthcare\", \"high\", \"high\", \"high\", \"high\", \"high\", \"hold\", \"home\", \"hospital\", \"hotel\", \"house\", \"housing\", \"implement\", \"implementation\", \"include\", \"include\", \"include\", \"include\", \"include\", \"include\", \"income\", \"income\", \"incorporate\", \"incorporate\", \"incorporate\", \"incorporate\", \"incorporate\", \"index\", \"industrial\", \"industrial\", \"industry\", \"industry\", \"industry\", \"industry\", \"industry\", \"information\", \"information\", \"infrastructure\", \"injection_molde\", \"instrument\", \"insurance\", \"integrate\", \"integrate\", \"integration\", \"intermediate\", \"internal\", \"international\", \"internationally\", \"internationally\", \"internationally\", \"internationally\", \"internet\", \"internet\", \"invest\", \"invest\", \"investment\", \"investment\", \"investor\", \"investor\", \"involve\", \"involve\", \"land\", \"laser\", \"launch\", \"lease\", \"lease\", \"lease\", \"leasing\", \"license\", \"life\", \"light\", \"link\", \"list\", \"lithium\", \"llc\", \"loan\", \"locate\", \"logistic\", \"machine\", \"machine\", \"machinery\", \"machinery\", \"man\", \"manage\", \"manage\", \"manage\", \"manage\", \"management\", \"management\", \"management\", \"management\", \"manufacture\", \"manufacture\", \"manufacturer\", \"market\", \"market\", \"market\", \"market\", \"market\", \"material\", \"medical\", \"medical\", \"medical\", \"medicine\", \"medium\", \"medium\", \"mine\", \"mineral\", \"mineral_propertie\", \"mining\", \"mining\", \"mix\", \"mobile\", \"mobile\", \"mobility\", \"modern\", \"module\", \"mold\", \"monitor\", \"monitor\", \"mortgage\", \"mountain\", \"music\", \"natural_ga\", \"network\", \"network\", \"non\", \"non\", \"non\", \"noodle\", \"nursing_care\", \"nutrition\", \"offer\", \"offer\", \"offer\", \"offer\", \"office\", \"office\", \"office\", \"oil\", \"oil\", \"oncology\", \"online\", \"operate\", \"operate\", \"operate\", \"operation\", \"operation\", \"operation\", \"operation\", \"operational\", \"opportunity\", \"optical\", \"option\", \"option\", \"other\", \"own\", \"own\", \"oxygen\", \"packaging\", \"pad\", \"pain\", \"paper\", \"part\", \"paste\", \"patient\", \"patient\", \"payment\", \"pen\", \"performance\", \"performance\", \"performance\", \"peripheral\", \"personal\", \"petroleum\", \"pharmaceutical\", \"pharmaceutical\", \"phase\", \"physical\", \"pipe\", \"plan\", \"planning\", \"plant\", \"plant\", \"plastic\", \"platform\", \"platform\", \"platform\", \"plug\", \"polymer\", \"portfolio\", \"portfolio\", \"portfolio\", \"portfolio\", \"portfolio\", \"position\", \"powder\", \"power\", \"precious_metal\", \"precision\", \"prefer\", \"price\", \"primarily\", \"primarily\", \"primarily\", \"primarily\", \"primarily\", \"primarily\", \"private\", \"private\", \"private\", \"process\", \"process\", \"procurement\", \"produce\", \"produce\", \"produce\", \"produce\", \"product\", \"product\", \"product\", \"production\", \"production\", \"production\", \"project\", \"project\", \"property\", \"property\", \"property\", \"protein\", \"provide\", \"provide\", \"provide\", \"provision\", \"public\", \"public\", \"public\", \"publicly_owne\", \"pump\", \"purchasing\", \"pursue\", \"quality\", \"quartz\", \"rail\", \"raw_material\", \"reagent\", \"real_estate\", \"receive\", \"rehabilitation\", \"reit\", \"renovation\", \"rental\", \"repair\", \"require\", \"research\", \"research\", \"research\", \"research\", \"research\", \"residential\", \"residential\", \"residential\", \"resin\", \"restaurant\", \"retail\", \"revenue\", \"rice\", \"right\", \"road\", \"sale\", \"sale\", \"sale\", \"saving\", \"sealing\", \"section\", \"sector\", \"sector\", \"sector\", \"security\", \"security\", \"seed\", \"seek\", \"segment\", \"segment\", \"segment\", \"self\", \"sell\", \"sell\", \"semiconductor\", \"sensor\", \"service\", \"service\", \"service\", \"servicing\", \"shareholder\", \"sharing\", \"shop\", \"silver\", \"ski\", \"small\", \"small\", \"small\", \"small\", \"smart\", \"smart\", \"software\", \"soil\", \"solution\", \"specific\", \"spectrum\", \"sport\", \"sport\", \"stabilizer\", \"stake\", \"stand\", \"starch\", \"start\", \"steel\", \"stock\", \"store\", \"study\", \"style\", \"subsidiary\", \"subsidiary\", \"subsidiary\", \"supply\", \"support\", \"support\", \"surgery\", \"surgical\", \"swap\", \"sweet\", \"synthetic\", \"system\", \"system\", \"system\", \"tax\", \"technology\", \"technology\", \"technology\", \"technology\", \"technology\", \"terminal\", \"test\", \"testing\", \"therapeutic\", \"therapy\", \"tokyo_japan\", \"tokyo_japan\", \"top\", \"total\", \"trade\", \"trade\", \"trader\", \"traffic\", \"training\", \"transaction\", \"transmission\", \"treat\", \"treatment\", \"treatment\", \"truck\", \"trust\", \"turn\", \"ultrasonic\", \"use\", \"use\", \"use\", \"valuation\", \"value\", \"various\", \"various\", \"various\", \"various\", \"vehicle\", \"vehicle\", \"vending_machine\", \"video\", \"visualization\", \"waste\", \"water\", \"web\", \"well\", \"well\", \"well\", \"well\", \"well\", \"western\", \"wholesale\", \"wide\", \"wireless\", \"woman\", \"year\", \"zinc\"]}, \"R\": 30, \"lambda.step\": 0.01, \"plot.opts\": {\"xlab\": \"PC1\", \"ylab\": \"PC2\"}, \"topic.order\": [8, 2, 1, 5, 7, 6, 3, 10, 9, 4]};\n\nfunction LDAvis_load_lib(url, callback){\n  var s = document.createElement('script');\n  s.src = url;\n  s.async = true;\n  s.onreadystatechange = s.onload = callback;\n  s.onerror = function(){console.warn(\"failed to load library \" + url);};\n  document.getElementsByTagName(\"head\")[0].appendChild(s);\n}\n\nif(typeof(LDAvis) !== \"undefined\"){\n   // already loaded: just create the visualization\n   !function(LDAvis){\n       new LDAvis(\"#\" + \"ldavis_el176802160338390816787672747\", ldavis_el176802160338390816787672747_data);\n   }(LDAvis);\n}else if(typeof define === \"function\" && define.amd){\n   // require.js is available: use it to load d3/LDAvis\n   require.config({paths: {d3: \"https://d3js.org/d3.v5\"}});\n   require([\"d3\"], function(d3){\n      window.d3 = d3;\n      LDAvis_load_lib(\"https://cdn.jsdelivr.net/gh/bmabey/pyLDAvis@3.3.1/pyLDAvis/js/ldavis.v3.0.0.js\", function(){\n        new LDAvis(\"#\" + \"ldavis_el176802160338390816787672747\", ldavis_el176802160338390816787672747_data);\n      });\n    });\n}else{\n    // require.js not available: dynamically load d3 & LDAvis\n    LDAvis_load_lib(\"https://d3js.org/d3.v5.js\", function(){\n         LDAvis_load_lib(\"https://cdn.jsdelivr.net/gh/bmabey/pyLDAvis@3.3.1/pyLDAvis/js/ldavis.v3.0.0.js\", function(){\n                 new LDAvis(\"#\" + \"ldavis_el176802160338390816787672747\", ldavis_el176802160338390816787672747_data);\n            })\n         });\n}\n</script>"
     },
     "execution_count": 15,
     "metadata": {},
     "output_type": "execute_result"
    }
   ],
   "source": [
    "# Visualize the topics\n",
    "pyLDAvis.enable_notebook()\n",
    "vis = pyLDAvis.gensim_models.prepare(lda_model, corpus, id2word)\n",
    "vis"
   ],
   "metadata": {
    "collapsed": false,
    "pycharm": {
     "name": "#%%\n"
    }
   }
  },
  {
   "cell_type": "markdown",
   "source": [
    "The area of these topic circles is proportional to the amount of words that belong to each topic across the dictionary. When you select a topic in the intertopic distance map, or specify a topic in the top panel, the bar chart changes to display the most salient words included in that specific topic. A second darker bar is also displayed over the term’s total frequency that shows the topic-specific frequency of words that belong to the selected topic. If the dark bar entirely eclipses the light bar, that term nearly exclusively belongs to the selected topic. When you select a word in the bar chart, the topics and probabilities by topic of that word are displayed in the intertopic distance map, so you can see which other topics a term might be shared with. You can adjust the words displayed in the bar chart for a topic by adjusting the λ (lambda) slider. Adjusting lambda to values close to 0 highlights potentially rare but more exclusive terms for the selected topic. Larger lambda values (closer to 1) highlight more frequently occurring terms in the document that might not be exclusive to the topic. The authors of this visualization found in a user study that a λ value close to 0.6 was optimal for interpreting the topics, although they expected this value to change based on the data and individual topics."
   ],
   "metadata": {
    "collapsed": false,
    "pycharm": {
     "name": "#%% md\n"
    }
   }
  },
  {
   "cell_type": "code",
   "execution_count": 17,
   "outputs": [],
   "source": [
    "import os\n",
    "from gensim.models.wrappers import LdaMallet\n",
    "\n",
    "os.environ['MALLET_HOME'] = 'C:\\\\Users\\\\esse\\\\OneDrive\\\\Dokumente\\\\GitHub\\\\project_NLP\\\\mallet-2.0.8'\n",
    "mallet_path = 'C:\\\\Users\\\\esse\\\\OneDrive\\\\Dokumente\\\\GitHub\\\\project_NLP\\\\mallet-2.0.8\\\\bin\\\\mallet'\n",
    "\n",
    "ldamallet = gensim.models.wrappers.LdaMallet(mallet_path, corpus=corpus, num_topics=10, id2word=id2word)"
   ],
   "metadata": {
    "collapsed": false,
    "pycharm": {
     "name": "#%%\n"
    }
   }
  },
  {
   "cell_type": "code",
   "execution_count": 18,
   "outputs": [
    {
     "name": "stdout",
     "output_type": "stream",
     "text": [
      "[(0,\n",
      "  [('operate', 0.06212535783763266),\n",
      "   ('company', 0.03960333401869454),\n",
      "   ('store', 0.0227276321824537),\n",
      "   ('found', 0.021335821721732803),\n",
      "   ('brand', 0.020149619624527496),\n",
      "   ('retail', 0.019169025890837774),\n",
      "   ('include', 0.014487481613867493),\n",
      "   ('home', 0.014044632830910845),\n",
      "   ('offer', 0.013839024467395258),\n",
      "   ('subsidiary', 0.011988549195754978)]),\n",
      " (1,\n",
      "  [('develop', 0.04328889856740655),\n",
      "   ('treatment', 0.038420258520120085),\n",
      "   ('company', 0.03786028714087947),\n",
      "   ('development', 0.016954688982563113),\n",
      "   ('patient', 0.01474591298666957),\n",
      "   ('include', 0.013890401157274183),\n",
      "   ('disease', 0.013610415467653875),\n",
      "   ('clinical_trial', 0.012646020314517259),\n",
      "   ('cell', 0.012039384653673256),\n",
      "   ('medical', 0.011697179921915102)]),\n",
      " (2,\n",
      "  [('service', 0.0875099072217819),\n",
      "   ('solution', 0.04552659797659565),\n",
      "   ('provide', 0.03819525385798872),\n",
      "   ('management', 0.027367243228122524),\n",
      "   ('platform', 0.02229707678679659),\n",
      "   ('software', 0.021959065690708192),\n",
      "   ('offer', 0.019662921348314606),\n",
      "   ('customer', 0.01565341041540398),\n",
      "   ('support', 0.015560165975103735),\n",
      "   ('datum', 0.011189332836029652)]),\n",
      " (3,\n",
      "  [('equipment', 0.034962482255120664),\n",
      "   ('product', 0.02399783681470966),\n",
      "   ('vehicle', 0.017778679104982088),\n",
      "   ('construction', 0.017508280943689582),\n",
      "   ('manufacture', 0.016751166092070575),\n",
      "   ('industrial', 0.015858852159805314),\n",
      "   ('offer', 0.014155343743662544),\n",
      "   ('sell', 0.014074224295274792),\n",
      "   ('material', 0.011194483877509633),\n",
      "   ('part', 0.011180963969445007)]),\n",
      " (4,\n",
      "  [('product', 0.12312368192531944),\n",
      "   ('offer', 0.023089567051234338),\n",
      "   ('food', 0.022655377744696687),\n",
      "   ('sell', 0.021678451804986974),\n",
      "   ('segment', 0.019088822726708844),\n",
      "   ('material', 0.014777943183227888),\n",
      "   ('manufacture', 0.014715916139436794),\n",
      "   ('specialty', 0.014715916139436794),\n",
      "   ('found', 0.014204193028160278),\n",
      "   ('provide', 0.013723483438779308)]),\n",
      " (5,\n",
      "  [('service', 0.07063192182410423),\n",
      "   ('loan', 0.03743322475570032),\n",
      "   ('commercial', 0.03382410423452769),\n",
      "   ('provide', 0.03246905537459283),\n",
      "   ('management', 0.021250814332247556),\n",
      "   ('insurance', 0.021172638436482084),\n",
      "   ('banking', 0.020925081433224756),\n",
      "   ('operate', 0.020755700325732897),\n",
      "   ('offer', 0.020091205211726384),\n",
      "   ('financial', 0.01865798045602606)]),\n",
      " (6,\n",
      "  [('system', 0.06913484346173586),\n",
      "   ('product', 0.024899085877571402),\n",
      "   ('device', 0.02381712002885242),\n",
      "   ('solution', 0.022735154180133443),\n",
      "   ('offer', 0.02058509383973034),\n",
      "   ('application', 0.01898988778072159),\n",
      "   ('design', 0.018823431496303285),\n",
      "   ('electronic', 0.017408553078747693),\n",
      "   ('provide', 0.01702015508177165),\n",
      "   ('segment', 0.01517526459613544)]),\n",
      " (7,\n",
      "  [('investment', 0.041966190416435116),\n",
      "   ('invest', 0.040299015829195275),\n",
      "   ('market', 0.03581736371295915),\n",
      "   ('fund', 0.03241130810461969),\n",
      "   ('company', 0.030493160998870623),\n",
      "   ('manage', 0.029435491099438896),\n",
      "   ('portfolio', 0.026352114443468442),\n",
      "   ('primarily', 0.02278471935894448),\n",
      "   ('equity', 0.02197802197802198),\n",
      "   ('security', 0.018446480110427908)]),\n",
      " (8,\n",
      "  [('company', 0.20325779036827196),\n",
      "   ('business', 0.11360606565572405),\n",
      "   ('base', 0.09198466922179636),\n",
      "   ('incorporate', 0.07325862356273954),\n",
      "   ('technology', 0.03089068488585236),\n",
      "   ('asset', 0.03034910848191968),\n",
      "   ('acquisition', 0.03011998000333278),\n",
      "   ('focus', 0.029911681386435594),\n",
      "   ('change', 0.025016663889351774),\n",
      "   ('corporation', 0.02403766038993501)]),\n",
      " (9,\n",
      "  [('service', 0.03500436050882627),\n",
      "   ('company', 0.029681532493308873),\n",
      "   ('operate', 0.026959973536222297),\n",
      "   ('engage', 0.026343487805611524),\n",
      "   ('energy', 0.023110696779237962),\n",
      "   ('segment', 0.02130634829940156),\n",
      "   ('facility', 0.020704898806122755),\n",
      "   ('gas', 0.016509788590503113),\n",
      "   ('production', 0.01599855652121613),\n",
      "   ('operation', 0.013878447057408354)])]\n",
      "\n",
      "Coherence Score:  0.567199379320571\n"
     ]
    }
   ],
   "source": [
    "# Show Topics\n",
    "pprint(ldamallet.show_topics(formatted=False))\n",
    "\n",
    "# Compute Coherence Score\n",
    "coherence_model_ldamallet = CoherenceModel(model=ldamallet, texts=data_lemmatized, dictionary=id2word, coherence='c_v')\n",
    "coherence_ldamallet = coherence_model_ldamallet.get_coherence()\n",
    "print('\\nCoherence Score: ', coherence_ldamallet)"
   ],
   "metadata": {
    "collapsed": false,
    "pycharm": {
     "name": "#%%\n"
    }
   }
  },
  {
   "cell_type": "code",
   "execution_count": 19,
   "outputs": [],
   "source": [
    "def compute_coherence_values(dictionary, corpus, texts, limit, start=2, step=3):\n",
    "    \"\"\"\n",
    "    Compute c_v coherence for various number of topics\n",
    "\n",
    "    Parameters:\n",
    "    ----------\n",
    "    dictionary : Gensim dictionary\n",
    "    corpus : Gensim corpus\n",
    "    texts : List of input texts\n",
    "    limit : Max num of topics\n",
    "\n",
    "    Returns:\n",
    "    -------\n",
    "    model_list : List of LDA topic models\n",
    "    coherence_values : Coherence values corresponding to the LDA model with respective number of topics\n",
    "    \"\"\"\n",
    "    coherence_values = []\n",
    "    model_list = []\n",
    "    for num_topics in range(start, limit, step):\n",
    "        model = gensim.models.wrappers.LdaMallet(mallet_path, corpus=corpus, num_topics=num_topics, id2word=id2word)\n",
    "        model_list.append(model)\n",
    "        coherencemodel = CoherenceModel(model=model, texts=texts, dictionary=dictionary, coherence='c_v')\n",
    "        coherence_values.append(coherencemodel.get_coherence())\n",
    "\n",
    "    return model_list, coherence_values"
   ],
   "metadata": {
    "collapsed": false,
    "pycharm": {
     "name": "#%%\n"
    }
   }
  },
  {
   "cell_type": "code",
   "execution_count": 20,
   "outputs": [],
   "source": [
    "# Can take a long time to run.\n",
    "model_list, coherence_values = compute_coherence_values(dictionary=id2word, corpus=corpus, texts=data_lemmatized, start=2, limit=24, step=6)"
   ],
   "metadata": {
    "collapsed": false,
    "pycharm": {
     "name": "#%%\n"
    }
   }
  },
  {
   "cell_type": "code",
   "execution_count": 22,
   "outputs": [
    {
     "data": {
      "text/plain": "<Figure size 640x480 with 1 Axes>",
      "image/png": "[encoded data removed]"
     },
     "metadata": {},
     "output_type": "display_data"
    }
   ],
   "source": [
    "# Show graph\n",
    "limit=24; start=2; step=6;\n",
    "x = range(start, limit, step)\n",
    "plt.plot(x, coherence_values)\n",
    "plt.xlabel(\"Num Topics\")\n",
    "plt.ylabel(\"Coherence score\")\n",
    "plt.legend((\"coherence_values\"), loc='best')\n",
    "plt.show()"
   ],
   "metadata": {
    "collapsed": false,
    "pycharm": {
     "name": "#%%\n"
    }
   }
  },
  {
   "cell_type": "code",
   "execution_count": 23,
   "outputs": [
    {
     "name": "stdout",
     "output_type": "stream",
     "text": [
      "Num Topics = 2  has Coherence Value of 0.3536\n",
      "Num Topics = 8  has Coherence Value of 0.5002\n",
      "Num Topics = 14  has Coherence Value of 0.5734\n",
      "Num Topics = 20  has Coherence Value of 0.5654\n"
     ]
    }
   ],
   "source": [
    "# Print the coherence scores\n",
    "for m, cv in zip(x, coherence_values):\n",
    "    print(\"Num Topics =\", m, \" has Coherence Value of\", round(cv, 4))"
   ],
   "metadata": {
    "collapsed": false,
    "pycharm": {
     "name": "#%%\n"
    }
   }
  },
  {
   "cell_type": "code",
   "execution_count": 24,
   "outputs": [
    {
     "name": "stdout",
     "output_type": "stream",
     "text": [
      "[(0,\n",
      "  '0.049*\"invest\" + 0.048*\"investment\" + 0.040*\"fund\" + 0.035*\"market\" + '\n",
      "  '0.033*\"manage\" + 0.032*\"portfolio\" + 0.025*\"equity\" + 0.021*\"security\" + '\n",
      "  '0.018*\"primarily\" + 0.017*\"form\"'),\n",
      " (1,\n",
      "  '0.034*\"energy\" + 0.027*\"gas\" + 0.025*\"oil\" + 0.024*\"water\" + '\n",
      "  '0.023*\"company\" + 0.020*\"industrial\" + 0.019*\"chemical\" + '\n",
      "  '0.017*\"natural_ga\" + 0.016*\"production\" + 0.015*\"storage\"'),\n",
      " (2,\n",
      "  '0.146*\"service\" + 0.043*\"management\" + 0.033*\"provide\" + 0.023*\"sale\" + '\n",
      "  '0.021*\"maintenance\" + 0.019*\"operation\" + 0.019*\"construction\" + '\n",
      "  '0.018*\"relate\" + 0.018*\"support\" + 0.017*\"design\"'),\n",
      " (3,\n",
      "  '0.058*\"product\" + 0.035*\"company\" + 0.033*\"medical\" + 0.029*\"health\" + '\n",
      "  '0.028*\"offer\" + 0.027*\"care\" + 0.021*\"include\" + 0.020*\"provide\" + '\n",
      "  '0.013*\"pharmaceutical\" + 0.012*\"device\"'),\n",
      " (4,\n",
      "  '0.054*\"treatment\" + 0.054*\"develop\" + 0.042*\"company\" + 0.019*\"disease\" + '\n",
      "  '0.018*\"clinical_trial\" + 0.017*\"cell\" + 0.016*\"development\" + 0.016*\"treat\" '\n",
      "  '+ 0.016*\"cancer\" + 0.016*\"patient\"'),\n",
      " (5,\n",
      "  '0.096*\"system\" + 0.027*\"equipment\" + 0.024*\"product\" + 0.022*\"control\" + '\n",
      "  '0.022*\"device\" + 0.020*\"design\" + 0.019*\"electronic\" + 0.018*\"power\" + '\n",
      "  '0.017*\"application\" + 0.015*\"manufacture\"'),\n",
      " (6,\n",
      "  '0.081*\"solution\" + 0.034*\"software\" + 0.032*\"provide\" + 0.024*\"service\" + '\n",
      "  '0.022*\"management\" + 0.019*\"customer\" + 0.018*\"platform\" + 0.017*\"datum\" + '\n",
      "  '0.016*\"application\" + 0.015*\"technology\"'),\n",
      " (7,\n",
      "  '0.060*\"product\" + 0.033*\"equipment\" + 0.031*\"material\" + '\n",
      "  '0.023*\"manufacture\" + 0.015*\"part\" + 0.014*\"sell\" + 0.014*\"offer\" + '\n",
      "  '0.013*\"industrial\" + 0.012*\"construction\" + 0.012*\"machine\"'),\n",
      " (8,\n",
      "  '0.117*\"segment\" + 0.048*\"service\" + 0.047*\"operate\" + 0.046*\"company\" + '\n",
      "  '0.039*\"provide\" + 0.029*\"vehicle\" + 0.028*\"offer\" + 0.023*\"found\" + '\n",
      "  '0.020*\"commercial\" + 0.018*\"transportation\"'),\n",
      " (9,\n",
      "  '0.125*\"company\" + 0.039*\"engage\" + 0.037*\"operate\" + 0.035*\"property\" + '\n",
      "  '0.032*\"change\" + 0.026*\"found\" + 0.024*\"subsidiary\" + 0.024*\"approximately\" '\n",
      "  '+ 0.022*\"development\" + 0.022*\"primarily\"'),\n",
      " (10,\n",
      "  '0.049*\"service\" + 0.047*\"loan\" + 0.036*\"commercial\" + 0.027*\"insurance\" + '\n",
      "  '0.026*\"banking\" + 0.024*\"provide\" + 0.022*\"financial\" + 0.021*\"product\" + '\n",
      "  '0.019*\"deposit\" + 0.018*\"real_estate\"'),\n",
      " (11,\n",
      "  '0.156*\"business\" + 0.140*\"company\" + 0.103*\"base\" + 0.080*\"incorporate\" + '\n",
      "  '0.046*\"asset\" + 0.041*\"focus\" + 0.041*\"acquisition\" + 0.032*\"technology\" + '\n",
      "  '0.030*\"combination\" + 0.024*\"reorganization\"'),\n",
      " (12,\n",
      "  '0.087*\"product\" + 0.032*\"brand\" + 0.029*\"food\" + 0.029*\"store\" + '\n",
      "  '0.028*\"sell\" + 0.022*\"operate\" + 0.020*\"retail\" + 0.015*\"company\" + '\n",
      "  '0.014*\"found\" + 0.013*\"restaurant\"'),\n",
      " (13,\n",
      "  '0.041*\"service\" + 0.036*\"company\" + 0.027*\"operate\" + 0.023*\"offer\" + '\n",
      "  '0.020*\"platform\" + 0.020*\"digital\" + 0.019*\"online\" + 0.019*\"include\" + '\n",
      "  '0.019*\"provide\" + 0.018*\"network\"')]\n"
     ]
    }
   ],
   "source": [
    "# Select the model and print the topics\n",
    "optimal_model = model_list[2]\n",
    "model_topics = optimal_model.show_topics(formatted=False)\n",
    "pprint(optimal_model.print_topics(num_words=10))"
   ],
   "metadata": {
    "collapsed": false,
    "pycharm": {
     "name": "#%%\n"
    }
   }
  },
  {
   "cell_type": "code",
   "execution_count": 25,
   "outputs": [
    {
     "name": "stderr",
     "output_type": "stream",
     "text": [
      "C:\\Users\\esse\\AppData\\Local\\Temp\\ipykernel_17680\\1150338244.py:13: FutureWarning: The frame.append method is deprecated and will be removed from pandas in a future version. Use pandas.concat instead.\n",
      "  sent_topics_df = sent_topics_df.append(pd.Series([int(topic_num), round(prop_topic,4), topic_keywords]), ignore_index=True)\n",
      "C:\\Users\\esse\\AppData\\Local\\Temp\\ipykernel_17680\\1150338244.py:13: FutureWarning: The frame.append method is deprecated and will be removed from pandas in a future version. Use pandas.concat instead.\n",
      "  sent_topics_df = sent_topics_df.append(pd.Series([int(topic_num), round(prop_topic,4), topic_keywords]), ignore_index=True)\n"
     ]
    },
    {
     "data": {
      "text/plain": "   Document_No  Dominant_Topic  Topic_Perc_Contrib  \\\n0            0              11              0.3182   \n1            1               4              0.4457   \n2            2               0              0.1290   \n3            3              13              0.2291   \n4            4              12              0.4445   \n5            5               0              0.4568   \n6            6              12              0.2612   \n7            7               0              0.4476   \n8            8               4              0.4622   \n9            9               4              0.2908   \n\n                                            Keywords  \\\n0  business, company, base, incorporate, asset, f...   \n1  treatment, develop, company, disease, clinical...   \n2  invest, investment, fund, market, manage, port...   \n3  service, company, operate, offer, platform, di...   \n4  product, brand, food, store, sell, operate, re...   \n5  invest, investment, fund, market, manage, port...   \n6  product, brand, food, store, sell, operate, re...   \n7  invest, investment, fund, market, manage, port...   \n8  treatment, develop, company, disease, clinical...   \n9  treatment, develop, company, disease, clinical...   \n\n                                                Text  \n0  Adara Acquisition Corp. does not have signific...  \n1  AIM ImmunoTech Inc., an immuno-pharma company,...  \n2  Ashford, Inc is an asset management firm. The ...  \n3  The Arena Group Holdings, Inc., together with ...  \n4  AMCON Distributing Company, together with its ...  \n5  Aberdeen Emerging Markets Equity Income Fund, ...  \n6  Acme United Corporation supplies first aid and...  \n7  Aberdeen Australia Equity Fund, Inc. is a clos...  \n8  AgeX Therapeutics, Inc., a biotechnology compa...  \n9  Amylyx Pharmaceuticals, Inc., a biopharmaceuti...  ",
      "text/html": "<div>\n<style scoped>\n    .dataframe tbody tr th:only-of-type {\n        vertical-align: middle;\n    }\n\n    .dataframe tbody tr th {\n        vertical-align: top;\n    }\n\n    .dataframe thead th {\n        text-align: right;\n    }\n</style>\n<table border=\"1\" class=\"dataframe\">\n  <thead>\n    <tr style=\"text-align: right;\">\n      <th></th>\n      <th>Document_No</th>\n      <th>Dominant_Topic</th>\n      <th>Topic_Perc_Contrib</th>\n      <th>Keywords</th>\n      <th>Text</th>\n    </tr>\n  </thead>\n  <tbody>\n    <tr>\n      <th>0</th>\n      <td>0</td>\n      <td>11</td>\n      <td>0.3182</td>\n      <td>business, company, base, incorporate, asset, f...</td>\n      <td>Adara Acquisition Corp. does not have signific...</td>\n    </tr>\n    <tr>\n      <th>1</th>\n      <td>1</td>\n      <td>4</td>\n      <td>0.4457</td>\n      <td>treatment, develop, company, disease, clinical...</td>\n      <td>AIM ImmunoTech Inc., an immuno-pharma company,...</td>\n    </tr>\n    <tr>\n      <th>2</th>\n      <td>2</td>\n      <td>0</td>\n      <td>0.1290</td>\n      <td>invest, investment, fund, market, manage, port...</td>\n      <td>Ashford, Inc is an asset management firm. The ...</td>\n    </tr>\n    <tr>\n      <th>3</th>\n      <td>3</td>\n      <td>13</td>\n      <td>0.2291</td>\n      <td>service, company, operate, offer, platform, di...</td>\n      <td>The Arena Group Holdings, Inc., together with ...</td>\n    </tr>\n    <tr>\n      <th>4</th>\n      <td>4</td>\n      <td>12</td>\n      <td>0.4445</td>\n      <td>product, brand, food, store, sell, operate, re...</td>\n      <td>AMCON Distributing Company, together with its ...</td>\n    </tr>\n    <tr>\n      <th>5</th>\n      <td>5</td>\n      <td>0</td>\n      <td>0.4568</td>\n      <td>invest, investment, fund, market, manage, port...</td>\n      <td>Aberdeen Emerging Markets Equity Income Fund, ...</td>\n    </tr>\n    <tr>\n      <th>6</th>\n      <td>6</td>\n      <td>12</td>\n      <td>0.2612</td>\n      <td>product, brand, food, store, sell, operate, re...</td>\n      <td>Acme United Corporation supplies first aid and...</td>\n    </tr>\n    <tr>\n      <th>7</th>\n      <td>7</td>\n      <td>0</td>\n      <td>0.4476</td>\n      <td>invest, investment, fund, market, manage, port...</td>\n      <td>Aberdeen Australia Equity Fund, Inc. is a clos...</td>\n    </tr>\n    <tr>\n      <th>8</th>\n      <td>8</td>\n      <td>4</td>\n      <td>0.4622</td>\n      <td>treatment, develop, company, disease, clinical...</td>\n      <td>AgeX Therapeutics, Inc., a biotechnology compa...</td>\n    </tr>\n    <tr>\n      <th>9</th>\n      <td>9</td>\n      <td>4</td>\n      <td>0.2908</td>\n      <td>treatment, develop, company, disease, clinical...</td>\n      <td>Amylyx Pharmaceuticals, Inc., a biopharmaceuti...</td>\n    </tr>\n  </tbody>\n</table>\n</div>"
     },
     "execution_count": 25,
     "metadata": {},
     "output_type": "execute_result"
    }
   ],
   "source": [
    "def format_topics_sentences(ldamodel=lda_model, corpus=corpus, texts=data):\n",
    "    # Init output\n",
    "    sent_topics_df = pd.DataFrame()\n",
    "\n",
    "    # Get main topic in each document\n",
    "    for i, row in enumerate(ldamodel[corpus]):\n",
    "        row = sorted(row, key=lambda x: (x[1]), reverse=True)\n",
    "        # Get the Dominant topic, Perc Contribution and Keywords for each document\n",
    "        for j, (topic_num, prop_topic) in enumerate(row):\n",
    "            if j == 0:  # => dominant topic\n",
    "                wp = ldamodel.show_topic(topic_num)\n",
    "                topic_keywords = \", \".join([word for word, prop in wp])\n",
    "                sent_topics_df = sent_topics_df.append(pd.Series([int(topic_num), round(prop_topic,4), topic_keywords]), ignore_index=True)\n",
    "            else:\n",
    "                break\n",
    "    sent_topics_df.columns = ['Dominant_Topic', 'Perc_Contribution', 'Topic_Keywords']\n",
    "\n",
    "    # Add original text to the end of the output\n",
    "    contents = pd.Series(texts)\n",
    "    sent_topics_df = pd.concat([sent_topics_df, contents], axis=1)\n",
    "    return(sent_topics_df)\n",
    "\n",
    "\n",
    "df_topic_sents_keywords = format_topics_sentences(ldamodel=optimal_model, corpus=corpus, texts=data)\n",
    "\n",
    "# Format\n",
    "df_dominant_topic = df_topic_sents_keywords.reset_index()\n",
    "df_dominant_topic.columns = ['Document_No', 'Dominant_Topic', 'Topic_Perc_Contrib', 'Keywords', 'Text']\n",
    "\n",
    "# Show\n",
    "df_dominant_topic.head(10)"
   ],
   "metadata": {
    "collapsed": false,
    "pycharm": {
     "name": "#%%\n"
    }
   }
  },
  {
   "cell_type": "code",
   "execution_count": 26,
   "outputs": [
    {
     "data": {
      "text/plain": "   Topic_Num  Topic_Perc_Contrib  \\\n0          0              0.5856   \n1          1              0.5480   \n2          2              0.5142   \n3          3              0.5395   \n4          4              0.6716   \n\n                                            Keywords  \\\n0  invest, investment, fund, market, manage, port...   \n1  energy, gas, oil, water, company, industrial, ...   \n2  service, management, provide, sale, maintenanc...   \n3  product, company, medical, health, offer, care...   \n4  treatment, develop, company, disease, clinical...   \n\n                                                Text  \n0  Invesco Ltd. is a publicly owned investment ma...  \n1  CMS Energy Corporation operates as an energy c...  \n2  OUTSOURCING Inc., together with its subsidiari...  \n3  Smith & Nephew plc, together with its subsidia...  \n4  Xencor, Inc., a clinical stage biopharmaceutic...  ",
      "text/html": "<div>\n<style scoped>\n    .dataframe tbody tr th:only-of-type {\n        vertical-align: middle;\n    }\n\n    .dataframe tbody tr th {\n        vertical-align: top;\n    }\n\n    .dataframe thead th {\n        text-align: right;\n    }\n</style>\n<table border=\"1\" class=\"dataframe\">\n  <thead>\n    <tr style=\"text-align: right;\">\n      <th></th>\n      <th>Topic_Num</th>\n      <th>Topic_Perc_Contrib</th>\n      <th>Keywords</th>\n      <th>Text</th>\n    </tr>\n  </thead>\n  <tbody>\n    <tr>\n      <th>0</th>\n      <td>0</td>\n      <td>0.5856</td>\n      <td>invest, investment, fund, market, manage, port...</td>\n      <td>Invesco Ltd. is a publicly owned investment ma...</td>\n    </tr>\n    <tr>\n      <th>1</th>\n      <td>1</td>\n      <td>0.5480</td>\n      <td>energy, gas, oil, water, company, industrial, ...</td>\n      <td>CMS Energy Corporation operates as an energy c...</td>\n    </tr>\n    <tr>\n      <th>2</th>\n      <td>2</td>\n      <td>0.5142</td>\n      <td>service, management, provide, sale, maintenanc...</td>\n      <td>OUTSOURCING Inc., together with its subsidiari...</td>\n    </tr>\n    <tr>\n      <th>3</th>\n      <td>3</td>\n      <td>0.5395</td>\n      <td>product, company, medical, health, offer, care...</td>\n      <td>Smith &amp; Nephew plc, together with its subsidia...</td>\n    </tr>\n    <tr>\n      <th>4</th>\n      <td>4</td>\n      <td>0.6716</td>\n      <td>treatment, develop, company, disease, clinical...</td>\n      <td>Xencor, Inc., a clinical stage biopharmaceutic...</td>\n    </tr>\n  </tbody>\n</table>\n</div>"
     },
     "execution_count": 26,
     "metadata": {},
     "output_type": "execute_result"
    }
   ],
   "source": [
    "# Group top 5 sentences under each topic\n",
    "sent_topics_sorteddf_mallet = pd.DataFrame()\n",
    "\n",
    "sent_topics_outdf_grpd = df_topic_sents_keywords.groupby('Dominant_Topic')\n",
    "\n",
    "for i, grp in sent_topics_outdf_grpd:\n",
    "    sent_topics_sorteddf_mallet = pd.concat([sent_topics_sorteddf_mallet,\n",
    "                                             grp.sort_values(['Perc_Contribution'], ascending=[0]).head(1)],\n",
    "                                            axis=0)\n",
    "\n",
    "# Reset Index\n",
    "sent_topics_sorteddf_mallet.reset_index(drop=True, inplace=True)\n",
    "\n",
    "# Format\n",
    "sent_topics_sorteddf_mallet.columns = ['Topic_Num', \"Topic_Perc_Contrib\", \"Keywords\", \"Text\"]\n",
    "\n",
    "# Show\n",
    "sent_topics_sorteddf_mallet.head()"
   ],
   "metadata": {
    "collapsed": false,
    "pycharm": {
     "name": "#%%\n"
    }
   }
  },
  {
   "cell_type": "code",
   "execution_count": 27,
   "outputs": [
    {
     "data": {
      "text/plain": "      Dominant_Topic                                     Topic_Keywords  \\\n0                 11  business, company, base, incorporate, asset, f...   \n1                  4  treatment, develop, company, disease, clinical...   \n2                  0  invest, investment, fund, market, manage, port...   \n3                 13  service, company, operate, offer, platform, di...   \n4                 12  product, brand, food, store, sell, operate, re...   \n...              ...                                                ...   \n9828               6  solution, software, provide, service, manageme...   \n9829               6  solution, software, provide, service, manageme...   \n9830               9  company, engage, operate, property, change, fo...   \n9831               5  system, equipment, product, control, device, d...   \n9832               8  segment, service, operate, company, provide, v...   \n\n      Num_Documents  Perc_Documents  \n0             960.0          0.0976  \n1             614.0          0.0624  \n2             500.0          0.0508  \n3             528.0          0.0537  \n4             843.0          0.0857  \n...             ...             ...  \n9828            NaN             NaN  \n9829            NaN             NaN  \n9830            NaN             NaN  \n9831            NaN             NaN  \n9832            NaN             NaN  \n\n[9833 rows x 4 columns]",
      "text/html": "<div>\n<style scoped>\n    .dataframe tbody tr th:only-of-type {\n        vertical-align: middle;\n    }\n\n    .dataframe tbody tr th {\n        vertical-align: top;\n    }\n\n    .dataframe thead th {\n        text-align: right;\n    }\n</style>\n<table border=\"1\" class=\"dataframe\">\n  <thead>\n    <tr style=\"text-align: right;\">\n      <th></th>\n      <th>Dominant_Topic</th>\n      <th>Topic_Keywords</th>\n      <th>Num_Documents</th>\n      <th>Perc_Documents</th>\n    </tr>\n  </thead>\n  <tbody>\n    <tr>\n      <th>0</th>\n      <td>11</td>\n      <td>business, company, base, incorporate, asset, f...</td>\n      <td>960.0</td>\n      <td>0.0976</td>\n    </tr>\n    <tr>\n      <th>1</th>\n      <td>4</td>\n      <td>treatment, develop, company, disease, clinical...</td>\n      <td>614.0</td>\n      <td>0.0624</td>\n    </tr>\n    <tr>\n      <th>2</th>\n      <td>0</td>\n      <td>invest, investment, fund, market, manage, port...</td>\n      <td>500.0</td>\n      <td>0.0508</td>\n    </tr>\n    <tr>\n      <th>3</th>\n      <td>13</td>\n      <td>service, company, operate, offer, platform, di...</td>\n      <td>528.0</td>\n      <td>0.0537</td>\n    </tr>\n    <tr>\n      <th>4</th>\n      <td>12</td>\n      <td>product, brand, food, store, sell, operate, re...</td>\n      <td>843.0</td>\n      <td>0.0857</td>\n    </tr>\n    <tr>\n      <th>...</th>\n      <td>...</td>\n      <td>...</td>\n      <td>...</td>\n      <td>...</td>\n    </tr>\n    <tr>\n      <th>9828</th>\n      <td>6</td>\n      <td>solution, software, provide, service, manageme...</td>\n      <td>NaN</td>\n      <td>NaN</td>\n    </tr>\n    <tr>\n      <th>9829</th>\n      <td>6</td>\n      <td>solution, software, provide, service, manageme...</td>\n      <td>NaN</td>\n      <td>NaN</td>\n    </tr>\n    <tr>\n      <th>9830</th>\n      <td>9</td>\n      <td>company, engage, operate, property, change, fo...</td>\n      <td>NaN</td>\n      <td>NaN</td>\n    </tr>\n    <tr>\n      <th>9831</th>\n      <td>5</td>\n      <td>system, equipment, product, control, device, d...</td>\n      <td>NaN</td>\n      <td>NaN</td>\n    </tr>\n    <tr>\n      <th>9832</th>\n      <td>8</td>\n      <td>segment, service, operate, company, provide, v...</td>\n      <td>NaN</td>\n      <td>NaN</td>\n    </tr>\n  </tbody>\n</table>\n<p>9833 rows × 4 columns</p>\n</div>"
     },
     "execution_count": 27,
     "metadata": {},
     "output_type": "execute_result"
    }
   ],
   "source": [
    "# Number of Documents for Each Topic\n",
    "topic_counts = df_topic_sents_keywords['Dominant_Topic'].value_counts()\n",
    "\n",
    "# Percentage of Documents for Each Topic\n",
    "topic_contribution = round(topic_counts/topic_counts.sum(), 4)\n",
    "\n",
    "# Topic Number and Keywords\n",
    "topic_num_keywords = df_topic_sents_keywords[['Dominant_Topic', 'Topic_Keywords']]\n",
    "\n",
    "# Concatenate Column wise\n",
    "df_dominant_topics = pd.concat([topic_num_keywords, topic_counts, topic_contribution], axis=1)\n",
    "\n",
    "# Change Column names\n",
    "df_dominant_topics.columns = ['Dominant_Topic', 'Topic_Keywords', 'Num_Documents', 'Perc_Documents']\n",
    "\n",
    "# Show\n",
    "df_dominant_topics"
   ],
   "metadata": {
    "collapsed": false,
    "pycharm": {
     "name": "#%%\n"
    }
   }
  },
  {
   "cell_type": "code",
   "execution_count": null,
   "outputs": [],
   "source": [],
   "metadata": {
    "collapsed": false,
    "pycharm": {
     "name": "#%%\n"
    }
   }
  }
 ],
 "metadata": {
  "kernelspec": {
   "display_name": "Python 3",
   "language": "python",
   "name": "python3"
  },
  "language_info": {
   "codemirror_mode": {
    "name": "ipython",
    "version": 2
   },
   "file_extension": ".py",
   "mimetype": "text/x-python",
   "name": "python",
   "nbconvert_exporter": "python",
   "pygments_lexer": "ipython2",
   "version": "2.7.6"
  }
 },
 "nbformat": 4,
 "nbformat_minor": 0
}