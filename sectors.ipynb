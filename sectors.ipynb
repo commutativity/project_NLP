{
 "cells": [
  {
   "cell_type": "markdown",
   "source": [
    "# Data preparation"
   ],
   "metadata": {
    "collapsed": false,
    "pycharm": {
     "name": "#%% md\n"
    }
   }
  },
  {
   "cell_type": "code",
   "execution_count": 131,
   "metadata": {
    "collapsed": true
   },
   "outputs": [],
   "source": [
    "import numpy as np\n",
    "import pandas as pd\n",
    "import matplotlib.pyplot as plt\n",
    "\n",
    "import tensorflow as tf\n",
    "import tensorflow_hub as hub\n",
    "from imblearn.over_sampling import RandomOverSampler"
   ]
  },
  {
   "cell_type": "code",
   "execution_count": 60,
   "outputs": [
    {
     "name": "stdout",
     "output_type": "stream",
     "text": [
      "<class 'pandas.core.frame.DataFrame'>\n",
      "RangeIndex: 9856 entries, 0 to 9855\n",
      "Data columns (total 2 columns):\n",
      " #   Column       Non-Null Count  Dtype \n",
      "---  ------       --------------  ----- \n",
      " 0   description  9856 non-null   object\n",
      " 1   sector       9833 non-null   object\n",
      "dtypes: object(2)\n",
      "memory usage: 154.1+ KB\n"
     ]
    }
   ],
   "source": [
    "df = pd.read_json('../data_complete.json')\n",
    "df = df[['description', 'sector']]\n",
    "\n",
    "# replace empty strings with nan values\n",
    "df = df.replace('', np.nan)\n",
    "df.info()"
   ],
   "metadata": {
    "collapsed": false,
    "pycharm": {
     "name": "#%%\n"
    }
   }
  },
  {
   "cell_type": "code",
   "execution_count": 61,
   "outputs": [
    {
     "name": "stdout",
     "output_type": "stream",
     "text": [
      "<class 'pandas.core.frame.DataFrame'>\n",
      "Int64Index: 9833 entries, 0 to 9855\n",
      "Data columns (total 2 columns):\n",
      " #   Column       Non-Null Count  Dtype \n",
      "---  ------       --------------  ----- \n",
      " 0   description  9833 non-null   object\n",
      " 1   sector       9833 non-null   object\n",
      "dtypes: object(2)\n",
      "memory usage: 230.5+ KB\n"
     ]
    }
   ],
   "source": [
    "# drop nan values\n",
    "df = df.dropna()\n",
    "df.info()"
   ],
   "metadata": {
    "collapsed": false,
    "pycharm": {
     "name": "#%%\n"
    }
   }
  },
  {
   "cell_type": "code",
   "execution_count": 63,
   "outputs": [
    {
     "data": {
      "text/plain": "Financial Services        2503\nHealthcare                1452\nIndustrials               1307\nTechnology                1139\nConsumer Cyclical         1023\nBasic Materials            594\nReal Estate                489\nConsumer Defensive         410\nCommunication Services     403\nEnergy                     338\nUtilities                  164\nIndustrial Goods             4\nServices                     3\nFinancial                    3\nConsumer Goods               1\nName: sector, dtype: int64"
     },
     "execution_count": 63,
     "metadata": {},
     "output_type": "execute_result"
    }
   ],
   "source": [
    "df.sector.value_counts()"
   ],
   "metadata": {
    "collapsed": false,
    "pycharm": {
     "name": "#%%\n"
    }
   }
  },
  {
   "cell_type": "code",
   "execution_count": 64,
   "outputs": [],
   "source": [
    "# consolidate data\n",
    "df = df.replace('Services', 'Financial Services')\n",
    "df = df.replace('Industrial Goods', 'Industrials')\n",
    "df = df.replace('Financial', 'Financial Services')\n",
    "df = df.replace('Consumer Goods', 'Consumer Cyclical')\n",
    "df = df.replace(to_replace=['Energy', 'Utilities'], value='Energy & Utility')"
   ],
   "metadata": {
    "collapsed": false,
    "pycharm": {
     "name": "#%%\n"
    }
   }
  },
  {
   "cell_type": "code",
   "execution_count": 65,
   "outputs": [
    {
     "data": {
      "text/plain": "Financial Services        2509\nHealthcare                1452\nIndustrials               1311\nTechnology                1139\nConsumer Cyclical         1024\nBasic Materials            594\nEnergy & Utility           502\nReal Estate                489\nConsumer Defensive         410\nCommunication Services     403\nName: sector, dtype: int64"
     },
     "execution_count": 65,
     "metadata": {},
     "output_type": "execute_result"
    }
   ],
   "source": [
    "df.sector.value_counts()"
   ],
   "metadata": {
    "collapsed": false,
    "pycharm": {
     "name": "#%%\n"
    }
   }
  },
  {
   "cell_type": "code",
   "execution_count": 66,
   "outputs": [
    {
     "data": {
      "text/plain": "                                            description              sector\n0     Adara Acquisition Corp. does not have signific...  Financial Services\n2     Ashford, Inc is an asset management firm. The ...  Financial Services\n5     Aberdeen Emerging Markets Equity Income Fund, ...  Financial Services\n7     Aberdeen Australia Equity Fund, Inc. is a clos...  Financial Services\n11    Allspring Multi-Sector Income Fund is a closed...  Financial Services\n...                                                 ...                 ...\n9840  NÜRNBERGER Beteiligungs-AG operates as an insu...  Financial Services\n9842  ÖKOWORLD AG, together with its subsidiaries, p...  Financial Services\n9846  Scherzer & Co. AG is a publicly owned investme...  Financial Services\n9847  The NAGA Group AG develops technologies for th...  Financial Services\n9853  BAVARIA Industries Group AG, an industrial hol...  Financial Services\n\n[2509 rows x 2 columns]",
      "text/html": "<div>\n<style scoped>\n    .dataframe tbody tr th:only-of-type {\n        vertical-align: middle;\n    }\n\n    .dataframe tbody tr th {\n        vertical-align: top;\n    }\n\n    .dataframe thead th {\n        text-align: right;\n    }\n</style>\n<table border=\"1\" class=\"dataframe\">\n  <thead>\n    <tr style=\"text-align: right;\">\n      <th></th>\n      <th>description</th>\n      <th>sector</th>\n    </tr>\n  </thead>\n  <tbody>\n    <tr>\n      <th>0</th>\n      <td>Adara Acquisition Corp. does not have signific...</td>\n      <td>Financial Services</td>\n    </tr>\n    <tr>\n      <th>2</th>\n      <td>Ashford, Inc is an asset management firm. The ...</td>\n      <td>Financial Services</td>\n    </tr>\n    <tr>\n      <th>5</th>\n      <td>Aberdeen Emerging Markets Equity Income Fund, ...</td>\n      <td>Financial Services</td>\n    </tr>\n    <tr>\n      <th>7</th>\n      <td>Aberdeen Australia Equity Fund, Inc. is a clos...</td>\n      <td>Financial Services</td>\n    </tr>\n    <tr>\n      <th>11</th>\n      <td>Allspring Multi-Sector Income Fund is a closed...</td>\n      <td>Financial Services</td>\n    </tr>\n    <tr>\n      <th>...</th>\n      <td>...</td>\n      <td>...</td>\n    </tr>\n    <tr>\n      <th>9840</th>\n      <td>NÜRNBERGER Beteiligungs-AG operates as an insu...</td>\n      <td>Financial Services</td>\n    </tr>\n    <tr>\n      <th>9842</th>\n      <td>ÖKOWORLD AG, together with its subsidiaries, p...</td>\n      <td>Financial Services</td>\n    </tr>\n    <tr>\n      <th>9846</th>\n      <td>Scherzer &amp; Co. AG is a publicly owned investme...</td>\n      <td>Financial Services</td>\n    </tr>\n    <tr>\n      <th>9847</th>\n      <td>The NAGA Group AG develops technologies for th...</td>\n      <td>Financial Services</td>\n    </tr>\n    <tr>\n      <th>9853</th>\n      <td>BAVARIA Industries Group AG, an industrial hol...</td>\n      <td>Financial Services</td>\n    </tr>\n  </tbody>\n</table>\n<p>2509 rows × 2 columns</p>\n</div>"
     },
     "execution_count": 66,
     "metadata": {},
     "output_type": "execute_result"
    }
   ],
   "source": [
    "df[df.sector == 'Financial Services']"
   ],
   "metadata": {
    "collapsed": false,
    "pycharm": {
     "name": "#%%\n"
    }
   }
  },
  {
   "cell_type": "code",
   "execution_count": 118,
   "outputs": [
    {
     "data": {
      "text/plain": "                                         description                  sector  \\\n0  Adara Acquisition Corp. does not have signific...      Financial Services   \n1  AIM ImmunoTech Inc., an immuno-pharma company,...              Healthcare   \n2  Ashford, Inc is an asset management firm. The ...      Financial Services   \n3  The Arena Group Holdings, Inc., together with ...  Communication Services   \n4  AMCON Distributing Company, together with its ...      Consumer Defensive   \n\n   label  \n0      1  \n1      0  \n2      1  \n3      0  \n4      0  ",
      "text/html": "<div>\n<style scoped>\n    .dataframe tbody tr th:only-of-type {\n        vertical-align: middle;\n    }\n\n    .dataframe tbody tr th {\n        vertical-align: top;\n    }\n\n    .dataframe thead th {\n        text-align: right;\n    }\n</style>\n<table border=\"1\" class=\"dataframe\">\n  <thead>\n    <tr style=\"text-align: right;\">\n      <th></th>\n      <th>description</th>\n      <th>sector</th>\n      <th>label</th>\n    </tr>\n  </thead>\n  <tbody>\n    <tr>\n      <th>0</th>\n      <td>Adara Acquisition Corp. does not have signific...</td>\n      <td>Financial Services</td>\n      <td>1</td>\n    </tr>\n    <tr>\n      <th>1</th>\n      <td>AIM ImmunoTech Inc., an immuno-pharma company,...</td>\n      <td>Healthcare</td>\n      <td>0</td>\n    </tr>\n    <tr>\n      <th>2</th>\n      <td>Ashford, Inc is an asset management firm. The ...</td>\n      <td>Financial Services</td>\n      <td>1</td>\n    </tr>\n    <tr>\n      <th>3</th>\n      <td>The Arena Group Holdings, Inc., together with ...</td>\n      <td>Communication Services</td>\n      <td>0</td>\n    </tr>\n    <tr>\n      <th>4</th>\n      <td>AMCON Distributing Company, together with its ...</td>\n      <td>Consumer Defensive</td>\n      <td>0</td>\n    </tr>\n  </tbody>\n</table>\n</div>"
     },
     "execution_count": 118,
     "metadata": {},
     "output_type": "execute_result"
    }
   ],
   "source": [
    "df_fs = df\n",
    "df_fs['label'] = (df_fs.sector == 'Financial Services').astype(int)\n",
    "df_fs.head()"
   ],
   "metadata": {
    "collapsed": false,
    "pycharm": {
     "name": "#%%\n"
    }
   }
  },
  {
   "cell_type": "markdown",
   "source": [
    "## Neural network"
   ],
   "metadata": {
    "collapsed": false,
    "pycharm": {
     "name": "#%% md\n"
    }
   }
  },
  {
   "cell_type": "code",
   "execution_count": 119,
   "outputs": [],
   "source": [
    "train, val, test = np.split(df_fs.sample(frac=1), [int(0.8*len(df)), int(0.9*len(df))])"
   ],
   "metadata": {
    "collapsed": false,
    "pycharm": {
     "name": "#%%\n"
    }
   }
  },
  {
   "cell_type": "code",
   "execution_count": 120,
   "outputs": [
    {
     "data": {
      "text/plain": "(7866, 983)"
     },
     "execution_count": 120,
     "metadata": {},
     "output_type": "execute_result"
    }
   ],
   "source": [
    "len(train), len(val)"
   ],
   "metadata": {
    "collapsed": false,
    "pycharm": {
     "name": "#%%\n"
    }
   }
  },
  {
   "cell_type": "code",
   "execution_count": 121,
   "outputs": [],
   "source": [
    "def df_to_dataset(dataframe, shuffle=True, batch_size=64):\n",
    "    df = dataframe.copy()\n",
    "    label = df.pop('label')\n",
    "    df = dataframe[\"description\"]\n",
    "    ds = tf.data.Dataset.from_tensor_slices((df, label))\n",
    "    if shuffle:\n",
    "        ds = ds.shuffle(buffer_size=len(dataframe))\n",
    "    ds = ds.batch(batch_size)\n",
    "    # ds = ds.prefetch(tf.data.AUTOTUNE)\n",
    "    return ds"
   ],
   "metadata": {
    "collapsed": false,
    "pycharm": {
     "name": "#%%\n"
    }
   }
  },
  {
   "cell_type": "code",
   "execution_count": 122,
   "outputs": [],
   "source": [
    "train_data = df_to_dataset(train)\n",
    "valid_data = df_to_dataset(val)\n",
    "test_data = df_to_dataset(test)"
   ],
   "metadata": {
    "collapsed": false,
    "pycharm": {
     "name": "#%%\n"
    }
   }
  },
  {
   "cell_type": "code",
   "execution_count": 123,
   "outputs": [],
   "source": [
    "embedding = \"https://tfhub.dev/google/nnlm-en-dim50/2\"\n",
    "hub_layer = hub.KerasLayer(embedding, dtype=tf.string, trainable=True)"
   ],
   "metadata": {
    "collapsed": false,
    "pycharm": {
     "name": "#%%\n"
    }
   }
  },
  {
   "cell_type": "code",
   "execution_count": 124,
   "outputs": [
    {
     "data": {
      "text/plain": "<tf.Tensor: shape=(64, 50), dtype=float32, numpy=\narray([[ 0.7856084 , -0.03900199,  0.10934269, ..., -0.58300424,\n        -0.30014074,  0.5812037 ],\n       [ 0.6690643 , -0.19099951,  0.3186772 , ..., -0.02829497,\n        -0.30717367,  0.78227824],\n       [ 1.3830144 , -0.5046388 ,  0.23246081, ..., -0.16840726,\n        -0.30003354,  0.7618812 ],\n       ...,\n       [ 0.42581332,  0.0359664 ,  0.32975966, ..., -0.83284295,\n        -0.12704654,  0.627937  ],\n       [ 1.3172015 , -0.8546224 ,  0.5147199 , ..., -0.20224011,\n        -0.9062899 ,  1.2344145 ],\n       [ 0.35637477, -0.01761377,  0.46707457, ..., -0.3358003 ,\n         0.08246659,  0.16477379]], dtype=float32)>"
     },
     "execution_count": 124,
     "metadata": {},
     "output_type": "execute_result"
    }
   ],
   "source": [
    "hub_layer(list(train_data)[0][0])"
   ],
   "metadata": {
    "collapsed": false,
    "pycharm": {
     "name": "#%%\n"
    }
   }
  },
  {
   "cell_type": "code",
   "execution_count": 128,
   "outputs": [],
   "source": [
    "model = tf.keras.Sequential()\n",
    "model.add(hub_layer)  # text to numerical value transformation\n",
    "model.add(tf.keras.layers.Dense(16, activation='relu'))\n",
    "model.add(tf.keras.layers.Dropout(0.4))\n",
    "model.add(tf.keras.layers.Dense(16, activation='relu'))\n",
    "model.add(tf.keras.layers.Dropout(0.4))\n",
    "model.add(tf.keras.layers.Dense(1, activation='sigmoid'))  # here later softmax"
   ],
   "metadata": {
    "collapsed": false,
    "pycharm": {
     "name": "#%%\n"
    }
   }
  },
  {
   "cell_type": "code",
   "execution_count": 129,
   "outputs": [],
   "source": [
    "model.compile(optimizer=tf.keras.optimizers.Adam(learning_rate=0.001),\n",
    "              loss='BinaryCrossentropy',  # here later sparse_categorical_crossentropy\n",
    "              metrics=['accuracy'])"
   ],
   "metadata": {
    "collapsed": false,
    "pycharm": {
     "name": "#%%\n"
    }
   }
  },
  {
   "cell_type": "code",
   "execution_count": 130,
   "outputs": [
    {
     "name": "stdout",
     "output_type": "stream",
     "text": [
      "123/123 [==============================] - 0s 2ms/step - loss: 0.8447 - accuracy: 0.2489\n"
     ]
    },
    {
     "data": {
      "text/plain": "[0.8447278738021851, 0.24891939759254456]"
     },
     "execution_count": 130,
     "metadata": {},
     "output_type": "execute_result"
    }
   ],
   "source": [
    "model.evaluate(train_data)"
   ],
   "metadata": {
    "collapsed": false,
    "pycharm": {
     "name": "#%%\n"
    }
   }
  },
  {
   "cell_type": "code",
   "execution_count": 133,
   "outputs": [
    {
     "name": "stdout",
     "output_type": "stream",
     "text": [
      "Epoch 1/5\n",
      "123/123 [==============================] - 43s 348ms/step - loss: 0.5079 - accuracy: 0.7567 - val_loss: 0.1923 - val_accuracy: 0.9532\n",
      "Epoch 2/5\n",
      "123/123 [==============================] - 43s 348ms/step - loss: 0.1936 - accuracy: 0.9526 - val_loss: 0.0887 - val_accuracy: 0.9685\n",
      "Epoch 3/5\n",
      "123/123 [==============================] - 43s 348ms/step - loss: 0.0953 - accuracy: 0.9789 - val_loss: 0.0820 - val_accuracy: 0.9746\n",
      "Epoch 4/5\n",
      "123/123 [==============================] - 43s 348ms/step - loss: 0.0578 - accuracy: 0.9870 - val_loss: 0.0895 - val_accuracy: 0.9736\n",
      "Epoch 5/5\n",
      "123/123 [==============================] - 43s 349ms/step - loss: 0.0394 - accuracy: 0.9929 - val_loss: 0.0784 - val_accuracy: 0.9786\n"
     ]
    }
   ],
   "source": [
    "history = model.fit(train_data, epochs=5, validation_data=valid_data)"
   ],
   "metadata": {
    "collapsed": false,
    "pycharm": {
     "name": "#%%\n"
    }
   }
  },
  {
   "cell_type": "code",
   "execution_count": 134,
   "outputs": [
    {
     "data": {
      "text/plain": "<Figure size 432x288 with 1 Axes>",
      "image/png": "[encoded data removed]"
     },
     "metadata": {
      "needs_background": "light"
     },
     "output_type": "display_data"
    }
   ],
   "source": [
    "plt.plot(history.history['accuracy'], label=\"Training acc\")\n",
    "plt.plot(history.history['val_accuracy'], label=\"Validation acc\")\n",
    "plt.title(\"Accuracy of model\")\n",
    "plt.ylabel(\"Accuracy\")\n",
    "plt.xlabel(\"Epoch\")\n",
    "plt.legend()\n",
    "plt.show()"
   ],
   "metadata": {
    "collapsed": false,
    "pycharm": {
     "name": "#%%\n"
    }
   }
  },
  {
   "cell_type": "code",
   "execution_count": 135,
   "outputs": [
    {
     "data": {
      "text/plain": "<Figure size 432x288 with 1 Axes>",
      "image/png": "[encoded data removed]"
     },
     "metadata": {
      "needs_background": "light"
     },
     "output_type": "display_data"
    }
   ],
   "source": [
    "plt.plot(history.history['loss'], label=\"Training acc\")\n",
    "plt.plot(history.history['val_loss'], label=\"Validation acc\")\n",
    "plt.title(\"Loss of model\")\n",
    "plt.ylabel(\"Loss\")\n",
    "plt.xlabel(\"Epoch\")\n",
    "plt.legend()\n",
    "plt.show()"
   ],
   "metadata": {
    "collapsed": false,
    "pycharm": {
     "name": "#%%\n"
    }
   }
  },
  {
   "cell_type": "code",
   "execution_count": 136,
   "outputs": [
    {
     "name": "stdout",
     "output_type": "stream",
     "text": [
      "16/16 [==============================] - 1s 39ms/step - loss: 0.0749 - accuracy: 0.9868\n"
     ]
    },
    {
     "data": {
      "text/plain": "[0.0749029591679573, 0.9867886304855347]"
     },
     "execution_count": 136,
     "metadata": {},
     "output_type": "execute_result"
    }
   ],
   "source": [
    "model.evaluate(test_data)"
   ],
   "metadata": {
    "collapsed": false,
    "pycharm": {
     "name": "#%%\n"
    }
   }
  },
  {
   "cell_type": "code",
   "execution_count": null,
   "outputs": [],
   "source": [],
   "metadata": {
    "collapsed": false,
    "pycharm": {
     "name": "#%%\n"
    }
   }
  }
 ],
 "metadata": {
  "kernelspec": {
   "display_name": "Python 3",
   "language": "python",
   "name": "python3"
  },
  "language_info": {
   "codemirror_mode": {
    "name": "ipython",
    "version": 2
   },
   "file_extension": ".py",
   "mimetype": "text/x-python",
   "name": "python",
   "nbconvert_exporter": "python",
   "pygments_lexer": "ipython2",
   "version": "2.7.6"
  }
 },
 "nbformat": 4,
 "nbformat_minor": 0
}