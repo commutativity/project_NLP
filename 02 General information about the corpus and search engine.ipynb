{
 "cells": [
  {
   "cell_type": "code",
   "execution_count": 38,
   "id": "ecaa1d80",
   "metadata": {
    "ExecuteTime": {
     "end_time": "2022-08-29T06:41:26.320792Z",
     "start_time": "2022-08-29T06:41:26.301761Z"
    }
   },
   "outputs": [],
   "source": [
    "import json, re\n",
    "import spacy\n",
    "\n",
    "from sklearn.feature_extraction.text import CountVectorizer"
   ]
  },
  {
   "cell_type": "markdown",
   "id": "ba9aa729",
   "metadata": {},
   "source": [
    "# Read data"
   ]
  },
  {
   "cell_type": "code",
   "execution_count": 39,
   "id": "51edb932",
   "metadata": {
    "ExecuteTime": {
     "end_time": "2022-08-29T06:41:27.041842Z",
     "start_time": "2022-08-29T06:41:26.931642Z"
    }
   },
   "outputs": [],
   "source": [
    "with open('Daten/Unternehmen_preprocessed.json', 'r', encoding='utf-8') as data:\n",
    "    desc = json.load(data)"
   ]
  },
  {
   "cell_type": "markdown",
   "id": "ac17ed98",
   "metadata": {},
   "source": [
    "# Create general Information"
   ]
  },
  {
   "cell_type": "markdown",
   "id": "1c201e09",
   "metadata": {},
   "source": [
    "## Functions"
   ]
  },
  {
   "cell_type": "code",
   "execution_count": 40,
   "id": "67e59faa",
   "metadata": {
    "ExecuteTime": {
     "end_time": "2022-08-29T06:41:28.390184Z",
     "start_time": "2022-08-29T06:41:27.817107Z"
    }
   },
   "outputs": [],
   "source": [
    "nlp = spacy.load(\"en_core_web_sm\")"
   ]
  },
  {
   "cell_type": "code",
   "execution_count": 41,
   "id": "baff6a55",
   "metadata": {
    "ExecuteTime": {
     "end_time": "2022-08-29T06:41:28.409564Z",
     "start_time": "2022-08-29T06:41:28.391996Z"
    }
   },
   "outputs": [],
   "source": [
    "def my_tokenizer(txt):\n",
    "    doc = nlp(txt)\n",
    "    tokens = []\n",
    "    for token in doc:\n",
    "        if token.pos_ == 'PUNCT' or token.pos_ == 'SPACE':\n",
    "                continue\n",
    "        tokens.append(token.text)    \n",
    "    #s = re.findall(\"[A-Za-zßäöüÄÖÜ]+\",txt)\n",
    "    #for i in range(len(s)):\n",
    "    #    s[i] = s[i].upper().replace(\"Ä\",\"AE\").replace(\"Ö\",\"OE\").replace(\"Ü\",\"UE\")\n",
    "    return ' '.join(tokens)"
   ]
  },
  {
   "cell_type": "markdown",
   "id": "2e0ef0a8",
   "metadata": {},
   "source": [
    "## Metadata"
   ]
  },
  {
   "cell_type": "code",
   "execution_count": 58,
   "id": "4c4cb6c3",
   "metadata": {
    "ExecuteTime": {
     "end_time": "2022-08-29T06:42:45.530690Z",
     "start_time": "2022-08-29T06:42:45.517699Z"
    }
   },
   "outputs": [],
   "source": [
    "corpus = [item['description'] for item in desc]"
   ]
  },
  {
   "cell_type": "code",
   "execution_count": 59,
   "id": "42ecaf99",
   "metadata": {
    "ExecuteTime": {
     "end_time": "2022-08-29T06:42:45.811161Z",
     "start_time": "2022-08-29T06:42:45.802175Z"
    }
   },
   "outputs": [],
   "source": [
    "docs = []\n",
    "length_desc = []"
   ]
  },
  {
   "cell_type": "code",
   "execution_count": 60,
   "id": "682ed0bb",
   "metadata": {
    "ExecuteTime": {
     "end_time": "2022-08-29T06:46:05.660449Z",
     "start_time": "2022-08-29T06:42:46.043672Z"
    }
   },
   "outputs": [],
   "source": [
    "for item in corpus:\n",
    "    txt = my_tokenizer(item)\n",
    "    docs.append(txt)\n",
    "    length_desc.append(len(txt.split(' ')))"
   ]
  },
  {
   "cell_type": "code",
   "execution_count": 61,
   "id": "38975ba9",
   "metadata": {
    "ExecuteTime": {
     "end_time": "2022-08-29T06:46:05.676268Z",
     "start_time": "2022-08-29T06:46:05.662265Z"
    }
   },
   "outputs": [],
   "source": [
    "n_descriptions = len(corpus)"
   ]
  },
  {
   "cell_type": "code",
   "execution_count": 62,
   "id": "84f50a91",
   "metadata": {
    "ExecuteTime": {
     "end_time": "2022-08-29T06:46:05.692277Z",
     "start_time": "2022-08-29T06:46:05.681286Z"
    }
   },
   "outputs": [],
   "source": [
    "max_id = 0\n",
    "min_id = 0\n",
    "max_value = 0\n",
    "min_value = 1000\n",
    "sum_value = 0\n",
    "\n",
    "for i, val in enumerate(length_desc):\n",
    "    if val > max_value:\n",
    "        max_value = val\n",
    "        max_id = i\n",
    "        #print(i, max_value)\n",
    "    if val < min_value:\n",
    "        min_value = val\n",
    "        min_id = i\n",
    "    sum_value += val"
   ]
  },
  {
   "cell_type": "markdown",
   "id": "42fb1d56",
   "metadata": {},
   "source": [
    "## Other information"
   ]
  },
  {
   "cell_type": "code",
   "execution_count": 63,
   "id": "5360b1b9",
   "metadata": {
    "ExecuteTime": {
     "end_time": "2022-08-29T06:46:05.707937Z",
     "start_time": "2022-08-29T06:46:05.694264Z"
    }
   },
   "outputs": [],
   "source": [
    "def splitter(txt):\n",
    "    return txt.split(' ')"
   ]
  },
  {
   "cell_type": "code",
   "execution_count": 64,
   "id": "e57225a6",
   "metadata": {
    "ExecuteTime": {
     "end_time": "2022-08-29T06:46:05.723057Z",
     "start_time": "2022-08-29T06:46:05.708759Z"
    }
   },
   "outputs": [
    {
     "data": {
      "text/plain": [
       "9822"
      ]
     },
     "execution_count": 64,
     "metadata": {},
     "output_type": "execute_result"
    }
   ],
   "source": [
    "len(corpus)"
   ]
  },
  {
   "cell_type": "markdown",
   "id": "8dbee3c4",
   "metadata": {},
   "source": [
    "### Words without filter (lemmatization etc.)"
   ]
  },
  {
   "cell_type": "code",
   "execution_count": 65,
   "id": "e65d9f7e",
   "metadata": {
    "ExecuteTime": {
     "end_time": "2022-08-29T06:46:06.692457Z",
     "start_time": "2022-08-29T06:46:05.723965Z"
    }
   },
   "outputs": [],
   "source": [
    "cv=CountVectorizer(\n",
    "\n",
    ")\n",
    "word_count_vector=cv.fit_transform(docs)"
   ]
  },
  {
   "cell_type": "code",
   "execution_count": 66,
   "id": "d0e246f8",
   "metadata": {
    "ExecuteTime": {
     "end_time": "2022-08-29T06:46:06.736049Z",
     "start_time": "2022-08-29T06:46:06.693964Z"
    }
   },
   "outputs": [],
   "source": [
    "n_ungefiltert = len(cv.get_feature_names_out())"
   ]
  },
  {
   "cell_type": "markdown",
   "id": "82db790f",
   "metadata": {},
   "source": [
    "#### Word with rough filter"
   ]
  },
  {
   "cell_type": "code",
   "execution_count": 67,
   "id": "e8918cf0",
   "metadata": {
    "ExecuteTime": {
     "end_time": "2022-08-29T06:46:06.751883Z",
     "start_time": "2022-08-29T06:46:06.737657Z"
    }
   },
   "outputs": [],
   "source": [
    "docs = [ber['rough_lemmatization'] for ber in desc]"
   ]
  },
  {
   "cell_type": "code",
   "execution_count": 68,
   "id": "1aac0cea",
   "metadata": {
    "ExecuteTime": {
     "end_time": "2022-08-29T06:46:07.222091Z",
     "start_time": "2022-08-29T06:46:06.752891Z"
    }
   },
   "outputs": [],
   "source": [
    "cv=CountVectorizer(\n",
    "    tokenizer=splitter\n",
    ")\n",
    "word_count_vector=cv.fit_transform(docs)"
   ]
  },
  {
   "cell_type": "code",
   "execution_count": 69,
   "id": "b406a2ca",
   "metadata": {
    "ExecuteTime": {
     "end_time": "2022-08-29T06:46:07.253091Z",
     "start_time": "2022-08-29T06:46:07.224888Z"
    }
   },
   "outputs": [],
   "source": [
    "n_erster_Filter = len(cv.get_feature_names_out())"
   ]
  },
  {
   "cell_type": "markdown",
   "id": "4cefd81b",
   "metadata": {},
   "source": [
    "### Words with full filter"
   ]
  },
  {
   "cell_type": "code",
   "execution_count": 70,
   "id": "8666fd3a",
   "metadata": {
    "ExecuteTime": {
     "end_time": "2022-08-29T06:46:07.269086Z",
     "start_time": "2022-08-29T06:46:07.254888Z"
    }
   },
   "outputs": [],
   "source": [
    "docs = [ber['explicit_lemmatization'] for ber in desc]"
   ]
  },
  {
   "cell_type": "code",
   "execution_count": 71,
   "id": "583721e7",
   "metadata": {
    "ExecuteTime": {
     "end_time": "2022-08-29T06:46:07.728086Z",
     "start_time": "2022-08-29T06:46:07.270891Z"
    }
   },
   "outputs": [],
   "source": [
    "cv=CountVectorizer(\n",
    "    tokenizer=splitter\n",
    "    )\n",
    "word_count_vector=cv.fit_transform(docs)"
   ]
  },
  {
   "cell_type": "code",
   "execution_count": 72,
   "id": "eae6f8f3",
   "metadata": {
    "ExecuteTime": {
     "end_time": "2022-08-29T06:46:07.759084Z",
     "start_time": "2022-08-29T06:46:07.728926Z"
    }
   },
   "outputs": [],
   "source": [
    "n_gefiltert = len(cv.get_feature_names_out())"
   ]
  },
  {
   "cell_type": "markdown",
   "id": "6656cdfe",
   "metadata": {},
   "source": [
    "# Final description and information"
   ]
  },
  {
   "cell_type": "code",
   "execution_count": 73,
   "id": "5d9f9835",
   "metadata": {
    "ExecuteTime": {
     "end_time": "2022-08-29T06:46:07.774324Z",
     "start_time": "2022-08-29T06:46:07.760889Z"
    },
    "scrolled": true
   },
   "outputs": [
    {
     "name": "stdout",
     "output_type": "stream",
     "text": [
      "The corpus consists of 9822 different company descriptions.\n",
      "The longest description of the company Hercules Capital Inc includes 773 words.\n",
      "The shortest description of the company Psychiatric Solutions, Inc. (MM) includes 9 words.\n",
      "The descriptions contain on average 139.7 words.\n",
      "This gives a total number of 1372359 Terms (This also includes numbers (2019) or labels (Inc.).\n",
      "Unfiltered, the corpus thus contains 47103 different words.\n",
      "After the first, rough lemmatization, the corpus still contains 43275.\n",
      "After final preprocessing, classification is performed with 41168 distinct words.\n"
     ]
    }
   ],
   "source": [
    "print(f\"The corpus consists of {n_descriptions} different company descriptions.\\n\\\n",
    "The longest description of the company {desc[max_id]['name']} includes {max_value} words.\\n\\\n",
    "The shortest description of the company {desc[min_id]['name']} includes {min_value} words.\\n\\\n",
    "The descriptions contain on average {round(sum_value/n_descriptions, 1)} words.\\n\\\n",
    "This gives a total number of {sum_value} Terms (This also includes numbers (2019) or labels (Inc.).\\n\\\n",
    "Unfiltered, the corpus thus contains {n_ungefiltert} different words.\\n\\\n",
    "After the first, rough lemmatization, the corpus still contains {n_erster_Filter}.\\n\\\n",
    "After final preprocessing, classification is performed with {n_gefiltert} distinct words.\")"
   ]
  },
  {
   "cell_type": "markdown",
   "id": "e0a1875e",
   "metadata": {},
   "source": [
    "## Distribution of sectors"
   ]
  },
  {
   "cell_type": "code",
   "execution_count": 77,
   "id": "76bdbfca",
   "metadata": {
    "ExecuteTime": {
     "end_time": "2022-08-29T06:58:01.578980Z",
     "start_time": "2022-08-29T06:58:01.566970Z"
    }
   },
   "outputs": [
    {
     "name": "stdout",
     "output_type": "stream",
     "text": [
      "The Sector 'Financial Services' contains 2503 different descriptions.\n",
      "The Sector 'Healthcare' contains 1452 different descriptions.\n",
      "The Sector 'Communication Services' contains 403 different descriptions.\n",
      "The Sector 'Consumer Defensive' contains 410 different descriptions.\n",
      "The Sector 'Basic Materials' contains 594 different descriptions.\n",
      "The Sector 'Industrials' contains 1307 different descriptions.\n",
      "The Sector 'Consumer Cyclical' contains 1023 different descriptions.\n",
      "The Sector 'Energy' contains 338 different descriptions.\n",
      "The Sector 'Real Estate' contains 489 different descriptions.\n",
      "The Sector 'Technology' contains 1139 different descriptions.\n",
      "The Sector 'Utilities' contains 164 different descriptions.\n"
     ]
    }
   ],
   "source": [
    "sectoren = {}\n",
    "for comp in desc:\n",
    "    #print(comp)\n",
    "    #print(comp['sector'])\n",
    "    if comp['sector'] in sectoren:\n",
    "        sectoren[comp['sector']] += 1\n",
    "    else:\n",
    "        sectoren[comp['sector']] = 1\n",
    "    #break\n",
    "\n",
    "for sec in sectoren:\n",
    "    print(f\"The Sector '{sec}' contains {sectoren[sec]} different descriptions.\")"
   ]
  },
  {
   "cell_type": "markdown",
   "id": "c9afb0a5",
   "metadata": {},
   "source": [
    "# Search engine"
   ]
  },
  {
   "cell_type": "markdown",
   "id": "158a2e9a",
   "metadata": {},
   "source": [
    "The search engine only searches the data set of reports that have already been fully processed. Accordingly, search terms must be entered in a normalized form. "
   ]
  },
  {
   "cell_type": "code",
   "execution_count": 31,
   "id": "0399683e",
   "metadata": {
    "ExecuteTime": {
     "end_time": "2022-08-27T05:49:21.968094Z",
     "start_time": "2022-08-27T05:49:21.948057Z"
    }
   },
   "outputs": [],
   "source": [
    "docs = [ber['search_engine'] for ber in desc]"
   ]
  },
  {
   "cell_type": "code",
   "execution_count": 32,
   "id": "2ac9db57",
   "metadata": {
    "ExecuteTime": {
     "end_time": "2022-08-27T05:49:22.812706Z",
     "start_time": "2022-08-27T05:49:22.352669Z"
    }
   },
   "outputs": [],
   "source": [
    "cv=CountVectorizer(\n",
    "    tokenizer=splitter\n",
    "    )\n",
    "word_count_vector = cv.fit_transform(docs)"
   ]
  },
  {
   "cell_type": "code",
   "execution_count": 34,
   "id": "03b8ae62",
   "metadata": {
    "ExecuteTime": {
     "end_time": "2022-08-27T08:13:31.797312Z",
     "start_time": "2022-08-27T05:49:34.637730Z"
    },
    "scrolled": true
   },
   "outputs": [],
   "source": [
    "index = {}\n",
    "for token in cv.vocabulary_:\n",
    "    index[token] = set()\n",
    "for i in range(len(docs)):\n",
    "    #print(i)\n",
    "    for token, column in cv.vocabulary_.items():\n",
    "        #print(token, column)\n",
    "        if word_count_vector[i, column]:\n",
    "            #print(i, token)\n",
    "            index[token].add(i)\n",
    "    #if i % 10 == 0:\n",
    "    #    print(i)\n",
    "#print(index) "
   ]
  },
  {
   "cell_type": "markdown",
   "id": "ca276db5",
   "metadata": {},
   "source": [
    "## Saving the search engine database"
   ]
  },
  {
   "cell_type": "code",
   "execution_count": 49,
   "id": "65c3ba9a",
   "metadata": {
    "ExecuteTime": {
     "end_time": "2022-08-27T08:18:48.532558Z",
     "start_time": "2022-08-27T08:18:48.504560Z"
    }
   },
   "outputs": [],
   "source": [
    "for key in index.keys():\n",
    "    index_test[key] = list(index_test[key])    "
   ]
  },
  {
   "cell_type": "code",
   "execution_count": 51,
   "id": "4b3accac",
   "metadata": {
    "ExecuteTime": {
     "end_time": "2022-08-27T08:19:02.114530Z",
     "start_time": "2022-08-27T08:19:01.420583Z"
    }
   },
   "outputs": [],
   "source": [
    "with open('Daten/Unternehmen_search_engine.json', 'w') as wf:\n",
    "    json.dump(index, wf)"
   ]
  },
  {
   "cell_type": "markdown",
   "id": "51b834aa",
   "metadata": {},
   "source": [
    "## Prepare search engine"
   ]
  },
  {
   "cell_type": "code",
   "execution_count": 78,
   "id": "5632c0b7",
   "metadata": {
    "ExecuteTime": {
     "end_time": "2022-08-29T07:14:24.361925Z",
     "start_time": "2022-08-29T07:14:23.806168Z"
    }
   },
   "outputs": [],
   "source": [
    "with open('Daten/Unternehmen_search_engine.json', 'r') as rf:\n",
    "    db = json.load(rf)"
   ]
  },
  {
   "cell_type": "code",
   "execution_count": 79,
   "id": "7ed5b593",
   "metadata": {
    "ExecuteTime": {
     "end_time": "2022-08-29T07:14:24.377758Z",
     "start_time": "2022-08-29T07:14:24.363730Z"
    }
   },
   "outputs": [],
   "source": [
    "def search(w): \n",
    "    if len(w) > 1:\n",
    "        s_type = input(\"Type 'union' if you search for document which contain either word.\\n\\\n",
    "Or type 'intersection' if you search for documents which contain all words: \").lower()\n",
    "        if s_type == 'union':\n",
    "            result_list = set()\n",
    "            for sw in w:\n",
    "                if sw in db.keys():\n",
    "                    search_result = set(db[sw])\n",
    "                else: \n",
    "                    search_result = set()\n",
    "                result_list = result_list.union(search_result)\n",
    "            result_list = sorted(result_list)   \n",
    "            print(f\"\\n{len(result_list)} documents contain: {', '.join(w)}\")\n",
    "            for i in result_list:\n",
    "                print(f\"ID {i}: Firma: {desc[i]['name']}, Sektor: {desc[i]['sector']}\")\n",
    "        else:\n",
    "            result_list = []\n",
    "            print(w)\n",
    "            for sw in w:\n",
    "                if sw in db.keys():\n",
    "                    search_result = set(db[sw])\n",
    "                else: \n",
    "                    search_result = set()\n",
    "                result_list.append(list(search_result))\n",
    "            result_list = sorted(set.intersection(*map(set, result_list)))\n",
    "            print(f\"\\n{len(result_list)} documents contain all words: {', '.join(w)}\")\n",
    "            for i in result_list:\n",
    "                print(f\"ID {i}: Corporate: {desc[i]['name']}, Sector: {desc[i]['sector']}\")\n",
    "    else:\n",
    "        sw = w[0].lower()\n",
    "        if sw in db:\n",
    "            print(f\"\\n{len(db[sw])} documents contain: '{w[0]}'\")\n",
    "            for i in db[sw]:\n",
    "                print(f\"ID {i}: Corporate: {desc[i]['name']}, Sector: {desc[i]['sector']}\")\n",
    "        else:\n",
    "            print(\"Search word can not be found.\")"
   ]
  },
  {
   "cell_type": "markdown",
   "id": "39ee89e3",
   "metadata": {},
   "source": [
    "# Entry of the search query:"
   ]
  },
  {
   "cell_type": "code",
   "execution_count": 81,
   "id": "fc6ef914",
   "metadata": {
    "ExecuteTime": {
     "end_time": "2022-08-29T07:14:30.108221Z",
     "start_time": "2022-08-29T07:14:28.666254Z"
    }
   },
   "outputs": [
    {
     "name": "stdout",
     "output_type": "stream",
     "text": [
      "Please enter searchword(s) seperated with a space: \n",
      "rtl\n",
      "\n",
      "3 documents contain: 'rtl'\n",
      "ID 3697: Corporate: Necessity Retail REIT Inc, Sector: Real Estate\n",
      "ID 9652: Corporate: RTL GROUP, Sector: Communication Services\n",
      "ID 1902: Corporate: Cadence Design Systems Inc, Sector: Technology\n"
     ]
    }
   ],
   "source": [
    "search(input('Please enter searchword(s) seperated with a space: \\n').split(' '))"
   ]
  },
  {
   "cell_type": "code",
   "execution_count": 83,
   "id": "11a72274",
   "metadata": {
    "ExecuteTime": {
     "end_time": "2022-08-29T07:15:14.299018Z",
     "start_time": "2022-08-29T07:15:06.631525Z"
    },
    "scrolled": false
   },
   "outputs": [
    {
     "name": "stdout",
     "output_type": "stream",
     "text": [
      "Please enter searchword(s) seperated with a space: \n",
      "pharma medicine\n",
      "Type 'union' if you search for document which contain either word.\n",
      "Or type 'intersection' if you search for documents which contain all words: intersection\n",
      "['pharma', 'medicine']\n",
      "\n",
      "22 documents contain all words: pharma, medicine\n",
      "ID 292: Corporate: ALLIANCE PHARMA PLC, Sector: Healthcare\n",
      "ID 1249: Corporate: LABORATORIO REIG JOFRE SA, Sector: Healthcare\n",
      "ID 1295: Corporate: AVEO Pharmaceuticals Inc, Sector: Healthcare\n",
      "ID 1711: Corporate: Bellicum Pharmaceuticals Inc, Sector: Healthcare\n",
      "ID 1853: Corporate: BridgeBio Pharma Inc, Sector: Healthcare\n",
      "ID 2016: Corporate: Compugen Ltd, Sector: Healthcare\n",
      "ID 2233: Corporate: CryoPort Inc, Sector: Industrials\n",
      "ID 2423: Corporate: Evoke Pharma Inc, Sector: Healthcare\n",
      "ID 2426: Corporate: Exelixis Inc, Sector: Healthcare\n",
      "ID 2578: Corporate: Frequency Therapeutics Inc, Sector: Healthcare\n",
      "ID 2902: Corporate: Horizon Therapeutics Public Limited Company, Sector: Healthcare\n",
      "ID 2938: Corporate: Healthcare Triangle Inc, Sector: Healthcare\n",
      "ID 3168: Corporate: Jazz Pharmaceuticals PLC, Sector: Healthcare\n",
      "ID 3394: Corporate: LogicBio Therapeutics Inc, Sector: Healthcare\n",
      "ID 3674: Corporate: Nuvectis Pharma Inc, Sector: Healthcare\n",
      "ID 3698: Corporate: Nektar Therapeutics, Sector: Healthcare\n",
      "ID 4216: Corporate: Regeneron Pharmaceuticals Inc, Sector: Healthcare\n",
      "ID 4282: Corporate: Sangamo Therapeutics Inc, Sector: Healthcare\n",
      "ID 6803: Corporate: Pfizer Inc, Sector: Healthcare\n",
      "ID 7621: Corporate: Sumitomo Dainippon Pharma Co., Ltd, Sector: Healthcare\n",
      "ID 8493: Corporate: Kaneka Corporation, Sector: Basic Materials\n",
      "ID 8550: Corporate: AnGes, Inc, Sector: Healthcare\n"
     ]
    }
   ],
   "source": [
    "search(input('Please enter searchword(s) seperated with a space: \\n').split(' '))"
   ]
  },
  {
   "cell_type": "code",
   "execution_count": 84,
   "id": "e8a752be",
   "metadata": {
    "ExecuteTime": {
     "end_time": "2022-08-29T07:15:22.612699Z",
     "start_time": "2022-08-29T07:15:17.954798Z"
    },
    "scrolled": false
   },
   "outputs": [
    {
     "name": "stdout",
     "output_type": "stream",
     "text": [
      "Please enter searchword(s) seperated with a space: \n",
      "biogas coal\n",
      "Type 'union' if you search for document which contain either word.\n",
      "Or type 'intersection' if you search for documents which contain all words: union\n",
      "\n",
      "150 documents contain: biogas, coal\n",
      "ID 84: Firma: First Trust Energy Income and Growth Fund, Sektor: Financial Services\n",
      "ID 303: Firma: CERES POWER HOLDINGS PLC, Sektor: Industrials\n",
      "ID 481: Firma: ANGLO AMERICAN PLC, Sektor: Basic Materials\n",
      "ID 487: Firma: ANGLO-EASTERN PLANTATIONS, Sektor: Consumer Defensive\n",
      "ID 505: Firma: ANGLO PACIFIC GROUP PLC, Sektor: Basic Materials\n",
      "ID 544: Firma: BHP BILLITON PLC, Sektor: Basic Materials\n",
      "ID 649: Firma: EVRAZ PLC, Sektor: Basic Materials\n",
      "ID 688: Firma: GLENCORE PLC, Sektor: Basic Materials\n",
      "ID 689: Firma: CONTOURGLOBAL PLC, Sektor: Utilities\n",
      "ID 903: Firma: R.E.A. HOLDINGS PLC, Sektor: Consumer Defensive\n",
      "ID 925: Firma: SOUTH32 LTD, Sektor: Basic Materials\n",
      "ID 972: Firma: SSE PLC, Sektor: Utilities\n",
      "ID 990: Firma: TP ICAP PLC, Sektor: Financial Services\n",
      "ID 1062: Firma: MIQUEL Y COSTAS, Sektor: Energy\n",
      "ID 1071: Firma: AMERICAN ELECTRIC POWER, Sektor: Consumer Defensive\n",
      "ID 1098: Firma: BENETEAU, Sektor: Basic Materials\n",
      "ID 1115: Firma: GL EVENTS, Sektor: Utilities\n",
      "ID 1129: Firma: COLAS SA, Sektor: Consumer Defensive\n",
      "ID 1230: Firma: ARCELORMITTAL, Sektor: Basic Materials\n",
      "ID 1320: Firma: Advanced Emissions Solutions Inc, Sektor: Industrials\n",
      "ID 1325: Firma: Aemetis Inc, Sektor: Energy\n",
      "ID 1370: Firma: Alta Mesa Resources Inc, Sektor: Basic Materials\n",
      "ID 1379: Firma: American Electric Power Company Inc, Sektor: Utilities\n",
      "ID 1392: Firma: Andersons Inc, Sektor: Consumer Defensive\n",
      "ID 1591: Firma: American Resources Corporation, Sektor: Basic Materials\n",
      "ID 1895: Firma: CSX Corporation, Sektor: Industrials\n",
      "ID 1957: Firma: Chart Industries Inc, Sektor: Industrials\n",
      "ID 2116: Firma: Castor Maritime Inc, Sektor: Industrials\n",
      "ID 2441: Firma: Eagle Bulk Shipping Inc, Sektor: Industrials\n",
      "ID 2490: Firma: EuroDry Ltd, Sektor: Industrials\n",
      "ID 2541: Firma: First Community Bancshares Inc, Sektor: Financial Services\n",
      "ID 2577: Firma: FreightCar America Inc, Sektor: Industrials\n",
      "ID 2582: Firma: FuelCell Energy Inc, Sektor: Industrials\n",
      "ID 2616: Firma: Ferroglobe PLC, Sektor: Basic Materials\n",
      "ID 2759: Firma: Grindrod Shipping Holdings Ltd, Sektor: Industrials\n",
      "ID 2813: Firma: Globus Maritime Limited, Sektor: Industrials\n",
      "ID 2821: Firma: Golden Ocean Group Limited, Sektor: Industrials\n",
      "ID 2923: Firma: Hallador Energy Company, Sektor: Energy\n",
      "ID 3019: Firma: Infrastructure and Energy Alternatives Inc, Sektor: Industrials\n",
      "ID 3478: Firma: Mitsui & Company, Ltd. - Ads Each Representing 20 Shares of Common Stock (MM), Sektor: Industrials\n",
      "ID 3486: Firma: Montauk Renewables Inc, Sektor: Utilities\n",
      "ID 3503: Firma: MGE Energy Inc, Sektor: Utilities\n",
      "ID 3712: Firma: New Oriental Energy & Chemical Corp. (MM), Sektor: Basic Materials\n",
      "ID 3760: Firma: OceanPal Inc, Sektor: Industrials\n",
      "ID 3795: Firma: Otter Tail Corporation, Sektor: Utilities\n",
      "ID 3992: Firma: Pangaea Logistics Solutions Ltd, Sektor: Industrials\n",
      "ID 4076: Firma: Prospect Capital Corporation, Sektor: Financial Services\n",
      "ID 4127: Firma: Ramaco Resources Inc, Sektor: Basic Materials\n",
      "ID 4298: Firma: Seanergy Maritime Holdings Corporation, Sektor: Industrials\n",
      "ID 4393: Firma: Stronghold Digital Mining Inc, Sektor: Financial Services\n",
      "ID 4509: Firma: Smart Power Corporation, Sektor: Utilities\n",
      "ID 4550: Firma: Star Bulk Carriers Corporation, Sektor: Industrials\n",
      "ID 4596: Firma: TD Holdings Inc, Sektor: Technology\n",
      "ID 4998: Firma: Xcel Energy Inc, Sektor: Utilities\n",
      "ID 5056: Firma: AES Corporation The, Sektor: Utilities\n",
      "ID 5097: Firma: Allete Inc, Sektor: Utilities\n",
      "ID 5101: Firma: Alpha Metallurgical Resources Inc, Sektor: Basic Materials\n",
      "ID 5105: Firma: Aluminum Corporation of China Ltd, Sektor: Basic Materials\n",
      "ID 5108: Firma: Ameren Corp, Sektor: Utilities\n",
      "ID 5111: Firma: American Electric Power Company Inc, Sektor: Utilities\n",
      "ID 5134: Firma: Arcelor Mittal New, Sektor: Basic Materials\n",
      "ID 5135: Firma: Arch Resources Inc, Sektor: Energy\n",
      "ID 5176: Firma: AES Corp, Sektor: Utilities\n",
      "ID 5394: Firma: BHP Group Limited, Sektor: Basic Materials\n",
      "ID 5428: Firma: Black Hills Corp, Sektor: Utilities\n",
      "ID 5461: Firma: Bloom Energy Corporation, Sektor: Industrials\n",
      "ID 5505: Firma: CMS Energy Corporation, Sektor: Utilities\n",
      "ID 5510: Firma: CONSOL Energy Inc, Sektor: Energy\n",
      "ID 5524: Firma: Canadian National Railway Co, Sektor: Industrials\n",
      "ID 5525: Firma: Canadian Pacific Railway Inc, Sektor: Industrials\n",
      "ID 5548: Firma: Charah Solutions Inc, Sektor: Industrials\n",
      "ID 5636: Firma: Cabot Corp, Sektor: Basic Materials\n",
      "ID 5666: Firma: Chart Industries Inc, Sektor: Industrials\n",
      "ID 5735: Firma: DTE Energy Company, Sektor: Utilities\n",
      "ID 5753: Firma: Diana Shipping Inc, Sektor: Industrials\n",
      "ID 5817: Firma: Duke Energy Corp New, Sektor: Utilities\n",
      "ID 5860: Firma: Enviva Inc, Sektor: Basic Materials\n",
      "ID 5872: Firma: Evergy Inc, Sektor: Utilities\n",
      "ID 5916: Firma: Energy Transfer LP, Sektor: Energy\n",
      "ID 5923: Firma: Entergy Corp, Sektor: Utilities\n",
      "ID 5973: Firma: FirstEnergy Corp, Sektor: Utilities\n",
      "ID 6010: Firma: Fiduciary Claymore Energy Infrastructure Fund, Sektor: Financial Services\n",
      "ID 6108: Firma: Genco Shipping and Trading Limited, Sektor: Industrials\n",
      "ID 6227: Firma: Huaneng Power International Inc, Sektor: Utilities\n",
      "ID 6233: Firma: IDACORP Inc, Sektor: Utilities\n",
      "ID 6385: Firma: Korea Electric Power Corporation, Sektor: Utilities\n",
      "ID 6514: Firma: Montrose Environmental Group Inc, Sektor: Industrials\n",
      "ID 6616: Firma: NextEra Energy Inc, Sektor: Utilities\n",
      "ID 6619: Firma: Nisource Inc, Sektor: Utilities\n",
      "ID 6623: Firma: Norfolk Southern Corp, Sektor: Industrials\n",
      "ID 6652: Firma: NACCO Industries Inc, Sektor: Energy\n",
      "ID 6655: Firma: NRG Energy Inc, Sektor: Utilities\n",
      "ID 6663: Firma: Navios Maritime Holdings Inc, Sektor: Industrials\n",
      "ID 6676: Firma: NiSource Inc, Sektor: Utilities\n",
      "ID 6745: Firma: OGE Energy Corp, Sektor: Utilities\n",
      "ID 6783: Firma: PNM Resources Inc, Sektor: Utilities\n",
      "ID 6794: Firma: Peabody Energy Corporation, Sektor: Energy\n",
      "ID 6851: Firma: PPL Corporation, Sektor: Utilities\n",
      "ID 6882: Firma: Pinnacle West Capital Corp, Sektor: Utilities\n",
      "ID 6901: Firma: Progressive Corporation, Sektor: Financial Services\n",
      "ID 7055: Firma: Southern Copper Corp, Sektor: Basic Materials\n",
      "ID 7094: Firma: Safe Bulkers Inc, Sektor: Industrials\n",
      "ID 7097: Firma: Salient Midstream and MLP Fund, Sektor: Financial Services\n",
      "ID 7162: Firma: SunCoke Energy Inc, Sektor: Basic Materials\n",
      "ID 7186: Firma: Teck Resources Ltd, Sektor: Basic Materials\n",
      "ID 7213: Firma: Tortoise Energy Infrastructure Corporation, Sektor: Financial Services\n",
      "ID 7283: Firma: TransAlta Corporation, Sektor: Utilities\n",
      "ID 7305: Firma: UGI Corp, Sektor: Utilities\n",
      "ID 7315: Firma: Union Pacific Corp, Sektor: Industrials\n",
      "ID 7328: Firma: UGI Corporation, Sektor: Utilities\n",
      "ID 7403: Firma: Vistra Corp, Sektor: Utilities\n",
      "ID 7420: Firma: Warrior Met Coal Inc, Sektor: Basic Materials\n",
      "ID 7423: Firma: Waste Management, Sektor: Industrials\n",
      "ID 7453: Firma: WEC Energy Group Inc, Sektor: Utilities\n",
      "ID 7525: Firma: Mitsubishi Corporation, Sektor: Industrials\n",
      "ID 7528: Firma: ITOCHU Corporation, Sektor: Industrials\n",
      "ID 7530: Firma: Mitsui & Co., Ltd, Sektor: Industrials\n",
      "ID 7547: Firma: Marubeni Corporation, Sektor: Industrials\n",
      "ID 7555: Firma: Nippon Yusen Kabushiki Kaisha, Sektor: Industrials\n",
      "ID 7565: Firma: Mitsui O.S.K. Lines, Ltd, Sektor: Industrials\n",
      "ID 7585: Firma: Kawasaki Kisen Kaisha, Ltd, Sektor: Industrials\n",
      "ID 7632: Firma: Electric Power Development Co., Ltd, Sektor: Utilities\n",
      "ID 7654: Firma: The Chugoku Electric Power Co., Inc, Sektor: Utilities\n",
      "ID 7745: Firma: Mitani Corporation, Sektor: Industrials\n",
      "ID 7776: Firma: Itochu Enex Co.,Ltd, Sektor: Energy\n",
      "ID 7804: Firma: Hokkaido Electric Power Company, Incorporated, Sektor: Utilities\n",
      "ID 7813: Firma: NS United Kaiun Kaisha, Ltd, Sektor: Industrials\n",
      "ID 7848: Firma: Iino Kaiun Kaisha, Ltd, Sektor: Industrials\n",
      "ID 7959: Firma: Sinanen Holdings Co Ltd, Sektor: Energy\n",
      "ID 8098: Firma: Nittetsu Mining Co., Ltd, Sektor: Basic Materials\n",
      "ID 8099: Firma: Mitsui Matsushima Holdings Co., Ltd, Sektor: Energy\n",
      "ID 8254: Firma: Sojitz Corporation, Sektor: Industrials\n",
      "ID 8361: Firma: Nippon Coke & Engineering Company, Limited, Sektor: Basic Materials\n",
      "ID 8663: Firma: Idemitsu Kosan Co.,Ltd, Sektor: Energy\n",
      "ID 8685: Firma: Taiheiyo Cement Corporation, Sektor: Basic Materials\n",
      "ID 8703: Firma: Nippon Steel & Sumitomo Metal Corporation, Sektor: Basic Materials\n",
      "ID 8723: Firma: Kurimoto, Ltd, Sektor: Basic Materials\n",
      "ID 8730: Firma: Mitsubishi Materials Corporation, Sektor: Basic Materials\n",
      "ID 8817: Firma: Shinko Plantech Co., Ltd, Sektor: Industrials\n",
      "ID 9161: Firma: Inui Global Logistics Co Ltd, Sektor: Industrials\n",
      "ID 9218: Firma: Anglo Pacific Group PLC, Sektor: Basic Materials\n",
      "ID 9259: Firma: Canadian National Railway Company, Sektor: Industrials\n",
      "ID 9261: Firma: Canadian Pacific Railway Limited, Sektor: Industrials\n",
      "ID 9377: Firma: SouthGobi Resources Ltd., Sektor: Energy\n",
      "ID 9396: Firma: TransAlta Corporation, Sektor: Utilities\n",
      "ID 9622: Firma: MVV ENERGIE AG NA O.N., Sektor: Utilities\n",
      "ID 9653: Firma: RWE AG   INH O.N., Sektor: Utilities\n",
      "ID 9699: Firma: UNIPER SE  NA O.N., Sektor: Utilities\n",
      "ID 9738: Firma: ENBW ENERGIE BADEN-WUERTTEMBERG ON, Sektor: Utilities\n",
      "ID 9775: Firma: 2G ENERGY AG, Sektor: Industrials\n"
     ]
    }
   ],
   "source": [
    "search(input('Please enter searchword(s) seperated with a space: \\n').split(' '))"
   ]
  },
  {
   "cell_type": "code",
   "execution_count": null,
   "id": "6322b44c",
   "metadata": {},
   "outputs": [],
   "source": []
  }
 ],
 "metadata": {
  "kernelspec": {
   "display_name": "NLP",
   "language": "python",
   "name": "nlp"
  },
  "language_info": {
   "codemirror_mode": {
    "name": "ipython",
    "version": 3
   },
   "file_extension": ".py",
   "mimetype": "text/x-python",
   "name": "python",
   "nbconvert_exporter": "python",
   "pygments_lexer": "ipython3",
   "version": "3.10.4"
  },
  "toc": {
   "base_numbering": 1,
   "nav_menu": {},
   "number_sections": true,
   "sideBar": true,
   "skip_h1_title": false,
   "title_cell": "Table of Contents",
   "title_sidebar": "Contents",
   "toc_cell": false,
   "toc_position": {},
   "toc_section_display": true,
   "toc_window_display": false
  }
 },
 "nbformat": 4,
 "nbformat_minor": 5
}
