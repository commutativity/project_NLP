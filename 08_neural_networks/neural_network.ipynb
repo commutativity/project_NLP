{
 "cells": [
  {
   "cell_type": "markdown",
   "source": [
    "## Neural network for sector classification\n",
    "The neural network maps the company sectors to the descriptions."
   ],
   "metadata": {
    "collapsed": false,
    "pycharm": {
     "name": "#%% md\n"
    }
   }
  },
  {
   "cell_type": "code",
   "execution_count": 65,
   "metadata": {
    "collapsed": true
   },
   "outputs": [],
   "source": [
    "import numpy as np\n",
    "import pandas as pd\n",
    "import matplotlib.pyplot as plt\n",
    "\n",
    "import tensorflow as tf\n",
    "import tensorflow_hub as hub\n",
    "from tensorflow.keras.layers import Dense\n",
    "from tensorflow.keras.callbacks import EarlyStopping\n",
    "from tensorflow.keras import regularizers"
   ]
  },
  {
   "cell_type": "code",
   "execution_count": 66,
   "outputs": [],
   "source": [
    "def df_to_dataset(dataframe, shuffle=True, batch_size=64):\n",
    "    \"\"\"Convert the Pandas' dataset into a tensorflow dataset and shuffle and batch the entries.\"\"\"\n",
    "    df = dataframe.copy()\n",
    "    code = df.pop('code')\n",
    "    df = dataframe[\"description\"]\n",
    "    ds = tf.data.Dataset.from_tensor_slices((df, code))\n",
    "    if shuffle:\n",
    "        ds = ds.shuffle(buffer_size=len(dataframe))\n",
    "    ds = ds.batch(batch_size)\n",
    "    return ds"
   ],
   "metadata": {
    "collapsed": false,
    "pycharm": {
     "name": "#%%\n"
    }
   }
  },
  {
   "cell_type": "markdown",
   "source": [
    "### Dataset with normal sentences"
   ],
   "metadata": {
    "collapsed": false,
    "pycharm": {
     "name": "#%% md\n"
    }
   }
  },
  {
   "cell_type": "code",
   "execution_count": 67,
   "outputs": [
    {
     "data": {
      "text/plain": "                                         description                  sector  \\\n0  Adara Acquisition Corp. does not have signific...      Financial Services   \n1  AIM ImmunoTech Inc., an immuno-pharma company,...              Healthcare   \n2  Ashford, Inc is an asset management firm. The ...      Financial Services   \n3  The Arena Group Holdings, Inc., together with ...  Communication Services   \n4  AMCON Distributing Company, together with its ...      Consumer Defensive   \n\n   code  \n0     5  \n1     6  \n2     5  \n3     1  \n4     3  ",
      "text/html": "<div>\n<style scoped>\n    .dataframe tbody tr th:only-of-type {\n        vertical-align: middle;\n    }\n\n    .dataframe tbody tr th {\n        vertical-align: top;\n    }\n\n    .dataframe thead th {\n        text-align: right;\n    }\n</style>\n<table border=\"1\" class=\"dataframe\">\n  <thead>\n    <tr style=\"text-align: right;\">\n      <th></th>\n      <th>description</th>\n      <th>sector</th>\n      <th>code</th>\n    </tr>\n  </thead>\n  <tbody>\n    <tr>\n      <th>0</th>\n      <td>Adara Acquisition Corp. does not have signific...</td>\n      <td>Financial Services</td>\n      <td>5</td>\n    </tr>\n    <tr>\n      <th>1</th>\n      <td>AIM ImmunoTech Inc., an immuno-pharma company,...</td>\n      <td>Healthcare</td>\n      <td>6</td>\n    </tr>\n    <tr>\n      <th>2</th>\n      <td>Ashford, Inc is an asset management firm. The ...</td>\n      <td>Financial Services</td>\n      <td>5</td>\n    </tr>\n    <tr>\n      <th>3</th>\n      <td>The Arena Group Holdings, Inc., together with ...</td>\n      <td>Communication Services</td>\n      <td>1</td>\n    </tr>\n    <tr>\n      <th>4</th>\n      <td>AMCON Distributing Company, together with its ...</td>\n      <td>Consumer Defensive</td>\n      <td>3</td>\n    </tr>\n  </tbody>\n</table>\n</div>"
     },
     "execution_count": 67,
     "metadata": {},
     "output_type": "execute_result"
    }
   ],
   "source": [
    "df = pd.read_json('..\\\\06_data_prep.json')\n",
    "df.sector = pd.Categorical(df.sector)\n",
    "df['code'] = df.sector.cat.codes\n",
    "df.head()"
   ],
   "metadata": {
    "collapsed": false,
    "pycharm": {
     "name": "#%%\n"
    }
   }
  },
  {
   "cell_type": "code",
   "execution_count": 68,
   "outputs": [],
   "source": [
    "# stratify the sectors evenly onto train, val and test dataset\n",
    "grouped_df = df.groupby('sector')\n",
    "arr_list = [np.split(g, [int(.8 * len(g)), int(.9 * len(g))]) for i, g in grouped_df]\n",
    "train = pd.concat([t[0] for t in arr_list])\n",
    "val = pd.concat([v[2] for v in arr_list])\n",
    "test = pd.concat([t[1] for t in arr_list])"
   ],
   "metadata": {
    "collapsed": false,
    "pycharm": {
     "name": "#%%\n"
    }
   }
  },
  {
   "cell_type": "code",
   "execution_count": 69,
   "outputs": [],
   "source": [
    "# convert data to tensorflow datasets\n",
    "train_data = df_to_dataset(train)\n",
    "valid_data = df_to_dataset(val)\n",
    "test_data = df_to_dataset(test)"
   ],
   "metadata": {
    "collapsed": false,
    "pycharm": {
     "name": "#%%\n"
    }
   }
  },
  {
   "cell_type": "code",
   "execution_count": 70,
   "outputs": [],
   "source": [
    "# import a token based text embedding on English Google News with pre-built out-of-vocabulary handling\n",
    "embedding = \"https://tfhub.dev/google/nnlm-en-dim50/2\""
   ],
   "metadata": {
    "collapsed": false,
    "pycharm": {
     "name": "#%%\n"
    }
   }
  },
  {
   "cell_type": "code",
   "execution_count": 71,
   "outputs": [],
   "source": [
    "# built a neural network for classification with kernel regularization to decrease overfitting\n",
    "model = tf.keras.Sequential([\n",
    "    hub.KerasLayer(embedding, dtype=tf.string, trainable=True),\n",
    "    Dense(32, activation='relu', kernel_regularizer=regularizers.l2(0.01)),\n",
    "    Dense(16, activation='relu', kernel_regularizer=regularizers.l2(0.01)),\n",
    "    Dense(10, activation='softmax')\n",
    "])"
   ],
   "metadata": {
    "collapsed": false,
    "pycharm": {
     "name": "#%%\n"
    }
   }
  },
  {
   "cell_type": "code",
   "execution_count": 72,
   "outputs": [],
   "source": [
    "model.compile(optimizer=tf.keras.optimizers.Adam(learning_rate=0.001),\n",
    "              loss='sparse_categorical_crossentropy',\n",
    "              metrics=['accuracy'])\n",
    "\n",
    "# set early stopping\n",
    "es = EarlyStopping(patience=1, verbose=1, restore_best_weights=True)"
   ],
   "metadata": {
    "collapsed": false,
    "pycharm": {
     "name": "#%%\n"
    }
   }
  },
  {
   "cell_type": "code",
   "execution_count": 73,
   "outputs": [
    {
     "name": "stdout",
     "output_type": "stream",
     "text": [
      "Epoch 1/20\n",
      "123/123 [==============================] - 91s 736ms/step - loss: 2.0161 - accuracy: 0.5400 - val_loss: 1.6348 - val_accuracy: 0.6599\n",
      "Epoch 2/20\n",
      "123/123 [==============================] - 90s 736ms/step - loss: 1.1261 - accuracy: 0.7827 - val_loss: 1.2745 - val_accuracy: 0.7146\n",
      "Epoch 3/20\n",
      "123/123 [==============================] - 89s 728ms/step - loss: 0.8100 - accuracy: 0.8746 - val_loss: 1.1226 - val_accuracy: 0.7409\n",
      "Epoch 4/20\n",
      "123/123 [==============================] - 89s 725ms/step - loss: 0.6405 - accuracy: 0.9246 - val_loss: 1.0430 - val_accuracy: 0.7540\n",
      "Epoch 5/20\n",
      "123/123 [==============================] - 83s 675ms/step - loss: 0.5281 - accuracy: 0.9555 - val_loss: 0.9918 - val_accuracy: 0.7540\n",
      "Epoch 6/20\n",
      "123/123 [==============================] - ETA: 0s - loss: 0.4515 - accuracy: 0.9738Restoring model weights from the end of the best epoch: 5.\n",
      "123/123 [==============================] - 51s 415ms/step - loss: 0.4515 - accuracy: 0.9738 - val_loss: 1.0196 - val_accuracy: 0.7419\n",
      "Epoch 00006: early stopping\n"
     ]
    }
   ],
   "source": [
    "# train the model and use early stopping\n",
    "history = model.fit(train_data,\n",
    "                    validation_data=valid_data,\n",
    "                    epochs=20,\n",
    "                    callbacks=[es])"
   ],
   "metadata": {
    "collapsed": false,
    "pycharm": {
     "name": "#%%\n"
    }
   }
  },
  {
   "cell_type": "code",
   "execution_count": 74,
   "outputs": [
    {
     "data": {
      "text/plain": "<Figure size 432x288 with 1 Axes>",
      "image/png": "[encoded data removed]"
     },
     "metadata": {
      "needs_background": "light"
     },
     "output_type": "display_data"
    }
   ],
   "source": [
    "plt.plot(history.history['accuracy'], label=\"Training acc\")\n",
    "plt.plot(history.history['val_accuracy'], label=\"Validation acc\")\n",
    "plt.title(\"Accuracy of model\")\n",
    "plt.ylabel(\"Accuracy\")\n",
    "plt.xlabel(\"Epoch\")\n",
    "plt.legend()\n",
    "plt.show()"
   ],
   "metadata": {
    "collapsed": false,
    "pycharm": {
     "name": "#%%\n"
    }
   }
  },
  {
   "cell_type": "code",
   "execution_count": 75,
   "outputs": [
    {
     "data": {
      "text/plain": "<Figure size 432x288 with 1 Axes>",
      "image/png": "[encoded data removed]"
     },
     "metadata": {
      "needs_background": "light"
     },
     "output_type": "display_data"
    }
   ],
   "source": [
    "plt.plot(history.history['loss'], label=\"Training acc\")\n",
    "plt.plot(history.history['val_loss'], label=\"Validation acc\")\n",
    "plt.title(\"Loss of model\")\n",
    "plt.ylabel(\"Loss\")\n",
    "plt.xlabel(\"Epoch\")\n",
    "plt.legend()\n",
    "plt.show()"
   ],
   "metadata": {
    "collapsed": false,
    "pycharm": {
     "name": "#%%\n"
    }
   }
  },
  {
   "cell_type": "code",
   "execution_count": 76,
   "outputs": [
    {
     "name": "stdout",
     "output_type": "stream",
     "text": [
      "16/16 [==============================] - 1s 53ms/step - loss: 0.9529 - accuracy: 0.7688\n"
     ]
    },
    {
     "data": {
      "text/plain": "[0.9529468417167664, 0.7688391208648682]"
     },
     "execution_count": 76,
     "metadata": {},
     "output_type": "execute_result"
    }
   ],
   "source": [
    "model.evaluate(test_data)"
   ],
   "metadata": {
    "collapsed": false,
    "pycharm": {
     "name": "#%%\n"
    }
   }
  },
  {
   "cell_type": "markdown",
   "source": [
    "## Dataset without stopwords and lemmatization"
   ],
   "metadata": {
    "collapsed": false,
    "pycharm": {
     "name": "#%% md\n"
    }
   }
  },
  {
   "cell_type": "code",
   "execution_count": 77,
   "outputs": [
    {
     "data": {
      "text/plain": "                                         description                  sector  \\\n0  Adara Acquisition Corp. does not have signific...      Financial Services   \n1  AIM ImmunoTech Inc., an immuno-pharma company,...              Healthcare   \n2  Ashford, Inc is an asset management firm. The ...      Financial Services   \n3  The Arena Group Holdings, Inc., together with ...  Communication Services   \n4  AMCON Distributing Company, together with its ...      Consumer Defensive   \n\n   code  \n0     5  \n1     6  \n2     5  \n3     1  \n4     3  ",
      "text/html": "<div>\n<style scoped>\n    .dataframe tbody tr th:only-of-type {\n        vertical-align: middle;\n    }\n\n    .dataframe tbody tr th {\n        vertical-align: top;\n    }\n\n    .dataframe thead th {\n        text-align: right;\n    }\n</style>\n<table border=\"1\" class=\"dataframe\">\n  <thead>\n    <tr style=\"text-align: right;\">\n      <th></th>\n      <th>description</th>\n      <th>sector</th>\n      <th>code</th>\n    </tr>\n  </thead>\n  <tbody>\n    <tr>\n      <th>0</th>\n      <td>Adara Acquisition Corp. does not have signific...</td>\n      <td>Financial Services</td>\n      <td>5</td>\n    </tr>\n    <tr>\n      <th>1</th>\n      <td>AIM ImmunoTech Inc., an immuno-pharma company,...</td>\n      <td>Healthcare</td>\n      <td>6</td>\n    </tr>\n    <tr>\n      <th>2</th>\n      <td>Ashford, Inc is an asset management firm. The ...</td>\n      <td>Financial Services</td>\n      <td>5</td>\n    </tr>\n    <tr>\n      <th>3</th>\n      <td>The Arena Group Holdings, Inc., together with ...</td>\n      <td>Communication Services</td>\n      <td>1</td>\n    </tr>\n    <tr>\n      <th>4</th>\n      <td>AMCON Distributing Company, together with its ...</td>\n      <td>Consumer Defensive</td>\n      <td>3</td>\n    </tr>\n  </tbody>\n</table>\n</div>"
     },
     "execution_count": 77,
     "metadata": {},
     "output_type": "execute_result"
    }
   ],
   "source": [
    "df = pd.read_json('..\\\\06_data_prep.json')\n",
    "df.sector = pd.Categorical(df.sector)\n",
    "df['code'] = df.sector.cat.codes\n",
    "df.head()"
   ],
   "metadata": {
    "collapsed": false,
    "pycharm": {
     "name": "#%%\n"
    }
   }
  },
  {
   "cell_type": "code",
   "execution_count": 78,
   "outputs": [],
   "source": [
    "# stratify the sectors evenly onto train, val and test dataset\n",
    "grouped_df = df.groupby('sector')\n",
    "arr_list = [np.split(g, [int(.8 * len(g)), int(.9 * len(g))]) for i, g in grouped_df]\n",
    "train = pd.concat([t[0] for t in arr_list])\n",
    "val = pd.concat([v[2] for v in arr_list])\n",
    "test = pd.concat([t[1] for t in arr_list])"
   ],
   "metadata": {
    "collapsed": false,
    "pycharm": {
     "name": "#%%\n"
    }
   }
  },
  {
   "cell_type": "code",
   "execution_count": 79,
   "outputs": [],
   "source": [
    "column = 'explicit_lemmatization'\n",
    "\n",
    "train_data = df_to_dataset(train, column)\n",
    "valid_data = df_to_dataset(val, column)\n",
    "test_data = df_to_dataset(test, column)"
   ],
   "metadata": {
    "collapsed": false,
    "pycharm": {
     "name": "#%%\n"
    }
   }
  },
  {
   "cell_type": "code",
   "execution_count": 80,
   "outputs": [],
   "source": [
    "# import a token based text embedding on English Google News with pre-built out-of-vocabulary handling\n",
    "embedding = \"https://tfhub.dev/google/nnlm-en-dim50/2\""
   ],
   "metadata": {
    "collapsed": false,
    "pycharm": {
     "name": "#%%\n"
    }
   }
  },
  {
   "cell_type": "code",
   "execution_count": 81,
   "outputs": [],
   "source": [
    "# built a neural network for classification with kernel regularization to decrease overfitting\n",
    "model = tf.keras.Sequential([\n",
    "    hub.KerasLayer(embedding, dtype=tf.string, trainable=True),\n",
    "    Dense(32, activation='relu', kernel_regularizer=regularizers.l2(0.01)),\n",
    "    Dense(16, activation='relu', kernel_regularizer=regularizers.l2(0.01)),\n",
    "    Dense(10, activation='softmax')\n",
    "])"
   ],
   "metadata": {
    "collapsed": false,
    "pycharm": {
     "name": "#%%\n"
    }
   }
  },
  {
   "cell_type": "code",
   "execution_count": 82,
   "outputs": [],
   "source": [
    "model.compile(optimizer=tf.keras.optimizers.Adam(learning_rate=0.001),\n",
    "              loss='sparse_categorical_crossentropy',\n",
    "              metrics=['accuracy'])\n",
    "\n",
    "# set early stopping\n",
    "es = EarlyStopping(patience=1, verbose=1, restore_best_weights=True)"
   ],
   "metadata": {
    "collapsed": false,
    "pycharm": {
     "name": "#%%\n"
    }
   }
  },
  {
   "cell_type": "code",
   "execution_count": 83,
   "outputs": [
    {
     "name": "stdout",
     "output_type": "stream",
     "text": [
      "Epoch 1/20\n",
      "123/123 [==============================] - 51s 416ms/step - loss: 2.1295 - accuracy: 0.4489 - val_loss: 1.7328 - val_accuracy: 0.5901\n",
      "Epoch 2/20\n",
      "123/123 [==============================] - 51s 415ms/step - loss: 1.1868 - accuracy: 0.7479 - val_loss: 1.3033 - val_accuracy: 0.7115\n",
      "Epoch 3/20\n",
      "123/123 [==============================] - 51s 414ms/step - loss: 0.8157 - accuracy: 0.8672 - val_loss: 1.2231 - val_accuracy: 0.7045\n",
      "Epoch 4/20\n",
      "123/123 [==============================] - 51s 415ms/step - loss: 0.6279 - accuracy: 0.9199 - val_loss: 1.1036 - val_accuracy: 0.7530\n",
      "Epoch 5/20\n",
      "123/123 [==============================] - 51s 416ms/step - loss: 0.5112 - accuracy: 0.9541 - val_loss: 1.0537 - val_accuracy: 0.7520\n",
      "Epoch 6/20\n",
      "123/123 [==============================] - 51s 416ms/step - loss: 0.4331 - accuracy: 0.9751 - val_loss: 1.0422 - val_accuracy: 0.7530\n",
      "Epoch 7/20\n",
      "123/123 [==============================] - 51s 415ms/step - loss: 0.3776 - accuracy: 0.9882 - val_loss: 1.0016 - val_accuracy: 0.7824\n",
      "Epoch 8/20\n",
      "123/123 [==============================] - ETA: 0s - loss: 0.3355 - accuracy: 0.9929Restoring model weights from the end of the best epoch: 7.\n",
      "123/123 [==============================] - 51s 416ms/step - loss: 0.3355 - accuracy: 0.9929 - val_loss: 1.0198 - val_accuracy: 0.7611\n",
      "Epoch 00008: early stopping\n"
     ]
    }
   ],
   "source": [
    "# train the model and use early stopping\n",
    "history = model.fit(train_data,\n",
    "                    validation_data=valid_data,\n",
    "                    epochs=20,\n",
    "                    callbacks=[es])"
   ],
   "metadata": {
    "collapsed": false,
    "pycharm": {
     "name": "#%%\n"
    }
   }
  },
  {
   "cell_type": "code",
   "execution_count": 84,
   "outputs": [
    {
     "name": "stdout",
     "output_type": "stream",
     "text": [
      "16/16 [==============================] - 1s 58ms/step - loss: 0.8744 - accuracy: 0.8065\n"
     ]
    },
    {
     "data": {
      "text/plain": "[0.874370813369751, 0.8065173029899597]"
     },
     "execution_count": 84,
     "metadata": {},
     "output_type": "execute_result"
    }
   ],
   "source": [
    "model.evaluate(test_data)"
   ],
   "metadata": {
    "collapsed": false,
    "pycharm": {
     "name": "#%%\n"
    }
   }
  },
  {
   "cell_type": "code",
   "execution_count": null,
   "outputs": [],
   "source": [],
   "metadata": {
    "collapsed": false,
    "pycharm": {
     "name": "#%%\n"
    }
   }
  }
 ],
 "metadata": {
  "kernelspec": {
   "display_name": "Python 3",
   "language": "python",
   "name": "python3"
  },
  "language_info": {
   "codemirror_mode": {
    "name": "ipython",
    "version": 2
   },
   "file_extension": ".py",
   "mimetype": "text/x-python",
   "name": "python",
   "nbconvert_exporter": "python",
   "pygments_lexer": "ipython2",
   "version": "2.7.6"
  }
 },
 "nbformat": 4,
 "nbformat_minor": 0
}