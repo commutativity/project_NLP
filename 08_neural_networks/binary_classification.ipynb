{
 "cells": [
  {
   "cell_type": "markdown",
   "source": [
    "## Neural network for binary classification\n",
    "Classification whether the company description belongs to the financial services sector or not. The financial services sector is selected since it is the sector with the most values."
   ],
   "metadata": {
    "collapsed": false,
    "pycharm": {
     "name": "#%% md\n"
    }
   }
  },
  {
   "cell_type": "code",
   "execution_count": 1,
   "metadata": {
    "collapsed": true
   },
   "outputs": [],
   "source": [
    "import numpy as np\n",
    "import pandas as pd\n",
    "import matplotlib.pyplot as plt\n",
    "\n",
    "import tensorflow as tf\n",
    "import tensorflow_hub as hub"
   ]
  },
  {
   "cell_type": "code",
   "execution_count": 2,
   "outputs": [],
   "source": [
    "def df_to_dataset(dataframe, column, shuffle=True, batch_size=64):\n",
    "    \"\"\"Convert the Pandas' dataset into a tensorflow dataset and shuffle and batch the entries.\"\"\"\n",
    "    df = dataframe.copy()\n",
    "    code = df.pop('label')\n",
    "    df = dataframe[f'{column}']\n",
    "    ds = tf.data.Dataset.from_tensor_slices((df, code))\n",
    "    if shuffle:\n",
    "        ds = ds.shuffle(buffer_size=len(dataframe))\n",
    "    ds = ds.batch(batch_size)\n",
    "    return ds"
   ],
   "metadata": {
    "collapsed": false,
    "pycharm": {
     "name": "#%%\n"
    }
   }
  },
  {
   "cell_type": "markdown",
   "source": [
    "### Dataset with normal sentences"
   ],
   "metadata": {
    "collapsed": false
   }
  },
  {
   "cell_type": "code",
   "execution_count": 3,
   "outputs": [
    {
     "data": {
      "text/plain": "                                         description                  sector  \\\n0  Adara Acquisition Corp. does not have signific...      Financial Services   \n1  AIM ImmunoTech Inc., an immuno-pharma company,...              Healthcare   \n2  Ashford, Inc is an asset management firm. The ...      Financial Services   \n3  The Arena Group Holdings, Inc., together with ...  Communication Services   \n4  AMCON Distributing Company, together with its ...      Consumer Defensive   \n\n   label  \n0      1  \n1      0  \n2      1  \n3      0  \n4      0  ",
      "text/html": "<div>\n<style scoped>\n    .dataframe tbody tr th:only-of-type {\n        vertical-align: middle;\n    }\n\n    .dataframe tbody tr th {\n        vertical-align: top;\n    }\n\n    .dataframe thead th {\n        text-align: right;\n    }\n</style>\n<table border=\"1\" class=\"dataframe\">\n  <thead>\n    <tr style=\"text-align: right;\">\n      <th></th>\n      <th>description</th>\n      <th>sector</th>\n      <th>label</th>\n    </tr>\n  </thead>\n  <tbody>\n    <tr>\n      <th>0</th>\n      <td>Adara Acquisition Corp. does not have signific...</td>\n      <td>Financial Services</td>\n      <td>1</td>\n    </tr>\n    <tr>\n      <th>1</th>\n      <td>AIM ImmunoTech Inc., an immuno-pharma company,...</td>\n      <td>Healthcare</td>\n      <td>0</td>\n    </tr>\n    <tr>\n      <th>2</th>\n      <td>Ashford, Inc is an asset management firm. The ...</td>\n      <td>Financial Services</td>\n      <td>1</td>\n    </tr>\n    <tr>\n      <th>3</th>\n      <td>The Arena Group Holdings, Inc., together with ...</td>\n      <td>Communication Services</td>\n      <td>0</td>\n    </tr>\n    <tr>\n      <th>4</th>\n      <td>AMCON Distributing Company, together with its ...</td>\n      <td>Consumer Defensive</td>\n      <td>0</td>\n    </tr>\n  </tbody>\n</table>\n</div>"
     },
     "execution_count": 3,
     "metadata": {},
     "output_type": "execute_result"
    }
   ],
   "source": [
    "column = 'description'\n",
    "\n",
    "df = pd.read_json('..\\\\06_data_prep.json')\n",
    "df['label'] = (df.sector == 'Financial Services').astype(int)\n",
    "df.head()"
   ],
   "metadata": {
    "collapsed": false,
    "pycharm": {
     "name": "#%%\n"
    }
   }
  },
  {
   "cell_type": "code",
   "execution_count": 4,
   "outputs": [],
   "source": [
    "# stratify the sectors evenly onto train, val and test dataset\n",
    "grouped_df = df.groupby('sector')\n",
    "arr_list = [np.split(g, [int(.8 * len(g)), int(.9 * len(g))]) for i, g in grouped_df]\n",
    "train = pd.concat([t[0] for t in arr_list])\n",
    "val = pd.concat([v[2] for v in arr_list])\n",
    "test = pd.concat([t[1] for t in arr_list])"
   ],
   "metadata": {
    "collapsed": false,
    "pycharm": {
     "name": "#%%\n"
    }
   }
  },
  {
   "cell_type": "code",
   "execution_count": 5,
   "outputs": [],
   "source": [
    "train_data = df_to_dataset(train, column)\n",
    "valid_data = df_to_dataset(val, column)\n",
    "test_data = df_to_dataset(test, column)"
   ],
   "metadata": {
    "collapsed": false,
    "pycharm": {
     "name": "#%%\n"
    }
   }
  },
  {
   "cell_type": "code",
   "execution_count": 6,
   "outputs": [
    {
     "data": {
      "text/plain": "<tf.Tensor: shape=(64, 50), dtype=float32, numpy=\narray([[ 0.6141678 , -0.13839848,  0.5948703 , ..., -0.14087558,\n         0.04347822,  0.92792976],\n       [ 0.5033029 , -0.38988513,  0.59696835, ..., -0.3757148 ,\n        -0.28494933,  0.10478929],\n       [ 0.27030474, -0.25589672,  0.43356776, ...,  0.00865496,\n        -0.04937749,  0.03635268],\n       ...,\n       [ 0.925737  , -0.34082898,  0.43715623, ..., -0.43339387,\n        -0.5478974 ,  0.6826439 ],\n       [ 0.20183922,  0.07590131,  0.27295095, ...,  0.19196524,\n        -0.20220171,  0.35402307],\n       [ 0.8071863 , -0.47331262,  1.05621   , ..., -0.54644877,\n        -0.0475732 ,  0.10994462]], dtype=float32)>"
     },
     "execution_count": 6,
     "metadata": {},
     "output_type": "execute_result"
    }
   ],
   "source": [
    "# import a token based text embedding on English Google News with pre-built out-of-vocabulary handling\n",
    "embedding = \"https://tfhub.dev/google/nnlm-en-dim50/2\"\n",
    "hub_layer = hub.KerasLayer(embedding, dtype=tf.string, trainable=True)\n",
    "# to show the numerical values after the text embedding\n",
    "hub_layer(list(train_data)[0][0])"
   ],
   "metadata": {
    "collapsed": false,
    "pycharm": {
     "name": "#%%\n"
    }
   }
  },
  {
   "cell_type": "code",
   "execution_count": 7,
   "outputs": [],
   "source": [
    "model = tf.keras.Sequential([\n",
    "    hub.KerasLayer(embedding, dtype=tf.string, trainable=True),  # text to numerical value transformation\n",
    "    tf.keras.layers.Dense(16, activation='relu'),\n",
    "    tf.keras.layers.Dropout(0.4),\n",
    "    tf.keras.layers.Dense(1, activation='sigmoid')\n",
    "])"
   ],
   "metadata": {
    "collapsed": false,
    "pycharm": {
     "name": "#%%\n"
    }
   }
  },
  {
   "cell_type": "code",
   "execution_count": 8,
   "outputs": [],
   "source": [
    "model.compile(optimizer=tf.keras.optimizers.Adam(learning_rate=0.001),\n",
    "              loss='BinaryCrossentropy',\n",
    "              metrics=['accuracy'])"
   ],
   "metadata": {
    "collapsed": false,
    "pycharm": {
     "name": "#%%\n"
    }
   }
  },
  {
   "cell_type": "code",
   "execution_count": 9,
   "outputs": [
    {
     "name": "stdout",
     "output_type": "stream",
     "text": [
      "123/123 [==============================] - 1s 2ms/step - loss: 0.7989 - accuracy: 0.2886\n"
     ]
    },
    {
     "data": {
      "text/plain": "[0.7988614439964294, 0.2885667085647583]"
     },
     "execution_count": 9,
     "metadata": {},
     "output_type": "execute_result"
    }
   ],
   "source": [
    "# raw accuracy of the model\n",
    "model.evaluate(train_data)"
   ],
   "metadata": {
    "collapsed": false,
    "pycharm": {
     "name": "#%%\n"
    }
   }
  },
  {
   "cell_type": "code",
   "execution_count": 10,
   "outputs": [
    {
     "name": "stdout",
     "output_type": "stream",
     "text": [
      "Epoch 1/5\n",
      "123/123 [==============================] - 50s 406ms/step - loss: 0.3584 - accuracy: 0.8492 - val_loss: 0.2558 - val_accuracy: 0.8785\n",
      "Epoch 2/5\n",
      "123/123 [==============================] - 50s 409ms/step - loss: 0.1029 - accuracy: 0.9733 - val_loss: 0.2364 - val_accuracy: 0.9028\n",
      "Epoch 3/5\n",
      "123/123 [==============================] - 49s 400ms/step - loss: 0.0655 - accuracy: 0.9851 - val_loss: 0.2567 - val_accuracy: 0.9038\n",
      "Epoch 4/5\n",
      "123/123 [==============================] - 49s 401ms/step - loss: 0.0400 - accuracy: 0.9908 - val_loss: 0.2482 - val_accuracy: 0.9160\n",
      "Epoch 5/5\n",
      "123/123 [==============================] - 49s 400ms/step - loss: 0.0273 - accuracy: 0.9931 - val_loss: 0.2453 - val_accuracy: 0.9241\n"
     ]
    }
   ],
   "source": [
    "history = model.fit(train_data, epochs=5, validation_data=valid_data)"
   ],
   "metadata": {
    "collapsed": false,
    "pycharm": {
     "name": "#%%\n"
    }
   }
  },
  {
   "cell_type": "code",
   "execution_count": 11,
   "outputs": [
    {
     "data": {
      "text/plain": "<Figure size 432x288 with 1 Axes>",
      "image/png": "[encoded data removed]"
     },
     "metadata": {
      "needs_background": "light"
     },
     "output_type": "display_data"
    }
   ],
   "source": [
    "plt.plot(history.history['accuracy'], label=\"Training acc\")\n",
    "plt.plot(history.history['val_accuracy'], label=\"Validation acc\")\n",
    "plt.title(\"Accuracy of model\")\n",
    "plt.ylabel(\"Accuracy\")\n",
    "plt.xlabel(\"Epoch\")\n",
    "plt.legend()\n",
    "plt.show()"
   ],
   "metadata": {
    "collapsed": false,
    "pycharm": {
     "name": "#%%\n"
    }
   }
  },
  {
   "cell_type": "code",
   "execution_count": 12,
   "outputs": [
    {
     "data": {
      "text/plain": "<Figure size 432x288 with 1 Axes>",
      "image/png": "[encoded data removed]"
     },
     "metadata": {
      "needs_background": "light"
     },
     "output_type": "display_data"
    }
   ],
   "source": [
    "plt.plot(history.history['loss'], label=\"Training acc\")\n",
    "plt.plot(history.history['val_loss'], label=\"Validation acc\")\n",
    "plt.title(\"Loss of model\")\n",
    "plt.ylabel(\"Loss\")\n",
    "plt.xlabel(\"Epoch\")\n",
    "plt.legend()\n",
    "plt.show()"
   ],
   "metadata": {
    "collapsed": false,
    "pycharm": {
     "name": "#%%\n"
    }
   }
  },
  {
   "cell_type": "code",
   "execution_count": 13,
   "outputs": [
    {
     "name": "stdout",
     "output_type": "stream",
     "text": [
      "16/16 [==============================] - 1s 48ms/step - loss: 0.0375 - accuracy: 0.9878\n"
     ]
    },
    {
     "data": {
      "text/plain": "[0.03749576583504677, 0.9877800345420837]"
     },
     "execution_count": 13,
     "metadata": {},
     "output_type": "execute_result"
    }
   ],
   "source": [
    "model.evaluate(test_data)"
   ],
   "metadata": {
    "collapsed": false,
    "pycharm": {
     "name": "#%%\n"
    }
   }
  },
  {
   "cell_type": "markdown",
   "source": [
    "### Dataset without stopwords and lemmatization"
   ],
   "metadata": {
    "collapsed": false,
    "pycharm": {
     "name": "#%% md\n"
    }
   }
  },
  {
   "cell_type": "code",
   "execution_count": 14,
   "outputs": [
    {
     "data": {
      "text/plain": "                              explicit_lemmatization                  sector  \\\n0  significant operation company intend effect me...      Financial Services   \n1  immuno pharma company focus research developme...              Healthcare   \n2  Ashford Inc asset management firm firm provide...      Financial Services   \n3  subsidiary operate digital medium platform Uni...  Communication Services   \n4  subsidiary engage wholesale distribution consu...      Consumer Defensive   \n\n   label  \n0      1  \n1      0  \n2      1  \n3      0  \n4      0  ",
      "text/html": "<div>\n<style scoped>\n    .dataframe tbody tr th:only-of-type {\n        vertical-align: middle;\n    }\n\n    .dataframe tbody tr th {\n        vertical-align: top;\n    }\n\n    .dataframe thead th {\n        text-align: right;\n    }\n</style>\n<table border=\"1\" class=\"dataframe\">\n  <thead>\n    <tr style=\"text-align: right;\">\n      <th></th>\n      <th>explicit_lemmatization</th>\n      <th>sector</th>\n      <th>label</th>\n    </tr>\n  </thead>\n  <tbody>\n    <tr>\n      <th>0</th>\n      <td>significant operation company intend effect me...</td>\n      <td>Financial Services</td>\n      <td>1</td>\n    </tr>\n    <tr>\n      <th>1</th>\n      <td>immuno pharma company focus research developme...</td>\n      <td>Healthcare</td>\n      <td>0</td>\n    </tr>\n    <tr>\n      <th>2</th>\n      <td>Ashford Inc asset management firm firm provide...</td>\n      <td>Financial Services</td>\n      <td>1</td>\n    </tr>\n    <tr>\n      <th>3</th>\n      <td>subsidiary operate digital medium platform Uni...</td>\n      <td>Communication Services</td>\n      <td>0</td>\n    </tr>\n    <tr>\n      <th>4</th>\n      <td>subsidiary engage wholesale distribution consu...</td>\n      <td>Consumer Defensive</td>\n      <td>0</td>\n    </tr>\n  </tbody>\n</table>\n</div>"
     },
     "execution_count": 14,
     "metadata": {},
     "output_type": "execute_result"
    }
   ],
   "source": [
    "column = 'explicit_lemmatization'\n",
    "\n",
    "df = pd.read_json('..\\\\Unternehmen_preprocessed.json')\n",
    "df = df[['explicit_lemmatization', 'sector']]\n",
    "df['label'] = (df.sector == 'Financial Services').astype(int)\n",
    "df.head()"
   ],
   "metadata": {
    "collapsed": false,
    "pycharm": {
     "name": "#%%\n"
    }
   }
  },
  {
   "cell_type": "code",
   "execution_count": 15,
   "outputs": [],
   "source": [
    "# stratify the sectors evenly onto train, val and test dataset\n",
    "grouped_df = df.groupby('sector')\n",
    "arr_list = [np.split(g, [int(.8 * len(g)), int(.9 * len(g))]) for i, g in grouped_df]\n",
    "train = pd.concat([t[0] for t in arr_list])\n",
    "val = pd.concat([v[2] for v in arr_list])\n",
    "test = pd.concat([t[1] for t in arr_list])"
   ],
   "metadata": {
    "collapsed": false,
    "pycharm": {
     "name": "#%%\n"
    }
   }
  },
  {
   "cell_type": "code",
   "execution_count": 16,
   "outputs": [],
   "source": [
    "train_data = df_to_dataset(train, column)\n",
    "valid_data = df_to_dataset(val, column)\n",
    "test_data = df_to_dataset(test, column)"
   ],
   "metadata": {
    "collapsed": false,
    "pycharm": {
     "name": "#%%\n"
    }
   }
  },
  {
   "cell_type": "code",
   "execution_count": 17,
   "outputs": [],
   "source": [
    "# built a neural network for classification with dropout layers to decrease overfitting\n",
    "model_lemma = tf.keras.Sequential([\n",
    "    hub.KerasLayer(embedding, dtype=tf.string, trainable=True),  # text to numerical value transformation\n",
    "    tf.keras.layers.Dense(16, activation='relu'),\n",
    "    tf.keras.layers.Dropout(0.4),\n",
    "    tf.keras.layers.Dense(1, activation='sigmoid')\n",
    "])"
   ],
   "metadata": {
    "collapsed": false,
    "pycharm": {
     "name": "#%%\n"
    }
   }
  },
  {
   "cell_type": "code",
   "execution_count": 18,
   "outputs": [],
   "source": [
    "model_lemma.compile(optimizer=tf.keras.optimizers.Adam(learning_rate=0.001),\n",
    "              loss='BinaryCrossentropy',\n",
    "              metrics=['accuracy'])"
   ],
   "metadata": {
    "collapsed": false,
    "pycharm": {
     "name": "#%%\n"
    }
   }
  },
  {
   "cell_type": "code",
   "execution_count": 19,
   "outputs": [
    {
     "name": "stdout",
     "output_type": "stream",
     "text": [
      "Epoch 1/5\n",
      "123/123 [==============================] - 51s 409ms/step - loss: 0.3650 - accuracy: 0.8421 - val_loss: 0.2159 - val_accuracy: 0.9068\n",
      "Epoch 2/5\n",
      "123/123 [==============================] - 50s 407ms/step - loss: 0.1113 - accuracy: 0.9711 - val_loss: 0.1750 - val_accuracy: 0.9271\n",
      "Epoch 3/5\n",
      "123/123 [==============================] - 50s 407ms/step - loss: 0.0687 - accuracy: 0.9847 - val_loss: 0.1853 - val_accuracy: 0.9311\n",
      "Epoch 4/5\n",
      "123/123 [==============================] - 50s 406ms/step - loss: 0.0551 - accuracy: 0.9883 - val_loss: 0.1901 - val_accuracy: 0.9321\n",
      "Epoch 5/5\n",
      "123/123 [==============================] - 50s 408ms/step - loss: 0.0404 - accuracy: 0.9924 - val_loss: 0.2179 - val_accuracy: 0.9331\n"
     ]
    }
   ],
   "source": [
    "history_lemma = model_lemma.fit(train_data, epochs=5, validation_data=valid_data)"
   ],
   "metadata": {
    "collapsed": false,
    "pycharm": {
     "name": "#%%\n"
    }
   }
  },
  {
   "cell_type": "code",
   "execution_count": 20,
   "outputs": [
    {
     "name": "stdout",
     "output_type": "stream",
     "text": [
      "16/16 [==============================] - 1s 48ms/step - loss: 0.0344 - accuracy: 0.9908\n"
     ]
    },
    {
     "data": {
      "text/plain": "[0.03437201306223869, 0.9908257126808167]"
     },
     "execution_count": 20,
     "metadata": {},
     "output_type": "execute_result"
    }
   ],
   "source": [
    "model_lemma.evaluate(test_data)"
   ],
   "metadata": {
    "collapsed": false,
    "pycharm": {
     "name": "#%%\n"
    }
   }
  },
  {
   "cell_type": "code",
   "execution_count": 20,
   "outputs": [],
   "source": [],
   "metadata": {
    "collapsed": false,
    "pycharm": {
     "name": "#%%\n"
    }
   }
  }
 ],
 "metadata": {
  "kernelspec": {
   "display_name": "Python 3",
   "language": "python",
   "name": "python3"
  },
  "language_info": {
   "codemirror_mode": {
    "name": "ipython",
    "version": 2
   },
   "file_extension": ".py",
   "mimetype": "text/x-python",
   "name": "python",
   "nbconvert_exporter": "python",
   "pygments_lexer": "ipython2",
   "version": "2.7.6"
  }
 },
 "nbformat": 4,
 "nbformat_minor": 0
}