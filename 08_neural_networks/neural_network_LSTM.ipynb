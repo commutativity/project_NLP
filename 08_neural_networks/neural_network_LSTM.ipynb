{
 "cells": [
  {
   "cell_type": "markdown",
   "source": [
    "## Long Short-Term Memory (LSTM)\n",
    "The LSTM Model is only run on the preprocessed data"
   ],
   "metadata": {
    "collapsed": false,
    "pycharm": {
     "name": "#%% md\n"
    }
   }
  },
  {
   "cell_type": "code",
   "execution_count": 98,
   "outputs": [],
   "source": [
    "import numpy as np\n",
    "import pandas as pd\n",
    "import matplotlib.pyplot as plt\n",
    "\n",
    "import tensorflow as tf\n",
    "import tensorflow_hub as hub\n",
    "from tensorflow.keras.layers import Dense\n",
    "from tensorflow.keras.callbacks import EarlyStopping\n",
    "from tensorflow.keras import regularizers\n",
    "\n",
    "from sklearn.metrics import confusion_matrix, ConfusionMatrixDisplay\n",
    "from sklearn.metrics import accuracy_score"
   ],
   "metadata": {
    "collapsed": false,
    "pycharm": {
     "name": "#%%\n"
    }
   }
  },
  {
   "cell_type": "code",
   "execution_count": 99,
   "outputs": [],
   "source": [
    "def df_to_dataset(dataframe, shuffle=True, batch_size=64):\n",
    "    \"\"\"Convert the Pandas' dataset into a tensorflow dataset and shuffle and batch the entries.\"\"\"\n",
    "    df = dataframe.copy()\n",
    "    code = df.pop('code')\n",
    "    df = dataframe['explicit_lemmatization']\n",
    "    ds = tf.data.Dataset.from_tensor_slices((df, code))\n",
    "    if shuffle:\n",
    "        ds = ds.shuffle(buffer_size=len(dataframe))\n",
    "    ds = ds.batch(batch_size)\n",
    "    return ds"
   ],
   "metadata": {
    "collapsed": false,
    "pycharm": {
     "name": "#%%\n"
    }
   }
  },
  {
   "cell_type": "code",
   "execution_count": 100,
   "outputs": [
    {
     "data": {
      "text/plain": "                              explicit_lemmatization                  sector  \\\n0  significant operation company intend effect me...      Financial Services   \n1  immuno pharma company focus research developme...              Healthcare   \n2  Ashford Inc asset management firm firm provide...      Financial Services   \n3  subsidiary operate digital medium platform Uni...  Communication Services   \n4  subsidiary engage wholesale distribution consu...      Consumer Defensive   \n\n   code  \n0     5  \n1     6  \n2     5  \n3     1  \n4     3  ",
      "text/html": "<div>\n<style scoped>\n    .dataframe tbody tr th:only-of-type {\n        vertical-align: middle;\n    }\n\n    .dataframe tbody tr th {\n        vertical-align: top;\n    }\n\n    .dataframe thead th {\n        text-align: right;\n    }\n</style>\n<table border=\"1\" class=\"dataframe\">\n  <thead>\n    <tr style=\"text-align: right;\">\n      <th></th>\n      <th>explicit_lemmatization</th>\n      <th>sector</th>\n      <th>code</th>\n    </tr>\n  </thead>\n  <tbody>\n    <tr>\n      <th>0</th>\n      <td>significant operation company intend effect me...</td>\n      <td>Financial Services</td>\n      <td>5</td>\n    </tr>\n    <tr>\n      <th>1</th>\n      <td>immuno pharma company focus research developme...</td>\n      <td>Healthcare</td>\n      <td>6</td>\n    </tr>\n    <tr>\n      <th>2</th>\n      <td>Ashford Inc asset management firm firm provide...</td>\n      <td>Financial Services</td>\n      <td>5</td>\n    </tr>\n    <tr>\n      <th>3</th>\n      <td>subsidiary operate digital medium platform Uni...</td>\n      <td>Communication Services</td>\n      <td>1</td>\n    </tr>\n    <tr>\n      <th>4</th>\n      <td>subsidiary engage wholesale distribution consu...</td>\n      <td>Consumer Defensive</td>\n      <td>3</td>\n    </tr>\n  </tbody>\n</table>\n</div>"
     },
     "execution_count": 100,
     "metadata": {},
     "output_type": "execute_result"
    }
   ],
   "source": [
    "df = pd.read_json('..\\\\Unternehmen_preprocessed.json')\n",
    "df = df[['explicit_lemmatization', 'sector']]\n",
    "df.sector = pd.Categorical(df.sector)\n",
    "df['code'] = df.sector.cat.codes\n",
    "df.head()"
   ],
   "metadata": {
    "collapsed": false,
    "pycharm": {
     "name": "#%%\n"
    }
   }
  },
  {
   "cell_type": "code",
   "execution_count": 101,
   "outputs": [],
   "source": [
    "# stratify the sectors evenly onto train, val and test dataset\n",
    "grouped_df = df.groupby('sector')\n",
    "arr_list = [np.split(g, [int(.8 * len(g)), int(.9 * len(g))]) for i, g in grouped_df]\n",
    "train = pd.concat([t[0] for t in arr_list])\n",
    "val = pd.concat([v[2] for v in arr_list])\n",
    "test = pd.concat([t[1] for t in arr_list])"
   ],
   "metadata": {
    "collapsed": false,
    "pycharm": {
     "name": "#%%\n"
    }
   }
  },
  {
   "cell_type": "code",
   "execution_count": 102,
   "outputs": [],
   "source": [
    "# convert data to tensorflow datasets\n",
    "train_data = df_to_dataset(train)\n",
    "valid_data = df_to_dataset(val)\n",
    "test_data = df_to_dataset(test)"
   ],
   "metadata": {
    "collapsed": false,
    "pycharm": {
     "name": "#%%\n"
    }
   }
  },
  {
   "cell_type": "code",
   "execution_count": 103,
   "outputs": [],
   "source": [
    "encoder = tf.keras.layers.TextVectorization(max_tokens=2000)\n",
    "encoder.adapt(train_data.map(lambda text, label: text))"
   ],
   "metadata": {
    "collapsed": false,
    "pycharm": {
     "name": "#%%\n"
    }
   }
  },
  {
   "cell_type": "code",
   "execution_count": 105,
   "outputs": [
    {
     "data": {
      "text/plain": "array(['', '[UNK]', 'company', 'service', 'product'], dtype='<U18')"
     },
     "execution_count": 105,
     "metadata": {},
     "output_type": "execute_result"
    }
   ],
   "source": [
    "# [UNK] is for unknown tokens\n",
    "vocab = np.array(encoder.get_vocabulary())\n",
    "vocab[:5]"
   ],
   "metadata": {
    "collapsed": false,
    "pycharm": {
     "name": "#%%\n"
    }
   }
  },
  {
   "cell_type": "code",
   "execution_count": 122,
   "outputs": [],
   "source": [
    "model = tf.keras.Sequential([\n",
    "    encoder,\n",
    "    tf.keras.layers.Embedding(input_dim=len(encoder.get_vocabulary()), output_dim=32, mask_zero=True),\n",
    "    tf.keras.layers.LSTM(32),\n",
    "    tf.keras.layers.Dense(32, activation='relu', kernel_regularizer=regularizers.l2(0.01)),\n",
    "    # tf.keras.layers.Dropout(0.4),\n",
    "    tf.keras.layers.Dense(11, activation='softmax')\n",
    "])"
   ],
   "metadata": {
    "collapsed": false,
    "pycharm": {
     "name": "#%%\n"
    }
   }
  },
  {
   "cell_type": "code",
   "execution_count": 123,
   "outputs": [],
   "source": [
    "model.compile(optimizer=tf.keras.optimizers.Adam(learning_rate=0.001),\n",
    "              loss='sparse_categorical_crossentropy',\n",
    "              metrics=['accuracy'])\n",
    "\n",
    "# es = EarlyStopping(patience=4, verbose=1, restore_best_weights=True)"
   ],
   "metadata": {
    "collapsed": false,
    "pycharm": {
     "name": "#%%\n"
    }
   }
  },
  {
   "cell_type": "code",
   "execution_count": 124,
   "outputs": [
    {
     "name": "stdout",
     "output_type": "stream",
     "text": [
      "Epoch 1/20\n",
      "123/123 [==============================] - 11s 67ms/step - loss: 2.2431 - accuracy: 0.2655 - val_loss: 2.2708 - val_accuracy: 0.2330\n",
      "Epoch 2/20\n",
      "123/123 [==============================] - 7s 60ms/step - loss: 1.7249 - accuracy: 0.4015 - val_loss: 1.9601 - val_accuracy: 0.3060\n",
      "Epoch 3/20\n",
      "123/123 [==============================] - 7s 59ms/step - loss: 1.4030 - accuracy: 0.5252 - val_loss: 1.7297 - val_accuracy: 0.4286\n",
      "Epoch 4/20\n",
      "123/123 [==============================] - 7s 59ms/step - loss: 1.2310 - accuracy: 0.5847 - val_loss: 1.6490 - val_accuracy: 0.4732\n",
      "Epoch 5/20\n",
      "123/123 [==============================] - 7s 59ms/step - loss: 1.1563 - accuracy: 0.6154 - val_loss: 1.5995 - val_accuracy: 0.4853\n",
      "Epoch 6/20\n",
      "123/123 [==============================] - 7s 60ms/step - loss: 1.1012 - accuracy: 0.6272 - val_loss: 1.5628 - val_accuracy: 0.5056\n",
      "Epoch 7/20\n",
      "123/123 [==============================] - 7s 60ms/step - loss: 1.0116 - accuracy: 0.6645 - val_loss: 1.4801 - val_accuracy: 0.5268\n",
      "Epoch 8/20\n",
      "123/123 [==============================] - 7s 60ms/step - loss: 0.9192 - accuracy: 0.6872 - val_loss: 1.6367 - val_accuracy: 0.5147\n",
      "Epoch 9/20\n",
      "123/123 [==============================] - 7s 60ms/step - loss: 0.8848 - accuracy: 0.7084 - val_loss: 1.4502 - val_accuracy: 0.5735\n",
      "Epoch 10/20\n",
      "123/123 [==============================] - 7s 60ms/step - loss: 0.7984 - accuracy: 0.7487 - val_loss: 1.5671 - val_accuracy: 0.5826\n",
      "Epoch 11/20\n",
      "123/123 [==============================] - 7s 60ms/step - loss: 0.7651 - accuracy: 0.7629 - val_loss: 1.3319 - val_accuracy: 0.6241\n",
      "Epoch 12/20\n",
      "123/123 [==============================] - 7s 60ms/step - loss: 0.7255 - accuracy: 0.7801 - val_loss: 1.4068 - val_accuracy: 0.6109\n",
      "Epoch 13/20\n",
      "123/123 [==============================] - 7s 61ms/step - loss: 0.7481 - accuracy: 0.7734 - val_loss: 1.3646 - val_accuracy: 0.5755\n",
      "Epoch 14/20\n",
      "123/123 [==============================] - 7s 60ms/step - loss: 0.6736 - accuracy: 0.7995 - val_loss: 1.5767 - val_accuracy: 0.5684\n",
      "Epoch 15/20\n",
      "123/123 [==============================] - 8s 62ms/step - loss: 0.6642 - accuracy: 0.8108 - val_loss: 1.4485 - val_accuracy: 0.6170\n",
      "Epoch 16/20\n",
      "123/123 [==============================] - 7s 61ms/step - loss: 0.6150 - accuracy: 0.8285 - val_loss: 1.4602 - val_accuracy: 0.6170\n",
      "Epoch 17/20\n",
      "123/123 [==============================] - 8s 61ms/step - loss: 0.6000 - accuracy: 0.8363 - val_loss: 1.7496 - val_accuracy: 0.5147\n",
      "Epoch 18/20\n",
      "123/123 [==============================] - 7s 60ms/step - loss: 0.6056 - accuracy: 0.8331 - val_loss: 1.4868 - val_accuracy: 0.6150\n",
      "Epoch 19/20\n",
      "123/123 [==============================] - 7s 60ms/step - loss: 0.5581 - accuracy: 0.8444 - val_loss: 1.5643 - val_accuracy: 0.5572\n",
      "Epoch 20/20\n",
      "123/123 [==============================] - 7s 60ms/step - loss: 0.5884 - accuracy: 0.8258 - val_loss: 1.3642 - val_accuracy: 0.6383\n"
     ]
    }
   ],
   "source": [
    "# train the model and use early stopping\n",
    "history = model.fit(train_data,\n",
    "                    validation_data=valid_data,\n",
    "                    epochs=20,\n",
    "                    # callbacks=[es]\n",
    "                    )"
   ],
   "metadata": {
    "collapsed": false,
    "pycharm": {
     "name": "#%%\n"
    }
   }
  },
  {
   "cell_type": "code",
   "execution_count": 125,
   "outputs": [
    {
     "data": {
      "text/plain": "<Figure size 432x288 with 1 Axes>",
      "image/png": "[encoded data removed]"
     },
     "metadata": {
      "needs_background": "light"
     },
     "output_type": "display_data"
    }
   ],
   "source": [
    "plt.plot(history.history['accuracy'], label=\"Training acc\")\n",
    "plt.plot(history.history['val_accuracy'], label=\"Validation acc\")\n",
    "plt.title(\"Accuracy of model\")\n",
    "plt.ylabel(\"Accuracy\")\n",
    "plt.xlabel(\"Epoch\")\n",
    "plt.legend()\n",
    "plt.show()"
   ],
   "metadata": {
    "collapsed": false,
    "pycharm": {
     "name": "#%%\n"
    }
   }
  },
  {
   "cell_type": "code",
   "execution_count": 126,
   "outputs": [
    {
     "data": {
      "text/plain": "<Figure size 432x288 with 1 Axes>",
      "image/png": "[encoded data removed]"
     },
     "metadata": {
      "needs_background": "light"
     },
     "output_type": "display_data"
    }
   ],
   "source": [
    "plt.plot(history.history['loss'], label=\"Training acc\")\n",
    "plt.plot(history.history['val_loss'], label=\"Validation acc\")\n",
    "plt.title(\"Loss of model\")\n",
    "plt.ylabel(\"Loss\")\n",
    "plt.xlabel(\"Epoch\")\n",
    "plt.legend()\n",
    "plt.show()"
   ],
   "metadata": {
    "collapsed": false,
    "pycharm": {
     "name": "#%%\n"
    }
   }
  },
  {
   "cell_type": "code",
   "execution_count": 127,
   "outputs": [
    {
     "name": "stdout",
     "output_type": "stream",
     "text": [
      "16/16 [==============================] - 0s 20ms/step - loss: 1.1965 - accuracy: 0.6789\n"
     ]
    },
    {
     "data": {
      "text/plain": "[1.1964659690856934, 0.6788991093635559]"
     },
     "execution_count": 127,
     "metadata": {},
     "output_type": "execute_result"
    }
   ],
   "source": [
    "model.evaluate(test_data)"
   ],
   "metadata": {
    "collapsed": false,
    "pycharm": {
     "name": "#%%\n"
    }
   }
  },
  {
   "cell_type": "code",
   "execution_count": null,
   "outputs": [],
   "source": [],
   "metadata": {
    "collapsed": false,
    "pycharm": {
     "name": "#%%\n"
    }
   }
  }
 ],
 "metadata": {
  "kernelspec": {
   "display_name": "Python 3",
   "language": "python",
   "name": "python3"
  },
  "language_info": {
   "codemirror_mode": {
    "name": "ipython",
    "version": 2
   },
   "file_extension": ".py",
   "mimetype": "text/x-python",
   "name": "python",
   "nbconvert_exporter": "python",
   "pygments_lexer": "ipython2",
   "version": "2.7.6"
  }
 },
 "nbformat": 4,
 "nbformat_minor": 0
}