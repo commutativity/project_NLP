{
 "cells": [
  {
   "cell_type": "markdown",
   "source": [
    "## Long Short-Term Memory (LSTM)\n",
    "The LSTM Model is only run on the preprocessed data"
   ],
   "metadata": {
    "collapsed": false,
    "pycharm": {
     "name": "#%% md\n"
    }
   }
  },
  {
   "cell_type": "code",
   "execution_count": 41,
   "outputs": [],
   "source": [
    "import numpy as np\n",
    "import pandas as pd\n",
    "import matplotlib.pyplot as plt\n",
    "\n",
    "import tensorflow as tf\n",
    "import tensorflow_hub as hub\n",
    "from tensorflow.keras.layers import Dense\n",
    "from tensorflow.keras.callbacks import EarlyStopping\n",
    "from tensorflow.keras import regularizers\n",
    "\n",
    "from sklearn.metrics import confusion_matrix, ConfusionMatrixDisplay\n",
    "from sklearn.metrics import accuracy_score"
   ],
   "metadata": {
    "collapsed": false,
    "pycharm": {
     "name": "#%%\n"
    }
   }
  },
  {
   "cell_type": "code",
   "execution_count": 42,
   "outputs": [],
   "source": [
    "def df_to_dataset(dataframe, column, shuffle=True, batch_size=64):\n",
    "    \"\"\"Convert the Pandas' dataset into a tensorflow dataset and shuffle and batch the entries.\"\"\"\n",
    "    df = dataframe.copy()\n",
    "    code = df.pop('code')\n",
    "    df = dataframe[f'{column}']\n",
    "    ds = tf.data.Dataset.from_tensor_slices((df, code))\n",
    "    if shuffle:\n",
    "        ds = ds.shuffle(buffer_size=len(dataframe))\n",
    "    ds = ds.batch(batch_size)\n",
    "    return ds"
   ],
   "metadata": {
    "collapsed": false,
    "pycharm": {
     "name": "#%%\n"
    }
   }
  },
  {
   "cell_type": "markdown",
   "source": [
    "### Dataset with normal sentences"
   ],
   "metadata": {
    "collapsed": false,
    "pycharm": {
     "name": "#%% md\n"
    }
   }
  },
  {
   "cell_type": "code",
   "execution_count": 43,
   "outputs": [
    {
     "data": {
      "text/plain": "                                         description                  sector  \\\n0  Adara Acquisition Corp. does not have signific...      Financial Services   \n1  AIM ImmunoTech Inc., an immuno-pharma company,...              Healthcare   \n2  Ashford, Inc is an asset management firm. The ...      Financial Services   \n3  The Arena Group Holdings, Inc., together with ...  Communication Services   \n4  AMCON Distributing Company, together with its ...      Consumer Defensive   \n\n   code  \n0     5  \n1     6  \n2     5  \n3     1  \n4     3  ",
      "text/html": "<div>\n<style scoped>\n    .dataframe tbody tr th:only-of-type {\n        vertical-align: middle;\n    }\n\n    .dataframe tbody tr th {\n        vertical-align: top;\n    }\n\n    .dataframe thead th {\n        text-align: right;\n    }\n</style>\n<table border=\"1\" class=\"dataframe\">\n  <thead>\n    <tr style=\"text-align: right;\">\n      <th></th>\n      <th>description</th>\n      <th>sector</th>\n      <th>code</th>\n    </tr>\n  </thead>\n  <tbody>\n    <tr>\n      <th>0</th>\n      <td>Adara Acquisition Corp. does not have signific...</td>\n      <td>Financial Services</td>\n      <td>5</td>\n    </tr>\n    <tr>\n      <th>1</th>\n      <td>AIM ImmunoTech Inc., an immuno-pharma company,...</td>\n      <td>Healthcare</td>\n      <td>6</td>\n    </tr>\n    <tr>\n      <th>2</th>\n      <td>Ashford, Inc is an asset management firm. The ...</td>\n      <td>Financial Services</td>\n      <td>5</td>\n    </tr>\n    <tr>\n      <th>3</th>\n      <td>The Arena Group Holdings, Inc., together with ...</td>\n      <td>Communication Services</td>\n      <td>1</td>\n    </tr>\n    <tr>\n      <th>4</th>\n      <td>AMCON Distributing Company, together with its ...</td>\n      <td>Consumer Defensive</td>\n      <td>3</td>\n    </tr>\n  </tbody>\n</table>\n</div>"
     },
     "execution_count": 43,
     "metadata": {},
     "output_type": "execute_result"
    }
   ],
   "source": [
    "df = pd.read_json('..\\\\06_data_prep.json')\n",
    "df.sector = pd.Categorical(df.sector)\n",
    "df['code'] = df.sector.cat.codes\n",
    "df.head()"
   ],
   "metadata": {
    "collapsed": false,
    "pycharm": {
     "name": "#%%\n"
    }
   }
  },
  {
   "cell_type": "code",
   "execution_count": 44,
   "outputs": [],
   "source": [
    "# stratify the sectors evenly onto train, val and test dataset\n",
    "grouped_df = df.groupby('sector')\n",
    "arr_list = [np.split(g, [int(.8 * len(g)), int(.9 * len(g))]) for i, g in grouped_df]\n",
    "train = pd.concat([t[0] for t in arr_list])\n",
    "val = pd.concat([v[2] for v in arr_list])\n",
    "test = pd.concat([t[1] for t in arr_list])"
   ],
   "metadata": {
    "collapsed": false,
    "pycharm": {
     "name": "#%%\n"
    }
   }
  },
  {
   "cell_type": "code",
   "execution_count": 45,
   "outputs": [],
   "source": [
    "column = 'description'\n",
    "\n",
    "train_data = df_to_dataset(train, column)\n",
    "valid_data = df_to_dataset(val, column)\n",
    "test_data = df_to_dataset(test, column)"
   ],
   "metadata": {
    "collapsed": false,
    "pycharm": {
     "name": "#%%\n"
    }
   }
  },
  {
   "cell_type": "code",
   "execution_count": 47,
   "outputs": [],
   "source": [
    "encoder = tf.keras.layers.TextVectorization(max_tokens=2000)\n",
    "encoder.adapt(train_data.map(lambda text, label: text))"
   ],
   "metadata": {
    "collapsed": false,
    "pycharm": {
     "name": "#%%\n"
    }
   }
  },
  {
   "cell_type": "code",
   "execution_count": 48,
   "outputs": [
    {
     "data": {
      "text/plain": "array(['', '[UNK]', 'and', 'the', 'in'], dtype='<U18')"
     },
     "execution_count": 48,
     "metadata": {},
     "output_type": "execute_result"
    }
   ],
   "source": [
    "# [UNK] is for unknown tokens\n",
    "vocab = np.array(encoder.get_vocabulary())\n",
    "vocab[:5]"
   ],
   "metadata": {
    "collapsed": false,
    "pycharm": {
     "name": "#%%\n"
    }
   }
  },
  {
   "cell_type": "code",
   "execution_count": 49,
   "outputs": [],
   "source": [
    "model = tf.keras.Sequential([\n",
    "    encoder,\n",
    "    tf.keras.layers.Embedding(input_dim=len(encoder.get_vocabulary()), output_dim=32, mask_zero=True),\n",
    "    tf.keras.layers.LSTM(32),\n",
    "    tf.keras.layers.Dense(32, activation='relu', kernel_regularizer=regularizers.l2(0.01)),\n",
    "    # tf.keras.layers.Dropout(0.4),\n",
    "    tf.keras.layers.Dense(11, activation='softmax')\n",
    "])"
   ],
   "metadata": {
    "collapsed": false,
    "pycharm": {
     "name": "#%%\n"
    }
   }
  },
  {
   "cell_type": "code",
   "execution_count": 50,
   "outputs": [],
   "source": [
    "model.compile(optimizer=tf.keras.optimizers.Adam(learning_rate=0.001),\n",
    "              loss='sparse_categorical_crossentropy',\n",
    "              metrics=['accuracy'])\n",
    "\n",
    "# es = EarlyStopping(patience=4, verbose=1, restore_best_weights=True)"
   ],
   "metadata": {
    "collapsed": false,
    "pycharm": {
     "name": "#%%\n"
    }
   }
  },
  {
   "cell_type": "code",
   "execution_count": 51,
   "outputs": [
    {
     "name": "stdout",
     "output_type": "stream",
     "text": [
      "Epoch 1/20\n",
      "123/123 [==============================] - 11s 71ms/step - loss: 2.3493 - accuracy: 0.2519 - val_loss: 2.2564 - val_accuracy: 0.1700\n",
      "Epoch 2/20\n",
      "123/123 [==============================] - 8s 68ms/step - loss: 2.0602 - accuracy: 0.3174 - val_loss: 2.2044 - val_accuracy: 0.1700\n",
      "Epoch 3/20\n",
      "123/123 [==============================] - 8s 66ms/step - loss: 1.7665 - accuracy: 0.4105 - val_loss: 1.9273 - val_accuracy: 0.3036\n",
      "Epoch 4/20\n",
      "123/123 [==============================] - 8s 67ms/step - loss: 1.5009 - accuracy: 0.4811 - val_loss: 1.7684 - val_accuracy: 0.3745\n",
      "Epoch 5/20\n",
      "123/123 [==============================] - 8s 66ms/step - loss: 1.4268 - accuracy: 0.5181 - val_loss: 1.7114 - val_accuracy: 0.3998\n",
      "Epoch 6/20\n",
      "123/123 [==============================] - 8s 65ms/step - loss: 1.4127 - accuracy: 0.5038 - val_loss: 1.7246 - val_accuracy: 0.3512\n",
      "Epoch 7/20\n",
      "123/123 [==============================] - 8s 68ms/step - loss: 1.3885 - accuracy: 0.5228 - val_loss: 1.6716 - val_accuracy: 0.4433\n",
      "Epoch 8/20\n",
      "123/123 [==============================] - 9s 71ms/step - loss: 1.2162 - accuracy: 0.5925 - val_loss: 1.5455 - val_accuracy: 0.5051\n",
      "Epoch 9/20\n",
      "123/123 [==============================] - 9s 71ms/step - loss: 1.1106 - accuracy: 0.6365 - val_loss: 1.5708 - val_accuracy: 0.5000\n",
      "Epoch 10/20\n",
      "123/123 [==============================] - 9s 70ms/step - loss: 1.0690 - accuracy: 0.6461 - val_loss: 1.5067 - val_accuracy: 0.5253\n",
      "Epoch 11/20\n",
      "123/123 [==============================] - 9s 72ms/step - loss: 1.0417 - accuracy: 0.6523 - val_loss: 1.5014 - val_accuracy: 0.5263\n",
      "Epoch 12/20\n",
      "123/123 [==============================] - 9s 73ms/step - loss: 1.0192 - accuracy: 0.6646 - val_loss: 1.4387 - val_accuracy: 0.5324\n",
      "Epoch 13/20\n",
      "123/123 [==============================] - 9s 73ms/step - loss: 0.9541 - accuracy: 0.6890 - val_loss: 1.5760 - val_accuracy: 0.5182\n",
      "Epoch 14/20\n",
      "123/123 [==============================] - 9s 72ms/step - loss: 0.9310 - accuracy: 0.7030 - val_loss: 1.4767 - val_accuracy: 0.5415\n",
      "Epoch 15/20\n",
      "123/123 [==============================] - 8s 65ms/step - loss: 0.9029 - accuracy: 0.7159 - val_loss: 1.4667 - val_accuracy: 0.5516\n",
      "Epoch 16/20\n",
      "123/123 [==============================] - 9s 70ms/step - loss: 0.8885 - accuracy: 0.7203 - val_loss: 2.0083 - val_accuracy: 0.4261\n",
      "Epoch 17/20\n",
      "123/123 [==============================] - 9s 72ms/step - loss: 0.8751 - accuracy: 0.7250 - val_loss: 1.6286 - val_accuracy: 0.5152\n",
      "Epoch 18/20\n",
      "123/123 [==============================] - 9s 72ms/step - loss: 0.8805 - accuracy: 0.7229 - val_loss: 1.4733 - val_accuracy: 0.5547\n",
      "Epoch 19/20\n",
      "123/123 [==============================] - 9s 72ms/step - loss: 0.8385 - accuracy: 0.7473 - val_loss: 1.5069 - val_accuracy: 0.5668\n",
      "Epoch 20/20\n",
      "123/123 [==============================] - 8s 67ms/step - loss: 0.7794 - accuracy: 0.7657 - val_loss: 1.4372 - val_accuracy: 0.5951\n"
     ]
    }
   ],
   "source": [
    "# train the model and use early stopping\n",
    "history = model.fit(train_data,\n",
    "                    validation_data=valid_data,\n",
    "                    epochs=20,\n",
    "                    # callbacks=[es]\n",
    "                    )"
   ],
   "metadata": {
    "collapsed": false,
    "pycharm": {
     "name": "#%%\n"
    }
   }
  },
  {
   "cell_type": "code",
   "execution_count": 52,
   "outputs": [
    {
     "data": {
      "text/plain": "<Figure size 432x288 with 1 Axes>",
      "image/png": "[encoded data removed]"
     },
     "metadata": {
      "needs_background": "light"
     },
     "output_type": "display_data"
    }
   ],
   "source": [
    "plt.plot(history.history['accuracy'], label=\"Training acc\")\n",
    "plt.plot(history.history['val_accuracy'], label=\"Validation acc\")\n",
    "plt.title(\"Accuracy of model\")\n",
    "plt.ylabel(\"Accuracy\")\n",
    "plt.xlabel(\"Epoch\")\n",
    "plt.legend()\n",
    "plt.show()"
   ],
   "metadata": {
    "collapsed": false,
    "pycharm": {
     "name": "#%%\n"
    }
   }
  },
  {
   "cell_type": "code",
   "execution_count": 53,
   "outputs": [
    {
     "data": {
      "text/plain": "<Figure size 432x288 with 1 Axes>",
      "image/png": "[encoded data removed]"
     },
     "metadata": {
      "needs_background": "light"
     },
     "output_type": "display_data"
    }
   ],
   "source": [
    "plt.plot(history.history['loss'], label=\"Training acc\")\n",
    "plt.plot(history.history['val_loss'], label=\"Validation acc\")\n",
    "plt.title(\"Loss of model\")\n",
    "plt.ylabel(\"Loss\")\n",
    "plt.xlabel(\"Epoch\")\n",
    "plt.legend()\n",
    "plt.show()"
   ],
   "metadata": {
    "collapsed": false,
    "pycharm": {
     "name": "#%%\n"
    }
   }
  },
  {
   "cell_type": "code",
   "execution_count": 54,
   "outputs": [
    {
     "name": "stdout",
     "output_type": "stream",
     "text": [
      "16/16 [==============================] - 0s 21ms/step - loss: 1.3218 - accuracy: 0.6191\n"
     ]
    },
    {
     "data": {
      "text/plain": "[1.3217673301696777, 0.6191446185112]"
     },
     "execution_count": 54,
     "metadata": {},
     "output_type": "execute_result"
    }
   ],
   "source": [
    "model.evaluate(test_data)"
   ],
   "metadata": {
    "collapsed": false,
    "pycharm": {
     "name": "#%%\n"
    }
   }
  },
  {
   "cell_type": "markdown",
   "source": [
    "### Dataset without stopwords and lemmatization"
   ],
   "metadata": {
    "collapsed": false,
    "pycharm": {
     "name": "#%% md\n"
    }
   }
  },
  {
   "cell_type": "code",
   "execution_count": 31,
   "outputs": [
    {
     "data": {
      "text/plain": "                              explicit_lemmatization                  sector  \\\n0  significant operation company intend effect me...      Financial Services   \n1  immuno pharma company focus research developme...              Healthcare   \n2  Ashford Inc asset management firm firm provide...      Financial Services   \n3  subsidiary operate digital medium platform Uni...  Communication Services   \n4  subsidiary engage wholesale distribution consu...      Consumer Defensive   \n\n   code  \n0     5  \n1     6  \n2     5  \n3     1  \n4     3  ",
      "text/html": "<div>\n<style scoped>\n    .dataframe tbody tr th:only-of-type {\n        vertical-align: middle;\n    }\n\n    .dataframe tbody tr th {\n        vertical-align: top;\n    }\n\n    .dataframe thead th {\n        text-align: right;\n    }\n</style>\n<table border=\"1\" class=\"dataframe\">\n  <thead>\n    <tr style=\"text-align: right;\">\n      <th></th>\n      <th>explicit_lemmatization</th>\n      <th>sector</th>\n      <th>code</th>\n    </tr>\n  </thead>\n  <tbody>\n    <tr>\n      <th>0</th>\n      <td>significant operation company intend effect me...</td>\n      <td>Financial Services</td>\n      <td>5</td>\n    </tr>\n    <tr>\n      <th>1</th>\n      <td>immuno pharma company focus research developme...</td>\n      <td>Healthcare</td>\n      <td>6</td>\n    </tr>\n    <tr>\n      <th>2</th>\n      <td>Ashford Inc asset management firm firm provide...</td>\n      <td>Financial Services</td>\n      <td>5</td>\n    </tr>\n    <tr>\n      <th>3</th>\n      <td>subsidiary operate digital medium platform Uni...</td>\n      <td>Communication Services</td>\n      <td>1</td>\n    </tr>\n    <tr>\n      <th>4</th>\n      <td>subsidiary engage wholesale distribution consu...</td>\n      <td>Consumer Defensive</td>\n      <td>3</td>\n    </tr>\n  </tbody>\n</table>\n</div>"
     },
     "execution_count": 31,
     "metadata": {},
     "output_type": "execute_result"
    }
   ],
   "source": [
    "column = 'explicit_lemmatization'\n",
    "\n",
    "df = pd.read_json('..\\\\Unternehmen_preprocessed.json')\n",
    "df = df[['explicit_lemmatization', 'sector']]\n",
    "df.sector = pd.Categorical(df.sector)\n",
    "df['code'] = df.sector.cat.codes\n",
    "df.head()"
   ],
   "metadata": {
    "collapsed": false,
    "pycharm": {
     "name": "#%%\n"
    }
   }
  },
  {
   "cell_type": "code",
   "execution_count": 34,
   "outputs": [],
   "source": [
    "# stratify the sectors evenly onto train, val and test dataset\n",
    "grouped_df = df.groupby('sector')\n",
    "arr_list = [np.split(g, [int(.8 * len(g)), int(.9 * len(g))]) for i, g in grouped_df]\n",
    "train = pd.concat([t[0] for t in arr_list])\n",
    "val = pd.concat([v[2] for v in arr_list])\n",
    "test = pd.concat([t[1] for t in arr_list])"
   ],
   "metadata": {
    "collapsed": false,
    "pycharm": {
     "name": "#%%\n"
    }
   }
  },
  {
   "cell_type": "code",
   "execution_count": 35,
   "outputs": [],
   "source": [
    "train_data = df_to_dataset(train, column)\n",
    "valid_data = df_to_dataset(val, column)\n",
    "test_data = df_to_dataset(test, column)"
   ],
   "metadata": {
    "collapsed": false,
    "pycharm": {
     "name": "#%%\n"
    }
   }
  },
  {
   "cell_type": "code",
   "execution_count": 19,
   "outputs": [],
   "source": [
    "encoder = tf.keras.layers.TextVectorization(max_tokens=2000)\n",
    "encoder.adapt(train_data.map(lambda text, label: text))"
   ],
   "metadata": {
    "collapsed": false,
    "pycharm": {
     "name": "#%%\n"
    }
   }
  },
  {
   "cell_type": "code",
   "execution_count": 20,
   "outputs": [],
   "source": [
    "model_lemma = tf.keras.Sequential([\n",
    "    encoder,\n",
    "    tf.keras.layers.Embedding(input_dim=len(encoder.get_vocabulary()), output_dim=32, mask_zero=True),\n",
    "    tf.keras.layers.LSTM(32),\n",
    "    tf.keras.layers.Dense(32, activation='relu', kernel_regularizer=regularizers.l2(0.01)),\n",
    "    # tf.keras.layers.Dropout(0.4),\n",
    "    tf.keras.layers.Dense(11, activation='softmax')\n",
    "])"
   ],
   "metadata": {
    "collapsed": false,
    "pycharm": {
     "name": "#%%\n"
    }
   }
  },
  {
   "cell_type": "code",
   "execution_count": 21,
   "outputs": [],
   "source": [
    "model_lemma.compile(optimizer=tf.keras.optimizers.Adam(learning_rate=0.001),\n",
    "              loss='sparse_categorical_crossentropy',\n",
    "              metrics=['accuracy'])\n",
    "\n",
    "# es = EarlyStopping(patience=4, verbose=1, restore_best_weights=True)"
   ],
   "metadata": {
    "collapsed": false,
    "pycharm": {
     "name": "#%%\n"
    }
   }
  },
  {
   "cell_type": "code",
   "execution_count": 22,
   "outputs": [
    {
     "name": "stdout",
     "output_type": "stream",
     "text": [
      "Epoch 1/20\n",
      "123/123 [==============================] - 5s 44ms/step - loss: 2.4428 - accuracy: 0.2322 - val_loss: 2.1496 - val_accuracy: 0.2665\n",
      "Epoch 2/20\n",
      "123/123 [==============================] - 5s 43ms/step - loss: 2.1796 - accuracy: 0.2548 - val_loss: 2.1409 - val_accuracy: 0.2472\n",
      "Epoch 3/20\n",
      "123/123 [==============================] - 5s 43ms/step - loss: 2.1282 - accuracy: 0.2653 - val_loss: 2.0779 - val_accuracy: 0.2705\n",
      "Epoch 4/20\n",
      "123/123 [==============================] - 5s 43ms/step - loss: 2.0498 - accuracy: 0.2950 - val_loss: 2.0442 - val_accuracy: 0.2725\n",
      "Epoch 5/20\n",
      "123/123 [==============================] - 5s 43ms/step - loss: 1.9758 - accuracy: 0.3280 - val_loss: 1.9845 - val_accuracy: 0.2918\n",
      "Epoch 6/20\n",
      "123/123 [==============================] - 5s 43ms/step - loss: 1.9573 - accuracy: 0.3272 - val_loss: 1.9510 - val_accuracy: 0.2989\n",
      "Epoch 7/20\n",
      "123/123 [==============================] - 5s 43ms/step - loss: 1.9296 - accuracy: 0.3416 - val_loss: 1.9427 - val_accuracy: 0.3141\n",
      "Epoch 8/20\n",
      "123/123 [==============================] - 6s 45ms/step - loss: 1.9104 - accuracy: 0.3442 - val_loss: 1.9501 - val_accuracy: 0.3131\n",
      "Epoch 9/20\n",
      "123/123 [==============================] - 5s 43ms/step - loss: 1.8998 - accuracy: 0.3522 - val_loss: 1.9464 - val_accuracy: 0.3273\n",
      "Epoch 10/20\n",
      "123/123 [==============================] - 5s 44ms/step - loss: 1.8836 - accuracy: 0.3587 - val_loss: 1.9480 - val_accuracy: 0.3323\n",
      "Epoch 11/20\n",
      "123/123 [==============================] - 5s 44ms/step - loss: 1.8754 - accuracy: 0.3613 - val_loss: 1.9232 - val_accuracy: 0.3475\n",
      "Epoch 12/20\n",
      "123/123 [==============================] - 5s 43ms/step - loss: 1.8626 - accuracy: 0.3624 - val_loss: 1.9041 - val_accuracy: 0.3394\n",
      "Epoch 13/20\n",
      "123/123 [==============================] - 5s 43ms/step - loss: 1.8472 - accuracy: 0.3756 - val_loss: 1.8926 - val_accuracy: 0.3455\n",
      "Epoch 14/20\n",
      "123/123 [==============================] - 6s 45ms/step - loss: 1.8331 - accuracy: 0.3731 - val_loss: 1.8913 - val_accuracy: 0.3516\n",
      "Epoch 15/20\n",
      "123/123 [==============================] - 5s 44ms/step - loss: 1.8200 - accuracy: 0.3822 - val_loss: 1.8752 - val_accuracy: 0.3526\n",
      "Epoch 16/20\n",
      "123/123 [==============================] - 5s 43ms/step - loss: 1.8068 - accuracy: 0.3881 - val_loss: 1.8621 - val_accuracy: 0.3516\n",
      "Epoch 17/20\n",
      "123/123 [==============================] - 5s 43ms/step - loss: 1.7986 - accuracy: 0.3914 - val_loss: 1.8529 - val_accuracy: 0.3587\n",
      "Epoch 18/20\n",
      "123/123 [==============================] - 5s 43ms/step - loss: 1.7878 - accuracy: 0.3958 - val_loss: 1.8566 - val_accuracy: 0.3647\n",
      "Epoch 19/20\n",
      "123/123 [==============================] - 5s 43ms/step - loss: 1.7858 - accuracy: 0.3950 - val_loss: 1.8376 - val_accuracy: 0.3627\n",
      "Epoch 20/20\n",
      "123/123 [==============================] - 5s 43ms/step - loss: 1.7750 - accuracy: 0.3987 - val_loss: 1.8406 - val_accuracy: 0.3668\n"
     ]
    }
   ],
   "source": [
    "# train the model and use early stopping\n",
    "history_lemma = model.fit(train_data,\n",
    "                    validation_data=valid_data,\n",
    "                    epochs=20,\n",
    "                    # callbacks=[es]\n",
    "                    )"
   ],
   "metadata": {
    "collapsed": false,
    "pycharm": {
     "name": "#%%\n"
    }
   }
  },
  {
   "cell_type": "code",
   "execution_count": 23,
   "outputs": [
    {
     "data": {
      "text/plain": "<Figure size 432x288 with 1 Axes>",
      "image/png": "[encoded data removed]"
     },
     "metadata": {
      "needs_background": "light"
     },
     "output_type": "display_data"
    }
   ],
   "source": [
    "plt.plot(history_lemma.history['accuracy'], label=\"Training acc\")\n",
    "plt.plot(history_lemma.history['val_accuracy'], label=\"Validation acc\")\n",
    "plt.title(\"Accuracy of model\")\n",
    "plt.ylabel(\"Accuracy\")\n",
    "plt.xlabel(\"Epoch\")\n",
    "plt.legend()\n",
    "plt.show()"
   ],
   "metadata": {
    "collapsed": false,
    "pycharm": {
     "name": "#%%\n"
    }
   }
  },
  {
   "cell_type": "code",
   "execution_count": 24,
   "outputs": [
    {
     "data": {
      "text/plain": "<Figure size 432x288 with 1 Axes>",
      "image/png": "[encoded data removed]"
     },
     "metadata": {
      "needs_background": "light"
     },
     "output_type": "display_data"
    }
   ],
   "source": [
    "plt.plot(history_lemma.history['loss'], label=\"Training acc\")\n",
    "plt.plot(history_lemma.history['val_loss'], label=\"Validation acc\")\n",
    "plt.title(\"Loss of model\")\n",
    "plt.ylabel(\"Loss\")\n",
    "plt.xlabel(\"Epoch\")\n",
    "plt.legend()\n",
    "plt.show()"
   ],
   "metadata": {
    "collapsed": false,
    "pycharm": {
     "name": "#%%\n"
    }
   }
  },
  {
   "cell_type": "code",
   "execution_count": 25,
   "outputs": [
    {
     "name": "stdout",
     "output_type": "stream",
     "text": [
      "16/16 [==============================] - 1s 13ms/step - loss: 2.7177 - accuracy: 0.0866\n"
     ]
    },
    {
     "data": {
      "text/plain": "[2.717738389968872, 0.08664628118276596]"
     },
     "execution_count": 25,
     "metadata": {},
     "output_type": "execute_result"
    }
   ],
   "source": [
    "model_lemma.evaluate(test_data)"
   ],
   "metadata": {
    "collapsed": false,
    "pycharm": {
     "name": "#%%\n"
    }
   }
  },
  {
   "cell_type": "code",
   "execution_count": 25,
   "outputs": [],
   "source": [],
   "metadata": {
    "collapsed": false,
    "pycharm": {
     "name": "#%%\n"
    }
   }
  }
 ],
 "metadata": {
  "kernelspec": {
   "display_name": "Python 3",
   "language": "python",
   "name": "python3"
  },
  "language_info": {
   "codemirror_mode": {
    "name": "ipython",
    "version": 2
   },
   "file_extension": ".py",
   "mimetype": "text/x-python",
   "name": "python",
   "nbconvert_exporter": "python",
   "pygments_lexer": "ipython2",
   "version": "2.7.6"
  }
 },
 "nbformat": 4,
 "nbformat_minor": 0
}