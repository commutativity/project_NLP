{
 "cells": [
  {
   "cell_type": "code",
   "execution_count": 1,
   "id": "53719161",
   "metadata": {
    "ExecuteTime": {
     "end_time": "2022-08-20T09:56:46.387921Z",
     "start_time": "2022-08-20T09:56:44.594207Z"
    }
   },
   "outputs": [],
   "source": [
    "import json, os\n",
    "import numpy as np\n",
    "import pandas as pd\n",
    "import matplotlib.pyplot as plt\n",
    "\n",
    "from sklearn.feature_extraction.text import TfidfVectorizer\n",
    "from sklearn.feature_extraction.text import CountVectorizer\n",
    "\n",
    "from sklearn.neighbors import  NearestCentroid\n",
    "from sklearn.neighbors import KNeighborsClassifier\n",
    "from sklearn.ensemble import RandomForestClassifier\n",
    "\n",
    "from sklearn.model_selection import train_test_split"
   ]
  },
  {
   "cell_type": "markdown",
   "id": "89e44306",
   "metadata": {},
   "source": [
    "# Import data"
   ]
  },
  {
   "cell_type": "code",
   "execution_count": 2,
   "id": "5b2ad474",
   "metadata": {
    "ExecuteTime": {
     "end_time": "2022-08-20T09:56:46.495101Z",
     "start_time": "2022-08-20T09:56:46.389918Z"
    }
   },
   "outputs": [],
   "source": [
    "with open('Daten/Unternehmen_prepocessed.json', 'r', encoding='utf8') as data:\n",
    "    desc = json.load(data)"
   ]
  },
  {
   "cell_type": "markdown",
   "id": "8962b828",
   "metadata": {},
   "source": [
    "## Create dataset"
   ]
  },
  {
   "cell_type": "code",
   "execution_count": 3,
   "id": "e35af210",
   "metadata": {
    "ExecuteTime": {
     "end_time": "2022-08-20T09:56:46.558920Z",
     "start_time": "2022-08-20T09:56:46.496918Z"
    }
   },
   "outputs": [
    {
     "data": {
      "text/plain": [
       "9822"
      ]
     },
     "execution_count": 3,
     "metadata": {},
     "output_type": "execute_result"
    }
   ],
   "source": [
    "all_mixed = []\n",
    "for comp in desc:\n",
    "    #print(comp)\n",
    "    entry = {'txt': comp['explicit_lemmatization'], 'class': comp['sector']}\n",
    "    all_mixed.append(entry)\n",
    "len(all_mixed)"
   ]
  },
  {
   "cell_type": "markdown",
   "id": "35ffbfee",
   "metadata": {},
   "source": [
    "# Necessary classes and functions"
   ]
  },
  {
   "cell_type": "code",
   "execution_count": 4,
   "id": "dc711aae",
   "metadata": {
    "ExecuteTime": {
     "end_time": "2022-08-20T09:56:46.573921Z",
     "start_time": "2022-08-20T09:56:46.559919Z"
    }
   },
   "outputs": [],
   "source": [
    "def classify(txt, v, vector):\n",
    "    dummy = np.zeros(len(v.get_feature_names_out()))\n",
    "    tmp_vectorizer = CountVectorizer(tokenizer = v.build_tokenizer())\n",
    "    tmp_vector=tmp_vectorizer.fit_transform([txt])\n",
    "    l = 0\n",
    "    for f in tmp_vectorizer.vocabulary_:\n",
    "        if f not in v.vocabulary_:\n",
    "            continue\n",
    "\n",
    "        index = v.vocabulary_[f]\n",
    "        dummy[index] = tmp_vector[0, tmp_vectorizer.vocabulary_[f]] * v.idf_[index]\n",
    "        l += dummy[index] ** 2\n",
    "    l = np.sqrt(l)\n",
    "    for i in range(vector.shape[1]):\n",
    "        dummy[i] /= l\n",
    "    #print(dummy)\n",
    "    return dummy"
   ]
  },
  {
   "cell_type": "code",
   "execution_count": 5,
   "id": "e87512fa",
   "metadata": {
    "ExecuteTime": {
     "end_time": "2022-08-20T09:56:46.589917Z",
     "start_time": "2022-08-20T09:56:46.575919Z"
    }
   },
   "outputs": [],
   "source": [
    "class data_instance:\n",
    "    def __init__(self, dataset):\n",
    "        self.X_data = [entry['txt'] for entry in dataset]\n",
    "        self.y_data = [entry['class'] for entry in dataset]    \n",
    "        \n",
    "    def split_data(self, random_state, test_size):\n",
    "        self.X_train, self.X_test, self.y_train, self.y_test = \\\n",
    "        train_test_split(self.X_data, self.y_data, test_size=test_size, random_state=random_state)\n",
    "        #self.X_test = [self.X_test]\n",
    "        \n",
    "    def vectorize(self, df_value, max_df):\n",
    "        if max_df:\n",
    "            self.vectorizer = TfidfVectorizer(max_df = df_value)\n",
    "            self.vector = self.vectorizer.fit_transform(self.X_train)\n",
    "        else:\n",
    "            self.vectorizer = TfidfVectorizer(min_df = df_value)\n",
    "            self.vector = self.vectorizer.fit_transform(self.X_train)\n",
    "        \n",
    "    def neighbors(self, n_neighbors, init=False):\n",
    "        self.neigh = KNeighborsClassifier(n_neighbors = n_neighbors).fit(self.vector, self.y_train)\n",
    "        if init:\n",
    "            return self.neigh\n",
    "        else:\n",
    "            return self.evaluate(self.neigh)\n",
    "        \n",
    "    def randomForest(self, n_estimators, init=False):\n",
    "        self.forest = RandomForestClassifier(n_estimators = n_estimators).fit(self.vector, self.y_train)     \n",
    "        if init:\n",
    "            return self.forest\n",
    "        else:\n",
    "            return self.evaluate(self.forest)\n",
    "        \n",
    "    def centroid(self, init=False):\n",
    "        self.centr = NearestCentroid().fit(self.vector, self.y_train)\n",
    "        if init:\n",
    "            return self.centr\n",
    "        else:\n",
    "            return self.evaluate(self.centr)\n",
    "        \n",
    "    def evaluate(self, classifier):\n",
    "        n_correct = 0\n",
    "        for i in range(len(self.X_test)):\n",
    "            if self.y_test[i] == classifier.predict([classify(self.X_test[i], self.vectorizer, self.vector)])[0]:\n",
    "                n_correct += 1\n",
    "            if i % 1500 == 0:\n",
    "                print(i)\n",
    "        score = n_correct / len(self.X_test)\n",
    "        #print(\"calculated score =\", score)\n",
    "        return score"
   ]
  },
  {
   "cell_type": "markdown",
   "id": "716a0223",
   "metadata": {},
   "source": [
    "# Initialisierung Thesaurus"
   ]
  },
  {
   "cell_type": "code",
   "execution_count": 10,
   "id": "845093c9",
   "metadata": {
    "ExecuteTime": {
     "end_time": "2022-08-20T09:57:30.828674Z",
     "start_time": "2022-08-20T09:57:30.809674Z"
    }
   },
   "outputs": [],
   "source": [
    "def ask_thesaurus(classification_method, text):\n",
    "    if classification_method == 'N-Neighbor':\n",
    "        n_neighbors = int(input('Anzahl der Neighbor eingeben: '))\n",
    "        predictor = thesaurus.neighbors(n_neighbors, init=True)\n",
    "        #print(predictor)\n",
    "    if classification_method == 'Random Forest':\n",
    "        n_estimator = int(input('Anzahl der Estimator eingeben: '))\n",
    "        predictor = thesaurus.randomForest(n_estimator, init=True)\n",
    "    else:\n",
    "        predictor = thesaurus.centroid(init=True)\n",
    "    sector = predictor.predict([classify(text, thesaurus.vectorizer, thesaurus.vector)])[0]\n",
    "    print(f\"The text entered is classified as a text from the {sector} sector.\")"
   ]
  },
  {
   "cell_type": "code",
   "execution_count": 11,
   "id": "aaba7ded",
   "metadata": {
    "ExecuteTime": {
     "end_time": "2022-08-20T09:57:31.756029Z",
     "start_time": "2022-08-20T09:57:31.281997Z"
    }
   },
   "outputs": [],
   "source": [
    "thesaurus = data_instance(all_mixed)\n",
    "thesaurus.split_data(123, 0.33)\n",
    "thesaurus.vectorize(1.0, True)"
   ]
  },
  {
   "cell_type": "markdown",
   "id": "a470743d",
   "metadata": {},
   "source": [
    "# Eingabe der Suchanfragen"
   ]
  },
  {
   "cell_type": "markdown",
   "id": "b3156bea",
   "metadata": {},
   "source": [
    "Der Thesaurs kann über drei unterschiedliche Klassifizierungsmethoden genutzt werden. Um das bestmögliche Ergebnis zu erhalten, zeigt das Notebook '04 Klassifizierung' die Ergebnisse der unterschiedlichen Methoden. "
   ]
  },
  {
   "cell_type": "code",
   "execution_count": 14,
   "id": "f4b6e481",
   "metadata": {
    "ExecuteTime": {
     "end_time": "2022-08-20T09:58:23.310048Z",
     "start_time": "2022-08-20T09:58:05.213642Z"
    }
   },
   "outputs": [
    {
     "name": "stdout",
     "output_type": "stream",
     "text": [
      "Klassifizierungsmethode (N-Neighbor, Random Forest oder Centroid) eingeben N-Neighbor\n",
      "Bitte hier zu klassifizierenden Text eingeben: hat leather rtl\n",
      "Anzahl der Neighbor eingeben: 2\n",
      "The text entered is classified as a text from the Consumer Cyclical sector.\n"
     ]
    }
   ],
   "source": [
    "ask_thesaurus(input('Klassifizierungsmethode (N-Neighbor, Random Forest oder Centroid) eingeben '), input(\"Bitte hier zu klassifizierenden Text eingeben: \"))"
   ]
  },
  {
   "cell_type": "code",
   "execution_count": null,
   "id": "0b4801e2",
   "metadata": {},
   "outputs": [],
   "source": []
  }
 ],
 "metadata": {
  "kernelspec": {
   "display_name": "NLP",
   "language": "python",
   "name": "nlp"
  },
  "language_info": {
   "codemirror_mode": {
    "name": "ipython",
    "version": 3
   },
   "file_extension": ".py",
   "mimetype": "text/x-python",
   "name": "python",
   "nbconvert_exporter": "python",
   "pygments_lexer": "ipython3",
   "version": "3.10.4"
  },
  "toc": {
   "base_numbering": 1,
   "nav_menu": {},
   "number_sections": true,
   "sideBar": true,
   "skip_h1_title": false,
   "title_cell": "Table of Contents",
   "title_sidebar": "Contents",
   "toc_cell": false,
   "toc_position": {},
   "toc_section_display": true,
   "toc_window_display": false
  }
 },
 "nbformat": 4,
 "nbformat_minor": 5
}
